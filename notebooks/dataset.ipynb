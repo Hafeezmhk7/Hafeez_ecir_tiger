{
 "cells": [
  {
   "cell_type": "markdown",
   "id": "a6a79766",
   "metadata": {},
   "source": [
    "### Notebook to understand Datasets"
   ]
  },
  {
   "cell_type": "code",
   "execution_count": 73,
   "id": "996ee88b",
   "metadata": {},
   "outputs": [],
   "source": [
    "# imports\n",
    "import os\n",
    "import pickle\n",
    "import numpy as np\n",
    "import pandas as pd\n",
    "import glob\n",
    "import json\n",
    "from rich import print as rprint\n",
    "from rich.table import Table\n",
    "from rich.console import Console\n",
    "import gzip\n"
   ]
  },
  {
   "cell_type": "markdown",
   "id": "f96e0e4b",
   "metadata": {},
   "source": [
    "### Raw Dataset"
   ]
  },
  {
   "cell_type": "markdown",
   "id": "30f08688",
   "metadata": {},
   "source": [
    "\"Small\" subsets for experimentation\n",
    "If you're using this data for a class project (or similar) please consider using one of these smaller datasets below before requesting the larger files. To obtain the larger files you will need to contact me to obtain access.\n",
    "\n",
    "K-cores (i.e., dense subsets): These data have been reduced to extract the k-core, such that each of the remaining users and items have k reviews each.\n",
    "\n",
    "where:\n",
    "\n",
    "- `reviewerID` - ID of the reviewer, e.g. A2SUAM1J3GNN3B\n",
    "- `asin` - ID of the product, e.g. 0000013714\n",
    "- `reviewerName` - name of the reviewer\n",
    "- `helpful` - helpfulness rating of the review, e.g. 2/3\n",
    "- `reviewText` - text of the review\n",
    "- `overall` - rating of the product\n",
    "- `summary` - summary of the review\n",
    "- `unixReviewTime` - time of the review (unix time)\n",
    "- `reviewTime` - time of the review (raw)"
   ]
  },
  {
   "cell_type": "markdown",
   "id": "e1a51665",
   "metadata": {},
   "source": [
    "**Metadata includes descriptions, price, sales-rank, brand info, and co-purchasing links:**\n",
    "\n",
    "metadata (3.1gb) - metadata for 9.4 million products\n",
    "\n",
    "where\n",
    "\n",
    "- `asin` - ID of the product, e.g. 0000031852\n",
    "- `title` - name of the product\n",
    "- `price` - price in US dollars (at time of crawl)\n",
    "- `imUrl` - url of the product image\n",
    "- `related` - related products (also bought, also viewed, bought together, buy after viewing)\n",
    "- `salesRank` - sales rank information\n",
    "- `brand` - brand name\n",
    "- `categories` - list of categories the product belongs to"
   ]
  },
  {
   "cell_type": "code",
   "execution_count": 16,
   "id": "5f748d7a",
   "metadata": {},
   "outputs": [],
   "source": [
    "# global vars\n",
    "DATASET_DIR = \"../dataset/amazon/raw\"\n",
    "DATASET_SPLIT = \"beauty\""
   ]
  },
  {
   "cell_type": "code",
   "execution_count": 17,
   "id": "5c75dbcb",
   "metadata": {},
   "outputs": [
    {
     "name": "stdout",
     "output_type": "stream",
     "text": [
      "Found 5 files in `beauty`\n"
     ]
    },
    {
     "data": {
      "text/plain": [
       "['../dataset/amazon/raw/beauty/review_splits.pkl',\n",
       " '../dataset/amazon/raw/beauty/exp_splits.pkl',\n",
       " '../dataset/amazon/raw/beauty/rating_splits_augmented.pkl',\n",
       " '../dataset/amazon/raw/beauty/zeroshot_exp_splits.pkl',\n",
       " '../dataset/amazon/raw/beauty/user_id2name.pkl']"
      ]
     },
     "execution_count": 17,
     "metadata": {},
     "output_type": "execute_result"
    }
   ],
   "source": [
    "# total files\n",
    "files = glob.glob(f\"{DATASET_DIR}/{DATASET_SPLIT}/*.pkl\")\n",
    "print(f\"Found {len(files)} files in `{DATASET_SPLIT}`\")\n",
    "files"
   ]
  },
  {
   "cell_type": "code",
   "execution_count": 68,
   "id": "178acd8d",
   "metadata": {},
   "outputs": [],
   "source": [
    "def display_pickle_summary(data, title=\"Pickle File Contents\"):\n",
    "    \"\"\"\n",
    "    Load and summarize the contents of a pickle file using rich.\n",
    "\n",
    "    :param data: .pkl data\n",
    "    :param title: Optional title for the printed table.\n",
    "    \"\"\"\n",
    "    table = Table(title=title)\n",
    "    \n",
    "    table.add_column(\"Key/Type\", style=\"cyan\", no_wrap=True)\n",
    "    table.add_column(\"Description\", style=\"magenta\")\n",
    "\n",
    "    total_size = 0\n",
    "    if isinstance(data, dict):\n",
    "        for key, value in data.items():\n",
    "            desc = f\"{type(value).__name__}, len={len(value)}\" if hasattr(value, '__len__') else type(value).__name__\n",
    "            table.add_row(str(key), desc)\n",
    "            if key in [\"train\", \"test\", \"val\"]:\n",
    "                total_size += len(value)\n",
    "            else:\n",
    "                total_size = \"N/A\"\n",
    "    else:\n",
    "        table.add_row(type(data).__name__, f\"{data}\" if isinstance(data, (int, float, str)) else str(type(data)))\n",
    "\n",
    "    table.add_row(\"Total Size\", str(total_size))\n",
    "    console = Console()\n",
    "    console.print(table)\n",
    "    \n",
    "    if \"train\" in data or \"test\" in data or \"val\" in data:\n",
    "        rprint(\"Train Sample:\")\n",
    "        rprint(data['train'][0])\n",
    "        rprint(\"Val Sample:\")\n",
    "        rprint(data['val'][0])\n",
    "        rprint(\"Test Sample:\")\n",
    "        print(data['test'][0])"
   ]
  },
  {
   "cell_type": "markdown",
   "id": "086ce5b3",
   "metadata": {},
   "source": [
    "#### Review Splits"
   ]
  },
  {
   "cell_type": "code",
   "execution_count": 57,
   "id": "d15470db",
   "metadata": {},
   "outputs": [
    {
     "data": {
      "text/html": [
       "<pre style=\"white-space:pre;overflow-x:auto;line-height:normal;font-family:Menlo,'DejaVu Sans Mono',consolas,'Courier New',monospace\"><span style=\"font-style: italic\">       Review Splits Summary        </span>\n",
       "┏━━━━━━━━━━━━━━━┳━━━━━━━━━━━━━━━━━━┓\n",
       "┃<span style=\"font-weight: bold\"> Key/Type      </span>┃<span style=\"font-weight: bold\"> Description      </span>┃\n",
       "┡━━━━━━━━━━━━━━━╇━━━━━━━━━━━━━━━━━━┩\n",
       "│<span style=\"color: #008080; text-decoration-color: #008080\"> train         </span>│<span style=\"color: #800080; text-decoration-color: #800080\"> list, len=158802 </span>│\n",
       "│<span style=\"color: #008080; text-decoration-color: #008080\"> val           </span>│<span style=\"color: #800080; text-decoration-color: #800080\"> list, len=19850  </span>│\n",
       "│<span style=\"color: #008080; text-decoration-color: #008080\"> test          </span>│<span style=\"color: #800080; text-decoration-color: #800080\"> list, len=19850  </span>│\n",
       "│<span style=\"color: #008080; text-decoration-color: #008080\"> train_indices </span>│<span style=\"color: #800080; text-decoration-color: #800080\"> list, len=158802 </span>│\n",
       "│<span style=\"color: #008080; text-decoration-color: #008080\"> val_indices   </span>│<span style=\"color: #800080; text-decoration-color: #800080\"> list, len=19850  </span>│\n",
       "│<span style=\"color: #008080; text-decoration-color: #008080\"> test_indices  </span>│<span style=\"color: #800080; text-decoration-color: #800080\"> list, len=19850  </span>│\n",
       "│<span style=\"color: #008080; text-decoration-color: #008080\"> Total Size    </span>│<span style=\"color: #800080; text-decoration-color: #800080\"> 198502           </span>│\n",
       "└───────────────┴──────────────────┘\n",
       "</pre>\n"
      ],
      "text/plain": [
       "\u001b[3m       Review Splits Summary        \u001b[0m\n",
       "┏━━━━━━━━━━━━━━━┳━━━━━━━━━━━━━━━━━━┓\n",
       "┃\u001b[1m \u001b[0m\u001b[1mKey/Type     \u001b[0m\u001b[1m \u001b[0m┃\u001b[1m \u001b[0m\u001b[1mDescription     \u001b[0m\u001b[1m \u001b[0m┃\n",
       "┡━━━━━━━━━━━━━━━╇━━━━━━━━━━━━━━━━━━┩\n",
       "│\u001b[36m \u001b[0m\u001b[36mtrain        \u001b[0m\u001b[36m \u001b[0m│\u001b[35m \u001b[0m\u001b[35mlist, len=158802\u001b[0m\u001b[35m \u001b[0m│\n",
       "│\u001b[36m \u001b[0m\u001b[36mval          \u001b[0m\u001b[36m \u001b[0m│\u001b[35m \u001b[0m\u001b[35mlist, len=19850 \u001b[0m\u001b[35m \u001b[0m│\n",
       "│\u001b[36m \u001b[0m\u001b[36mtest         \u001b[0m\u001b[36m \u001b[0m│\u001b[35m \u001b[0m\u001b[35mlist, len=19850 \u001b[0m\u001b[35m \u001b[0m│\n",
       "│\u001b[36m \u001b[0m\u001b[36mtrain_indices\u001b[0m\u001b[36m \u001b[0m│\u001b[35m \u001b[0m\u001b[35mlist, len=158802\u001b[0m\u001b[35m \u001b[0m│\n",
       "│\u001b[36m \u001b[0m\u001b[36mval_indices  \u001b[0m\u001b[36m \u001b[0m│\u001b[35m \u001b[0m\u001b[35mlist, len=19850 \u001b[0m\u001b[35m \u001b[0m│\n",
       "│\u001b[36m \u001b[0m\u001b[36mtest_indices \u001b[0m\u001b[36m \u001b[0m│\u001b[35m \u001b[0m\u001b[35mlist, len=19850 \u001b[0m\u001b[35m \u001b[0m│\n",
       "│\u001b[36m \u001b[0m\u001b[36mTotal Size   \u001b[0m\u001b[36m \u001b[0m│\u001b[35m \u001b[0m\u001b[35m198502          \u001b[0m\u001b[35m \u001b[0m│\n",
       "└───────────────┴──────────────────┘\n"
      ]
     },
     "metadata": {},
     "output_type": "display_data"
    },
    {
     "data": {
      "text/html": [
       "<pre style=\"white-space:pre;overflow-x:auto;line-height:normal;font-family:Menlo,'DejaVu Sans Mono',consolas,'Courier New',monospace\">Train Sample:\n",
       "</pre>\n"
      ],
      "text/plain": [
       "Train Sample:\n"
      ]
     },
     "metadata": {},
     "output_type": "display_data"
    },
    {
     "data": {
      "text/html": [
       "<pre style=\"white-space:pre;overflow-x:auto;line-height:normal;font-family:Menlo,'DejaVu Sans Mono',consolas,'Courier New',monospace\"><span style=\"font-weight: bold\">{</span>\n",
       "    <span style=\"color: #008000; text-decoration-color: #008000\">'reviewerID'</span>: <span style=\"color: #008000; text-decoration-color: #008000\">'A1YJEY40YUW4SE'</span>,\n",
       "    <span style=\"color: #008000; text-decoration-color: #008000\">'asin'</span>: <span style=\"color: #008000; text-decoration-color: #008000\">'7806397051'</span>,\n",
       "    <span style=\"color: #008000; text-decoration-color: #008000\">'reviewerName'</span>: <span style=\"color: #008000; text-decoration-color: #008000\">'Andrea'</span>,\n",
       "    <span style=\"color: #008000; text-decoration-color: #008000\">'helpful'</span>: <span style=\"font-weight: bold\">[</span><span style=\"color: #008080; text-decoration-color: #008080; font-weight: bold\">3</span>, <span style=\"color: #008080; text-decoration-color: #008080; font-weight: bold\">4</span><span style=\"font-weight: bold\">]</span>,\n",
       "    <span style=\"color: #008000; text-decoration-color: #008000\">'reviewText'</span>: <span style=\"color: #008000; text-decoration-color: #008000\">'Very oily and creamy. Not at all what I expected... ordered this to try to highlight and contour</span>\n",
       "<span style=\"color: #008000; text-decoration-color: #008000\">and it just looked awful!!! Plus, took FOREVER to arrive.'</span>,\n",
       "    <span style=\"color: #008000; text-decoration-color: #008000\">'overall'</span>: <span style=\"color: #008080; text-decoration-color: #008080; font-weight: bold\">1.0</span>,\n",
       "    <span style=\"color: #008000; text-decoration-color: #008000\">'summary'</span>: <span style=\"color: #008000; text-decoration-color: #008000\">\"Don't waste your money\"</span>,\n",
       "    <span style=\"color: #008000; text-decoration-color: #008000\">'unixReviewTime'</span>: <span style=\"color: #008080; text-decoration-color: #008080; font-weight: bold\">1391040000</span>,\n",
       "    <span style=\"color: #008000; text-decoration-color: #008000\">'reviewTime'</span>: <span style=\"color: #008000; text-decoration-color: #008000\">'01 30, 2014'</span>\n",
       "<span style=\"font-weight: bold\">}</span>\n",
       "</pre>\n"
      ],
      "text/plain": [
       "\u001b[1m{\u001b[0m\n",
       "    \u001b[32m'reviewerID'\u001b[0m: \u001b[32m'A1YJEY40YUW4SE'\u001b[0m,\n",
       "    \u001b[32m'asin'\u001b[0m: \u001b[32m'7806397051'\u001b[0m,\n",
       "    \u001b[32m'reviewerName'\u001b[0m: \u001b[32m'Andrea'\u001b[0m,\n",
       "    \u001b[32m'helpful'\u001b[0m: \u001b[1m[\u001b[0m\u001b[1;36m3\u001b[0m, \u001b[1;36m4\u001b[0m\u001b[1m]\u001b[0m,\n",
       "    \u001b[32m'reviewText'\u001b[0m: \u001b[32m'Very oily and creamy. Not at all what I expected... ordered this to try to highlight and contour\u001b[0m\n",
       "\u001b[32mand it just looked awful!!! Plus, took FOREVER to arrive.'\u001b[0m,\n",
       "    \u001b[32m'overall'\u001b[0m: \u001b[1;36m1.0\u001b[0m,\n",
       "    \u001b[32m'summary'\u001b[0m: \u001b[32m\"Don't waste your money\"\u001b[0m,\n",
       "    \u001b[32m'unixReviewTime'\u001b[0m: \u001b[1;36m1391040000\u001b[0m,\n",
       "    \u001b[32m'reviewTime'\u001b[0m: \u001b[32m'01 30, 2014'\u001b[0m\n",
       "\u001b[1m}\u001b[0m\n"
      ]
     },
     "metadata": {},
     "output_type": "display_data"
    },
    {
     "data": {
      "text/html": [
       "<pre style=\"white-space:pre;overflow-x:auto;line-height:normal;font-family:Menlo,'DejaVu Sans Mono',consolas,'Courier New',monospace\">Val Sample:\n",
       "</pre>\n"
      ],
      "text/plain": [
       "Val Sample:\n"
      ]
     },
     "metadata": {},
     "output_type": "display_data"
    },
    {
     "data": {
      "text/html": [
       "<pre style=\"white-space:pre;overflow-x:auto;line-height:normal;font-family:Menlo,'DejaVu Sans Mono',consolas,'Courier New',monospace\"><span style=\"font-weight: bold\">{</span>\n",
       "    <span style=\"color: #008000; text-decoration-color: #008000\">'reviewerID'</span>: <span style=\"color: #008000; text-decoration-color: #008000\">'A1CQWEPJ2GH1I6'</span>,\n",
       "    <span style=\"color: #008000; text-decoration-color: #008000\">'asin'</span>: <span style=\"color: #008000; text-decoration-color: #008000\">'B00478VG9U'</span>,\n",
       "    <span style=\"color: #008000; text-decoration-color: #008000\">'reviewerName'</span>: <span style=\"color: #008000; text-decoration-color: #008000\">'Kathy \"Kathy\"'</span>,\n",
       "    <span style=\"color: #008000; text-decoration-color: #008000\">'helpful'</span>: <span style=\"font-weight: bold\">[</span><span style=\"color: #008080; text-decoration-color: #008080; font-weight: bold\">1</span>, <span style=\"color: #008080; text-decoration-color: #008080; font-weight: bold\">2</span><span style=\"font-weight: bold\">]</span>,\n",
       "    <span style=\"color: #008000; text-decoration-color: #008000\">'reviewText'</span>: <span style=\"color: #008000; text-decoration-color: #008000\">\"But as I've always said, wen products are way overpriced and they can't get a 5 star rating from</span>\n",
       "<span style=\"color: #008000; text-decoration-color: #008000\">me until the price is more reasonable. Just because you can gouge, doesn't mean you should. Sorry wen, but it's </span>\n",
       "<span style=\"color: #008000; text-decoration-color: #008000\">just too much. Besides that, it's the best thing going for hair right now in my opinion. lol! If money is no </span>\n",
       "<span style=\"color: #008000; text-decoration-color: #008000\">object, you must use this every single time you 'wash' your hair. My hair is usually really dry, but I'm positive </span>\n",
       "<span style=\"color: #008000; text-decoration-color: #008000\">it will work on oily hair as well. I don't like ANY of the scents, and it kind of 'burns' or 'tingles' too much the</span>\n",
       "<span style=\"color: #008000; text-decoration-color: #008000\">first time you use it. But it's a magic potion. No lie.\"</span>,\n",
       "    <span style=\"color: #008000; text-decoration-color: #008000\">'overall'</span>: <span style=\"color: #008080; text-decoration-color: #008080; font-weight: bold\">4.0</span>,\n",
       "    <span style=\"color: #008000; text-decoration-color: #008000\">'summary'</span>: <span style=\"color: #008000; text-decoration-color: #008000\">'yes I love this stuff'</span>,\n",
       "    <span style=\"color: #008000; text-decoration-color: #008000\">'unixReviewTime'</span>: <span style=\"color: #008080; text-decoration-color: #008080; font-weight: bold\">1366329600</span>,\n",
       "    <span style=\"color: #008000; text-decoration-color: #008000\">'reviewTime'</span>: <span style=\"color: #008000; text-decoration-color: #008000\">'04 19, 2013'</span>,\n",
       "    <span style=\"color: #008000; text-decoration-color: #008000\">'explanation'</span>: <span style=\"color: #008000; text-decoration-color: #008000\">'My hair is usually really dry'</span>,\n",
       "    <span style=\"color: #008000; text-decoration-color: #008000\">'feature'</span>: <span style=\"color: #008000; text-decoration-color: #008000\">'hair'</span>\n",
       "<span style=\"font-weight: bold\">}</span>\n",
       "</pre>\n"
      ],
      "text/plain": [
       "\u001b[1m{\u001b[0m\n",
       "    \u001b[32m'reviewerID'\u001b[0m: \u001b[32m'A1CQWEPJ2GH1I6'\u001b[0m,\n",
       "    \u001b[32m'asin'\u001b[0m: \u001b[32m'B00478VG9U'\u001b[0m,\n",
       "    \u001b[32m'reviewerName'\u001b[0m: \u001b[32m'Kathy \"Kathy\"'\u001b[0m,\n",
       "    \u001b[32m'helpful'\u001b[0m: \u001b[1m[\u001b[0m\u001b[1;36m1\u001b[0m, \u001b[1;36m2\u001b[0m\u001b[1m]\u001b[0m,\n",
       "    \u001b[32m'reviewText'\u001b[0m: \u001b[32m\"But as I've always said, wen products are way overpriced and they can't get a 5 star rating from\u001b[0m\n",
       "\u001b[32mme until the price is more reasonable. Just because you can gouge, doesn't mean you should. Sorry wen, but it's \u001b[0m\n",
       "\u001b[32mjust too much. Besides that, it's the best thing going for hair right now in my opinion. lol! If money is no \u001b[0m\n",
       "\u001b[32mobject, you must use this every single time you 'wash' your hair. My hair is usually really dry, but I'm positive \u001b[0m\n",
       "\u001b[32mit will work on oily hair as well. I don't like ANY of the scents, and it kind of 'burns' or 'tingles' too much the\u001b[0m\n",
       "\u001b[32mfirst time you use it. But it's a magic potion. No lie.\"\u001b[0m,\n",
       "    \u001b[32m'overall'\u001b[0m: \u001b[1;36m4.0\u001b[0m,\n",
       "    \u001b[32m'summary'\u001b[0m: \u001b[32m'yes I love this stuff'\u001b[0m,\n",
       "    \u001b[32m'unixReviewTime'\u001b[0m: \u001b[1;36m1366329600\u001b[0m,\n",
       "    \u001b[32m'reviewTime'\u001b[0m: \u001b[32m'04 19, 2013'\u001b[0m,\n",
       "    \u001b[32m'explanation'\u001b[0m: \u001b[32m'My hair is usually really dry'\u001b[0m,\n",
       "    \u001b[32m'feature'\u001b[0m: \u001b[32m'hair'\u001b[0m\n",
       "\u001b[1m}\u001b[0m\n"
      ]
     },
     "metadata": {},
     "output_type": "display_data"
    },
    {
     "data": {
      "text/html": [
       "<pre style=\"white-space:pre;overflow-x:auto;line-height:normal;font-family:Menlo,'DejaVu Sans Mono',consolas,'Courier New',monospace\">Test Sample:\n",
       "</pre>\n"
      ],
      "text/plain": [
       "Test Sample:\n"
      ]
     },
     "metadata": {},
     "output_type": "display_data"
    },
    {
     "data": {
      "text/html": [
       "<pre style=\"white-space:pre;overflow-x:auto;line-height:normal;font-family:Menlo,'DejaVu Sans Mono',consolas,'Courier New',monospace\"><span style=\"font-weight: bold\">{</span>\n",
       "    <span style=\"color: #008000; text-decoration-color: #008000\">'reviewerID'</span>: <span style=\"color: #008000; text-decoration-color: #008000\">'A2QKXW3LDQ66P5'</span>,\n",
       "    <span style=\"color: #008000; text-decoration-color: #008000\">'asin'</span>: <span style=\"color: #008000; text-decoration-color: #008000\">'B005X2F7KI'</span>,\n",
       "    <span style=\"color: #008000; text-decoration-color: #008000\">'reviewerName'</span>: <span style=\"color: #008000; text-decoration-color: #008000\">'stephanie'</span>,\n",
       "    <span style=\"color: #008000; text-decoration-color: #008000\">'helpful'</span>: <span style=\"font-weight: bold\">[</span><span style=\"color: #008080; text-decoration-color: #008080; font-weight: bold\">5</span>, <span style=\"color: #008080; text-decoration-color: #008080; font-weight: bold\">6</span><span style=\"font-weight: bold\">]</span>,\n",
       "    <span style=\"color: #008000; text-decoration-color: #008000\">'reviewText'</span>: <span style=\"color: #008000; text-decoration-color: #008000\">'Absolutely great product.  I bought this for my fourteen year old niece for Christmas and of </span>\n",
       "<span style=\"color: #008000; text-decoration-color: #008000\">course I had to try it out, then I tried another one, and another one and another one.  So much fun!  I even </span>\n",
       "<span style=\"color: #008000; text-decoration-color: #008000\">contemplated keeping a few for myself!'</span>,\n",
       "    <span style=\"color: #008000; text-decoration-color: #008000\">'overall'</span>: <span style=\"color: #008080; text-decoration-color: #008080; font-weight: bold\">5.0</span>,\n",
       "    <span style=\"color: #008000; text-decoration-color: #008000\">'summary'</span>: <span style=\"color: #008000; text-decoration-color: #008000\">'Perfect!'</span>,\n",
       "    <span style=\"color: #008000; text-decoration-color: #008000\">'unixReviewTime'</span>: <span style=\"color: #008080; text-decoration-color: #008080; font-weight: bold\">1352937600</span>,\n",
       "    <span style=\"color: #008000; text-decoration-color: #008000\">'reviewTime'</span>: <span style=\"color: #008000; text-decoration-color: #008000\">'11 15, 2012'</span>,\n",
       "    <span style=\"color: #008000; text-decoration-color: #008000\">'explanation'</span>: <span style=\"color: #008000; text-decoration-color: #008000\">'Absolutely great product'</span>,\n",
       "    <span style=\"color: #008000; text-decoration-color: #008000\">'feature'</span>: <span style=\"color: #008000; text-decoration-color: #008000\">'product'</span>\n",
       "<span style=\"font-weight: bold\">}</span>\n",
       "</pre>\n"
      ],
      "text/plain": [
       "\u001b[1m{\u001b[0m\n",
       "    \u001b[32m'reviewerID'\u001b[0m: \u001b[32m'A2QKXW3LDQ66P5'\u001b[0m,\n",
       "    \u001b[32m'asin'\u001b[0m: \u001b[32m'B005X2F7KI'\u001b[0m,\n",
       "    \u001b[32m'reviewerName'\u001b[0m: \u001b[32m'stephanie'\u001b[0m,\n",
       "    \u001b[32m'helpful'\u001b[0m: \u001b[1m[\u001b[0m\u001b[1;36m5\u001b[0m, \u001b[1;36m6\u001b[0m\u001b[1m]\u001b[0m,\n",
       "    \u001b[32m'reviewText'\u001b[0m: \u001b[32m'Absolutely great product.  I bought this for my fourteen year old niece for Christmas and of \u001b[0m\n",
       "\u001b[32mcourse I had to try it out, then I tried another one, and another one and another one.  So much fun!  I even \u001b[0m\n",
       "\u001b[32mcontemplated keeping a few for myself!'\u001b[0m,\n",
       "    \u001b[32m'overall'\u001b[0m: \u001b[1;36m5.0\u001b[0m,\n",
       "    \u001b[32m'summary'\u001b[0m: \u001b[32m'Perfect!'\u001b[0m,\n",
       "    \u001b[32m'unixReviewTime'\u001b[0m: \u001b[1;36m1352937600\u001b[0m,\n",
       "    \u001b[32m'reviewTime'\u001b[0m: \u001b[32m'11 15, 2012'\u001b[0m,\n",
       "    \u001b[32m'explanation'\u001b[0m: \u001b[32m'Absolutely great product'\u001b[0m,\n",
       "    \u001b[32m'feature'\u001b[0m: \u001b[32m'product'\u001b[0m\n",
       "\u001b[1m}\u001b[0m\n"
      ]
     },
     "metadata": {},
     "output_type": "display_data"
    }
   ],
   "source": [
    "with open(f\"{DATASET_DIR}/{DATASET_SPLIT}/review_splits.pkl\", \"rb\") as f:\n",
    "    review_splits = pickle.load(f)\n",
    "    \n",
    "display_pickle_summary(review_splits, title=\"Review Splits Summary\")"
   ]
  },
  {
   "cell_type": "markdown",
   "id": "1a1bb0f1",
   "metadata": {},
   "source": [
    "#### Exp Splits"
   ]
  },
  {
   "cell_type": "code",
   "execution_count": 58,
   "id": "3bc27694",
   "metadata": {},
   "outputs": [
    {
     "data": {
      "text/html": [
       "<pre style=\"white-space:pre;overflow-x:auto;line-height:normal;font-family:Menlo,'DejaVu Sans Mono',consolas,'Courier New',monospace\"><span style=\"font-style: italic\">       Exp Splits Summary        </span>\n",
       "┏━━━━━━━━━━━━┳━━━━━━━━━━━━━━━━━━┓\n",
       "┃<span style=\"font-weight: bold\"> Key/Type   </span>┃<span style=\"font-weight: bold\"> Description      </span>┃\n",
       "┡━━━━━━━━━━━━╇━━━━━━━━━━━━━━━━━━┩\n",
       "│<span style=\"color: #008080; text-decoration-color: #008080\"> train      </span>│<span style=\"color: #800080; text-decoration-color: #800080\"> list, len=106281 </span>│\n",
       "│<span style=\"color: #008080; text-decoration-color: #008080\"> val        </span>│<span style=\"color: #800080; text-decoration-color: #800080\"> list, len=13515  </span>│\n",
       "│<span style=\"color: #008080; text-decoration-color: #008080\"> test       </span>│<span style=\"color: #800080; text-decoration-color: #800080\"> list, len=13421  </span>│\n",
       "│<span style=\"color: #008080; text-decoration-color: #008080\"> Total Size </span>│<span style=\"color: #800080; text-decoration-color: #800080\"> 133217           </span>│\n",
       "└────────────┴──────────────────┘\n",
       "</pre>\n"
      ],
      "text/plain": [
       "\u001b[3m       Exp Splits Summary        \u001b[0m\n",
       "┏━━━━━━━━━━━━┳━━━━━━━━━━━━━━━━━━┓\n",
       "┃\u001b[1m \u001b[0m\u001b[1mKey/Type  \u001b[0m\u001b[1m \u001b[0m┃\u001b[1m \u001b[0m\u001b[1mDescription     \u001b[0m\u001b[1m \u001b[0m┃\n",
       "┡━━━━━━━━━━━━╇━━━━━━━━━━━━━━━━━━┩\n",
       "│\u001b[36m \u001b[0m\u001b[36mtrain     \u001b[0m\u001b[36m \u001b[0m│\u001b[35m \u001b[0m\u001b[35mlist, len=106281\u001b[0m\u001b[35m \u001b[0m│\n",
       "│\u001b[36m \u001b[0m\u001b[36mval       \u001b[0m\u001b[36m \u001b[0m│\u001b[35m \u001b[0m\u001b[35mlist, len=13515 \u001b[0m\u001b[35m \u001b[0m│\n",
       "│\u001b[36m \u001b[0m\u001b[36mtest      \u001b[0m\u001b[36m \u001b[0m│\u001b[35m \u001b[0m\u001b[35mlist, len=13421 \u001b[0m\u001b[35m \u001b[0m│\n",
       "│\u001b[36m \u001b[0m\u001b[36mTotal Size\u001b[0m\u001b[36m \u001b[0m│\u001b[35m \u001b[0m\u001b[35m133217          \u001b[0m\u001b[35m \u001b[0m│\n",
       "└────────────┴──────────────────┘\n"
      ]
     },
     "metadata": {},
     "output_type": "display_data"
    },
    {
     "data": {
      "text/html": [
       "<pre style=\"white-space:pre;overflow-x:auto;line-height:normal;font-family:Menlo,'DejaVu Sans Mono',consolas,'Courier New',monospace\">Train Sample:\n",
       "</pre>\n"
      ],
      "text/plain": [
       "Train Sample:\n"
      ]
     },
     "metadata": {},
     "output_type": "display_data"
    },
    {
     "data": {
      "text/html": [
       "<pre style=\"white-space:pre;overflow-x:auto;line-height:normal;font-family:Menlo,'DejaVu Sans Mono',consolas,'Courier New',monospace\"><span style=\"font-weight: bold\">{</span>\n",
       "    <span style=\"color: #008000; text-decoration-color: #008000\">'reviewerID'</span>: <span style=\"color: #008000; text-decoration-color: #008000\">'A3G6XNM240RMWA'</span>,\n",
       "    <span style=\"color: #008000; text-decoration-color: #008000\">'asin'</span>: <span style=\"color: #008000; text-decoration-color: #008000\">'7806397051'</span>,\n",
       "    <span style=\"color: #008000; text-decoration-color: #008000\">'reviewerName'</span>: <span style=\"color: #008000; text-decoration-color: #008000\">'Karen'</span>,\n",
       "    <span style=\"color: #008000; text-decoration-color: #008000\">'helpful'</span>: <span style=\"font-weight: bold\">[</span><span style=\"color: #008080; text-decoration-color: #008080; font-weight: bold\">0</span>, <span style=\"color: #008080; text-decoration-color: #008080; font-weight: bold\">1</span><span style=\"font-weight: bold\">]</span>,\n",
       "    <span style=\"color: #008000; text-decoration-color: #008000\">'reviewText'</span>: <span style=\"color: #008000; text-decoration-color: #008000\">\"The texture of this concealer pallet is fantastic, it has great coverage and a wide variety of </span>\n",
       "<span style=\"color: #008000; text-decoration-color: #008000\">uses, I guess it's meant for professional makeup artists and a lot of the colours are of no use to me but I use at </span>\n",
       "<span style=\"color: #008000; text-decoration-color: #008000\">least two of them on a regular basis, and two more occasionally, which is the only reason I'm giving it for stars, </span>\n",
       "<span style=\"color: #008000; text-decoration-color: #008000\">I feel like the range of colors is kind of a waste for me, but the  product itself  is wonderful, it's not cakey, </span>\n",
       "<span style=\"color: #008000; text-decoration-color: #008000\">gives me a natural for and concealed my imperfections, therefore I highly recommend it :)\"</span>,\n",
       "    <span style=\"color: #008000; text-decoration-color: #008000\">'overall'</span>: <span style=\"color: #008080; text-decoration-color: #008080; font-weight: bold\">4.0</span>,\n",
       "    <span style=\"color: #008000; text-decoration-color: #008000\">'summary'</span>: <span style=\"color: #008000; text-decoration-color: #008000\">'great quality'</span>,\n",
       "    <span style=\"color: #008000; text-decoration-color: #008000\">'unixReviewTime'</span>: <span style=\"color: #008080; text-decoration-color: #008080; font-weight: bold\">1378425600</span>,\n",
       "    <span style=\"color: #008000; text-decoration-color: #008000\">'reviewTime'</span>: <span style=\"color: #008000; text-decoration-color: #008000\">'09 6, 2013'</span>,\n",
       "    <span style=\"color: #008000; text-decoration-color: #008000\">'explanation'</span>: <span style=\"color: #008000; text-decoration-color: #008000\">'great quality'</span>,\n",
       "    <span style=\"color: #008000; text-decoration-color: #008000\">'feature'</span>: <span style=\"color: #008000; text-decoration-color: #008000\">'quality'</span>\n",
       "<span style=\"font-weight: bold\">}</span>\n",
       "</pre>\n"
      ],
      "text/plain": [
       "\u001b[1m{\u001b[0m\n",
       "    \u001b[32m'reviewerID'\u001b[0m: \u001b[32m'A3G6XNM240RMWA'\u001b[0m,\n",
       "    \u001b[32m'asin'\u001b[0m: \u001b[32m'7806397051'\u001b[0m,\n",
       "    \u001b[32m'reviewerName'\u001b[0m: \u001b[32m'Karen'\u001b[0m,\n",
       "    \u001b[32m'helpful'\u001b[0m: \u001b[1m[\u001b[0m\u001b[1;36m0\u001b[0m, \u001b[1;36m1\u001b[0m\u001b[1m]\u001b[0m,\n",
       "    \u001b[32m'reviewText'\u001b[0m: \u001b[32m\"The texture of this concealer pallet is fantastic, it has great coverage and a wide variety of \u001b[0m\n",
       "\u001b[32muses, I guess it's meant for professional makeup artists and a lot of the colours are of no use to me but I use at \u001b[0m\n",
       "\u001b[32mleast two of them on a regular basis, and two more occasionally, which is the only reason I'm giving it for stars, \u001b[0m\n",
       "\u001b[32mI feel like the range of colors is kind of a waste for me, but the  product itself  is wonderful, it's not cakey, \u001b[0m\n",
       "\u001b[32mgives me a natural for and concealed my imperfections, therefore I highly recommend it :\u001b[0m\u001b[32m)\u001b[0m\u001b[32m\"\u001b[0m,\n",
       "    \u001b[32m'overall'\u001b[0m: \u001b[1;36m4.0\u001b[0m,\n",
       "    \u001b[32m'summary'\u001b[0m: \u001b[32m'great quality'\u001b[0m,\n",
       "    \u001b[32m'unixReviewTime'\u001b[0m: \u001b[1;36m1378425600\u001b[0m,\n",
       "    \u001b[32m'reviewTime'\u001b[0m: \u001b[32m'09 6, 2013'\u001b[0m,\n",
       "    \u001b[32m'explanation'\u001b[0m: \u001b[32m'great quality'\u001b[0m,\n",
       "    \u001b[32m'feature'\u001b[0m: \u001b[32m'quality'\u001b[0m\n",
       "\u001b[1m}\u001b[0m\n"
      ]
     },
     "metadata": {},
     "output_type": "display_data"
    },
    {
     "data": {
      "text/html": [
       "<pre style=\"white-space:pre;overflow-x:auto;line-height:normal;font-family:Menlo,'DejaVu Sans Mono',consolas,'Courier New',monospace\">Val Sample:\n",
       "</pre>\n"
      ],
      "text/plain": [
       "Val Sample:\n"
      ]
     },
     "metadata": {},
     "output_type": "display_data"
    },
    {
     "data": {
      "text/html": [
       "<pre style=\"white-space:pre;overflow-x:auto;line-height:normal;font-family:Menlo,'DejaVu Sans Mono',consolas,'Courier New',monospace\"><span style=\"font-weight: bold\">{</span>\n",
       "    <span style=\"color: #008000; text-decoration-color: #008000\">'reviewerID'</span>: <span style=\"color: #008000; text-decoration-color: #008000\">'A1CQWEPJ2GH1I6'</span>,\n",
       "    <span style=\"color: #008000; text-decoration-color: #008000\">'asin'</span>: <span style=\"color: #008000; text-decoration-color: #008000\">'B00478VG9U'</span>,\n",
       "    <span style=\"color: #008000; text-decoration-color: #008000\">'reviewerName'</span>: <span style=\"color: #008000; text-decoration-color: #008000\">'Kathy \"Kathy\"'</span>,\n",
       "    <span style=\"color: #008000; text-decoration-color: #008000\">'helpful'</span>: <span style=\"font-weight: bold\">[</span><span style=\"color: #008080; text-decoration-color: #008080; font-weight: bold\">1</span>, <span style=\"color: #008080; text-decoration-color: #008080; font-weight: bold\">2</span><span style=\"font-weight: bold\">]</span>,\n",
       "    <span style=\"color: #008000; text-decoration-color: #008000\">'reviewText'</span>: <span style=\"color: #008000; text-decoration-color: #008000\">\"But as I've always said, wen products are way overpriced and they can't get a 5 star rating from</span>\n",
       "<span style=\"color: #008000; text-decoration-color: #008000\">me until the price is more reasonable. Just because you can gouge, doesn't mean you should. Sorry wen, but it's </span>\n",
       "<span style=\"color: #008000; text-decoration-color: #008000\">just too much. Besides that, it's the best thing going for hair right now in my opinion. lol! If money is no </span>\n",
       "<span style=\"color: #008000; text-decoration-color: #008000\">object, you must use this every single time you 'wash' your hair. My hair is usually really dry, but I'm positive </span>\n",
       "<span style=\"color: #008000; text-decoration-color: #008000\">it will work on oily hair as well. I don't like ANY of the scents, and it kind of 'burns' or 'tingles' too much the</span>\n",
       "<span style=\"color: #008000; text-decoration-color: #008000\">first time you use it. But it's a magic potion. No lie.\"</span>,\n",
       "    <span style=\"color: #008000; text-decoration-color: #008000\">'overall'</span>: <span style=\"color: #008080; text-decoration-color: #008080; font-weight: bold\">4.0</span>,\n",
       "    <span style=\"color: #008000; text-decoration-color: #008000\">'summary'</span>: <span style=\"color: #008000; text-decoration-color: #008000\">'yes I love this stuff'</span>,\n",
       "    <span style=\"color: #008000; text-decoration-color: #008000\">'unixReviewTime'</span>: <span style=\"color: #008080; text-decoration-color: #008080; font-weight: bold\">1366329600</span>,\n",
       "    <span style=\"color: #008000; text-decoration-color: #008000\">'reviewTime'</span>: <span style=\"color: #008000; text-decoration-color: #008000\">'04 19, 2013'</span>,\n",
       "    <span style=\"color: #008000; text-decoration-color: #008000\">'explanation'</span>: <span style=\"color: #008000; text-decoration-color: #008000\">'My hair is usually really dry'</span>,\n",
       "    <span style=\"color: #008000; text-decoration-color: #008000\">'feature'</span>: <span style=\"color: #008000; text-decoration-color: #008000\">'hair'</span>\n",
       "<span style=\"font-weight: bold\">}</span>\n",
       "</pre>\n"
      ],
      "text/plain": [
       "\u001b[1m{\u001b[0m\n",
       "    \u001b[32m'reviewerID'\u001b[0m: \u001b[32m'A1CQWEPJ2GH1I6'\u001b[0m,\n",
       "    \u001b[32m'asin'\u001b[0m: \u001b[32m'B00478VG9U'\u001b[0m,\n",
       "    \u001b[32m'reviewerName'\u001b[0m: \u001b[32m'Kathy \"Kathy\"'\u001b[0m,\n",
       "    \u001b[32m'helpful'\u001b[0m: \u001b[1m[\u001b[0m\u001b[1;36m1\u001b[0m, \u001b[1;36m2\u001b[0m\u001b[1m]\u001b[0m,\n",
       "    \u001b[32m'reviewText'\u001b[0m: \u001b[32m\"But as I've always said, wen products are way overpriced and they can't get a 5 star rating from\u001b[0m\n",
       "\u001b[32mme until the price is more reasonable. Just because you can gouge, doesn't mean you should. Sorry wen, but it's \u001b[0m\n",
       "\u001b[32mjust too much. Besides that, it's the best thing going for hair right now in my opinion. lol! If money is no \u001b[0m\n",
       "\u001b[32mobject, you must use this every single time you 'wash' your hair. My hair is usually really dry, but I'm positive \u001b[0m\n",
       "\u001b[32mit will work on oily hair as well. I don't like ANY of the scents, and it kind of 'burns' or 'tingles' too much the\u001b[0m\n",
       "\u001b[32mfirst time you use it. But it's a magic potion. No lie.\"\u001b[0m,\n",
       "    \u001b[32m'overall'\u001b[0m: \u001b[1;36m4.0\u001b[0m,\n",
       "    \u001b[32m'summary'\u001b[0m: \u001b[32m'yes I love this stuff'\u001b[0m,\n",
       "    \u001b[32m'unixReviewTime'\u001b[0m: \u001b[1;36m1366329600\u001b[0m,\n",
       "    \u001b[32m'reviewTime'\u001b[0m: \u001b[32m'04 19, 2013'\u001b[0m,\n",
       "    \u001b[32m'explanation'\u001b[0m: \u001b[32m'My hair is usually really dry'\u001b[0m,\n",
       "    \u001b[32m'feature'\u001b[0m: \u001b[32m'hair'\u001b[0m\n",
       "\u001b[1m}\u001b[0m\n"
      ]
     },
     "metadata": {},
     "output_type": "display_data"
    },
    {
     "data": {
      "text/html": [
       "<pre style=\"white-space:pre;overflow-x:auto;line-height:normal;font-family:Menlo,'DejaVu Sans Mono',consolas,'Courier New',monospace\">Test Sample:\n",
       "</pre>\n"
      ],
      "text/plain": [
       "Test Sample:\n"
      ]
     },
     "metadata": {},
     "output_type": "display_data"
    },
    {
     "data": {
      "text/html": [
       "<pre style=\"white-space:pre;overflow-x:auto;line-height:normal;font-family:Menlo,'DejaVu Sans Mono',consolas,'Courier New',monospace\"><span style=\"font-weight: bold\">{</span>\n",
       "    <span style=\"color: #008000; text-decoration-color: #008000\">'reviewerID'</span>: <span style=\"color: #008000; text-decoration-color: #008000\">'A2QKXW3LDQ66P5'</span>,\n",
       "    <span style=\"color: #008000; text-decoration-color: #008000\">'asin'</span>: <span style=\"color: #008000; text-decoration-color: #008000\">'B005X2F7KI'</span>,\n",
       "    <span style=\"color: #008000; text-decoration-color: #008000\">'reviewerName'</span>: <span style=\"color: #008000; text-decoration-color: #008000\">'stephanie'</span>,\n",
       "    <span style=\"color: #008000; text-decoration-color: #008000\">'helpful'</span>: <span style=\"font-weight: bold\">[</span><span style=\"color: #008080; text-decoration-color: #008080; font-weight: bold\">5</span>, <span style=\"color: #008080; text-decoration-color: #008080; font-weight: bold\">6</span><span style=\"font-weight: bold\">]</span>,\n",
       "    <span style=\"color: #008000; text-decoration-color: #008000\">'reviewText'</span>: <span style=\"color: #008000; text-decoration-color: #008000\">'Absolutely great product.  I bought this for my fourteen year old niece for Christmas and of </span>\n",
       "<span style=\"color: #008000; text-decoration-color: #008000\">course I had to try it out, then I tried another one, and another one and another one.  So much fun!  I even </span>\n",
       "<span style=\"color: #008000; text-decoration-color: #008000\">contemplated keeping a few for myself!'</span>,\n",
       "    <span style=\"color: #008000; text-decoration-color: #008000\">'overall'</span>: <span style=\"color: #008080; text-decoration-color: #008080; font-weight: bold\">5.0</span>,\n",
       "    <span style=\"color: #008000; text-decoration-color: #008000\">'summary'</span>: <span style=\"color: #008000; text-decoration-color: #008000\">'Perfect!'</span>,\n",
       "    <span style=\"color: #008000; text-decoration-color: #008000\">'unixReviewTime'</span>: <span style=\"color: #008080; text-decoration-color: #008080; font-weight: bold\">1352937600</span>,\n",
       "    <span style=\"color: #008000; text-decoration-color: #008000\">'reviewTime'</span>: <span style=\"color: #008000; text-decoration-color: #008000\">'11 15, 2012'</span>,\n",
       "    <span style=\"color: #008000; text-decoration-color: #008000\">'explanation'</span>: <span style=\"color: #008000; text-decoration-color: #008000\">'Absolutely great product'</span>,\n",
       "    <span style=\"color: #008000; text-decoration-color: #008000\">'feature'</span>: <span style=\"color: #008000; text-decoration-color: #008000\">'product'</span>\n",
       "<span style=\"font-weight: bold\">}</span>\n",
       "</pre>\n"
      ],
      "text/plain": [
       "\u001b[1m{\u001b[0m\n",
       "    \u001b[32m'reviewerID'\u001b[0m: \u001b[32m'A2QKXW3LDQ66P5'\u001b[0m,\n",
       "    \u001b[32m'asin'\u001b[0m: \u001b[32m'B005X2F7KI'\u001b[0m,\n",
       "    \u001b[32m'reviewerName'\u001b[0m: \u001b[32m'stephanie'\u001b[0m,\n",
       "    \u001b[32m'helpful'\u001b[0m: \u001b[1m[\u001b[0m\u001b[1;36m5\u001b[0m, \u001b[1;36m6\u001b[0m\u001b[1m]\u001b[0m,\n",
       "    \u001b[32m'reviewText'\u001b[0m: \u001b[32m'Absolutely great product.  I bought this for my fourteen year old niece for Christmas and of \u001b[0m\n",
       "\u001b[32mcourse I had to try it out, then I tried another one, and another one and another one.  So much fun!  I even \u001b[0m\n",
       "\u001b[32mcontemplated keeping a few for myself!'\u001b[0m,\n",
       "    \u001b[32m'overall'\u001b[0m: \u001b[1;36m5.0\u001b[0m,\n",
       "    \u001b[32m'summary'\u001b[0m: \u001b[32m'Perfect!'\u001b[0m,\n",
       "    \u001b[32m'unixReviewTime'\u001b[0m: \u001b[1;36m1352937600\u001b[0m,\n",
       "    \u001b[32m'reviewTime'\u001b[0m: \u001b[32m'11 15, 2012'\u001b[0m,\n",
       "    \u001b[32m'explanation'\u001b[0m: \u001b[32m'Absolutely great product'\u001b[0m,\n",
       "    \u001b[32m'feature'\u001b[0m: \u001b[32m'product'\u001b[0m\n",
       "\u001b[1m}\u001b[0m\n"
      ]
     },
     "metadata": {},
     "output_type": "display_data"
    }
   ],
   "source": [
    "with open(f\"{DATASET_DIR}/{DATASET_SPLIT}/exp_splits.pkl\", \"rb\") as f:\n",
    "    exp_splits = pickle.load(f)\n",
    "    \n",
    "display_pickle_summary(exp_splits, title=\"Exp Splits Summary\")"
   ]
  },
  {
   "cell_type": "markdown",
   "id": "c06ea0f6",
   "metadata": {},
   "source": [
    "#### Ratings Split Augmented"
   ]
  },
  {
   "cell_type": "code",
   "execution_count": 59,
   "id": "a3bdf8a2",
   "metadata": {},
   "outputs": [
    {
     "data": {
      "text/html": [
       "<pre style=\"white-space:pre;overflow-x:auto;line-height:normal;font-family:Menlo,'DejaVu Sans Mono',consolas,'Courier New',monospace\"><span style=\"font-style: italic\">  Rating Splits Augmented Summary   </span>\n",
       "┏━━━━━━━━━━━━━━━┳━━━━━━━━━━━━━━━━━━┓\n",
       "┃<span style=\"font-weight: bold\"> Key/Type      </span>┃<span style=\"font-weight: bold\"> Description      </span>┃\n",
       "┡━━━━━━━━━━━━━━━╇━━━━━━━━━━━━━━━━━━┩\n",
       "│<span style=\"color: #008080; text-decoration-color: #008080\"> train         </span>│<span style=\"color: #800080; text-decoration-color: #800080\"> list, len=317516 </span>│\n",
       "│<span style=\"color: #008080; text-decoration-color: #008080\"> val           </span>│<span style=\"color: #800080; text-decoration-color: #800080\"> list, len=19850  </span>│\n",
       "│<span style=\"color: #008080; text-decoration-color: #008080\"> test          </span>│<span style=\"color: #800080; text-decoration-color: #800080\"> list, len=19850  </span>│\n",
       "│<span style=\"color: #008080; text-decoration-color: #008080\"> train_indices </span>│<span style=\"color: #800080; text-decoration-color: #800080\"> list, len=158802 </span>│\n",
       "│<span style=\"color: #008080; text-decoration-color: #008080\"> val_indices   </span>│<span style=\"color: #800080; text-decoration-color: #800080\"> list, len=19850  </span>│\n",
       "│<span style=\"color: #008080; text-decoration-color: #008080\"> test_indices  </span>│<span style=\"color: #800080; text-decoration-color: #800080\"> list, len=19850  </span>│\n",
       "│<span style=\"color: #008080; text-decoration-color: #008080\"> Total Size    </span>│<span style=\"color: #800080; text-decoration-color: #800080\"> 357216           </span>│\n",
       "└───────────────┴──────────────────┘\n",
       "</pre>\n"
      ],
      "text/plain": [
       "\u001b[3m  Rating Splits Augmented Summary   \u001b[0m\n",
       "┏━━━━━━━━━━━━━━━┳━━━━━━━━━━━━━━━━━━┓\n",
       "┃\u001b[1m \u001b[0m\u001b[1mKey/Type     \u001b[0m\u001b[1m \u001b[0m┃\u001b[1m \u001b[0m\u001b[1mDescription     \u001b[0m\u001b[1m \u001b[0m┃\n",
       "┡━━━━━━━━━━━━━━━╇━━━━━━━━━━━━━━━━━━┩\n",
       "│\u001b[36m \u001b[0m\u001b[36mtrain        \u001b[0m\u001b[36m \u001b[0m│\u001b[35m \u001b[0m\u001b[35mlist, len=317516\u001b[0m\u001b[35m \u001b[0m│\n",
       "│\u001b[36m \u001b[0m\u001b[36mval          \u001b[0m\u001b[36m \u001b[0m│\u001b[35m \u001b[0m\u001b[35mlist, len=19850 \u001b[0m\u001b[35m \u001b[0m│\n",
       "│\u001b[36m \u001b[0m\u001b[36mtest         \u001b[0m\u001b[36m \u001b[0m│\u001b[35m \u001b[0m\u001b[35mlist, len=19850 \u001b[0m\u001b[35m \u001b[0m│\n",
       "│\u001b[36m \u001b[0m\u001b[36mtrain_indices\u001b[0m\u001b[36m \u001b[0m│\u001b[35m \u001b[0m\u001b[35mlist, len=158802\u001b[0m\u001b[35m \u001b[0m│\n",
       "│\u001b[36m \u001b[0m\u001b[36mval_indices  \u001b[0m\u001b[36m \u001b[0m│\u001b[35m \u001b[0m\u001b[35mlist, len=19850 \u001b[0m\u001b[35m \u001b[0m│\n",
       "│\u001b[36m \u001b[0m\u001b[36mtest_indices \u001b[0m\u001b[36m \u001b[0m│\u001b[35m \u001b[0m\u001b[35mlist, len=19850 \u001b[0m\u001b[35m \u001b[0m│\n",
       "│\u001b[36m \u001b[0m\u001b[36mTotal Size   \u001b[0m\u001b[36m \u001b[0m│\u001b[35m \u001b[0m\u001b[35m357216          \u001b[0m\u001b[35m \u001b[0m│\n",
       "└───────────────┴──────────────────┘\n"
      ]
     },
     "metadata": {},
     "output_type": "display_data"
    },
    {
     "data": {
      "text/html": [
       "<pre style=\"white-space:pre;overflow-x:auto;line-height:normal;font-family:Menlo,'DejaVu Sans Mono',consolas,'Courier New',monospace\">Train Sample:\n",
       "</pre>\n"
      ],
      "text/plain": [
       "Train Sample:\n"
      ]
     },
     "metadata": {},
     "output_type": "display_data"
    },
    {
     "data": {
      "text/html": [
       "<pre style=\"white-space:pre;overflow-x:auto;line-height:normal;font-family:Menlo,'DejaVu Sans Mono',consolas,'Courier New',monospace\"><span style=\"font-weight: bold\">{</span>\n",
       "    <span style=\"color: #008000; text-decoration-color: #008000\">'reviewerID'</span>: <span style=\"color: #008000; text-decoration-color: #008000\">'A1YJEY40YUW4SE'</span>,\n",
       "    <span style=\"color: #008000; text-decoration-color: #008000\">'asin'</span>: <span style=\"color: #008000; text-decoration-color: #008000\">'7806397051'</span>,\n",
       "    <span style=\"color: #008000; text-decoration-color: #008000\">'reviewerName'</span>: <span style=\"color: #008000; text-decoration-color: #008000\">'Andrea'</span>,\n",
       "    <span style=\"color: #008000; text-decoration-color: #008000\">'helpful'</span>: <span style=\"font-weight: bold\">[</span><span style=\"color: #008080; text-decoration-color: #008080; font-weight: bold\">3</span>, <span style=\"color: #008080; text-decoration-color: #008080; font-weight: bold\">4</span><span style=\"font-weight: bold\">]</span>,\n",
       "    <span style=\"color: #008000; text-decoration-color: #008000\">'reviewText'</span>: <span style=\"color: #008000; text-decoration-color: #008000\">'Very oily and creamy. Not at all what I expected... ordered this to try to highlight and contour</span>\n",
       "<span style=\"color: #008000; text-decoration-color: #008000\">and it just looked awful!!! Plus, took FOREVER to arrive.'</span>,\n",
       "    <span style=\"color: #008000; text-decoration-color: #008000\">'overall'</span>: <span style=\"color: #008080; text-decoration-color: #008080; font-weight: bold\">1.0</span>,\n",
       "    <span style=\"color: #008000; text-decoration-color: #008000\">'summary'</span>: <span style=\"color: #008000; text-decoration-color: #008000\">\"Don't waste your money\"</span>,\n",
       "    <span style=\"color: #008000; text-decoration-color: #008000\">'unixReviewTime'</span>: <span style=\"color: #008080; text-decoration-color: #008080; font-weight: bold\">1391040000</span>,\n",
       "    <span style=\"color: #008000; text-decoration-color: #008000\">'reviewTime'</span>: <span style=\"color: #008000; text-decoration-color: #008000\">'01 30, 2014'</span>\n",
       "<span style=\"font-weight: bold\">}</span>\n",
       "</pre>\n"
      ],
      "text/plain": [
       "\u001b[1m{\u001b[0m\n",
       "    \u001b[32m'reviewerID'\u001b[0m: \u001b[32m'A1YJEY40YUW4SE'\u001b[0m,\n",
       "    \u001b[32m'asin'\u001b[0m: \u001b[32m'7806397051'\u001b[0m,\n",
       "    \u001b[32m'reviewerName'\u001b[0m: \u001b[32m'Andrea'\u001b[0m,\n",
       "    \u001b[32m'helpful'\u001b[0m: \u001b[1m[\u001b[0m\u001b[1;36m3\u001b[0m, \u001b[1;36m4\u001b[0m\u001b[1m]\u001b[0m,\n",
       "    \u001b[32m'reviewText'\u001b[0m: \u001b[32m'Very oily and creamy. Not at all what I expected... ordered this to try to highlight and contour\u001b[0m\n",
       "\u001b[32mand it just looked awful!!! Plus, took FOREVER to arrive.'\u001b[0m,\n",
       "    \u001b[32m'overall'\u001b[0m: \u001b[1;36m1.0\u001b[0m,\n",
       "    \u001b[32m'summary'\u001b[0m: \u001b[32m\"Don't waste your money\"\u001b[0m,\n",
       "    \u001b[32m'unixReviewTime'\u001b[0m: \u001b[1;36m1391040000\u001b[0m,\n",
       "    \u001b[32m'reviewTime'\u001b[0m: \u001b[32m'01 30, 2014'\u001b[0m\n",
       "\u001b[1m}\u001b[0m\n"
      ]
     },
     "metadata": {},
     "output_type": "display_data"
    },
    {
     "data": {
      "text/html": [
       "<pre style=\"white-space:pre;overflow-x:auto;line-height:normal;font-family:Menlo,'DejaVu Sans Mono',consolas,'Courier New',monospace\">Val Sample:\n",
       "</pre>\n"
      ],
      "text/plain": [
       "Val Sample:\n"
      ]
     },
     "metadata": {},
     "output_type": "display_data"
    },
    {
     "data": {
      "text/html": [
       "<pre style=\"white-space:pre;overflow-x:auto;line-height:normal;font-family:Menlo,'DejaVu Sans Mono',consolas,'Courier New',monospace\"><span style=\"font-weight: bold\">{</span>\n",
       "    <span style=\"color: #008000; text-decoration-color: #008000\">'reviewerID'</span>: <span style=\"color: #008000; text-decoration-color: #008000\">'A1CQWEPJ2GH1I6'</span>,\n",
       "    <span style=\"color: #008000; text-decoration-color: #008000\">'asin'</span>: <span style=\"color: #008000; text-decoration-color: #008000\">'B00478VG9U'</span>,\n",
       "    <span style=\"color: #008000; text-decoration-color: #008000\">'reviewerName'</span>: <span style=\"color: #008000; text-decoration-color: #008000\">'Kathy \"Kathy\"'</span>,\n",
       "    <span style=\"color: #008000; text-decoration-color: #008000\">'helpful'</span>: <span style=\"font-weight: bold\">[</span><span style=\"color: #008080; text-decoration-color: #008080; font-weight: bold\">1</span>, <span style=\"color: #008080; text-decoration-color: #008080; font-weight: bold\">2</span><span style=\"font-weight: bold\">]</span>,\n",
       "    <span style=\"color: #008000; text-decoration-color: #008000\">'reviewText'</span>: <span style=\"color: #008000; text-decoration-color: #008000\">\"But as I've always said, wen products are way overpriced and they can't get a 5 star rating from</span>\n",
       "<span style=\"color: #008000; text-decoration-color: #008000\">me until the price is more reasonable. Just because you can gouge, doesn't mean you should. Sorry wen, but it's </span>\n",
       "<span style=\"color: #008000; text-decoration-color: #008000\">just too much. Besides that, it's the best thing going for hair right now in my opinion. lol! If money is no </span>\n",
       "<span style=\"color: #008000; text-decoration-color: #008000\">object, you must use this every single time you 'wash' your hair. My hair is usually really dry, but I'm positive </span>\n",
       "<span style=\"color: #008000; text-decoration-color: #008000\">it will work on oily hair as well. I don't like ANY of the scents, and it kind of 'burns' or 'tingles' too much the</span>\n",
       "<span style=\"color: #008000; text-decoration-color: #008000\">first time you use it. But it's a magic potion. No lie.\"</span>,\n",
       "    <span style=\"color: #008000; text-decoration-color: #008000\">'overall'</span>: <span style=\"color: #008080; text-decoration-color: #008080; font-weight: bold\">4.0</span>,\n",
       "    <span style=\"color: #008000; text-decoration-color: #008000\">'summary'</span>: <span style=\"color: #008000; text-decoration-color: #008000\">'yes I love this stuff'</span>,\n",
       "    <span style=\"color: #008000; text-decoration-color: #008000\">'unixReviewTime'</span>: <span style=\"color: #008080; text-decoration-color: #008080; font-weight: bold\">1366329600</span>,\n",
       "    <span style=\"color: #008000; text-decoration-color: #008000\">'reviewTime'</span>: <span style=\"color: #008000; text-decoration-color: #008000\">'04 19, 2013'</span>,\n",
       "    <span style=\"color: #008000; text-decoration-color: #008000\">'explanation'</span>: <span style=\"color: #008000; text-decoration-color: #008000\">'My hair is usually really dry'</span>,\n",
       "    <span style=\"color: #008000; text-decoration-color: #008000\">'feature'</span>: <span style=\"color: #008000; text-decoration-color: #008000\">'hair'</span>\n",
       "<span style=\"font-weight: bold\">}</span>\n",
       "</pre>\n"
      ],
      "text/plain": [
       "\u001b[1m{\u001b[0m\n",
       "    \u001b[32m'reviewerID'\u001b[0m: \u001b[32m'A1CQWEPJ2GH1I6'\u001b[0m,\n",
       "    \u001b[32m'asin'\u001b[0m: \u001b[32m'B00478VG9U'\u001b[0m,\n",
       "    \u001b[32m'reviewerName'\u001b[0m: \u001b[32m'Kathy \"Kathy\"'\u001b[0m,\n",
       "    \u001b[32m'helpful'\u001b[0m: \u001b[1m[\u001b[0m\u001b[1;36m1\u001b[0m, \u001b[1;36m2\u001b[0m\u001b[1m]\u001b[0m,\n",
       "    \u001b[32m'reviewText'\u001b[0m: \u001b[32m\"But as I've always said, wen products are way overpriced and they can't get a 5 star rating from\u001b[0m\n",
       "\u001b[32mme until the price is more reasonable. Just because you can gouge, doesn't mean you should. Sorry wen, but it's \u001b[0m\n",
       "\u001b[32mjust too much. Besides that, it's the best thing going for hair right now in my opinion. lol! If money is no \u001b[0m\n",
       "\u001b[32mobject, you must use this every single time you 'wash' your hair. My hair is usually really dry, but I'm positive \u001b[0m\n",
       "\u001b[32mit will work on oily hair as well. I don't like ANY of the scents, and it kind of 'burns' or 'tingles' too much the\u001b[0m\n",
       "\u001b[32mfirst time you use it. But it's a magic potion. No lie.\"\u001b[0m,\n",
       "    \u001b[32m'overall'\u001b[0m: \u001b[1;36m4.0\u001b[0m,\n",
       "    \u001b[32m'summary'\u001b[0m: \u001b[32m'yes I love this stuff'\u001b[0m,\n",
       "    \u001b[32m'unixReviewTime'\u001b[0m: \u001b[1;36m1366329600\u001b[0m,\n",
       "    \u001b[32m'reviewTime'\u001b[0m: \u001b[32m'04 19, 2013'\u001b[0m,\n",
       "    \u001b[32m'explanation'\u001b[0m: \u001b[32m'My hair is usually really dry'\u001b[0m,\n",
       "    \u001b[32m'feature'\u001b[0m: \u001b[32m'hair'\u001b[0m\n",
       "\u001b[1m}\u001b[0m\n"
      ]
     },
     "metadata": {},
     "output_type": "display_data"
    },
    {
     "data": {
      "text/html": [
       "<pre style=\"white-space:pre;overflow-x:auto;line-height:normal;font-family:Menlo,'DejaVu Sans Mono',consolas,'Courier New',monospace\">Test Sample:\n",
       "</pre>\n"
      ],
      "text/plain": [
       "Test Sample:\n"
      ]
     },
     "metadata": {},
     "output_type": "display_data"
    },
    {
     "data": {
      "text/html": [
       "<pre style=\"white-space:pre;overflow-x:auto;line-height:normal;font-family:Menlo,'DejaVu Sans Mono',consolas,'Courier New',monospace\"><span style=\"font-weight: bold\">{</span>\n",
       "    <span style=\"color: #008000; text-decoration-color: #008000\">'reviewerID'</span>: <span style=\"color: #008000; text-decoration-color: #008000\">'A2QKXW3LDQ66P5'</span>,\n",
       "    <span style=\"color: #008000; text-decoration-color: #008000\">'asin'</span>: <span style=\"color: #008000; text-decoration-color: #008000\">'B005X2F7KI'</span>,\n",
       "    <span style=\"color: #008000; text-decoration-color: #008000\">'reviewerName'</span>: <span style=\"color: #008000; text-decoration-color: #008000\">'stephanie'</span>,\n",
       "    <span style=\"color: #008000; text-decoration-color: #008000\">'helpful'</span>: <span style=\"font-weight: bold\">[</span><span style=\"color: #008080; text-decoration-color: #008080; font-weight: bold\">5</span>, <span style=\"color: #008080; text-decoration-color: #008080; font-weight: bold\">6</span><span style=\"font-weight: bold\">]</span>,\n",
       "    <span style=\"color: #008000; text-decoration-color: #008000\">'reviewText'</span>: <span style=\"color: #008000; text-decoration-color: #008000\">'Absolutely great product.  I bought this for my fourteen year old niece for Christmas and of </span>\n",
       "<span style=\"color: #008000; text-decoration-color: #008000\">course I had to try it out, then I tried another one, and another one and another one.  So much fun!  I even </span>\n",
       "<span style=\"color: #008000; text-decoration-color: #008000\">contemplated keeping a few for myself!'</span>,\n",
       "    <span style=\"color: #008000; text-decoration-color: #008000\">'overall'</span>: <span style=\"color: #008080; text-decoration-color: #008080; font-weight: bold\">5.0</span>,\n",
       "    <span style=\"color: #008000; text-decoration-color: #008000\">'summary'</span>: <span style=\"color: #008000; text-decoration-color: #008000\">'Perfect!'</span>,\n",
       "    <span style=\"color: #008000; text-decoration-color: #008000\">'unixReviewTime'</span>: <span style=\"color: #008080; text-decoration-color: #008080; font-weight: bold\">1352937600</span>,\n",
       "    <span style=\"color: #008000; text-decoration-color: #008000\">'reviewTime'</span>: <span style=\"color: #008000; text-decoration-color: #008000\">'11 15, 2012'</span>,\n",
       "    <span style=\"color: #008000; text-decoration-color: #008000\">'explanation'</span>: <span style=\"color: #008000; text-decoration-color: #008000\">'Absolutely great product'</span>,\n",
       "    <span style=\"color: #008000; text-decoration-color: #008000\">'feature'</span>: <span style=\"color: #008000; text-decoration-color: #008000\">'product'</span>\n",
       "<span style=\"font-weight: bold\">}</span>\n",
       "</pre>\n"
      ],
      "text/plain": [
       "\u001b[1m{\u001b[0m\n",
       "    \u001b[32m'reviewerID'\u001b[0m: \u001b[32m'A2QKXW3LDQ66P5'\u001b[0m,\n",
       "    \u001b[32m'asin'\u001b[0m: \u001b[32m'B005X2F7KI'\u001b[0m,\n",
       "    \u001b[32m'reviewerName'\u001b[0m: \u001b[32m'stephanie'\u001b[0m,\n",
       "    \u001b[32m'helpful'\u001b[0m: \u001b[1m[\u001b[0m\u001b[1;36m5\u001b[0m, \u001b[1;36m6\u001b[0m\u001b[1m]\u001b[0m,\n",
       "    \u001b[32m'reviewText'\u001b[0m: \u001b[32m'Absolutely great product.  I bought this for my fourteen year old niece for Christmas and of \u001b[0m\n",
       "\u001b[32mcourse I had to try it out, then I tried another one, and another one and another one.  So much fun!  I even \u001b[0m\n",
       "\u001b[32mcontemplated keeping a few for myself!'\u001b[0m,\n",
       "    \u001b[32m'overall'\u001b[0m: \u001b[1;36m5.0\u001b[0m,\n",
       "    \u001b[32m'summary'\u001b[0m: \u001b[32m'Perfect!'\u001b[0m,\n",
       "    \u001b[32m'unixReviewTime'\u001b[0m: \u001b[1;36m1352937600\u001b[0m,\n",
       "    \u001b[32m'reviewTime'\u001b[0m: \u001b[32m'11 15, 2012'\u001b[0m,\n",
       "    \u001b[32m'explanation'\u001b[0m: \u001b[32m'Absolutely great product'\u001b[0m,\n",
       "    \u001b[32m'feature'\u001b[0m: \u001b[32m'product'\u001b[0m\n",
       "\u001b[1m}\u001b[0m\n"
      ]
     },
     "metadata": {},
     "output_type": "display_data"
    }
   ],
   "source": [
    "with open(f\"{DATASET_DIR}/{DATASET_SPLIT}/rating_splits_augmented.pkl\", \"rb\") as f:\n",
    "    rating_splits_augmented = pickle.load(f)\n",
    "\n",
    "display_pickle_summary(rating_splits_augmented, title=\"Rating Splits Augmented Summary\")"
   ]
  },
  {
   "cell_type": "markdown",
   "id": "a125eb83",
   "metadata": {},
   "source": [
    "#### Zero-Shot Exp Splits"
   ]
  },
  {
   "cell_type": "code",
   "execution_count": 60,
   "id": "7c4396fb",
   "metadata": {},
   "outputs": [
    {
     "data": {
      "text/html": [
       "<pre style=\"white-space:pre;overflow-x:auto;line-height:normal;font-family:Menlo,'DejaVu Sans Mono',consolas,'Courier New',monospace\"><span style=\"font-style: italic\"> Zero-Shot Exp Splits Summary  </span>\n",
       "┏━━━━━━━━━━━━┳━━━━━━━━━━━━━━━━┓\n",
       "┃<span style=\"font-weight: bold\"> Key/Type   </span>┃<span style=\"font-weight: bold\"> Description    </span>┃\n",
       "┡━━━━━━━━━━━━╇━━━━━━━━━━━━━━━━┩\n",
       "│<span style=\"color: #008080; text-decoration-color: #008080\"> list       </span>│<span style=\"color: #800080; text-decoration-color: #800080\"> &lt;class 'list'&gt; </span>│\n",
       "│<span style=\"color: #008080; text-decoration-color: #008080\"> Total Size </span>│<span style=\"color: #800080; text-decoration-color: #800080\"> 0              </span>│\n",
       "└────────────┴────────────────┘\n",
       "</pre>\n"
      ],
      "text/plain": [
       "\u001b[3m Zero-Shot Exp Splits Summary  \u001b[0m\n",
       "┏━━━━━━━━━━━━┳━━━━━━━━━━━━━━━━┓\n",
       "┃\u001b[1m \u001b[0m\u001b[1mKey/Type  \u001b[0m\u001b[1m \u001b[0m┃\u001b[1m \u001b[0m\u001b[1mDescription   \u001b[0m\u001b[1m \u001b[0m┃\n",
       "┡━━━━━━━━━━━━╇━━━━━━━━━━━━━━━━┩\n",
       "│\u001b[36m \u001b[0m\u001b[36mlist      \u001b[0m\u001b[36m \u001b[0m│\u001b[35m \u001b[0m\u001b[35m<class 'list'>\u001b[0m\u001b[35m \u001b[0m│\n",
       "│\u001b[36m \u001b[0m\u001b[36mTotal Size\u001b[0m\u001b[36m \u001b[0m│\u001b[35m \u001b[0m\u001b[35m0             \u001b[0m\u001b[35m \u001b[0m│\n",
       "└────────────┴────────────────┘\n"
      ]
     },
     "metadata": {},
     "output_type": "display_data"
    }
   ],
   "source": [
    "with open(f\"{DATASET_DIR}/{DATASET_SPLIT}/zeroshot_exp_splits.pkl\", \"rb\") as f:\n",
    "    zeroshot_exp_splits = pickle.load(f)\n",
    "\n",
    "display_pickle_summary(zeroshot_exp_splits, title=\"Zero-Shot Exp Splits Summary\")"
   ]
  },
  {
   "cell_type": "markdown",
   "id": "a02781f4",
   "metadata": {},
   "source": [
    "#### user_id2name"
   ]
  },
  {
   "cell_type": "code",
   "execution_count": null,
   "id": "50a9d275",
   "metadata": {},
   "outputs": [
    {
     "data": {
      "text/plain": [
       "22363"
      ]
     },
     "execution_count": 64,
     "metadata": {},
     "output_type": "execute_result"
    }
   ],
   "source": [
    "with open(f\"{DATASET_DIR}/{DATASET_SPLIT}/user_id2name.pkl\", \"rb\") as f:\n",
    "    user_id2name = pickle.load(f)\n",
    "\n",
    "len(user_id2name)"
   ]
  },
  {
   "cell_type": "code",
   "execution_count": 69,
   "id": "bddd1506",
   "metadata": {},
   "outputs": [
    {
     "data": {
      "text/html": [
       "<pre style=\"white-space:pre;overflow-x:auto;line-height:normal;font-family:Menlo,'DejaVu Sans Mono',consolas,'Courier New',monospace\"><span style=\"font-style: italic\">          Data Maps Summary          </span>\n",
       "┏━━━━━━━━━━━━━━━━━┳━━━━━━━━━━━━━━━━━┓\n",
       "┃<span style=\"font-weight: bold\"> Key/Type        </span>┃<span style=\"font-weight: bold\"> Description     </span>┃\n",
       "┡━━━━━━━━━━━━━━━━━╇━━━━━━━━━━━━━━━━━┩\n",
       "│<span style=\"color: #008080; text-decoration-color: #008080\"> user2id         </span>│<span style=\"color: #800080; text-decoration-color: #800080\"> dict, len=22363 </span>│\n",
       "│<span style=\"color: #008080; text-decoration-color: #008080\"> item2id         </span>│<span style=\"color: #800080; text-decoration-color: #800080\"> dict, len=12101 </span>│\n",
       "│<span style=\"color: #008080; text-decoration-color: #008080\"> id2user         </span>│<span style=\"color: #800080; text-decoration-color: #800080\"> dict, len=22363 </span>│\n",
       "│<span style=\"color: #008080; text-decoration-color: #008080\"> id2item         </span>│<span style=\"color: #800080; text-decoration-color: #800080\"> dict, len=12101 </span>│\n",
       "│<span style=\"color: #008080; text-decoration-color: #008080\"> attribute2id    </span>│<span style=\"color: #800080; text-decoration-color: #800080\"> dict, len=2320  </span>│\n",
       "│<span style=\"color: #008080; text-decoration-color: #008080\"> id2attribute    </span>│<span style=\"color: #800080; text-decoration-color: #800080\"> dict, len=2320  </span>│\n",
       "│<span style=\"color: #008080; text-decoration-color: #008080\"> attributeid2num </span>│<span style=\"color: #800080; text-decoration-color: #800080\"> dict, len=2320  </span>│\n",
       "│<span style=\"color: #008080; text-decoration-color: #008080\"> Total Size      </span>│<span style=\"color: #800080; text-decoration-color: #800080\"> N/A             </span>│\n",
       "└─────────────────┴─────────────────┘\n",
       "</pre>\n"
      ],
      "text/plain": [
       "\u001b[3m          Data Maps Summary          \u001b[0m\n",
       "┏━━━━━━━━━━━━━━━━━┳━━━━━━━━━━━━━━━━━┓\n",
       "┃\u001b[1m \u001b[0m\u001b[1mKey/Type       \u001b[0m\u001b[1m \u001b[0m┃\u001b[1m \u001b[0m\u001b[1mDescription    \u001b[0m\u001b[1m \u001b[0m┃\n",
       "┡━━━━━━━━━━━━━━━━━╇━━━━━━━━━━━━━━━━━┩\n",
       "│\u001b[36m \u001b[0m\u001b[36muser2id        \u001b[0m\u001b[36m \u001b[0m│\u001b[35m \u001b[0m\u001b[35mdict, len=22363\u001b[0m\u001b[35m \u001b[0m│\n",
       "│\u001b[36m \u001b[0m\u001b[36mitem2id        \u001b[0m\u001b[36m \u001b[0m│\u001b[35m \u001b[0m\u001b[35mdict, len=12101\u001b[0m\u001b[35m \u001b[0m│\n",
       "│\u001b[36m \u001b[0m\u001b[36mid2user        \u001b[0m\u001b[36m \u001b[0m│\u001b[35m \u001b[0m\u001b[35mdict, len=22363\u001b[0m\u001b[35m \u001b[0m│\n",
       "│\u001b[36m \u001b[0m\u001b[36mid2item        \u001b[0m\u001b[36m \u001b[0m│\u001b[35m \u001b[0m\u001b[35mdict, len=12101\u001b[0m\u001b[35m \u001b[0m│\n",
       "│\u001b[36m \u001b[0m\u001b[36mattribute2id   \u001b[0m\u001b[36m \u001b[0m│\u001b[35m \u001b[0m\u001b[35mdict, len=2320 \u001b[0m\u001b[35m \u001b[0m│\n",
       "│\u001b[36m \u001b[0m\u001b[36mid2attribute   \u001b[0m\u001b[36m \u001b[0m│\u001b[35m \u001b[0m\u001b[35mdict, len=2320 \u001b[0m\u001b[35m \u001b[0m│\n",
       "│\u001b[36m \u001b[0m\u001b[36mattributeid2num\u001b[0m\u001b[36m \u001b[0m│\u001b[35m \u001b[0m\u001b[35mdict, len=2320 \u001b[0m\u001b[35m \u001b[0m│\n",
       "│\u001b[36m \u001b[0m\u001b[36mTotal Size     \u001b[0m\u001b[36m \u001b[0m│\u001b[35m \u001b[0m\u001b[35mN/A            \u001b[0m\u001b[35m \u001b[0m│\n",
       "└─────────────────┴─────────────────┘\n"
      ]
     },
     "metadata": {},
     "output_type": "display_data"
    }
   ],
   "source": [
    "with open(f\"{DATASET_DIR}/{DATASET_SPLIT}/datamaps.json\", \"rb\") as f:\n",
    "    datamaps = json.load(f)\n",
    "\n",
    "display_pickle_summary(datamaps, title=\"Data Maps Summary\")"
   ]
  },
  {
   "cell_type": "markdown",
   "id": "4f670f1c",
   "metadata": {},
   "source": [
    "#### Metadata"
   ]
  },
  {
   "cell_type": "code",
   "execution_count": null,
   "id": "02af68b0",
   "metadata": {},
   "outputs": [],
   "source": [
    "def parse(path):\n",
    "  g = gzip.open(path, 'r')\n",
    "  for l in g:\n",
    "    yield eval(l)\n",
    "\n",
    "def parse(path):\n",
    "  g = gzip.open(path, 'rb')\n",
    "  for l in g:\n",
    "    yield eval(l)\n",
    "\n",
    "def getDF(path):\n",
    "  i = 0\n",
    "  df = {}\n",
    "  for d in parse(path):\n",
    "    df[i] = d\n",
    "    i += 1\n",
    "  return pd.DataFrame.from_dict(df, orient='index')\n",
    "\n",
    "df = getDF(f\"{DATASET_DIR}/{DATASET_SPLIT}/meta.json.gz\")\n",
    "df.shape"
   ]
  },
  {
   "cell_type": "code",
   "execution_count": null,
   "id": "40830e8f",
   "metadata": {},
   "outputs": [
    {
     "data": {
      "text/html": [
       "<pre style=\"white-space:pre;overflow-x:auto;line-height:normal;font-family:Menlo,'DejaVu Sans Mono',consolas,'Courier New',monospace\"><span style=\"font-weight: bold\">(</span><span style=\"color: #008080; text-decoration-color: #008080; font-weight: bold\">259204</span>, <span style=\"color: #008080; text-decoration-color: #008080; font-weight: bold\">9</span><span style=\"font-weight: bold\">)</span>\n",
       "</pre>\n"
      ],
      "text/plain": [
       "\u001b[1m(\u001b[0m\u001b[1;36m259204\u001b[0m, \u001b[1;36m9\u001b[0m\u001b[1m)\u001b[0m\n"
      ]
     },
     "metadata": {},
     "output_type": "display_data"
    },
    {
     "data": {
      "text/html": [
       "<div>\n",
       "<style scoped>\n",
       "    .dataframe tbody tr th:only-of-type {\n",
       "        vertical-align: middle;\n",
       "    }\n",
       "\n",
       "    .dataframe tbody tr th {\n",
       "        vertical-align: top;\n",
       "    }\n",
       "\n",
       "    .dataframe thead th {\n",
       "        text-align: right;\n",
       "    }\n",
       "</style>\n",
       "<table border=\"1\" class=\"dataframe\">\n",
       "  <thead>\n",
       "    <tr style=\"text-align: right;\">\n",
       "      <th></th>\n",
       "      <th>asin</th>\n",
       "      <th>description</th>\n",
       "      <th>title</th>\n",
       "      <th>imUrl</th>\n",
       "      <th>salesRank</th>\n",
       "      <th>categories</th>\n",
       "      <th>price</th>\n",
       "      <th>related</th>\n",
       "      <th>brand</th>\n",
       "    </tr>\n",
       "  </thead>\n",
       "  <tbody>\n",
       "    <tr>\n",
       "      <th>0</th>\n",
       "      <td>0205616461</td>\n",
       "      <td>As we age, our once youthful, healthy skin suc...</td>\n",
       "      <td>Bio-Active Anti-Aging Serum (Firming Ultra-Hyd...</td>\n",
       "      <td>http://ecx.images-amazon.com/images/I/41DecrGO...</td>\n",
       "      <td>{'Health &amp; Personal Care': 461765}</td>\n",
       "      <td>[[Beauty, Skin Care, Face, Creams &amp; Moisturize...</td>\n",
       "      <td>NaN</td>\n",
       "      <td>NaN</td>\n",
       "      <td>NaN</td>\n",
       "    </tr>\n",
       "    <tr>\n",
       "      <th>1</th>\n",
       "      <td>0558925278</td>\n",
       "      <td>Mineral Powder Brush--Apply powder or mineral ...</td>\n",
       "      <td>Eco Friendly Ecotools Quality Natural Bamboo C...</td>\n",
       "      <td>http://ecx.images-amazon.com/images/I/51L%2BzY...</td>\n",
       "      <td>{'Beauty': 402875}</td>\n",
       "      <td>[[Beauty, Tools &amp; Accessories, Makeup Brushes ...</td>\n",
       "      <td>NaN</td>\n",
       "      <td>NaN</td>\n",
       "      <td>NaN</td>\n",
       "    </tr>\n",
       "    <tr>\n",
       "      <th>2</th>\n",
       "      <td>0733001998</td>\n",
       "      <td>From the Greek island of Chios, this Mastiha b...</td>\n",
       "      <td>Mastiha Body Lotion</td>\n",
       "      <td>http://ecx.images-amazon.com/images/I/311WK5y1...</td>\n",
       "      <td>{'Beauty': 540255}</td>\n",
       "      <td>[[Beauty, Skin Care, Body, Moisturizers, Lotio...</td>\n",
       "      <td>NaN</td>\n",
       "      <td>NaN</td>\n",
       "      <td>NaN</td>\n",
       "    </tr>\n",
       "    <tr>\n",
       "      <th>3</th>\n",
       "      <td>0737104473</td>\n",
       "      <td>Limited edition Hello Kitty Lipstick featuring...</td>\n",
       "      <td>Hello Kitty Lustre Lipstick (See sellers comme...</td>\n",
       "      <td>http://ecx.images-amazon.com/images/I/31u6Hrzk...</td>\n",
       "      <td>{'Beauty': 931125}</td>\n",
       "      <td>[[Beauty, Makeup, Lips, Lipstick]]</td>\n",
       "      <td>NaN</td>\n",
       "      <td>NaN</td>\n",
       "      <td>NaN</td>\n",
       "    </tr>\n",
       "    <tr>\n",
       "      <th>4</th>\n",
       "      <td>0762451459</td>\n",
       "      <td>The mermaid is an elusive (okay, mythical) cre...</td>\n",
       "      <td>Stephanie Johnson Mermaid Round Snap Mirror</td>\n",
       "      <td>http://ecx.images-amazon.com/images/I/41y2%2BF...</td>\n",
       "      <td>NaN</td>\n",
       "      <td>[[Beauty, Tools &amp; Accessories, Mirrors, Makeup...</td>\n",
       "      <td>19.98</td>\n",
       "      <td>NaN</td>\n",
       "      <td>NaN</td>\n",
       "    </tr>\n",
       "  </tbody>\n",
       "</table>\n",
       "</div>"
      ],
      "text/plain": [
       "         asin                                        description  \\\n",
       "0  0205616461  As we age, our once youthful, healthy skin suc...   \n",
       "1  0558925278  Mineral Powder Brush--Apply powder or mineral ...   \n",
       "2  0733001998  From the Greek island of Chios, this Mastiha b...   \n",
       "3  0737104473  Limited edition Hello Kitty Lipstick featuring...   \n",
       "4  0762451459  The mermaid is an elusive (okay, mythical) cre...   \n",
       "\n",
       "                                               title  \\\n",
       "0  Bio-Active Anti-Aging Serum (Firming Ultra-Hyd...   \n",
       "1  Eco Friendly Ecotools Quality Natural Bamboo C...   \n",
       "2                                Mastiha Body Lotion   \n",
       "3  Hello Kitty Lustre Lipstick (See sellers comme...   \n",
       "4        Stephanie Johnson Mermaid Round Snap Mirror   \n",
       "\n",
       "                                               imUrl  \\\n",
       "0  http://ecx.images-amazon.com/images/I/41DecrGO...   \n",
       "1  http://ecx.images-amazon.com/images/I/51L%2BzY...   \n",
       "2  http://ecx.images-amazon.com/images/I/311WK5y1...   \n",
       "3  http://ecx.images-amazon.com/images/I/31u6Hrzk...   \n",
       "4  http://ecx.images-amazon.com/images/I/41y2%2BF...   \n",
       "\n",
       "                            salesRank  \\\n",
       "0  {'Health & Personal Care': 461765}   \n",
       "1                  {'Beauty': 402875}   \n",
       "2                  {'Beauty': 540255}   \n",
       "3                  {'Beauty': 931125}   \n",
       "4                                 NaN   \n",
       "\n",
       "                                          categories  price related brand  \n",
       "0  [[Beauty, Skin Care, Face, Creams & Moisturize...    NaN     NaN   NaN  \n",
       "1  [[Beauty, Tools & Accessories, Makeup Brushes ...    NaN     NaN   NaN  \n",
       "2  [[Beauty, Skin Care, Body, Moisturizers, Lotio...    NaN     NaN   NaN  \n",
       "3                 [[Beauty, Makeup, Lips, Lipstick]]    NaN     NaN   NaN  \n",
       "4  [[Beauty, Tools & Accessories, Mirrors, Makeup...  19.98     NaN   NaN  "
      ]
     },
     "execution_count": 81,
     "metadata": {},
     "output_type": "execute_result"
    }
   ],
   "source": [
    "rprint(df.shape)\n",
    "df.head()"
   ]
  },
  {
   "cell_type": "code",
   "execution_count": 78,
   "id": "1d3ac861",
   "metadata": {},
   "outputs": [
    {
     "data": {
      "text/plain": [
       "asin                0\n",
       "description     24707\n",
       "title             444\n",
       "imUrl              88\n",
       "salesRank        5188\n",
       "categories          0\n",
       "price           69274\n",
       "related         51350\n",
       "brand          131038\n",
       "dtype: int64"
      ]
     },
     "execution_count": 78,
     "metadata": {},
     "output_type": "execute_result"
    }
   ],
   "source": [
    "df.isnull().sum()"
   ]
  },
  {
   "cell_type": "code",
   "execution_count": 82,
   "id": "92805829",
   "metadata": {},
   "outputs": [
    {
     "data": {
      "text/plain": [
       "'http://ecx.images-amazon.com/images/I/41DecrGODDL._SY300_.jpg'"
      ]
     },
     "execution_count": 82,
     "metadata": {},
     "output_type": "execute_result"
    }
   ],
   "source": [
    "df[\"imUrl\"].iloc[0]"
   ]
  },
  {
   "cell_type": "code",
   "execution_count": null,
   "id": "9ffe43ce",
   "metadata": {},
   "outputs": [],
   "source": []
  },
  {
   "cell_type": "code",
   "execution_count": null,
   "id": "afa719bf",
   "metadata": {},
   "outputs": [],
   "source": []
  },
  {
   "cell_type": "markdown",
   "id": "40d6de92",
   "metadata": {},
   "source": [
    "### Processed Data Pipelines"
   ]
  },
  {
   "cell_type": "code",
   "execution_count": null,
   "id": "f43924c3",
   "metadata": {},
   "outputs": [],
   "source": [
    "import torch\n",
    "import sys\n",
    "sys.path.append(os.path.abspath(os.path.join(os.getcwd(), '..')))\n",
    "from data.processed import ItemData, RecDataset\n",
    "%load_ext autoreload\n",
    "%autoreload 2"
   ]
  },
  {
   "cell_type": "code",
   "execution_count": 2,
   "id": "1f8f63a4",
   "metadata": {},
   "outputs": [
    {
     "name": "stderr",
     "output_type": "stream",
     "text": [
      "/home/scur2745/.conda/envs/rq-vae/lib/python3.9/site-packages/torch_geometric/io/fs.py:229: UserWarning: Weights only load failed. Please file an issue to make `torch.load(weights_only=True)` compatible in your case. Please use `torch.serialization.add_safe_globals([_reconstruct])` to allowlist this global.\n",
      "  warnings.warn(f\"{warn_msg} Please use \"\n",
      "/home/scur2745/.conda/envs/rq-vae/lib/python3.9/site-packages/torch_geometric/data/in_memory_dataset.py:300: UserWarning: It is not recommended to directly access the internal storage format `data` of an 'InMemoryDataset'. If you are absolutely certain what you are doing, access the internal storage via `InMemoryDataset._data` instead to suppress this warning. Alternatively, you can access stacked individual attributes of every graph via `dataset.{attr_name}`.\n",
      "  warnings.warn(msg)\n",
      "/gpfs/home3/scur2745/RecSys/data/processed.py:124: UserWarning: To copy construct from a tensor, it is recommended to use sourceTensor.clone().detach() or sourceTensor.clone().detach().requires_grad_(True), rather than torch.tensor(sourceTensor).\n",
      "  [torch.tensor(l[-max_seq_len:]) for l in self.sequence_data[\"itemId\"]],\n"
     ]
    },
    {
     "name": "stdout",
     "output_type": "stream",
     "text": [
      "3\n",
      "3\n",
      "3\n"
     ]
    },
    {
     "data": {
      "text/plain": [
       "22363"
      ]
     },
     "execution_count": 2,
     "metadata": {},
     "output_type": "execute_result"
    }
   ],
   "source": [
    "sys.path.append(os.path.abspath(os.path.join(os.getcwd(), '..')))\n",
    "from data.processed import ItemData, RecDataset, SeqData\n",
    "\n",
    "train_dataset = SeqData(\n",
    "    root=\"/home/scur2745/RecSys/dataset/amazon\",\n",
    "    dataset=RecDataset.AMAZON,\n",
    "    is_train=False,\n",
    "    subsample=False,\n",
    "    split=\"beauty\",\n",
    ")\n",
    "len(train_dataset)"
   ]
  },
  {
   "cell_type": "code",
   "execution_count": null,
   "id": "d8e25ce6",
   "metadata": {},
   "outputs": [],
   "source": [
    "from data.processed import ItemData, RecDataset\n",
    "\n",
    "# load train dataset\n",
    "train_dataset = ItemData(\n",
    "    root=\"/home/scur2745/RecSys/dataset/amazon\",\n",
    "    dataset=RecDataset.AMAZON,\n",
    "    force_process=False,\n",
    "    train_test_split=\"test\",\n",
    "    split=\"beauty\",\n",
    ")"
   ]
  },
  {
   "cell_type": "code",
   "execution_count": 26,
   "id": "17214012",
   "metadata": {},
   "outputs": [
    {
     "data": {
      "text/plain": [
       "SeqBatch(user_ids=tensor(-1), ids=tensor([0]), ids_fut=tensor(-1), x=tensor([-2.0531e-03,  5.5936e-02,  4.6736e-02, -3.1006e-02, -9.1658e-03,\n",
       "        -7.9645e-02, -7.8050e-02,  8.5028e-02,  2.2035e-02, -1.8748e-02,\n",
       "         1.9890e-02,  2.4373e-02, -6.7752e-02, -1.0936e-01, -9.2943e-03,\n",
       "         2.1252e-02,  4.3363e-02, -1.9461e-02,  2.9900e-03, -8.7175e-05,\n",
       "        -1.3706e-02, -2.0147e-02, -8.3040e-03,  2.3467e-02, -1.4278e-02,\n",
       "        -5.8923e-02,  6.6702e-02,  2.9903e-02, -4.1056e-02, -4.8130e-02,\n",
       "         3.1035e-02, -4.9202e-02,  1.6379e-02, -2.2526e-02, -2.2642e-03,\n",
       "         2.9824e-02, -6.0305e-04, -5.4097e-02,  2.5860e-02, -5.5954e-02,\n",
       "        -2.6394e-02,  4.2049e-02,  6.1356e-02, -6.3023e-02,  6.1110e-02,\n",
       "         1.1420e-02,  3.6712e-05, -1.9804e-02,  1.6040e-02, -1.0195e-02,\n",
       "        -5.1779e-02, -2.3248e-02,  4.3240e-03, -1.6076e-02,  3.2320e-02,\n",
       "        -2.6335e-02, -2.4666e-02, -9.6030e-04, -9.6135e-03,  2.1064e-02,\n",
       "        -2.3914e-03,  2.8232e-02, -2.6620e-02,  5.4424e-03,  6.0573e-03,\n",
       "        -9.0768e-03,  7.8693e-02,  2.2612e-02,  3.0419e-03,  3.8964e-02,\n",
       "        -5.3647e-02,  1.5750e-02,  7.5077e-03, -2.0456e-02, -4.2166e-02,\n",
       "         5.1664e-02,  2.3954e-02,  4.1099e-02,  3.9168e-02, -1.5153e-02,\n",
       "        -9.9473e-02,  3.3350e-02, -5.7582e-02,  1.8063e-02, -8.8176e-03,\n",
       "         1.5400e-02, -4.0258e-02, -2.5816e-03,  2.5036e-02,  6.4704e-02,\n",
       "        -1.8097e-02, -5.0013e-02, -4.0627e-02, -1.5392e-02,  4.3223e-02,\n",
       "         1.5019e-02,  1.4026e-02, -3.8727e-02,  2.1743e-03, -3.7772e-02,\n",
       "        -4.0253e-02,  4.9754e-02, -3.0173e-02, -9.3040e-02,  1.9305e-02,\n",
       "        -1.7059e-02,  4.6981e-02,  2.8670e-02, -1.6567e-02,  6.6656e-02,\n",
       "         3.3714e-02,  3.9309e-03,  4.9487e-02, -1.6733e-02,  3.2390e-02,\n",
       "        -3.6863e-02,  6.7379e-03,  2.5329e-02, -4.8096e-02, -2.6995e-03,\n",
       "         4.6474e-02, -1.8932e-02,  1.5077e-03, -2.9639e-02,  1.3125e-03,\n",
       "        -4.0544e-03,  5.9136e-02, -2.8727e-03, -1.9753e-03, -5.5244e-02,\n",
       "         4.5670e-02,  3.4609e-03,  1.6027e-02, -1.0268e-02,  2.8910e-02,\n",
       "        -2.8323e-02,  4.3121e-02, -5.2698e-02, -1.6651e-02, -3.9435e-02,\n",
       "         1.9605e-02, -3.2961e-02, -8.4030e-04, -3.7098e-02, -1.6226e-02,\n",
       "        -2.2800e-03, -6.8550e-02, -2.7110e-02,  2.4155e-02,  1.0405e-02,\n",
       "        -2.7098e-02,  3.5901e-02,  7.5897e-03,  1.2326e-02,  1.0013e-03,\n",
       "         1.5953e-02, -3.4577e-02, -3.0115e-02,  9.2921e-03, -5.1356e-02,\n",
       "         4.0893e-02, -3.2766e-02, -6.3712e-02,  2.2303e-02, -6.3852e-02,\n",
       "         2.1554e-02, -2.4122e-02,  1.8073e-02, -3.7956e-02,  2.0253e-02,\n",
       "        -1.8429e-02, -4.4002e-02,  2.4494e-03, -3.2333e-02,  5.0701e-02,\n",
       "        -1.2714e-02, -5.5713e-02,  4.2681e-02,  5.3577e-02,  4.5655e-02,\n",
       "         1.4287e-02,  4.8346e-02,  3.0009e-02, -3.5433e-03, -3.9072e-02,\n",
       "         2.3104e-02,  3.7879e-03, -2.4293e-03,  1.1441e-02,  5.9105e-02,\n",
       "         1.7992e-02, -7.6487e-02, -2.5633e-03,  4.4711e-02,  2.5042e-02,\n",
       "        -7.7206e-03, -1.0834e-02,  4.3310e-02,  4.6140e-03,  2.5453e-02,\n",
       "         2.7676e-02, -1.3134e-02,  2.9173e-02,  2.4423e-02, -2.2619e-02,\n",
       "         4.9131e-03,  6.4223e-03,  3.1718e-02,  4.0841e-03,  1.6066e-02,\n",
       "        -1.1787e-02,  3.9391e-02,  8.6908e-03,  7.3426e-02,  1.1237e-02,\n",
       "         2.1285e-02,  2.7980e-02, -3.3563e-02, -8.3034e-03,  1.1847e-02,\n",
       "        -5.3114e-02,  1.2964e-04,  7.6792e-03,  2.1620e-02,  2.6541e-02,\n",
       "        -3.9011e-02, -8.3571e-02, -4.2959e-02,  1.8587e-02, -3.4157e-02,\n",
       "        -3.4726e-02, -4.2221e-02,  6.9112e-02,  5.8414e-03, -5.5211e-04,\n",
       "         5.3606e-03,  1.5435e-02, -5.8368e-02, -5.9728e-02, -4.2075e-02,\n",
       "         3.1975e-02, -2.5823e-02, -3.8655e-02, -3.0261e-02,  5.5918e-02,\n",
       "         2.3453e-02, -3.8521e-02,  4.5142e-03,  1.0677e-02, -4.9524e-02,\n",
       "        -2.3392e-02, -3.7215e-02,  4.3903e-02,  3.6427e-02, -4.3782e-02,\n",
       "         9.4769e-03, -3.6878e-02,  2.8005e-02, -3.2230e-02,  1.4821e-02,\n",
       "        -2.8112e-02, -4.1166e-02, -4.0399e-02, -2.9411e-02,  4.9369e-03,\n",
       "        -1.3831e-02,  1.5596e-02, -4.9655e-02,  3.2369e-02, -1.4381e-02,\n",
       "        -4.0025e-02,  2.5549e-02,  2.9571e-02, -5.7702e-02,  4.0610e-02,\n",
       "         1.8926e-02,  5.8274e-02, -4.2136e-02, -3.0364e-02,  8.6332e-04,\n",
       "        -2.6495e-02, -5.2932e-02, -6.3864e-02,  4.5501e-03, -8.6560e-03,\n",
       "         2.6968e-02,  2.7713e-02,  2.1534e-03,  1.4225e-02, -1.1191e-01,\n",
       "         4.5367e-03,  7.3556e-02, -4.9402e-02,  1.7024e-02, -3.2336e-02,\n",
       "         1.1675e-03,  5.1037e-02,  3.9752e-02,  6.7565e-02, -2.9089e-02,\n",
       "        -2.5678e-02,  4.6233e-02,  3.1984e-02, -8.3663e-02, -3.8206e-02,\n",
       "        -1.4618e-02, -3.2178e-02,  1.5638e-02, -5.0289e-02, -1.3870e-02,\n",
       "         1.9512e-02, -1.2185e-02,  1.1179e-02,  3.3978e-02, -5.0649e-02,\n",
       "        -3.1377e-02,  6.5242e-02,  2.5287e-02,  1.4580e-02, -2.0048e-03,\n",
       "         6.6102e-02,  5.8535e-03,  1.6837e-02, -2.0259e-02,  1.3489e-02,\n",
       "         1.5949e-02,  1.2635e-02,  6.0542e-02,  3.1440e-02, -4.6480e-02,\n",
       "         2.6140e-02,  2.6230e-02, -9.2166e-03,  5.6748e-03,  6.1162e-02,\n",
       "         6.4578e-02, -4.9038e-02, -1.6070e-02,  4.9093e-02,  4.5680e-02,\n",
       "        -6.2283e-02,  2.1215e-02, -3.5968e-02, -8.5284e-04,  4.2282e-04,\n",
       "        -1.4385e-02,  2.0140e-02,  3.8279e-02, -1.9823e-02, -5.4996e-02,\n",
       "         7.8140e-03,  2.2843e-02,  8.6488e-03,  3.7143e-02,  1.9869e-02,\n",
       "         2.3647e-02, -8.4102e-03, -3.1208e-02,  9.5752e-03, -5.3597e-03,\n",
       "         3.1174e-02,  7.0681e-02,  1.2552e-02, -2.0556e-02,  4.5602e-02,\n",
       "         1.7264e-02,  1.6824e-03, -1.1184e-01,  4.5512e-02,  7.1390e-02,\n",
       "         3.7262e-02,  4.2747e-04, -2.7739e-02, -1.0182e-02, -4.1847e-02,\n",
       "        -1.1705e-02, -9.0412e-02, -3.2607e-03,  5.2617e-03, -3.5910e-02,\n",
       "         6.7808e-03,  3.1170e-02,  1.3647e-02,  6.4252e-02,  4.2952e-02,\n",
       "         3.5071e-03,  2.7074e-02, -5.1464e-03, -8.9367e-03,  1.8860e-02,\n",
       "        -2.7253e-02,  1.4197e-02,  2.6314e-02, -1.1224e-03,  1.3710e-02,\n",
       "         4.0494e-03, -1.6166e-02, -2.2857e-02, -8.1134e-02,  4.5442e-02,\n",
       "         3.9508e-02, -3.9908e-02, -8.9198e-03,  4.4229e-02,  1.6665e-02,\n",
       "         3.1935e-02, -5.1294e-03,  4.6212e-02,  3.9472e-03, -6.5183e-03,\n",
       "        -6.7264e-03, -3.2015e-02, -2.4659e-02, -6.0409e-03,  1.4024e-02,\n",
       "         4.3965e-03,  2.9022e-02, -1.0348e-03,  1.9337e-02,  2.2232e-02,\n",
       "        -1.4430e-02,  1.2082e-02,  5.2604e-02,  5.1769e-02, -7.6127e-03,\n",
       "        -5.5314e-03, -2.3575e-02, -2.7876e-03, -7.6174e-02,  5.6363e-02,\n",
       "         1.3810e-02,  2.3855e-02,  2.1362e-02,  1.7559e-02, -1.0871e-04,\n",
       "         4.3095e-02, -6.2591e-02,  4.2645e-02, -5.2062e-02,  1.1221e-01,\n",
       "         2.9530e-02, -4.0933e-02,  4.6078e-02,  8.6653e-02, -2.5601e-02,\n",
       "         6.2686e-02,  2.3359e-02, -3.4503e-02,  4.3671e-02,  3.9386e-02,\n",
       "         4.2189e-03,  4.7081e-02, -1.4788e-02,  5.0907e-02, -5.7624e-03,\n",
       "         7.3192e-02, -2.0816e-02, -1.7421e-02, -4.1947e-02,  9.6737e-03,\n",
       "        -9.7400e-03, -2.4688e-02, -4.9567e-02, -1.7202e-02, -3.7958e-02,\n",
       "        -4.5064e-03,  2.2411e-02,  3.6806e-02, -1.7011e-02,  2.6222e-02,\n",
       "         3.1026e-02,  5.3034e-03, -6.6775e-03,  2.7557e-02, -6.4301e-02,\n",
       "        -1.8006e-02, -1.1124e-02, -1.1081e-02, -1.2185e-02, -1.5444e-02,\n",
       "         3.7032e-02,  2.0427e-02, -1.4800e-02, -7.1572e-03,  4.7597e-02,\n",
       "         6.5985e-02, -5.9582e-02, -1.5055e-02,  2.9065e-02, -3.0602e-02,\n",
       "        -9.4641e-03, -2.6400e-02, -1.2486e-02, -3.5840e-02,  3.6710e-02,\n",
       "        -4.1058e-02, -3.0755e-02, -4.2320e-02,  3.3289e-02, -2.5288e-02,\n",
       "        -6.5380e-02,  2.3871e-02, -8.7442e-03,  4.1147e-02,  2.9808e-03,\n",
       "         2.2254e-02, -2.5782e-02, -1.8073e-02,  4.6615e-02,  8.2690e-02,\n",
       "         5.0718e-02, -3.8040e-02, -4.1181e-02,  3.4482e-02, -4.8466e-02,\n",
       "        -4.0793e-02,  5.2333e-02,  1.6157e-02, -8.7541e-03, -5.5111e-02,\n",
       "        -2.5784e-02, -1.1763e-02,  1.9281e-02, -2.6079e-02, -2.7902e-02,\n",
       "         1.2252e-03,  3.7647e-03, -3.1363e-02, -2.1943e-02, -8.9102e-03,\n",
       "        -9.8977e-04,  8.6539e-03, -1.6306e-02, -6.5798e-03,  2.6671e-02,\n",
       "        -4.0883e-02,  2.6420e-02,  3.4156e-02, -4.3556e-02, -4.8491e-02,\n",
       "        -4.9155e-02,  1.8225e-02, -5.2787e-02,  3.0381e-03, -5.1812e-02,\n",
       "         5.5405e-03,  1.2586e-02,  3.3908e-02, -6.6816e-03,  9.0323e-03,\n",
       "         5.0918e-02, -2.4194e-02, -1.0114e-01,  2.2360e-02, -1.1297e-02,\n",
       "        -1.8681e-03,  4.6270e-02,  7.0543e-03,  2.4240e-02,  4.0054e-02,\n",
       "        -3.8861e-02, -7.7918e-03, -5.5170e-02,  6.6202e-02, -4.5526e-02,\n",
       "        -1.4470e-02,  9.9226e-02, -2.8350e-02, -2.2808e-02,  1.2602e-02,\n",
       "        -6.6115e-03,  3.3371e-02, -1.2682e-02, -6.5195e-03,  3.6359e-03,\n",
       "         6.8239e-02,  3.7015e-02,  3.7220e-03,  7.0840e-02, -9.3638e-03,\n",
       "         2.8917e-02, -1.8028e-02, -1.2812e-02, -3.3409e-02,  7.9670e-03,\n",
       "         9.4551e-03,  2.4127e-02,  1.5916e-02, -3.9084e-02, -3.6214e-02,\n",
       "         1.7169e-02,  2.5116e-02,  3.2554e-02,  4.6325e-02,  1.1479e-02,\n",
       "         7.5660e-02,  7.6205e-02, -4.2285e-02, -1.6043e-02, -2.8085e-02,\n",
       "        -3.4140e-02,  6.6131e-04, -7.6779e-02,  1.1335e-02,  3.3518e-02,\n",
       "        -1.0372e-02,  2.3126e-02, -1.4137e-02,  4.2576e-02, -3.7078e-03,\n",
       "        -2.6682e-03,  1.7673e-02,  3.4709e-02, -1.4595e-02,  1.0102e-02,\n",
       "        -3.2894e-02, -3.4342e-02,  4.1609e-02,  5.0326e-03,  1.1019e-02,\n",
       "        -2.8277e-02,  1.1962e-02, -6.7811e-02,  1.7156e-02,  7.4391e-02,\n",
       "         2.7010e-02,  7.7657e-03, -1.4918e-03, -2.5789e-02,  1.9430e-02,\n",
       "        -1.0009e-02, -3.5506e-02,  1.7719e-03, -3.5052e-02, -3.5082e-02,\n",
       "         1.0844e-03,  4.7763e-03,  3.8012e-02,  2.8436e-02, -6.7455e-03,\n",
       "         1.8249e-02,  3.3326e-02, -3.2737e-02,  5.0948e-02, -1.8479e-02,\n",
       "        -2.9094e-02,  1.2639e-02, -1.0895e-02, -4.9790e-04,  4.7296e-02,\n",
       "        -3.3434e-02, -4.5243e-02, -3.4649e-02, -3.7112e-02, -5.1307e-03,\n",
       "        -1.3052e-02,  4.6803e-02,  3.2471e-02, -2.5560e-02, -4.5856e-02,\n",
       "        -1.0617e-01,  2.9518e-02, -5.2753e-02, -5.2060e-02,  6.5312e-03,\n",
       "        -2.1829e-02, -3.5145e-02,  4.4864e-03,  8.1217e-02,  2.5349e-02,\n",
       "        -3.0416e-02, -2.3014e-02, -3.3269e-02, -1.7165e-02, -8.4173e-03,\n",
       "        -1.1299e-02, -6.9813e-04, -3.1781e-02, -3.9444e-02, -2.1967e-02,\n",
       "        -2.2994e-02,  8.6434e-03,  2.9100e-02,  3.3250e-02, -1.3996e-02,\n",
       "         2.2435e-03,  1.6538e-02,  2.5900e-02, -6.2096e-02,  7.4490e-02,\n",
       "        -8.9241e-03, -3.7882e-02,  7.0804e-02, -7.2097e-03,  2.9587e-02,\n",
       "        -4.6149e-02,  2.0493e-02,  6.2933e-02, -6.5153e-02, -4.2880e-02,\n",
       "        -2.1607e-02,  3.1167e-02,  4.4067e-03, -7.9005e-02,  1.3728e-02,\n",
       "         4.3316e-03, -3.4451e-02, -9.6591e-03,  2.3576e-02,  1.8993e-02,\n",
       "        -1.4959e-02, -3.8365e-02, -3.2953e-02, -3.6783e-02, -9.4416e-04,\n",
       "         7.0239e-03, -3.2125e-02,  1.7208e-02,  3.7035e-02,  2.9840e-03,\n",
       "        -1.3414e-02,  3.2387e-02, -3.5607e-02,  6.1663e-02, -2.9305e-02,\n",
       "         2.3725e-02, -5.6823e-03, -4.1112e-02, -4.1437e-03, -5.8761e-03,\n",
       "         8.2675e-02,  1.4517e-02,  8.1950e-05,  7.7950e-02, -3.8826e-02,\n",
       "        -3.0153e-02,  1.9185e-02,  5.9657e-02,  1.8577e-02,  7.9586e-02,\n",
       "         1.1914e-02,  3.4388e-02,  4.2922e-02,  3.6327e-03,  2.1025e-02,\n",
       "        -3.5551e-02, -8.3446e-03,  2.9487e-02, -4.0696e-02, -5.2102e-02,\n",
       "        -1.6670e-02,  1.4316e-02, -1.5710e-02,  2.5830e-03,  5.6163e-02,\n",
       "        -2.6662e-02, -6.4714e-02,  1.2395e-02,  5.7566e-03, -4.4704e-02,\n",
       "         1.8214e-02, -2.7349e-02,  3.9107e-03,  2.4077e-02, -3.5594e-02,\n",
       "        -2.6635e-02, -2.1200e-02,  5.9909e-02]), x_fut_brand_id=tensor(-1), x_fut=tensor(-1), x_brand_id=tensor([]), seq_mask=tensor([True]))"
      ]
     },
     "execution_count": 26,
     "metadata": {},
     "output_type": "execute_result"
    }
   ],
   "source": [
    "train_dataset[0]"
   ]
  },
  {
   "cell_type": "code",
   "execution_count": null,
   "id": "74a747f2",
   "metadata": {},
   "outputs": [],
   "source": [
    "dataset = ItemData(\n",
    "    \"dataset/amazon\", dataset=RecDataset.AMAZON, split=\"beauty\", force_process=True\n",
    ")\n",
    "dataset[0]\n",
    "train_dataset = SeqData(\n",
    "    root=\"dataset/amazon\",\n",
    "    dataset=RecDataset.AMAZON,\n",
    "    is_train=True,\n",
    "    subsample=True,\n",
    "    split=\"beauty\",\n",
    ")\n",
    "print(\"train_dataset\", train_dataset[0])\n",
    "eval_dataset = SeqData(\n",
    "    root=\"dataset/amazon\",\n",
    "    dataset=RecDataset.AMAZON,\n",
    "    is_train=False,\n",
    "    subsample=False,\n",
    "    split=\"beauty\",\n",
    "    get_brand_id=True,\n",
    ")\n",
    "print(\"eval_dataset\", eval_dataset[0])"
   ]
  },
  {
   "cell_type": "code",
   "execution_count": null,
   "id": "7d98edd6",
   "metadata": {},
   "outputs": [],
   "source": []
  },
  {
   "cell_type": "code",
   "execution_count": 4,
   "id": "9a393365",
   "metadata": {},
   "outputs": [
    {
     "data": {
      "text/plain": [
       "'False'"
      ]
     },
     "execution_count": 4,
     "metadata": {},
     "output_type": "execute_result"
    }
   ],
   "source": [
    "pre_filter = torch.load(\"/home/scur2745/RecSys/dataset/amazon/processed/pre_filter.pt\")\n",
    "pre_filter"
   ]
  },
  {
   "cell_type": "code",
   "execution_count": 5,
   "metadata": {},
   "outputs": [
    {
     "data": {
      "text/plain": [
       "'None'"
      ]
     },
     "execution_count": 5,
     "metadata": {},
     "output_type": "execute_result"
    }
   ],
   "source": [
    "pre_transform = torch.load(\"/home/scur2745/RecSys/dataset/amazon/processed/pre_transform.pt\")\n",
    "pre_transform"
   ]
  },
  {
   "cell_type": "code",
   "execution_count": null,
   "id": "bb63fb38",
   "metadata": {},
   "outputs": [],
   "source": []
  }
 ],
 "metadata": {
  "kernelspec": {
   "display_name": "Python 3",
   "language": "python",
   "name": "python3"
  },
  "language_info": {
   "codemirror_mode": {
    "name": "ipython",
    "version": 3
   },
   "file_extension": ".py",
   "mimetype": "text/x-python",
   "name": "python",
   "nbconvert_exporter": "python",
   "pygments_lexer": "ipython3",
   "version": "3.9.21"
  }
 },
 "nbformat": 4,
 "nbformat_minor": 5
}
