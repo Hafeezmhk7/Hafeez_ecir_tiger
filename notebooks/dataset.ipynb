{
 "cells": [
  {
   "cell_type": "markdown",
   "id": "a6a79766",
   "metadata": {},
   "source": [
    "### Notebook to understand Datasets"
   ]
  },
  {
   "cell_type": "code",
   "execution_count": 1,
   "id": "996ee88b",
   "metadata": {},
   "outputs": [],
   "source": [
    "import pickle\n",
    "import numpy as np\n",
    "import pandas as pd"
   ]
  },
  {
   "cell_type": "code",
   "execution_count": 2,
   "id": "d15470db",
   "metadata": {},
   "outputs": [],
   "source": [
    "import pickle\n",
    "\n",
    "with open(\"/home/scur2745/RecSys/dataset/amazon/raw/beauty/exp_splits.pkl\", \"rb\") as f:\n",
    "    exp_splits = pickle.load(f)"
   ]
  },
  {
   "cell_type": "code",
   "execution_count": 5,
   "id": "a3bdf8a2",
   "metadata": {},
   "outputs": [
    {
     "data": {
      "text/plain": [
       "dict_keys(['train', 'val', 'test'])"
      ]
     },
     "execution_count": 5,
     "metadata": {},
     "output_type": "execute_result"
    }
   ],
   "source": [
    "exp_splits.keys()"
   ]
  },
  {
   "cell_type": "code",
   "execution_count": 3,
   "id": "416b1af7",
   "metadata": {},
   "outputs": [
    {
     "data": {
      "text/plain": [
       "{'reviewerID': 'A2QKXW3LDQ66P5',\n",
       " 'asin': 'B005X2F7KI',\n",
       " 'reviewerName': 'stephanie',\n",
       " 'helpful': [5, 6],\n",
       " 'reviewText': 'Absolutely great product.  I bought this for my fourteen year old niece for Christmas and of course I had to try it out, then I tried another one, and another one and another one.  So much fun!  I even contemplated keeping a few for myself!',\n",
       " 'overall': 5.0,\n",
       " 'summary': 'Perfect!',\n",
       " 'unixReviewTime': 1352937600,\n",
       " 'reviewTime': '11 15, 2012',\n",
       " 'explanation': 'Absolutely great product',\n",
       " 'feature': 'product'}"
      ]
     },
     "execution_count": 3,
     "metadata": {},
     "output_type": "execute_result"
    }
   ],
   "source": [
    "exp_splits[\"test\"][0]"
   ]
  },
  {
   "cell_type": "code",
   "execution_count": 4,
   "id": "172ba7a5",
   "metadata": {},
   "outputs": [
    {
     "data": {
      "text/plain": [
       "{'reviewerID': 'A1CQWEPJ2GH1I6',\n",
       " 'asin': 'B00478VG9U',\n",
       " 'reviewerName': 'Kathy \"Kathy\"',\n",
       " 'helpful': [1, 2],\n",
       " 'reviewText': \"But as I've always said, wen products are way overpriced and they can't get a 5 star rating from me until the price is more reasonable. Just because you can gouge, doesn't mean you should. Sorry wen, but it's just too much. Besides that, it's the best thing going for hair right now in my opinion. lol! If money is no object, you must use this every single time you 'wash' your hair. My hair is usually really dry, but I'm positive it will work on oily hair as well. I don't like ANY of the scents, and it kind of 'burns' or 'tingles' too much the first time you use it. But it's a magic potion. No lie.\",\n",
       " 'overall': 4.0,\n",
       " 'summary': 'yes I love this stuff',\n",
       " 'unixReviewTime': 1366329600,\n",
       " 'reviewTime': '04 19, 2013',\n",
       " 'explanation': 'My hair is usually really dry',\n",
       " 'feature': 'hair'}"
      ]
     },
     "execution_count": 4,
     "metadata": {},
     "output_type": "execute_result"
    }
   ],
   "source": [
    "exp_splits[\"val\"][0]"
   ]
  },
  {
   "cell_type": "code",
   "execution_count": null,
   "id": "f43924c3",
   "metadata": {},
   "outputs": [],
   "source": []
  }
 ],
 "metadata": {
  "kernelspec": {
   "display_name": "Python 3",
   "language": "python",
   "name": "python3"
  },
  "language_info": {
   "codemirror_mode": {
    "name": "ipython",
    "version": 3
   },
   "file_extension": ".py",
   "mimetype": "text/x-python",
   "name": "python",
   "nbconvert_exporter": "python",
   "pygments_lexer": "ipython3",
   "version": "3.9.21"
  }
 },
 "nbformat": 4,
 "nbformat_minor": 5
}
