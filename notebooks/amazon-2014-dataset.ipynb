{
 "cells": [
  {
   "cell_type": "markdown",
   "id": "a6a79766",
   "metadata": {},
   "source": [
    "### Notebook to understand Datasets"
   ]
  },
  {
   "cell_type": "code",
   "execution_count": 1,
   "id": "996ee88b",
   "metadata": {},
   "outputs": [],
   "source": [
    "# imports\n",
    "import os\n",
    "import pickle\n",
    "import numpy as np\n",
    "import pandas as pd\n",
    "import glob\n",
    "import json\n",
    "from rich import print as rprint\n",
    "from rich.table import Table\n",
    "from rich.console import Console\n",
    "import gzip"
   ]
  },
  {
   "cell_type": "markdown",
   "id": "f96e0e4b",
   "metadata": {},
   "source": [
    "### Global Functions"
   ]
  },
  {
   "cell_type": "code",
   "execution_count": 2,
   "id": "4fe083b1",
   "metadata": {},
   "outputs": [],
   "source": [
    "def display_pickle_summary(data, title=\"Pickle File Contents\"):\n",
    "    \"\"\"\n",
    "    Load and summarize the contents of a pickle file using rich.\n",
    "\n",
    "    :param data: .pkl data\n",
    "    :param title: Optional title for the printed table.\n",
    "    \"\"\"\n",
    "    table = Table(title=title)\n",
    "    \n",
    "    table.add_column(\"Key/Type\", style=\"cyan\", no_wrap=True)\n",
    "    table.add_column(\"Description\", style=\"magenta\")\n",
    "\n",
    "    total_size = 0\n",
    "    if isinstance(data, dict):\n",
    "        for key, value in data.items():\n",
    "            desc = f\"{type(value).__name__}, len={len(value)}\" if hasattr(value, '__len__') else type(value).__name__\n",
    "            table.add_row(str(key), desc)\n",
    "            if key in [\"train\", \"test\", \"val\"]:\n",
    "                total_size += len(value)\n",
    "            else:\n",
    "                total_size = \"N/A\"\n",
    "    else:\n",
    "        table.add_row(type(data).__name__, f\"{data}\" if isinstance(data, (int, float, str)) else str(type(data)))\n",
    "\n",
    "    table.add_row(\"Total Size\", str(total_size))\n",
    "    console = Console()\n",
    "    console.print(table)\n",
    "    \n",
    "    if \"train\" in data or \"test\" in data or \"val\" in data:\n",
    "        rprint(\"Train Sample:\")\n",
    "        rprint(data['train'][0])\n",
    "        rprint(\"Val Sample:\")\n",
    "        rprint(data['val'][0])\n",
    "        rprint(\"Test Sample:\")\n",
    "        print(data['test'][0])\n",
    "        \n",
    "        \n",
    "def df_stats(df: pd.DataFrame, title=\"DataFrame Stats\"):\n",
    "    table = Table(title=title)\n",
    "    rprint(f\"DataFrame shape: {df.shape}\")\n",
    "    table.add_column(\"Column\", style=\"cyan\", no_wrap=True)\n",
    "    table.add_column(\"Non-Null Count\", style=\"yellow\")\n",
    "    table.add_column(\"Unique Count\", style=\"magenta\")\n",
    "    table.add_column(\"Null/NA Count\", style=\"red\")\n",
    "    table.add_column(\"Data Type\", style=\"green\")\n",
    "\n",
    "    for col in df.columns:\n",
    "        try:\n",
    "            non_null_count = df[col].notna().sum()\n",
    "        except:\n",
    "            non_null_count = \"Error\"\n",
    "        try:\n",
    "            unique_count = df[col].nunique(dropna=True)\n",
    "        except:\n",
    "            unique_count = \"Error\"\n",
    "        try:\n",
    "            null_count = df[col].isna().sum()\n",
    "        except:\n",
    "            null_count = \"Error\"\n",
    "        try:\n",
    "            dtype = str(df[col].dtype)\n",
    "        except:\n",
    "            dtype = \"Error\"\n",
    "        table.add_row(col, str(non_null_count), str(unique_count), str(null_count), dtype)\n",
    "\n",
    "    Console().print(table)"
   ]
  },
  {
   "cell_type": "markdown",
   "id": "fc5423b0",
   "metadata": {},
   "source": [
    "### Amazon Dataset (2014)"
   ]
  },
  {
   "cell_type": "markdown",
   "id": "30f08688",
   "metadata": {},
   "source": [
    "\"Small\" subsets for experimentation\n",
    "If you're using this data for a class project (or similar) please consider using one of these smaller datasets below before requesting the larger files. To obtain the larger files you will need to contact me to obtain access.\n",
    "\n",
    "K-cores (i.e., dense subsets): These data have been reduced to extract the k-core, such that each of the remaining users and items have k reviews each.\n",
    "\n",
    "where:\n",
    "\n",
    "- `reviewerID` - ID of the reviewer, e.g. A2SUAM1J3GNN3B\n",
    "- `asin` - ID of the product, e.g. 0000013714\n",
    "- `reviewerName` - name of the reviewer\n",
    "- `helpful` - helpfulness rating of the review, e.g. 2/3\n",
    "- `reviewText` - text of the review\n",
    "- `overall` - rating of the product\n",
    "- `summary` - summary of the review\n",
    "- `unixReviewTime` - time of the review (unix time)\n",
    "- `reviewTime` - time of the review (raw)"
   ]
  },
  {
   "cell_type": "markdown",
   "id": "e1a51665",
   "metadata": {},
   "source": [
    "**Metadata includes descriptions, price, sales-rank, brand info, and co-purchasing links:**\n",
    "\n",
    "metadata (3.1gb) - metadata for 9.4 million products\n",
    "\n",
    "where\n",
    "\n",
    "- `asin` - ID of the product, e.g. 0000031852\n",
    "- `title` - name of the product\n",
    "- `price` - price in US dollars (at time of crawl)\n",
    "- `imUrl` - url of the product image\n",
    "- `related` - related products (also bought, also viewed, bought together, buy after viewing)\n",
    "- `salesRank` - sales rank information\n",
    "- `brand` - brand name\n",
    "- `categories` - list of categories the product belongs to"
   ]
  },
  {
   "cell_type": "code",
   "execution_count": 3,
   "id": "5f748d7a",
   "metadata": {},
   "outputs": [],
   "source": [
    "# global vars\n",
    "DATASET_DIR = \"../dataset/amazon/raw\"\n",
    "DATASET_SPLIT = \"beauty\""
   ]
  },
  {
   "cell_type": "code",
   "execution_count": 4,
   "id": "5c75dbcb",
   "metadata": {},
   "outputs": [
    {
     "name": "stdout",
     "output_type": "stream",
     "text": [
      "Found 5 files in `beauty`\n"
     ]
    },
    {
     "data": {
      "text/plain": [
       "['../dataset/amazon/raw/beauty/review_splits.pkl',\n",
       " '../dataset/amazon/raw/beauty/exp_splits.pkl',\n",
       " '../dataset/amazon/raw/beauty/rating_splits_augmented.pkl',\n",
       " '../dataset/amazon/raw/beauty/zeroshot_exp_splits.pkl',\n",
       " '../dataset/amazon/raw/beauty/user_id2name.pkl']"
      ]
     },
     "execution_count": 4,
     "metadata": {},
     "output_type": "execute_result"
    }
   ],
   "source": [
    "# total files\n",
    "files = glob.glob(f\"{DATASET_DIR}/{DATASET_SPLIT}/*.pkl\")\n",
    "print(f\"Found {len(files)} files in `{DATASET_SPLIT}`\")\n",
    "files"
   ]
  },
  {
   "cell_type": "markdown",
   "id": "b76ddc7b",
   "metadata": {},
   "source": [
    "### Raw Dataset"
   ]
  },
  {
   "cell_type": "markdown",
   "id": "086ce5b3",
   "metadata": {},
   "source": [
    "#### Review Splits"
   ]
  },
  {
   "cell_type": "code",
   "execution_count": 6,
   "id": "d15470db",
   "metadata": {},
   "outputs": [
    {
     "data": {
      "text/html": [
       "<pre style=\"white-space:pre;overflow-x:auto;line-height:normal;font-family:Menlo,'DejaVu Sans Mono',consolas,'Courier New',monospace\"><span style=\"font-style: italic\">       Review Splits Summary        </span>\n",
       "┏━━━━━━━━━━━━━━━┳━━━━━━━━━━━━━━━━━━┓\n",
       "┃<span style=\"font-weight: bold\"> Key/Type      </span>┃<span style=\"font-weight: bold\"> Description      </span>┃\n",
       "┡━━━━━━━━━━━━━━━╇━━━━━━━━━━━━━━━━━━┩\n",
       "│<span style=\"color: #008080; text-decoration-color: #008080\"> train         </span>│<span style=\"color: #800080; text-decoration-color: #800080\"> list, len=158802 </span>│\n",
       "│<span style=\"color: #008080; text-decoration-color: #008080\"> val           </span>│<span style=\"color: #800080; text-decoration-color: #800080\"> list, len=19850  </span>│\n",
       "│<span style=\"color: #008080; text-decoration-color: #008080\"> test          </span>│<span style=\"color: #800080; text-decoration-color: #800080\"> list, len=19850  </span>│\n",
       "│<span style=\"color: #008080; text-decoration-color: #008080\"> train_indices </span>│<span style=\"color: #800080; text-decoration-color: #800080\"> list, len=158802 </span>│\n",
       "│<span style=\"color: #008080; text-decoration-color: #008080\"> val_indices   </span>│<span style=\"color: #800080; text-decoration-color: #800080\"> list, len=19850  </span>│\n",
       "│<span style=\"color: #008080; text-decoration-color: #008080\"> test_indices  </span>│<span style=\"color: #800080; text-decoration-color: #800080\"> list, len=19850  </span>│\n",
       "│<span style=\"color: #008080; text-decoration-color: #008080\"> Total Size    </span>│<span style=\"color: #800080; text-decoration-color: #800080\"> N/A              </span>│\n",
       "└───────────────┴──────────────────┘\n",
       "</pre>\n"
      ],
      "text/plain": [
       "\u001b[3m       Review Splits Summary        \u001b[0m\n",
       "┏━━━━━━━━━━━━━━━┳━━━━━━━━━━━━━━━━━━┓\n",
       "┃\u001b[1m \u001b[0m\u001b[1mKey/Type     \u001b[0m\u001b[1m \u001b[0m┃\u001b[1m \u001b[0m\u001b[1mDescription     \u001b[0m\u001b[1m \u001b[0m┃\n",
       "┡━━━━━━━━━━━━━━━╇━━━━━━━━━━━━━━━━━━┩\n",
       "│\u001b[36m \u001b[0m\u001b[36mtrain        \u001b[0m\u001b[36m \u001b[0m│\u001b[35m \u001b[0m\u001b[35mlist, len=158802\u001b[0m\u001b[35m \u001b[0m│\n",
       "│\u001b[36m \u001b[0m\u001b[36mval          \u001b[0m\u001b[36m \u001b[0m│\u001b[35m \u001b[0m\u001b[35mlist, len=19850 \u001b[0m\u001b[35m \u001b[0m│\n",
       "│\u001b[36m \u001b[0m\u001b[36mtest         \u001b[0m\u001b[36m \u001b[0m│\u001b[35m \u001b[0m\u001b[35mlist, len=19850 \u001b[0m\u001b[35m \u001b[0m│\n",
       "│\u001b[36m \u001b[0m\u001b[36mtrain_indices\u001b[0m\u001b[36m \u001b[0m│\u001b[35m \u001b[0m\u001b[35mlist, len=158802\u001b[0m\u001b[35m \u001b[0m│\n",
       "│\u001b[36m \u001b[0m\u001b[36mval_indices  \u001b[0m\u001b[36m \u001b[0m│\u001b[35m \u001b[0m\u001b[35mlist, len=19850 \u001b[0m\u001b[35m \u001b[0m│\n",
       "│\u001b[36m \u001b[0m\u001b[36mtest_indices \u001b[0m\u001b[36m \u001b[0m│\u001b[35m \u001b[0m\u001b[35mlist, len=19850 \u001b[0m\u001b[35m \u001b[0m│\n",
       "│\u001b[36m \u001b[0m\u001b[36mTotal Size   \u001b[0m\u001b[36m \u001b[0m│\u001b[35m \u001b[0m\u001b[35mN/A             \u001b[0m\u001b[35m \u001b[0m│\n",
       "└───────────────┴──────────────────┘\n"
      ]
     },
     "metadata": {},
     "output_type": "display_data"
    },
    {
     "data": {
      "text/html": [
       "<pre style=\"white-space:pre;overflow-x:auto;line-height:normal;font-family:Menlo,'DejaVu Sans Mono',consolas,'Courier New',monospace\">Train Sample:\n",
       "</pre>\n"
      ],
      "text/plain": [
       "Train Sample:\n"
      ]
     },
     "metadata": {},
     "output_type": "display_data"
    },
    {
     "data": {
      "text/html": [
       "<pre style=\"white-space:pre;overflow-x:auto;line-height:normal;font-family:Menlo,'DejaVu Sans Mono',consolas,'Courier New',monospace\"><span style=\"font-weight: bold\">{</span>\n",
       "    <span style=\"color: #008000; text-decoration-color: #008000\">'reviewerID'</span>: <span style=\"color: #008000; text-decoration-color: #008000\">'A1YJEY40YUW4SE'</span>,\n",
       "    <span style=\"color: #008000; text-decoration-color: #008000\">'asin'</span>: <span style=\"color: #008000; text-decoration-color: #008000\">'7806397051'</span>,\n",
       "    <span style=\"color: #008000; text-decoration-color: #008000\">'reviewerName'</span>: <span style=\"color: #008000; text-decoration-color: #008000\">'Andrea'</span>,\n",
       "    <span style=\"color: #008000; text-decoration-color: #008000\">'helpful'</span>: <span style=\"font-weight: bold\">[</span><span style=\"color: #008080; text-decoration-color: #008080; font-weight: bold\">3</span>, <span style=\"color: #008080; text-decoration-color: #008080; font-weight: bold\">4</span><span style=\"font-weight: bold\">]</span>,\n",
       "    <span style=\"color: #008000; text-decoration-color: #008000\">'reviewText'</span>: <span style=\"color: #008000; text-decoration-color: #008000\">'Very oily and creamy. Not at all what I expected... ordered this to try to highlight and contour</span>\n",
       "<span style=\"color: #008000; text-decoration-color: #008000\">and it just looked awful!!! Plus, took FOREVER to arrive.'</span>,\n",
       "    <span style=\"color: #008000; text-decoration-color: #008000\">'overall'</span>: <span style=\"color: #008080; text-decoration-color: #008080; font-weight: bold\">1.0</span>,\n",
       "    <span style=\"color: #008000; text-decoration-color: #008000\">'summary'</span>: <span style=\"color: #008000; text-decoration-color: #008000\">\"Don't waste your money\"</span>,\n",
       "    <span style=\"color: #008000; text-decoration-color: #008000\">'unixReviewTime'</span>: <span style=\"color: #008080; text-decoration-color: #008080; font-weight: bold\">1391040000</span>,\n",
       "    <span style=\"color: #008000; text-decoration-color: #008000\">'reviewTime'</span>: <span style=\"color: #008000; text-decoration-color: #008000\">'01 30, 2014'</span>\n",
       "<span style=\"font-weight: bold\">}</span>\n",
       "</pre>\n"
      ],
      "text/plain": [
       "\u001b[1m{\u001b[0m\n",
       "    \u001b[32m'reviewerID'\u001b[0m: \u001b[32m'A1YJEY40YUW4SE'\u001b[0m,\n",
       "    \u001b[32m'asin'\u001b[0m: \u001b[32m'7806397051'\u001b[0m,\n",
       "    \u001b[32m'reviewerName'\u001b[0m: \u001b[32m'Andrea'\u001b[0m,\n",
       "    \u001b[32m'helpful'\u001b[0m: \u001b[1m[\u001b[0m\u001b[1;36m3\u001b[0m, \u001b[1;36m4\u001b[0m\u001b[1m]\u001b[0m,\n",
       "    \u001b[32m'reviewText'\u001b[0m: \u001b[32m'Very oily and creamy. Not at all what I expected... ordered this to try to highlight and contour\u001b[0m\n",
       "\u001b[32mand it just looked awful!!! Plus, took FOREVER to arrive.'\u001b[0m,\n",
       "    \u001b[32m'overall'\u001b[0m: \u001b[1;36m1.0\u001b[0m,\n",
       "    \u001b[32m'summary'\u001b[0m: \u001b[32m\"Don't waste your money\"\u001b[0m,\n",
       "    \u001b[32m'unixReviewTime'\u001b[0m: \u001b[1;36m1391040000\u001b[0m,\n",
       "    \u001b[32m'reviewTime'\u001b[0m: \u001b[32m'01 30, 2014'\u001b[0m\n",
       "\u001b[1m}\u001b[0m\n"
      ]
     },
     "metadata": {},
     "output_type": "display_data"
    },
    {
     "data": {
      "text/html": [
       "<pre style=\"white-space:pre;overflow-x:auto;line-height:normal;font-family:Menlo,'DejaVu Sans Mono',consolas,'Courier New',monospace\">Val Sample:\n",
       "</pre>\n"
      ],
      "text/plain": [
       "Val Sample:\n"
      ]
     },
     "metadata": {},
     "output_type": "display_data"
    },
    {
     "data": {
      "text/html": [
       "<pre style=\"white-space:pre;overflow-x:auto;line-height:normal;font-family:Menlo,'DejaVu Sans Mono',consolas,'Courier New',monospace\"><span style=\"font-weight: bold\">{</span>\n",
       "    <span style=\"color: #008000; text-decoration-color: #008000\">'reviewerID'</span>: <span style=\"color: #008000; text-decoration-color: #008000\">'A1CQWEPJ2GH1I6'</span>,\n",
       "    <span style=\"color: #008000; text-decoration-color: #008000\">'asin'</span>: <span style=\"color: #008000; text-decoration-color: #008000\">'B00478VG9U'</span>,\n",
       "    <span style=\"color: #008000; text-decoration-color: #008000\">'reviewerName'</span>: <span style=\"color: #008000; text-decoration-color: #008000\">'Kathy \"Kathy\"'</span>,\n",
       "    <span style=\"color: #008000; text-decoration-color: #008000\">'helpful'</span>: <span style=\"font-weight: bold\">[</span><span style=\"color: #008080; text-decoration-color: #008080; font-weight: bold\">1</span>, <span style=\"color: #008080; text-decoration-color: #008080; font-weight: bold\">2</span><span style=\"font-weight: bold\">]</span>,\n",
       "    <span style=\"color: #008000; text-decoration-color: #008000\">'reviewText'</span>: <span style=\"color: #008000; text-decoration-color: #008000\">\"But as I've always said, wen products are way overpriced and they can't get a 5 star rating from</span>\n",
       "<span style=\"color: #008000; text-decoration-color: #008000\">me until the price is more reasonable. Just because you can gouge, doesn't mean you should. Sorry wen, but it's </span>\n",
       "<span style=\"color: #008000; text-decoration-color: #008000\">just too much. Besides that, it's the best thing going for hair right now in my opinion. lol! If money is no </span>\n",
       "<span style=\"color: #008000; text-decoration-color: #008000\">object, you must use this every single time you 'wash' your hair. My hair is usually really dry, but I'm positive </span>\n",
       "<span style=\"color: #008000; text-decoration-color: #008000\">it will work on oily hair as well. I don't like ANY of the scents, and it kind of 'burns' or 'tingles' too much the</span>\n",
       "<span style=\"color: #008000; text-decoration-color: #008000\">first time you use it. But it's a magic potion. No lie.\"</span>,\n",
       "    <span style=\"color: #008000; text-decoration-color: #008000\">'overall'</span>: <span style=\"color: #008080; text-decoration-color: #008080; font-weight: bold\">4.0</span>,\n",
       "    <span style=\"color: #008000; text-decoration-color: #008000\">'summary'</span>: <span style=\"color: #008000; text-decoration-color: #008000\">'yes I love this stuff'</span>,\n",
       "    <span style=\"color: #008000; text-decoration-color: #008000\">'unixReviewTime'</span>: <span style=\"color: #008080; text-decoration-color: #008080; font-weight: bold\">1366329600</span>,\n",
       "    <span style=\"color: #008000; text-decoration-color: #008000\">'reviewTime'</span>: <span style=\"color: #008000; text-decoration-color: #008000\">'04 19, 2013'</span>,\n",
       "    <span style=\"color: #008000; text-decoration-color: #008000\">'explanation'</span>: <span style=\"color: #008000; text-decoration-color: #008000\">'My hair is usually really dry'</span>,\n",
       "    <span style=\"color: #008000; text-decoration-color: #008000\">'feature'</span>: <span style=\"color: #008000; text-decoration-color: #008000\">'hair'</span>\n",
       "<span style=\"font-weight: bold\">}</span>\n",
       "</pre>\n"
      ],
      "text/plain": [
       "\u001b[1m{\u001b[0m\n",
       "    \u001b[32m'reviewerID'\u001b[0m: \u001b[32m'A1CQWEPJ2GH1I6'\u001b[0m,\n",
       "    \u001b[32m'asin'\u001b[0m: \u001b[32m'B00478VG9U'\u001b[0m,\n",
       "    \u001b[32m'reviewerName'\u001b[0m: \u001b[32m'Kathy \"Kathy\"'\u001b[0m,\n",
       "    \u001b[32m'helpful'\u001b[0m: \u001b[1m[\u001b[0m\u001b[1;36m1\u001b[0m, \u001b[1;36m2\u001b[0m\u001b[1m]\u001b[0m,\n",
       "    \u001b[32m'reviewText'\u001b[0m: \u001b[32m\"But as I've always said, wen products are way overpriced and they can't get a 5 star rating from\u001b[0m\n",
       "\u001b[32mme until the price is more reasonable. Just because you can gouge, doesn't mean you should. Sorry wen, but it's \u001b[0m\n",
       "\u001b[32mjust too much. Besides that, it's the best thing going for hair right now in my opinion. lol! If money is no \u001b[0m\n",
       "\u001b[32mobject, you must use this every single time you 'wash' your hair. My hair is usually really dry, but I'm positive \u001b[0m\n",
       "\u001b[32mit will work on oily hair as well. I don't like ANY of the scents, and it kind of 'burns' or 'tingles' too much the\u001b[0m\n",
       "\u001b[32mfirst time you use it. But it's a magic potion. No lie.\"\u001b[0m,\n",
       "    \u001b[32m'overall'\u001b[0m: \u001b[1;36m4.0\u001b[0m,\n",
       "    \u001b[32m'summary'\u001b[0m: \u001b[32m'yes I love this stuff'\u001b[0m,\n",
       "    \u001b[32m'unixReviewTime'\u001b[0m: \u001b[1;36m1366329600\u001b[0m,\n",
       "    \u001b[32m'reviewTime'\u001b[0m: \u001b[32m'04 19, 2013'\u001b[0m,\n",
       "    \u001b[32m'explanation'\u001b[0m: \u001b[32m'My hair is usually really dry'\u001b[0m,\n",
       "    \u001b[32m'feature'\u001b[0m: \u001b[32m'hair'\u001b[0m\n",
       "\u001b[1m}\u001b[0m\n"
      ]
     },
     "metadata": {},
     "output_type": "display_data"
    },
    {
     "data": {
      "text/html": [
       "<pre style=\"white-space:pre;overflow-x:auto;line-height:normal;font-family:Menlo,'DejaVu Sans Mono',consolas,'Courier New',monospace\">Test Sample:\n",
       "</pre>\n"
      ],
      "text/plain": [
       "Test Sample:\n"
      ]
     },
     "metadata": {},
     "output_type": "display_data"
    },
    {
     "name": "stdout",
     "output_type": "stream",
     "text": [
      "{'reviewerID': 'A2QKXW3LDQ66P5', 'asin': 'B005X2F7KI', 'reviewerName': 'stephanie', 'helpful': [5, 6], 'reviewText': 'Absolutely great product.  I bought this for my fourteen year old niece for Christmas and of course I had to try it out, then I tried another one, and another one and another one.  So much fun!  I even contemplated keeping a few for myself!', 'overall': 5.0, 'summary': 'Perfect!', 'unixReviewTime': 1352937600, 'reviewTime': '11 15, 2012', 'explanation': 'Absolutely great product', 'feature': 'product'}\n"
     ]
    }
   ],
   "source": [
    "with open(f\"{DATASET_DIR}/{DATASET_SPLIT}/review_splits.pkl\", \"rb\") as f:\n",
    "    review_splits = pickle.load(f)\n",
    "    \n",
    "display_pickle_summary(review_splits, title=\"Review Splits Summary\")"
   ]
  },
  {
   "cell_type": "markdown",
   "id": "1a1bb0f1",
   "metadata": {},
   "source": [
    "#### Exp Splits"
   ]
  },
  {
   "cell_type": "code",
   "execution_count": 7,
   "id": "3bc27694",
   "metadata": {},
   "outputs": [
    {
     "data": {
      "text/html": [
       "<pre style=\"white-space:pre;overflow-x:auto;line-height:normal;font-family:Menlo,'DejaVu Sans Mono',consolas,'Courier New',monospace\"><span style=\"font-style: italic\">       Exp Splits Summary        </span>\n",
       "┏━━━━━━━━━━━━┳━━━━━━━━━━━━━━━━━━┓\n",
       "┃<span style=\"font-weight: bold\"> Key/Type   </span>┃<span style=\"font-weight: bold\"> Description      </span>┃\n",
       "┡━━━━━━━━━━━━╇━━━━━━━━━━━━━━━━━━┩\n",
       "│<span style=\"color: #008080; text-decoration-color: #008080\"> train      </span>│<span style=\"color: #800080; text-decoration-color: #800080\"> list, len=106281 </span>│\n",
       "│<span style=\"color: #008080; text-decoration-color: #008080\"> val        </span>│<span style=\"color: #800080; text-decoration-color: #800080\"> list, len=13515  </span>│\n",
       "│<span style=\"color: #008080; text-decoration-color: #008080\"> test       </span>│<span style=\"color: #800080; text-decoration-color: #800080\"> list, len=13421  </span>│\n",
       "│<span style=\"color: #008080; text-decoration-color: #008080\"> Total Size </span>│<span style=\"color: #800080; text-decoration-color: #800080\"> 133217           </span>│\n",
       "└────────────┴──────────────────┘\n",
       "</pre>\n"
      ],
      "text/plain": [
       "\u001b[3m       Exp Splits Summary        \u001b[0m\n",
       "┏━━━━━━━━━━━━┳━━━━━━━━━━━━━━━━━━┓\n",
       "┃\u001b[1m \u001b[0m\u001b[1mKey/Type  \u001b[0m\u001b[1m \u001b[0m┃\u001b[1m \u001b[0m\u001b[1mDescription     \u001b[0m\u001b[1m \u001b[0m┃\n",
       "┡━━━━━━━━━━━━╇━━━━━━━━━━━━━━━━━━┩\n",
       "│\u001b[36m \u001b[0m\u001b[36mtrain     \u001b[0m\u001b[36m \u001b[0m│\u001b[35m \u001b[0m\u001b[35mlist, len=106281\u001b[0m\u001b[35m \u001b[0m│\n",
       "│\u001b[36m \u001b[0m\u001b[36mval       \u001b[0m\u001b[36m \u001b[0m│\u001b[35m \u001b[0m\u001b[35mlist, len=13515 \u001b[0m\u001b[35m \u001b[0m│\n",
       "│\u001b[36m \u001b[0m\u001b[36mtest      \u001b[0m\u001b[36m \u001b[0m│\u001b[35m \u001b[0m\u001b[35mlist, len=13421 \u001b[0m\u001b[35m \u001b[0m│\n",
       "│\u001b[36m \u001b[0m\u001b[36mTotal Size\u001b[0m\u001b[36m \u001b[0m│\u001b[35m \u001b[0m\u001b[35m133217          \u001b[0m\u001b[35m \u001b[0m│\n",
       "└────────────┴──────────────────┘\n"
      ]
     },
     "metadata": {},
     "output_type": "display_data"
    },
    {
     "data": {
      "text/html": [
       "<pre style=\"white-space:pre;overflow-x:auto;line-height:normal;font-family:Menlo,'DejaVu Sans Mono',consolas,'Courier New',monospace\">Train Sample:\n",
       "</pre>\n"
      ],
      "text/plain": [
       "Train Sample:\n"
      ]
     },
     "metadata": {},
     "output_type": "display_data"
    },
    {
     "data": {
      "text/html": [
       "<pre style=\"white-space:pre;overflow-x:auto;line-height:normal;font-family:Menlo,'DejaVu Sans Mono',consolas,'Courier New',monospace\"><span style=\"font-weight: bold\">{</span>\n",
       "    <span style=\"color: #008000; text-decoration-color: #008000\">'reviewerID'</span>: <span style=\"color: #008000; text-decoration-color: #008000\">'A3G6XNM240RMWA'</span>,\n",
       "    <span style=\"color: #008000; text-decoration-color: #008000\">'asin'</span>: <span style=\"color: #008000; text-decoration-color: #008000\">'7806397051'</span>,\n",
       "    <span style=\"color: #008000; text-decoration-color: #008000\">'reviewerName'</span>: <span style=\"color: #008000; text-decoration-color: #008000\">'Karen'</span>,\n",
       "    <span style=\"color: #008000; text-decoration-color: #008000\">'helpful'</span>: <span style=\"font-weight: bold\">[</span><span style=\"color: #008080; text-decoration-color: #008080; font-weight: bold\">0</span>, <span style=\"color: #008080; text-decoration-color: #008080; font-weight: bold\">1</span><span style=\"font-weight: bold\">]</span>,\n",
       "    <span style=\"color: #008000; text-decoration-color: #008000\">'reviewText'</span>: <span style=\"color: #008000; text-decoration-color: #008000\">\"The texture of this concealer pallet is fantastic, it has great coverage and a wide variety of </span>\n",
       "<span style=\"color: #008000; text-decoration-color: #008000\">uses, I guess it's meant for professional makeup artists and a lot of the colours are of no use to me but I use at </span>\n",
       "<span style=\"color: #008000; text-decoration-color: #008000\">least two of them on a regular basis, and two more occasionally, which is the only reason I'm giving it for stars, </span>\n",
       "<span style=\"color: #008000; text-decoration-color: #008000\">I feel like the range of colors is kind of a waste for me, but the  product itself  is wonderful, it's not cakey, </span>\n",
       "<span style=\"color: #008000; text-decoration-color: #008000\">gives me a natural for and concealed my imperfections, therefore I highly recommend it :)\"</span>,\n",
       "    <span style=\"color: #008000; text-decoration-color: #008000\">'overall'</span>: <span style=\"color: #008080; text-decoration-color: #008080; font-weight: bold\">4.0</span>,\n",
       "    <span style=\"color: #008000; text-decoration-color: #008000\">'summary'</span>: <span style=\"color: #008000; text-decoration-color: #008000\">'great quality'</span>,\n",
       "    <span style=\"color: #008000; text-decoration-color: #008000\">'unixReviewTime'</span>: <span style=\"color: #008080; text-decoration-color: #008080; font-weight: bold\">1378425600</span>,\n",
       "    <span style=\"color: #008000; text-decoration-color: #008000\">'reviewTime'</span>: <span style=\"color: #008000; text-decoration-color: #008000\">'09 6, 2013'</span>,\n",
       "    <span style=\"color: #008000; text-decoration-color: #008000\">'explanation'</span>: <span style=\"color: #008000; text-decoration-color: #008000\">'great quality'</span>,\n",
       "    <span style=\"color: #008000; text-decoration-color: #008000\">'feature'</span>: <span style=\"color: #008000; text-decoration-color: #008000\">'quality'</span>\n",
       "<span style=\"font-weight: bold\">}</span>\n",
       "</pre>\n"
      ],
      "text/plain": [
       "\u001b[1m{\u001b[0m\n",
       "    \u001b[32m'reviewerID'\u001b[0m: \u001b[32m'A3G6XNM240RMWA'\u001b[0m,\n",
       "    \u001b[32m'asin'\u001b[0m: \u001b[32m'7806397051'\u001b[0m,\n",
       "    \u001b[32m'reviewerName'\u001b[0m: \u001b[32m'Karen'\u001b[0m,\n",
       "    \u001b[32m'helpful'\u001b[0m: \u001b[1m[\u001b[0m\u001b[1;36m0\u001b[0m, \u001b[1;36m1\u001b[0m\u001b[1m]\u001b[0m,\n",
       "    \u001b[32m'reviewText'\u001b[0m: \u001b[32m\"The texture of this concealer pallet is fantastic, it has great coverage and a wide variety of \u001b[0m\n",
       "\u001b[32muses, I guess it's meant for professional makeup artists and a lot of the colours are of no use to me but I use at \u001b[0m\n",
       "\u001b[32mleast two of them on a regular basis, and two more occasionally, which is the only reason I'm giving it for stars, \u001b[0m\n",
       "\u001b[32mI feel like the range of colors is kind of a waste for me, but the  product itself  is wonderful, it's not cakey, \u001b[0m\n",
       "\u001b[32mgives me a natural for and concealed my imperfections, therefore I highly recommend it :\u001b[0m\u001b[32m)\u001b[0m\u001b[32m\"\u001b[0m,\n",
       "    \u001b[32m'overall'\u001b[0m: \u001b[1;36m4.0\u001b[0m,\n",
       "    \u001b[32m'summary'\u001b[0m: \u001b[32m'great quality'\u001b[0m,\n",
       "    \u001b[32m'unixReviewTime'\u001b[0m: \u001b[1;36m1378425600\u001b[0m,\n",
       "    \u001b[32m'reviewTime'\u001b[0m: \u001b[32m'09 6, 2013'\u001b[0m,\n",
       "    \u001b[32m'explanation'\u001b[0m: \u001b[32m'great quality'\u001b[0m,\n",
       "    \u001b[32m'feature'\u001b[0m: \u001b[32m'quality'\u001b[0m\n",
       "\u001b[1m}\u001b[0m\n"
      ]
     },
     "metadata": {},
     "output_type": "display_data"
    },
    {
     "data": {
      "text/html": [
       "<pre style=\"white-space:pre;overflow-x:auto;line-height:normal;font-family:Menlo,'DejaVu Sans Mono',consolas,'Courier New',monospace\">Val Sample:\n",
       "</pre>\n"
      ],
      "text/plain": [
       "Val Sample:\n"
      ]
     },
     "metadata": {},
     "output_type": "display_data"
    },
    {
     "data": {
      "text/html": [
       "<pre style=\"white-space:pre;overflow-x:auto;line-height:normal;font-family:Menlo,'DejaVu Sans Mono',consolas,'Courier New',monospace\"><span style=\"font-weight: bold\">{</span>\n",
       "    <span style=\"color: #008000; text-decoration-color: #008000\">'reviewerID'</span>: <span style=\"color: #008000; text-decoration-color: #008000\">'A1CQWEPJ2GH1I6'</span>,\n",
       "    <span style=\"color: #008000; text-decoration-color: #008000\">'asin'</span>: <span style=\"color: #008000; text-decoration-color: #008000\">'B00478VG9U'</span>,\n",
       "    <span style=\"color: #008000; text-decoration-color: #008000\">'reviewerName'</span>: <span style=\"color: #008000; text-decoration-color: #008000\">'Kathy \"Kathy\"'</span>,\n",
       "    <span style=\"color: #008000; text-decoration-color: #008000\">'helpful'</span>: <span style=\"font-weight: bold\">[</span><span style=\"color: #008080; text-decoration-color: #008080; font-weight: bold\">1</span>, <span style=\"color: #008080; text-decoration-color: #008080; font-weight: bold\">2</span><span style=\"font-weight: bold\">]</span>,\n",
       "    <span style=\"color: #008000; text-decoration-color: #008000\">'reviewText'</span>: <span style=\"color: #008000; text-decoration-color: #008000\">\"But as I've always said, wen products are way overpriced and they can't get a 5 star rating from</span>\n",
       "<span style=\"color: #008000; text-decoration-color: #008000\">me until the price is more reasonable. Just because you can gouge, doesn't mean you should. Sorry wen, but it's </span>\n",
       "<span style=\"color: #008000; text-decoration-color: #008000\">just too much. Besides that, it's the best thing going for hair right now in my opinion. lol! If money is no </span>\n",
       "<span style=\"color: #008000; text-decoration-color: #008000\">object, you must use this every single time you 'wash' your hair. My hair is usually really dry, but I'm positive </span>\n",
       "<span style=\"color: #008000; text-decoration-color: #008000\">it will work on oily hair as well. I don't like ANY of the scents, and it kind of 'burns' or 'tingles' too much the</span>\n",
       "<span style=\"color: #008000; text-decoration-color: #008000\">first time you use it. But it's a magic potion. No lie.\"</span>,\n",
       "    <span style=\"color: #008000; text-decoration-color: #008000\">'overall'</span>: <span style=\"color: #008080; text-decoration-color: #008080; font-weight: bold\">4.0</span>,\n",
       "    <span style=\"color: #008000; text-decoration-color: #008000\">'summary'</span>: <span style=\"color: #008000; text-decoration-color: #008000\">'yes I love this stuff'</span>,\n",
       "    <span style=\"color: #008000; text-decoration-color: #008000\">'unixReviewTime'</span>: <span style=\"color: #008080; text-decoration-color: #008080; font-weight: bold\">1366329600</span>,\n",
       "    <span style=\"color: #008000; text-decoration-color: #008000\">'reviewTime'</span>: <span style=\"color: #008000; text-decoration-color: #008000\">'04 19, 2013'</span>,\n",
       "    <span style=\"color: #008000; text-decoration-color: #008000\">'explanation'</span>: <span style=\"color: #008000; text-decoration-color: #008000\">'My hair is usually really dry'</span>,\n",
       "    <span style=\"color: #008000; text-decoration-color: #008000\">'feature'</span>: <span style=\"color: #008000; text-decoration-color: #008000\">'hair'</span>\n",
       "<span style=\"font-weight: bold\">}</span>\n",
       "</pre>\n"
      ],
      "text/plain": [
       "\u001b[1m{\u001b[0m\n",
       "    \u001b[32m'reviewerID'\u001b[0m: \u001b[32m'A1CQWEPJ2GH1I6'\u001b[0m,\n",
       "    \u001b[32m'asin'\u001b[0m: \u001b[32m'B00478VG9U'\u001b[0m,\n",
       "    \u001b[32m'reviewerName'\u001b[0m: \u001b[32m'Kathy \"Kathy\"'\u001b[0m,\n",
       "    \u001b[32m'helpful'\u001b[0m: \u001b[1m[\u001b[0m\u001b[1;36m1\u001b[0m, \u001b[1;36m2\u001b[0m\u001b[1m]\u001b[0m,\n",
       "    \u001b[32m'reviewText'\u001b[0m: \u001b[32m\"But as I've always said, wen products are way overpriced and they can't get a 5 star rating from\u001b[0m\n",
       "\u001b[32mme until the price is more reasonable. Just because you can gouge, doesn't mean you should. Sorry wen, but it's \u001b[0m\n",
       "\u001b[32mjust too much. Besides that, it's the best thing going for hair right now in my opinion. lol! If money is no \u001b[0m\n",
       "\u001b[32mobject, you must use this every single time you 'wash' your hair. My hair is usually really dry, but I'm positive \u001b[0m\n",
       "\u001b[32mit will work on oily hair as well. I don't like ANY of the scents, and it kind of 'burns' or 'tingles' too much the\u001b[0m\n",
       "\u001b[32mfirst time you use it. But it's a magic potion. No lie.\"\u001b[0m,\n",
       "    \u001b[32m'overall'\u001b[0m: \u001b[1;36m4.0\u001b[0m,\n",
       "    \u001b[32m'summary'\u001b[0m: \u001b[32m'yes I love this stuff'\u001b[0m,\n",
       "    \u001b[32m'unixReviewTime'\u001b[0m: \u001b[1;36m1366329600\u001b[0m,\n",
       "    \u001b[32m'reviewTime'\u001b[0m: \u001b[32m'04 19, 2013'\u001b[0m,\n",
       "    \u001b[32m'explanation'\u001b[0m: \u001b[32m'My hair is usually really dry'\u001b[0m,\n",
       "    \u001b[32m'feature'\u001b[0m: \u001b[32m'hair'\u001b[0m\n",
       "\u001b[1m}\u001b[0m\n"
      ]
     },
     "metadata": {},
     "output_type": "display_data"
    },
    {
     "data": {
      "text/html": [
       "<pre style=\"white-space:pre;overflow-x:auto;line-height:normal;font-family:Menlo,'DejaVu Sans Mono',consolas,'Courier New',monospace\">Test Sample:\n",
       "</pre>\n"
      ],
      "text/plain": [
       "Test Sample:\n"
      ]
     },
     "metadata": {},
     "output_type": "display_data"
    },
    {
     "name": "stdout",
     "output_type": "stream",
     "text": [
      "{'reviewerID': 'A2QKXW3LDQ66P5', 'asin': 'B005X2F7KI', 'reviewerName': 'stephanie', 'helpful': [5, 6], 'reviewText': 'Absolutely great product.  I bought this for my fourteen year old niece for Christmas and of course I had to try it out, then I tried another one, and another one and another one.  So much fun!  I even contemplated keeping a few for myself!', 'overall': 5.0, 'summary': 'Perfect!', 'unixReviewTime': 1352937600, 'reviewTime': '11 15, 2012', 'explanation': 'Absolutely great product', 'feature': 'product'}\n"
     ]
    }
   ],
   "source": [
    "with open(f\"{DATASET_DIR}/{DATASET_SPLIT}/exp_splits.pkl\", \"rb\") as f:\n",
    "    exp_splits = pickle.load(f)\n",
    "    \n",
    "display_pickle_summary(exp_splits, title=\"Exp Splits Summary\")"
   ]
  },
  {
   "cell_type": "markdown",
   "id": "c06ea0f6",
   "metadata": {},
   "source": [
    "#### Ratings Split Augmented"
   ]
  },
  {
   "cell_type": "code",
   "execution_count": null,
   "id": "a3bdf8a2",
   "metadata": {},
   "outputs": [
    {
     "data": {
      "text/html": [
       "<pre style=\"white-space:pre;overflow-x:auto;line-height:normal;font-family:Menlo,'DejaVu Sans Mono',consolas,'Courier New',monospace\"><span style=\"font-style: italic\">  Rating Splits Augmented Summary   </span>\n",
       "┏━━━━━━━━━━━━━━━┳━━━━━━━━━━━━━━━━━━┓\n",
       "┃<span style=\"font-weight: bold\"> Key/Type      </span>┃<span style=\"font-weight: bold\"> Description      </span>┃\n",
       "┡━━━━━━━━━━━━━━━╇━━━━━━━━━━━━━━━━━━┩\n",
       "│<span style=\"color: #008080; text-decoration-color: #008080\"> train         </span>│<span style=\"color: #800080; text-decoration-color: #800080\"> list, len=317516 </span>│\n",
       "│<span style=\"color: #008080; text-decoration-color: #008080\"> val           </span>│<span style=\"color: #800080; text-decoration-color: #800080\"> list, len=19850  </span>│\n",
       "│<span style=\"color: #008080; text-decoration-color: #008080\"> test          </span>│<span style=\"color: #800080; text-decoration-color: #800080\"> list, len=19850  </span>│\n",
       "│<span style=\"color: #008080; text-decoration-color: #008080\"> train_indices </span>│<span style=\"color: #800080; text-decoration-color: #800080\"> list, len=158802 </span>│\n",
       "│<span style=\"color: #008080; text-decoration-color: #008080\"> val_indices   </span>│<span style=\"color: #800080; text-decoration-color: #800080\"> list, len=19850  </span>│\n",
       "│<span style=\"color: #008080; text-decoration-color: #008080\"> test_indices  </span>│<span style=\"color: #800080; text-decoration-color: #800080\"> list, len=19850  </span>│\n",
       "│<span style=\"color: #008080; text-decoration-color: #008080\"> Total Size    </span>│<span style=\"color: #800080; text-decoration-color: #800080\"> N/A              </span>│\n",
       "└───────────────┴──────────────────┘\n",
       "</pre>\n"
      ],
      "text/plain": [
       "\u001b[3m  Rating Splits Augmented Summary   \u001b[0m\n",
       "┏━━━━━━━━━━━━━━━┳━━━━━━━━━━━━━━━━━━┓\n",
       "┃\u001b[1m \u001b[0m\u001b[1mKey/Type     \u001b[0m\u001b[1m \u001b[0m┃\u001b[1m \u001b[0m\u001b[1mDescription     \u001b[0m\u001b[1m \u001b[0m┃\n",
       "┡━━━━━━━━━━━━━━━╇━━━━━━━━━━━━━━━━━━┩\n",
       "│\u001b[36m \u001b[0m\u001b[36mtrain        \u001b[0m\u001b[36m \u001b[0m│\u001b[35m \u001b[0m\u001b[35mlist, len=317516\u001b[0m\u001b[35m \u001b[0m│\n",
       "│\u001b[36m \u001b[0m\u001b[36mval          \u001b[0m\u001b[36m \u001b[0m│\u001b[35m \u001b[0m\u001b[35mlist, len=19850 \u001b[0m\u001b[35m \u001b[0m│\n",
       "│\u001b[36m \u001b[0m\u001b[36mtest         \u001b[0m\u001b[36m \u001b[0m│\u001b[35m \u001b[0m\u001b[35mlist, len=19850 \u001b[0m\u001b[35m \u001b[0m│\n",
       "│\u001b[36m \u001b[0m\u001b[36mtrain_indices\u001b[0m\u001b[36m \u001b[0m│\u001b[35m \u001b[0m\u001b[35mlist, len=158802\u001b[0m\u001b[35m \u001b[0m│\n",
       "│\u001b[36m \u001b[0m\u001b[36mval_indices  \u001b[0m\u001b[36m \u001b[0m│\u001b[35m \u001b[0m\u001b[35mlist, len=19850 \u001b[0m\u001b[35m \u001b[0m│\n",
       "│\u001b[36m \u001b[0m\u001b[36mtest_indices \u001b[0m\u001b[36m \u001b[0m│\u001b[35m \u001b[0m\u001b[35mlist, len=19850 \u001b[0m\u001b[35m \u001b[0m│\n",
       "│\u001b[36m \u001b[0m\u001b[36mTotal Size   \u001b[0m\u001b[36m \u001b[0m│\u001b[35m \u001b[0m\u001b[35mN/A             \u001b[0m\u001b[35m \u001b[0m│\n",
       "└───────────────┴──────────────────┘\n"
      ]
     },
     "metadata": {},
     "output_type": "display_data"
    },
    {
     "data": {
      "text/html": [
       "<pre style=\"white-space:pre;overflow-x:auto;line-height:normal;font-family:Menlo,'DejaVu Sans Mono',consolas,'Courier New',monospace\">Train Sample:\n",
       "</pre>\n"
      ],
      "text/plain": [
       "Train Sample:\n"
      ]
     },
     "metadata": {},
     "output_type": "display_data"
    },
    {
     "data": {
      "text/html": [
       "<pre style=\"white-space:pre;overflow-x:auto;line-height:normal;font-family:Menlo,'DejaVu Sans Mono',consolas,'Courier New',monospace\"><span style=\"font-weight: bold\">{</span>\n",
       "    <span style=\"color: #008000; text-decoration-color: #008000\">'reviewerID'</span>: <span style=\"color: #008000; text-decoration-color: #008000\">'A1YJEY40YUW4SE'</span>,\n",
       "    <span style=\"color: #008000; text-decoration-color: #008000\">'asin'</span>: <span style=\"color: #008000; text-decoration-color: #008000\">'7806397051'</span>,\n",
       "    <span style=\"color: #008000; text-decoration-color: #008000\">'reviewerName'</span>: <span style=\"color: #008000; text-decoration-color: #008000\">'Andrea'</span>,\n",
       "    <span style=\"color: #008000; text-decoration-color: #008000\">'helpful'</span>: <span style=\"font-weight: bold\">[</span><span style=\"color: #008080; text-decoration-color: #008080; font-weight: bold\">3</span>, <span style=\"color: #008080; text-decoration-color: #008080; font-weight: bold\">4</span><span style=\"font-weight: bold\">]</span>,\n",
       "    <span style=\"color: #008000; text-decoration-color: #008000\">'reviewText'</span>: <span style=\"color: #008000; text-decoration-color: #008000\">'Very oily and creamy. Not at all what I expected... ordered this to try to highlight and contour</span>\n",
       "<span style=\"color: #008000; text-decoration-color: #008000\">and it just looked awful!!! Plus, took FOREVER to arrive.'</span>,\n",
       "    <span style=\"color: #008000; text-decoration-color: #008000\">'overall'</span>: <span style=\"color: #008080; text-decoration-color: #008080; font-weight: bold\">1.0</span>,\n",
       "    <span style=\"color: #008000; text-decoration-color: #008000\">'summary'</span>: <span style=\"color: #008000; text-decoration-color: #008000\">\"Don't waste your money\"</span>,\n",
       "    <span style=\"color: #008000; text-decoration-color: #008000\">'unixReviewTime'</span>: <span style=\"color: #008080; text-decoration-color: #008080; font-weight: bold\">1391040000</span>,\n",
       "    <span style=\"color: #008000; text-decoration-color: #008000\">'reviewTime'</span>: <span style=\"color: #008000; text-decoration-color: #008000\">'01 30, 2014'</span>\n",
       "<span style=\"font-weight: bold\">}</span>\n",
       "</pre>\n"
      ],
      "text/plain": [
       "\u001b[1m{\u001b[0m\n",
       "    \u001b[32m'reviewerID'\u001b[0m: \u001b[32m'A1YJEY40YUW4SE'\u001b[0m,\n",
       "    \u001b[32m'asin'\u001b[0m: \u001b[32m'7806397051'\u001b[0m,\n",
       "    \u001b[32m'reviewerName'\u001b[0m: \u001b[32m'Andrea'\u001b[0m,\n",
       "    \u001b[32m'helpful'\u001b[0m: \u001b[1m[\u001b[0m\u001b[1;36m3\u001b[0m, \u001b[1;36m4\u001b[0m\u001b[1m]\u001b[0m,\n",
       "    \u001b[32m'reviewText'\u001b[0m: \u001b[32m'Very oily and creamy. Not at all what I expected... ordered this to try to highlight and contour\u001b[0m\n",
       "\u001b[32mand it just looked awful!!! Plus, took FOREVER to arrive.'\u001b[0m,\n",
       "    \u001b[32m'overall'\u001b[0m: \u001b[1;36m1.0\u001b[0m,\n",
       "    \u001b[32m'summary'\u001b[0m: \u001b[32m\"Don't waste your money\"\u001b[0m,\n",
       "    \u001b[32m'unixReviewTime'\u001b[0m: \u001b[1;36m1391040000\u001b[0m,\n",
       "    \u001b[32m'reviewTime'\u001b[0m: \u001b[32m'01 30, 2014'\u001b[0m\n",
       "\u001b[1m}\u001b[0m\n"
      ]
     },
     "metadata": {},
     "output_type": "display_data"
    },
    {
     "data": {
      "text/html": [
       "<pre style=\"white-space:pre;overflow-x:auto;line-height:normal;font-family:Menlo,'DejaVu Sans Mono',consolas,'Courier New',monospace\">Val Sample:\n",
       "</pre>\n"
      ],
      "text/plain": [
       "Val Sample:\n"
      ]
     },
     "metadata": {},
     "output_type": "display_data"
    },
    {
     "data": {
      "text/html": [
       "<pre style=\"white-space:pre;overflow-x:auto;line-height:normal;font-family:Menlo,'DejaVu Sans Mono',consolas,'Courier New',monospace\"><span style=\"font-weight: bold\">{</span>\n",
       "    <span style=\"color: #008000; text-decoration-color: #008000\">'reviewerID'</span>: <span style=\"color: #008000; text-decoration-color: #008000\">'A1CQWEPJ2GH1I6'</span>,\n",
       "    <span style=\"color: #008000; text-decoration-color: #008000\">'asin'</span>: <span style=\"color: #008000; text-decoration-color: #008000\">'B00478VG9U'</span>,\n",
       "    <span style=\"color: #008000; text-decoration-color: #008000\">'reviewerName'</span>: <span style=\"color: #008000; text-decoration-color: #008000\">'Kathy \"Kathy\"'</span>,\n",
       "    <span style=\"color: #008000; text-decoration-color: #008000\">'helpful'</span>: <span style=\"font-weight: bold\">[</span><span style=\"color: #008080; text-decoration-color: #008080; font-weight: bold\">1</span>, <span style=\"color: #008080; text-decoration-color: #008080; font-weight: bold\">2</span><span style=\"font-weight: bold\">]</span>,\n",
       "    <span style=\"color: #008000; text-decoration-color: #008000\">'reviewText'</span>: <span style=\"color: #008000; text-decoration-color: #008000\">\"But as I've always said, wen products are way overpriced and they can't get a 5 star rating from</span>\n",
       "<span style=\"color: #008000; text-decoration-color: #008000\">me until the price is more reasonable. Just because you can gouge, doesn't mean you should. Sorry wen, but it's </span>\n",
       "<span style=\"color: #008000; text-decoration-color: #008000\">just too much. Besides that, it's the best thing going for hair right now in my opinion. lol! If money is no </span>\n",
       "<span style=\"color: #008000; text-decoration-color: #008000\">object, you must use this every single time you 'wash' your hair. My hair is usually really dry, but I'm positive </span>\n",
       "<span style=\"color: #008000; text-decoration-color: #008000\">it will work on oily hair as well. I don't like ANY of the scents, and it kind of 'burns' or 'tingles' too much the</span>\n",
       "<span style=\"color: #008000; text-decoration-color: #008000\">first time you use it. But it's a magic potion. No lie.\"</span>,\n",
       "    <span style=\"color: #008000; text-decoration-color: #008000\">'overall'</span>: <span style=\"color: #008080; text-decoration-color: #008080; font-weight: bold\">4.0</span>,\n",
       "    <span style=\"color: #008000; text-decoration-color: #008000\">'summary'</span>: <span style=\"color: #008000; text-decoration-color: #008000\">'yes I love this stuff'</span>,\n",
       "    <span style=\"color: #008000; text-decoration-color: #008000\">'unixReviewTime'</span>: <span style=\"color: #008080; text-decoration-color: #008080; font-weight: bold\">1366329600</span>,\n",
       "    <span style=\"color: #008000; text-decoration-color: #008000\">'reviewTime'</span>: <span style=\"color: #008000; text-decoration-color: #008000\">'04 19, 2013'</span>,\n",
       "    <span style=\"color: #008000; text-decoration-color: #008000\">'explanation'</span>: <span style=\"color: #008000; text-decoration-color: #008000\">'My hair is usually really dry'</span>,\n",
       "    <span style=\"color: #008000; text-decoration-color: #008000\">'feature'</span>: <span style=\"color: #008000; text-decoration-color: #008000\">'hair'</span>\n",
       "<span style=\"font-weight: bold\">}</span>\n",
       "</pre>\n"
      ],
      "text/plain": [
       "\u001b[1m{\u001b[0m\n",
       "    \u001b[32m'reviewerID'\u001b[0m: \u001b[32m'A1CQWEPJ2GH1I6'\u001b[0m,\n",
       "    \u001b[32m'asin'\u001b[0m: \u001b[32m'B00478VG9U'\u001b[0m,\n",
       "    \u001b[32m'reviewerName'\u001b[0m: \u001b[32m'Kathy \"Kathy\"'\u001b[0m,\n",
       "    \u001b[32m'helpful'\u001b[0m: \u001b[1m[\u001b[0m\u001b[1;36m1\u001b[0m, \u001b[1;36m2\u001b[0m\u001b[1m]\u001b[0m,\n",
       "    \u001b[32m'reviewText'\u001b[0m: \u001b[32m\"But as I've always said, wen products are way overpriced and they can't get a 5 star rating from\u001b[0m\n",
       "\u001b[32mme until the price is more reasonable. Just because you can gouge, doesn't mean you should. Sorry wen, but it's \u001b[0m\n",
       "\u001b[32mjust too much. Besides that, it's the best thing going for hair right now in my opinion. lol! If money is no \u001b[0m\n",
       "\u001b[32mobject, you must use this every single time you 'wash' your hair. My hair is usually really dry, but I'm positive \u001b[0m\n",
       "\u001b[32mit will work on oily hair as well. I don't like ANY of the scents, and it kind of 'burns' or 'tingles' too much the\u001b[0m\n",
       "\u001b[32mfirst time you use it. But it's a magic potion. No lie.\"\u001b[0m,\n",
       "    \u001b[32m'overall'\u001b[0m: \u001b[1;36m4.0\u001b[0m,\n",
       "    \u001b[32m'summary'\u001b[0m: \u001b[32m'yes I love this stuff'\u001b[0m,\n",
       "    \u001b[32m'unixReviewTime'\u001b[0m: \u001b[1;36m1366329600\u001b[0m,\n",
       "    \u001b[32m'reviewTime'\u001b[0m: \u001b[32m'04 19, 2013'\u001b[0m,\n",
       "    \u001b[32m'explanation'\u001b[0m: \u001b[32m'My hair is usually really dry'\u001b[0m,\n",
       "    \u001b[32m'feature'\u001b[0m: \u001b[32m'hair'\u001b[0m\n",
       "\u001b[1m}\u001b[0m\n"
      ]
     },
     "metadata": {},
     "output_type": "display_data"
    },
    {
     "data": {
      "text/html": [
       "<pre style=\"white-space:pre;overflow-x:auto;line-height:normal;font-family:Menlo,'DejaVu Sans Mono',consolas,'Courier New',monospace\">Test Sample:\n",
       "</pre>\n"
      ],
      "text/plain": [
       "Test Sample:\n"
      ]
     },
     "metadata": {},
     "output_type": "display_data"
    },
    {
     "name": "stdout",
     "output_type": "stream",
     "text": [
      "{'reviewerID': 'A2QKXW3LDQ66P5', 'asin': 'B005X2F7KI', 'reviewerName': 'stephanie', 'helpful': [5, 6], 'reviewText': 'Absolutely great product.  I bought this for my fourteen year old niece for Christmas and of course I had to try it out, then I tried another one, and another one and another one.  So much fun!  I even contemplated keeping a few for myself!', 'overall': 5.0, 'summary': 'Perfect!', 'unixReviewTime': 1352937600, 'reviewTime': '11 15, 2012', 'explanation': 'Absolutely great product', 'feature': 'product'}\n"
     ]
    }
   ],
   "source": [
    "with open(f\"{DATASET_DIR}/{DATASET_SPLIT}/rating_splits_augmented.pkl\", \"rb\") as f:\n",
    "    rating_splits_augmented = pickle.load(f)\n",
    "\n",
    "display_pickle_summary(rating_splits_augmented, title=\"Rating Splits Augmented Summary\")"
   ]
  },
  {
   "cell_type": "markdown",
   "id": "a125eb83",
   "metadata": {},
   "source": [
    "#### Zero-Shot Exp Splits"
   ]
  },
  {
   "cell_type": "code",
   "execution_count": 9,
   "id": "7c4396fb",
   "metadata": {},
   "outputs": [
    {
     "data": {
      "text/html": [
       "<pre style=\"white-space:pre;overflow-x:auto;line-height:normal;font-family:Menlo,'DejaVu Sans Mono',consolas,'Courier New',monospace\"><span style=\"font-style: italic\"> Zero-Shot Exp Splits Summary  </span>\n",
       "┏━━━━━━━━━━━━┳━━━━━━━━━━━━━━━━┓\n",
       "┃<span style=\"font-weight: bold\"> Key/Type   </span>┃<span style=\"font-weight: bold\"> Description    </span>┃\n",
       "┡━━━━━━━━━━━━╇━━━━━━━━━━━━━━━━┩\n",
       "│<span style=\"color: #008080; text-decoration-color: #008080\"> list       </span>│<span style=\"color: #800080; text-decoration-color: #800080\"> &lt;class 'list'&gt; </span>│\n",
       "│<span style=\"color: #008080; text-decoration-color: #008080\"> Total Size </span>│<span style=\"color: #800080; text-decoration-color: #800080\"> 0              </span>│\n",
       "└────────────┴────────────────┘\n",
       "</pre>\n"
      ],
      "text/plain": [
       "\u001b[3m Zero-Shot Exp Splits Summary  \u001b[0m\n",
       "┏━━━━━━━━━━━━┳━━━━━━━━━━━━━━━━┓\n",
       "┃\u001b[1m \u001b[0m\u001b[1mKey/Type  \u001b[0m\u001b[1m \u001b[0m┃\u001b[1m \u001b[0m\u001b[1mDescription   \u001b[0m\u001b[1m \u001b[0m┃\n",
       "┡━━━━━━━━━━━━╇━━━━━━━━━━━━━━━━┩\n",
       "│\u001b[36m \u001b[0m\u001b[36mlist      \u001b[0m\u001b[36m \u001b[0m│\u001b[35m \u001b[0m\u001b[35m<class 'list'>\u001b[0m\u001b[35m \u001b[0m│\n",
       "│\u001b[36m \u001b[0m\u001b[36mTotal Size\u001b[0m\u001b[36m \u001b[0m│\u001b[35m \u001b[0m\u001b[35m0             \u001b[0m\u001b[35m \u001b[0m│\n",
       "└────────────┴────────────────┘\n"
      ]
     },
     "metadata": {},
     "output_type": "display_data"
    }
   ],
   "source": [
    "with open(f\"{DATASET_DIR}/{DATASET_SPLIT}/zeroshot_exp_splits.pkl\", \"rb\") as f:\n",
    "    zeroshot_exp_splits = pickle.load(f)\n",
    "\n",
    "display_pickle_summary(zeroshot_exp_splits, title=\"Zero-Shot Exp Splits Summary\")"
   ]
  },
  {
   "cell_type": "markdown",
   "id": "a02781f4",
   "metadata": {},
   "source": [
    "#### user_id2name"
   ]
  },
  {
   "cell_type": "code",
   "execution_count": 10,
   "id": "50a9d275",
   "metadata": {},
   "outputs": [
    {
     "data": {
      "text/plain": [
       "22363"
      ]
     },
     "execution_count": 10,
     "metadata": {},
     "output_type": "execute_result"
    }
   ],
   "source": [
    "with open(f\"{DATASET_DIR}/{DATASET_SPLIT}/user_id2name.pkl\", \"rb\") as f:\n",
    "    user_id2name = pickle.load(f)\n",
    "\n",
    "len(user_id2name)"
   ]
  },
  {
   "cell_type": "code",
   "execution_count": 39,
   "id": "bddd1506",
   "metadata": {},
   "outputs": [
    {
     "data": {
      "text/html": [
       "<pre style=\"white-space:pre;overflow-x:auto;line-height:normal;font-family:Menlo,'DejaVu Sans Mono',consolas,'Courier New',monospace\"><span style=\"font-style: italic\">          Data Maps Summary          </span>\n",
       "┏━━━━━━━━━━━━━━━━━┳━━━━━━━━━━━━━━━━━┓\n",
       "┃<span style=\"font-weight: bold\"> Key/Type        </span>┃<span style=\"font-weight: bold\"> Description     </span>┃\n",
       "┡━━━━━━━━━━━━━━━━━╇━━━━━━━━━━━━━━━━━┩\n",
       "│<span style=\"color: #008080; text-decoration-color: #008080\"> user2id         </span>│<span style=\"color: #800080; text-decoration-color: #800080\"> dict, len=19412 </span>│\n",
       "│<span style=\"color: #008080; text-decoration-color: #008080\"> item2id         </span>│<span style=\"color: #800080; text-decoration-color: #800080\"> dict, len=11924 </span>│\n",
       "│<span style=\"color: #008080; text-decoration-color: #008080\"> id2user         </span>│<span style=\"color: #800080; text-decoration-color: #800080\"> dict, len=19412 </span>│\n",
       "│<span style=\"color: #008080; text-decoration-color: #008080\"> id2item         </span>│<span style=\"color: #800080; text-decoration-color: #800080\"> dict, len=11924 </span>│\n",
       "│<span style=\"color: #008080; text-decoration-color: #008080\"> attribute2id    </span>│<span style=\"color: #800080; text-decoration-color: #800080\"> dict, len=1759  </span>│\n",
       "│<span style=\"color: #008080; text-decoration-color: #008080\"> id2attribute    </span>│<span style=\"color: #800080; text-decoration-color: #800080\"> dict, len=1759  </span>│\n",
       "│<span style=\"color: #008080; text-decoration-color: #008080\"> attributeid2num </span>│<span style=\"color: #800080; text-decoration-color: #800080\"> dict, len=1759  </span>│\n",
       "│<span style=\"color: #008080; text-decoration-color: #008080\"> Total Size      </span>│<span style=\"color: #800080; text-decoration-color: #800080\"> N/A             </span>│\n",
       "└─────────────────┴─────────────────┘\n",
       "</pre>\n"
      ],
      "text/plain": [
       "\u001b[3m          Data Maps Summary          \u001b[0m\n",
       "┏━━━━━━━━━━━━━━━━━┳━━━━━━━━━━━━━━━━━┓\n",
       "┃\u001b[1m \u001b[0m\u001b[1mKey/Type       \u001b[0m\u001b[1m \u001b[0m┃\u001b[1m \u001b[0m\u001b[1mDescription    \u001b[0m\u001b[1m \u001b[0m┃\n",
       "┡━━━━━━━━━━━━━━━━━╇━━━━━━━━━━━━━━━━━┩\n",
       "│\u001b[36m \u001b[0m\u001b[36muser2id        \u001b[0m\u001b[36m \u001b[0m│\u001b[35m \u001b[0m\u001b[35mdict, len=19412\u001b[0m\u001b[35m \u001b[0m│\n",
       "│\u001b[36m \u001b[0m\u001b[36mitem2id        \u001b[0m\u001b[36m \u001b[0m│\u001b[35m \u001b[0m\u001b[35mdict, len=11924\u001b[0m\u001b[35m \u001b[0m│\n",
       "│\u001b[36m \u001b[0m\u001b[36mid2user        \u001b[0m\u001b[36m \u001b[0m│\u001b[35m \u001b[0m\u001b[35mdict, len=19412\u001b[0m\u001b[35m \u001b[0m│\n",
       "│\u001b[36m \u001b[0m\u001b[36mid2item        \u001b[0m\u001b[36m \u001b[0m│\u001b[35m \u001b[0m\u001b[35mdict, len=11924\u001b[0m\u001b[35m \u001b[0m│\n",
       "│\u001b[36m \u001b[0m\u001b[36mattribute2id   \u001b[0m\u001b[36m \u001b[0m│\u001b[35m \u001b[0m\u001b[35mdict, len=1759 \u001b[0m\u001b[35m \u001b[0m│\n",
       "│\u001b[36m \u001b[0m\u001b[36mid2attribute   \u001b[0m\u001b[36m \u001b[0m│\u001b[35m \u001b[0m\u001b[35mdict, len=1759 \u001b[0m\u001b[35m \u001b[0m│\n",
       "│\u001b[36m \u001b[0m\u001b[36mattributeid2num\u001b[0m\u001b[36m \u001b[0m│\u001b[35m \u001b[0m\u001b[35mdict, len=1759 \u001b[0m\u001b[35m \u001b[0m│\n",
       "│\u001b[36m \u001b[0m\u001b[36mTotal Size     \u001b[0m\u001b[36m \u001b[0m│\u001b[35m \u001b[0m\u001b[35mN/A            \u001b[0m\u001b[35m \u001b[0m│\n",
       "└─────────────────┴─────────────────┘\n"
      ]
     },
     "metadata": {},
     "output_type": "display_data"
    }
   ],
   "source": [
    "with open(f\"{DATASET_DIR}/{DATASET_SPLIT}/datamaps.json\", \"rb\") as f:\n",
    "    datamaps = json.load(f)\n",
    "\n",
    "display_pickle_summary(datamaps, title=\"Data Maps Summary\")"
   ]
  },
  {
   "cell_type": "markdown",
   "id": "4f670f1c",
   "metadata": {},
   "source": [
    "### Metadata"
   ]
  },
  {
   "cell_type": "code",
   "execution_count": 58,
   "id": "02af68b0",
   "metadata": {},
   "outputs": [
    {
     "data": {
      "text/plain": [
       "(532197, 9)"
      ]
     },
     "execution_count": 58,
     "metadata": {},
     "output_type": "execute_result"
    }
   ],
   "source": [
    "DATASET_SPLIT = \"sports\"\n",
    "\n",
    "def parse(path):\n",
    "  g = gzip.open(path, 'rb')\n",
    "  for l in g:\n",
    "    yield eval(l)\n",
    "\n",
    "def getDF(path):\n",
    "  i = 0\n",
    "  df = {}\n",
    "  for d in parse(path):\n",
    "    df[i] = d\n",
    "    i += 1\n",
    "  return pd.DataFrame.from_dict(df, orient='index')\n",
    "\n",
    "df = getDF(f\"{DATASET_DIR}/{DATASET_SPLIT}/meta.json.gz\")\n",
    "df.shape"
   ]
  },
  {
   "cell_type": "code",
   "execution_count": 60,
   "id": "40830e8f",
   "metadata": {},
   "outputs": [
    {
     "data": {
      "text/html": [
       "<pre style=\"white-space:pre;overflow-x:auto;line-height:normal;font-family:Menlo,'DejaVu Sans Mono',consolas,'Courier New',monospace\"><span style=\"font-weight: bold\">(</span><span style=\"color: #008080; text-decoration-color: #008080; font-weight: bold\">532197</span>, <span style=\"color: #008080; text-decoration-color: #008080; font-weight: bold\">9</span><span style=\"font-weight: bold\">)</span>\n",
       "</pre>\n"
      ],
      "text/plain": [
       "\u001b[1m(\u001b[0m\u001b[1;36m532197\u001b[0m, \u001b[1;36m9\u001b[0m\u001b[1m)\u001b[0m\n"
      ]
     },
     "metadata": {},
     "output_type": "display_data"
    },
    {
     "data": {
      "text/html": [
       "<div>\n",
       "<style scoped>\n",
       "    .dataframe tbody tr th:only-of-type {\n",
       "        vertical-align: middle;\n",
       "    }\n",
       "\n",
       "    .dataframe tbody tr th {\n",
       "        vertical-align: top;\n",
       "    }\n",
       "\n",
       "    .dataframe thead th {\n",
       "        text-align: right;\n",
       "    }\n",
       "</style>\n",
       "<table border=\"1\" class=\"dataframe\">\n",
       "  <thead>\n",
       "    <tr style=\"text-align: right;\">\n",
       "      <th></th>\n",
       "      <th>asin</th>\n",
       "      <th>title</th>\n",
       "      <th>price</th>\n",
       "      <th>imUrl</th>\n",
       "      <th>related</th>\n",
       "      <th>brand</th>\n",
       "      <th>categories</th>\n",
       "      <th>salesRank</th>\n",
       "      <th>description</th>\n",
       "    </tr>\n",
       "  </thead>\n",
       "  <tbody>\n",
       "    <tr>\n",
       "      <th>0</th>\n",
       "      <td>0000032069</td>\n",
       "      <td>Adult Ballet Tutu Cheetah Pink</td>\n",
       "      <td>7.89</td>\n",
       "      <td>http://ecx.images-amazon.com/images/I/51EzU6qu...</td>\n",
       "      <td>{'also_bought': ['0000032050', 'B00D0DJAEG', '...</td>\n",
       "      <td>BubuBibi</td>\n",
       "      <td>[[Sports &amp; Outdoors, Other Sports, Dance, Clot...</td>\n",
       "      <td>NaN</td>\n",
       "      <td>NaN</td>\n",
       "    </tr>\n",
       "    <tr>\n",
       "      <th>1</th>\n",
       "      <td>0000031909</td>\n",
       "      <td>Girls Ballet Tutu Neon Pink</td>\n",
       "      <td>7.00</td>\n",
       "      <td>http://ecx.images-amazon.com/images/I/41xBoP0F...</td>\n",
       "      <td>{'also_bought': ['B002BZX8Z6', 'B00JHONN1S', '...</td>\n",
       "      <td>Unknown</td>\n",
       "      <td>[[Sports &amp; Outdoors, Other Sports, Dance]]</td>\n",
       "      <td>{'Toys &amp; Games': 201847}</td>\n",
       "      <td>High quality 3 layer ballet tutu. 12 inches in...</td>\n",
       "    </tr>\n",
       "    <tr>\n",
       "      <th>2</th>\n",
       "      <td>0000032034</td>\n",
       "      <td>Adult Ballet Tutu Yellow</td>\n",
       "      <td>7.87</td>\n",
       "      <td>http://ecx.images-amazon.com/images/I/21GNUNIa...</td>\n",
       "      <td>{'also_bought': ['B00D2JSRFQ', '0000032042', '...</td>\n",
       "      <td>BubuBibi</td>\n",
       "      <td>[[Sports &amp; Outdoors, Other Sports, Dance, Clot...</td>\n",
       "      <td>NaN</td>\n",
       "      <td>NaN</td>\n",
       "    </tr>\n",
       "    <tr>\n",
       "      <th>3</th>\n",
       "      <td>0000031852</td>\n",
       "      <td>Girls Ballet Tutu Zebra Hot Pink</td>\n",
       "      <td>3.17</td>\n",
       "      <td>http://ecx.images-amazon.com/images/I/51fAmVkT...</td>\n",
       "      <td>{'also_bought': ['B00JHONN1S', 'B002BZX8Z6', '...</td>\n",
       "      <td>Coxlures</td>\n",
       "      <td>[[Sports &amp; Outdoors, Other Sports, Dance]]</td>\n",
       "      <td>{'Toys &amp; Games': 211836}</td>\n",
       "      <td>TUtu</td>\n",
       "    </tr>\n",
       "    <tr>\n",
       "      <th>4</th>\n",
       "      <td>0000032050</td>\n",
       "      <td>Adult Ballet Tutu Purple</td>\n",
       "      <td>12.85</td>\n",
       "      <td>http://ecx.images-amazon.com/images/I/41TxNYG8...</td>\n",
       "      <td>{'also_bought': ['B00D2JSRFQ', 'B00D2JTMS2', '...</td>\n",
       "      <td>BubuBibi</td>\n",
       "      <td>[[Sports &amp; Outdoors, Other Sports, Dance, Clot...</td>\n",
       "      <td>NaN</td>\n",
       "      <td>NaN</td>\n",
       "    </tr>\n",
       "  </tbody>\n",
       "</table>\n",
       "</div>"
      ],
      "text/plain": [
       "         asin                             title  price  \\\n",
       "0  0000032069    Adult Ballet Tutu Cheetah Pink   7.89   \n",
       "1  0000031909       Girls Ballet Tutu Neon Pink   7.00   \n",
       "2  0000032034          Adult Ballet Tutu Yellow   7.87   \n",
       "3  0000031852  Girls Ballet Tutu Zebra Hot Pink   3.17   \n",
       "4  0000032050          Adult Ballet Tutu Purple  12.85   \n",
       "\n",
       "                                               imUrl  \\\n",
       "0  http://ecx.images-amazon.com/images/I/51EzU6qu...   \n",
       "1  http://ecx.images-amazon.com/images/I/41xBoP0F...   \n",
       "2  http://ecx.images-amazon.com/images/I/21GNUNIa...   \n",
       "3  http://ecx.images-amazon.com/images/I/51fAmVkT...   \n",
       "4  http://ecx.images-amazon.com/images/I/41TxNYG8...   \n",
       "\n",
       "                                             related     brand  \\\n",
       "0  {'also_bought': ['0000032050', 'B00D0DJAEG', '...  BubuBibi   \n",
       "1  {'also_bought': ['B002BZX8Z6', 'B00JHONN1S', '...   Unknown   \n",
       "2  {'also_bought': ['B00D2JSRFQ', '0000032042', '...  BubuBibi   \n",
       "3  {'also_bought': ['B00JHONN1S', 'B002BZX8Z6', '...  Coxlures   \n",
       "4  {'also_bought': ['B00D2JSRFQ', 'B00D2JTMS2', '...  BubuBibi   \n",
       "\n",
       "                                          categories  \\\n",
       "0  [[Sports & Outdoors, Other Sports, Dance, Clot...   \n",
       "1         [[Sports & Outdoors, Other Sports, Dance]]   \n",
       "2  [[Sports & Outdoors, Other Sports, Dance, Clot...   \n",
       "3         [[Sports & Outdoors, Other Sports, Dance]]   \n",
       "4  [[Sports & Outdoors, Other Sports, Dance, Clot...   \n",
       "\n",
       "                  salesRank                                        description  \n",
       "0                       NaN                                                NaN  \n",
       "1  {'Toys & Games': 201847}  High quality 3 layer ballet tutu. 12 inches in...  \n",
       "2                       NaN                                                NaN  \n",
       "3  {'Toys & Games': 211836}                                               TUtu  \n",
       "4                       NaN                                                NaN  "
      ]
     },
     "execution_count": 60,
     "metadata": {},
     "output_type": "execute_result"
    }
   ],
   "source": [
    "rprint(df.shape)\n",
    "df.head()"
   ]
  },
  {
   "cell_type": "code",
   "execution_count": 61,
   "id": "ea42cce9",
   "metadata": {},
   "outputs": [
    {
     "name": "stdout",
     "output_type": "stream",
     "text": [
      "<class 'pandas.core.frame.DataFrame'>\n",
      "Int64Index: 532197 entries, 0 to 532196\n",
      "Data columns (total 9 columns):\n",
      " #   Column       Non-Null Count   Dtype  \n",
      "---  ------       --------------   -----  \n",
      " 0   asin         532197 non-null  object \n",
      " 1   title        529901 non-null  object \n",
      " 2   price        287792 non-null  float64\n",
      " 3   imUrl        531613 non-null  object \n",
      " 4   related      388118 non-null  object \n",
      " 5   brand        152487 non-null  object \n",
      " 6   categories   532197 non-null  object \n",
      " 7   salesRank    486349 non-null  object \n",
      " 8   description  402371 non-null  object \n",
      "dtypes: float64(1), object(8)\n",
      "memory usage: 40.6+ MB\n"
     ]
    }
   ],
   "source": [
    "df.info()"
   ]
  },
  {
   "cell_type": "code",
   "execution_count": 62,
   "id": "36e1b1cc",
   "metadata": {},
   "outputs": [
    {
     "data": {
      "text/html": [
       "<pre style=\"white-space:pre;overflow-x:auto;line-height:normal;font-family:Menlo,'DejaVu Sans Mono',consolas,'Courier New',monospace\">DataFrame shape: <span style=\"font-weight: bold\">(</span><span style=\"color: #008080; text-decoration-color: #008080; font-weight: bold\">532197</span>, <span style=\"color: #008080; text-decoration-color: #008080; font-weight: bold\">9</span><span style=\"font-weight: bold\">)</span>\n",
       "</pre>\n"
      ],
      "text/plain": [
       "DataFrame shape: \u001b[1m(\u001b[0m\u001b[1;36m532197\u001b[0m, \u001b[1;36m9\u001b[0m\u001b[1m)\u001b[0m\n"
      ]
     },
     "metadata": {},
     "output_type": "display_data"
    },
    {
     "data": {
      "text/html": [
       "<pre style=\"white-space:pre;overflow-x:auto;line-height:normal;font-family:Menlo,'DejaVu Sans Mono',consolas,'Courier New',monospace\"><span style=\"font-style: italic\">                              Metadata Stats                               </span>\n",
       "┏━━━━━━━━━━━━━┳━━━━━━━━━━━━━━━━┳━━━━━━━━━━━━━━┳━━━━━━━━━━━━━━━┳━━━━━━━━━━━┓\n",
       "┃<span style=\"font-weight: bold\"> Column      </span>┃<span style=\"font-weight: bold\"> Non-Null Count </span>┃<span style=\"font-weight: bold\"> Unique Count </span>┃<span style=\"font-weight: bold\"> Null/NA Count </span>┃<span style=\"font-weight: bold\"> Data Type </span>┃\n",
       "┡━━━━━━━━━━━━━╇━━━━━━━━━━━━━━━━╇━━━━━━━━━━━━━━╇━━━━━━━━━━━━━━━╇━━━━━━━━━━━┩\n",
       "│<span style=\"color: #008080; text-decoration-color: #008080\"> asin        </span>│<span style=\"color: #808000; text-decoration-color: #808000\"> 532197         </span>│<span style=\"color: #800080; text-decoration-color: #800080\"> 532197       </span>│<span style=\"color: #800000; text-decoration-color: #800000\"> 0             </span>│<span style=\"color: #008000; text-decoration-color: #008000\"> object    </span>│\n",
       "│<span style=\"color: #008080; text-decoration-color: #008080\"> title       </span>│<span style=\"color: #808000; text-decoration-color: #808000\"> 529901         </span>│<span style=\"color: #800080; text-decoration-color: #800080\"> 483759       </span>│<span style=\"color: #800000; text-decoration-color: #800000\"> 2296          </span>│<span style=\"color: #008000; text-decoration-color: #008000\"> object    </span>│\n",
       "│<span style=\"color: #008080; text-decoration-color: #008080\"> price       </span>│<span style=\"color: #808000; text-decoration-color: #808000\"> 287792         </span>│<span style=\"color: #800080; text-decoration-color: #800080\"> 18999        </span>│<span style=\"color: #800000; text-decoration-color: #800000\"> 244405        </span>│<span style=\"color: #008000; text-decoration-color: #008000\"> float64   </span>│\n",
       "│<span style=\"color: #008080; text-decoration-color: #008080\"> imUrl       </span>│<span style=\"color: #808000; text-decoration-color: #808000\"> 531613         </span>│<span style=\"color: #800080; text-decoration-color: #800080\"> 477717       </span>│<span style=\"color: #800000; text-decoration-color: #800000\"> 584           </span>│<span style=\"color: #008000; text-decoration-color: #008000\"> object    </span>│\n",
       "│<span style=\"color: #008080; text-decoration-color: #008080\"> related     </span>│<span style=\"color: #808000; text-decoration-color: #808000\"> 388118         </span>│<span style=\"color: #800080; text-decoration-color: #800080\"> Error        </span>│<span style=\"color: #800000; text-decoration-color: #800000\"> 144079        </span>│<span style=\"color: #008000; text-decoration-color: #008000\"> object    </span>│\n",
       "│<span style=\"color: #008080; text-decoration-color: #008080\"> brand       </span>│<span style=\"color: #808000; text-decoration-color: #808000\"> 152487         </span>│<span style=\"color: #800080; text-decoration-color: #800080\"> 14164        </span>│<span style=\"color: #800000; text-decoration-color: #800000\"> 379710        </span>│<span style=\"color: #008000; text-decoration-color: #008000\"> object    </span>│\n",
       "│<span style=\"color: #008080; text-decoration-color: #008080\"> categories  </span>│<span style=\"color: #808000; text-decoration-color: #808000\"> 532197         </span>│<span style=\"color: #800080; text-decoration-color: #800080\"> Error        </span>│<span style=\"color: #800000; text-decoration-color: #800000\"> 0             </span>│<span style=\"color: #008000; text-decoration-color: #008000\"> object    </span>│\n",
       "│<span style=\"color: #008080; text-decoration-color: #008080\"> salesRank   </span>│<span style=\"color: #808000; text-decoration-color: #808000\"> 486349         </span>│<span style=\"color: #800080; text-decoration-color: #800080\"> Error        </span>│<span style=\"color: #800000; text-decoration-color: #800000\"> 45848         </span>│<span style=\"color: #008000; text-decoration-color: #008000\"> object    </span>│\n",
       "│<span style=\"color: #008080; text-decoration-color: #008080\"> description </span>│<span style=\"color: #808000; text-decoration-color: #808000\"> 402371         </span>│<span style=\"color: #800080; text-decoration-color: #800080\"> 301223       </span>│<span style=\"color: #800000; text-decoration-color: #800000\"> 129826        </span>│<span style=\"color: #008000; text-decoration-color: #008000\"> object    </span>│\n",
       "└─────────────┴────────────────┴──────────────┴───────────────┴───────────┘\n",
       "</pre>\n"
      ],
      "text/plain": [
       "\u001b[3m                              Metadata Stats                               \u001b[0m\n",
       "┏━━━━━━━━━━━━━┳━━━━━━━━━━━━━━━━┳━━━━━━━━━━━━━━┳━━━━━━━━━━━━━━━┳━━━━━━━━━━━┓\n",
       "┃\u001b[1m \u001b[0m\u001b[1mColumn     \u001b[0m\u001b[1m \u001b[0m┃\u001b[1m \u001b[0m\u001b[1mNon-Null Count\u001b[0m\u001b[1m \u001b[0m┃\u001b[1m \u001b[0m\u001b[1mUnique Count\u001b[0m\u001b[1m \u001b[0m┃\u001b[1m \u001b[0m\u001b[1mNull/NA Count\u001b[0m\u001b[1m \u001b[0m┃\u001b[1m \u001b[0m\u001b[1mData Type\u001b[0m\u001b[1m \u001b[0m┃\n",
       "┡━━━━━━━━━━━━━╇━━━━━━━━━━━━━━━━╇━━━━━━━━━━━━━━╇━━━━━━━━━━━━━━━╇━━━━━━━━━━━┩\n",
       "│\u001b[36m \u001b[0m\u001b[36masin       \u001b[0m\u001b[36m \u001b[0m│\u001b[33m \u001b[0m\u001b[33m532197        \u001b[0m\u001b[33m \u001b[0m│\u001b[35m \u001b[0m\u001b[35m532197      \u001b[0m\u001b[35m \u001b[0m│\u001b[31m \u001b[0m\u001b[31m0            \u001b[0m\u001b[31m \u001b[0m│\u001b[32m \u001b[0m\u001b[32mobject   \u001b[0m\u001b[32m \u001b[0m│\n",
       "│\u001b[36m \u001b[0m\u001b[36mtitle      \u001b[0m\u001b[36m \u001b[0m│\u001b[33m \u001b[0m\u001b[33m529901        \u001b[0m\u001b[33m \u001b[0m│\u001b[35m \u001b[0m\u001b[35m483759      \u001b[0m\u001b[35m \u001b[0m│\u001b[31m \u001b[0m\u001b[31m2296         \u001b[0m\u001b[31m \u001b[0m│\u001b[32m \u001b[0m\u001b[32mobject   \u001b[0m\u001b[32m \u001b[0m│\n",
       "│\u001b[36m \u001b[0m\u001b[36mprice      \u001b[0m\u001b[36m \u001b[0m│\u001b[33m \u001b[0m\u001b[33m287792        \u001b[0m\u001b[33m \u001b[0m│\u001b[35m \u001b[0m\u001b[35m18999       \u001b[0m\u001b[35m \u001b[0m│\u001b[31m \u001b[0m\u001b[31m244405       \u001b[0m\u001b[31m \u001b[0m│\u001b[32m \u001b[0m\u001b[32mfloat64  \u001b[0m\u001b[32m \u001b[0m│\n",
       "│\u001b[36m \u001b[0m\u001b[36mimUrl      \u001b[0m\u001b[36m \u001b[0m│\u001b[33m \u001b[0m\u001b[33m531613        \u001b[0m\u001b[33m \u001b[0m│\u001b[35m \u001b[0m\u001b[35m477717      \u001b[0m\u001b[35m \u001b[0m│\u001b[31m \u001b[0m\u001b[31m584          \u001b[0m\u001b[31m \u001b[0m│\u001b[32m \u001b[0m\u001b[32mobject   \u001b[0m\u001b[32m \u001b[0m│\n",
       "│\u001b[36m \u001b[0m\u001b[36mrelated    \u001b[0m\u001b[36m \u001b[0m│\u001b[33m \u001b[0m\u001b[33m388118        \u001b[0m\u001b[33m \u001b[0m│\u001b[35m \u001b[0m\u001b[35mError       \u001b[0m\u001b[35m \u001b[0m│\u001b[31m \u001b[0m\u001b[31m144079       \u001b[0m\u001b[31m \u001b[0m│\u001b[32m \u001b[0m\u001b[32mobject   \u001b[0m\u001b[32m \u001b[0m│\n",
       "│\u001b[36m \u001b[0m\u001b[36mbrand      \u001b[0m\u001b[36m \u001b[0m│\u001b[33m \u001b[0m\u001b[33m152487        \u001b[0m\u001b[33m \u001b[0m│\u001b[35m \u001b[0m\u001b[35m14164       \u001b[0m\u001b[35m \u001b[0m│\u001b[31m \u001b[0m\u001b[31m379710       \u001b[0m\u001b[31m \u001b[0m│\u001b[32m \u001b[0m\u001b[32mobject   \u001b[0m\u001b[32m \u001b[0m│\n",
       "│\u001b[36m \u001b[0m\u001b[36mcategories \u001b[0m\u001b[36m \u001b[0m│\u001b[33m \u001b[0m\u001b[33m532197        \u001b[0m\u001b[33m \u001b[0m│\u001b[35m \u001b[0m\u001b[35mError       \u001b[0m\u001b[35m \u001b[0m│\u001b[31m \u001b[0m\u001b[31m0            \u001b[0m\u001b[31m \u001b[0m│\u001b[32m \u001b[0m\u001b[32mobject   \u001b[0m\u001b[32m \u001b[0m│\n",
       "│\u001b[36m \u001b[0m\u001b[36msalesRank  \u001b[0m\u001b[36m \u001b[0m│\u001b[33m \u001b[0m\u001b[33m486349        \u001b[0m\u001b[33m \u001b[0m│\u001b[35m \u001b[0m\u001b[35mError       \u001b[0m\u001b[35m \u001b[0m│\u001b[31m \u001b[0m\u001b[31m45848        \u001b[0m\u001b[31m \u001b[0m│\u001b[32m \u001b[0m\u001b[32mobject   \u001b[0m\u001b[32m \u001b[0m│\n",
       "│\u001b[36m \u001b[0m\u001b[36mdescription\u001b[0m\u001b[36m \u001b[0m│\u001b[33m \u001b[0m\u001b[33m402371        \u001b[0m\u001b[33m \u001b[0m│\u001b[35m \u001b[0m\u001b[35m301223      \u001b[0m\u001b[35m \u001b[0m│\u001b[31m \u001b[0m\u001b[31m129826       \u001b[0m\u001b[31m \u001b[0m│\u001b[32m \u001b[0m\u001b[32mobject   \u001b[0m\u001b[32m \u001b[0m│\n",
       "└─────────────┴────────────────┴──────────────┴───────────────┴───────────┘\n"
      ]
     },
     "metadata": {},
     "output_type": "display_data"
    }
   ],
   "source": [
    "df_stats(df, title=\"Metadata Stats\")"
   ]
  },
  {
   "cell_type": "code",
   "execution_count": 70,
   "id": "11e568a6",
   "metadata": {},
   "outputs": [
    {
     "data": {
      "text/plain": [
       "(18357, 2)"
      ]
     },
     "execution_count": 70,
     "metadata": {},
     "output_type": "execute_result"
    }
   ],
   "source": [
    "with open(f\"{DATASET_DIR}/{DATASET_SPLIT}/datamaps.json\", \"rb\") as f:\n",
    "    datamaps = json.load(f)\n",
    "\n",
    "def _remap_ids(x):\n",
    "    return x - 1\n",
    "\n",
    "# Compute item features\n",
    "asin2id = pd.DataFrame(\n",
    "    [\n",
    "        {\"asin\": k, \"id\": _remap_ids(int(v))}\n",
    "        for k, v in datamaps[\"item2id\"].items()\n",
    "    ]\n",
    ")\n",
    "asin2id.shape"
   ]
  },
  {
   "cell_type": "code",
   "execution_count": 64,
   "id": "f2955bab",
   "metadata": {},
   "outputs": [
    {
     "data": {
      "text/plain": [
       "(18357, 10)"
      ]
     },
     "execution_count": 64,
     "metadata": {},
     "output_type": "execute_result"
    }
   ],
   "source": [
    "item_data = df.merge(asin2id, on=\"asin\").sort_values(by=\"id\").fillna({\"brand\": \"Unknown\"})\n",
    "item_data.shape"
   ]
  },
  {
   "cell_type": "code",
   "execution_count": 65,
   "id": "23b43ceb",
   "metadata": {},
   "outputs": [
    {
     "data": {
      "text/html": [
       "<pre style=\"white-space:pre;overflow-x:auto;line-height:normal;font-family:Menlo,'DejaVu Sans Mono',consolas,'Courier New',monospace\">DataFrame shape: <span style=\"font-weight: bold\">(</span><span style=\"color: #008080; text-decoration-color: #008080; font-weight: bold\">18357</span>, <span style=\"color: #008080; text-decoration-color: #008080; font-weight: bold\">10</span><span style=\"font-weight: bold\">)</span>\n",
       "</pre>\n"
      ],
      "text/plain": [
       "DataFrame shape: \u001b[1m(\u001b[0m\u001b[1;36m18357\u001b[0m, \u001b[1;36m10\u001b[0m\u001b[1m)\u001b[0m\n"
      ]
     },
     "metadata": {},
     "output_type": "display_data"
    },
    {
     "data": {
      "text/html": [
       "<pre style=\"white-space:pre;overflow-x:auto;line-height:normal;font-family:Menlo,'DejaVu Sans Mono',consolas,'Courier New',monospace\"><span style=\"font-style: italic\">                              Item Data Stats                              </span>\n",
       "┏━━━━━━━━━━━━━┳━━━━━━━━━━━━━━━━┳━━━━━━━━━━━━━━┳━━━━━━━━━━━━━━━┳━━━━━━━━━━━┓\n",
       "┃<span style=\"font-weight: bold\"> Column      </span>┃<span style=\"font-weight: bold\"> Non-Null Count </span>┃<span style=\"font-weight: bold\"> Unique Count </span>┃<span style=\"font-weight: bold\"> Null/NA Count </span>┃<span style=\"font-weight: bold\"> Data Type </span>┃\n",
       "┡━━━━━━━━━━━━━╇━━━━━━━━━━━━━━━━╇━━━━━━━━━━━━━━╇━━━━━━━━━━━━━━━╇━━━━━━━━━━━┩\n",
       "│<span style=\"color: #008080; text-decoration-color: #008080\"> asin        </span>│<span style=\"color: #808000; text-decoration-color: #808000\"> 18357          </span>│<span style=\"color: #800080; text-decoration-color: #800080\"> 18357        </span>│<span style=\"color: #800000; text-decoration-color: #800000\"> 0             </span>│<span style=\"color: #008000; text-decoration-color: #008000\"> object    </span>│\n",
       "│<span style=\"color: #008080; text-decoration-color: #008080\"> title       </span>│<span style=\"color: #808000; text-decoration-color: #808000\"> 18267          </span>│<span style=\"color: #800080; text-decoration-color: #800080\"> 18186        </span>│<span style=\"color: #800000; text-decoration-color: #800000\"> 90            </span>│<span style=\"color: #008000; text-decoration-color: #008000\"> object    </span>│\n",
       "│<span style=\"color: #008080; text-decoration-color: #008080\"> price       </span>│<span style=\"color: #808000; text-decoration-color: #808000\"> 14764          </span>│<span style=\"color: #800080; text-decoration-color: #800080\"> 5070         </span>│<span style=\"color: #800000; text-decoration-color: #800000\"> 3593          </span>│<span style=\"color: #008000; text-decoration-color: #008000\"> float64   </span>│\n",
       "│<span style=\"color: #008080; text-decoration-color: #008080\"> imUrl       </span>│<span style=\"color: #808000; text-decoration-color: #808000\"> 18325          </span>│<span style=\"color: #800080; text-decoration-color: #800080\"> 17982        </span>│<span style=\"color: #800000; text-decoration-color: #800000\"> 32            </span>│<span style=\"color: #008000; text-decoration-color: #008000\"> object    </span>│\n",
       "│<span style=\"color: #008080; text-decoration-color: #008080\"> related     </span>│<span style=\"color: #808000; text-decoration-color: #808000\"> 18236          </span>│<span style=\"color: #800080; text-decoration-color: #800080\"> Error        </span>│<span style=\"color: #800000; text-decoration-color: #800000\"> 121           </span>│<span style=\"color: #008000; text-decoration-color: #008000\"> object    </span>│\n",
       "│<span style=\"color: #008080; text-decoration-color: #008080\"> brand       </span>│<span style=\"color: #808000; text-decoration-color: #808000\"> 18357          </span>│<span style=\"color: #800080; text-decoration-color: #800080\"> 2412         </span>│<span style=\"color: #800000; text-decoration-color: #800000\"> 0             </span>│<span style=\"color: #008000; text-decoration-color: #008000\"> object    </span>│\n",
       "│<span style=\"color: #008080; text-decoration-color: #008080\"> categories  </span>│<span style=\"color: #808000; text-decoration-color: #808000\"> 18357          </span>│<span style=\"color: #800080; text-decoration-color: #800080\"> Error        </span>│<span style=\"color: #800000; text-decoration-color: #800000\"> 0             </span>│<span style=\"color: #008000; text-decoration-color: #008000\"> object    </span>│\n",
       "│<span style=\"color: #008080; text-decoration-color: #008080\"> salesRank   </span>│<span style=\"color: #808000; text-decoration-color: #808000\"> 16055          </span>│<span style=\"color: #800080; text-decoration-color: #800080\"> Error        </span>│<span style=\"color: #800000; text-decoration-color: #800000\"> 2302          </span>│<span style=\"color: #008000; text-decoration-color: #008000\"> object    </span>│\n",
       "│<span style=\"color: #008080; text-decoration-color: #008080\"> description </span>│<span style=\"color: #808000; text-decoration-color: #808000\"> 16620          </span>│<span style=\"color: #800080; text-decoration-color: #800080\"> 14731        </span>│<span style=\"color: #800000; text-decoration-color: #800000\"> 1737          </span>│<span style=\"color: #008000; text-decoration-color: #008000\"> object    </span>│\n",
       "│<span style=\"color: #008080; text-decoration-color: #008080\"> id          </span>│<span style=\"color: #808000; text-decoration-color: #808000\"> 18357          </span>│<span style=\"color: #800080; text-decoration-color: #800080\"> 18357        </span>│<span style=\"color: #800000; text-decoration-color: #800000\"> 0             </span>│<span style=\"color: #008000; text-decoration-color: #008000\"> int64     </span>│\n",
       "└─────────────┴────────────────┴──────────────┴───────────────┴───────────┘\n",
       "</pre>\n"
      ],
      "text/plain": [
       "\u001b[3m                              Item Data Stats                              \u001b[0m\n",
       "┏━━━━━━━━━━━━━┳━━━━━━━━━━━━━━━━┳━━━━━━━━━━━━━━┳━━━━━━━━━━━━━━━┳━━━━━━━━━━━┓\n",
       "┃\u001b[1m \u001b[0m\u001b[1mColumn     \u001b[0m\u001b[1m \u001b[0m┃\u001b[1m \u001b[0m\u001b[1mNon-Null Count\u001b[0m\u001b[1m \u001b[0m┃\u001b[1m \u001b[0m\u001b[1mUnique Count\u001b[0m\u001b[1m \u001b[0m┃\u001b[1m \u001b[0m\u001b[1mNull/NA Count\u001b[0m\u001b[1m \u001b[0m┃\u001b[1m \u001b[0m\u001b[1mData Type\u001b[0m\u001b[1m \u001b[0m┃\n",
       "┡━━━━━━━━━━━━━╇━━━━━━━━━━━━━━━━╇━━━━━━━━━━━━━━╇━━━━━━━━━━━━━━━╇━━━━━━━━━━━┩\n",
       "│\u001b[36m \u001b[0m\u001b[36masin       \u001b[0m\u001b[36m \u001b[0m│\u001b[33m \u001b[0m\u001b[33m18357         \u001b[0m\u001b[33m \u001b[0m│\u001b[35m \u001b[0m\u001b[35m18357       \u001b[0m\u001b[35m \u001b[0m│\u001b[31m \u001b[0m\u001b[31m0            \u001b[0m\u001b[31m \u001b[0m│\u001b[32m \u001b[0m\u001b[32mobject   \u001b[0m\u001b[32m \u001b[0m│\n",
       "│\u001b[36m \u001b[0m\u001b[36mtitle      \u001b[0m\u001b[36m \u001b[0m│\u001b[33m \u001b[0m\u001b[33m18267         \u001b[0m\u001b[33m \u001b[0m│\u001b[35m \u001b[0m\u001b[35m18186       \u001b[0m\u001b[35m \u001b[0m│\u001b[31m \u001b[0m\u001b[31m90           \u001b[0m\u001b[31m \u001b[0m│\u001b[32m \u001b[0m\u001b[32mobject   \u001b[0m\u001b[32m \u001b[0m│\n",
       "│\u001b[36m \u001b[0m\u001b[36mprice      \u001b[0m\u001b[36m \u001b[0m│\u001b[33m \u001b[0m\u001b[33m14764         \u001b[0m\u001b[33m \u001b[0m│\u001b[35m \u001b[0m\u001b[35m5070        \u001b[0m\u001b[35m \u001b[0m│\u001b[31m \u001b[0m\u001b[31m3593         \u001b[0m\u001b[31m \u001b[0m│\u001b[32m \u001b[0m\u001b[32mfloat64  \u001b[0m\u001b[32m \u001b[0m│\n",
       "│\u001b[36m \u001b[0m\u001b[36mimUrl      \u001b[0m\u001b[36m \u001b[0m│\u001b[33m \u001b[0m\u001b[33m18325         \u001b[0m\u001b[33m \u001b[0m│\u001b[35m \u001b[0m\u001b[35m17982       \u001b[0m\u001b[35m \u001b[0m│\u001b[31m \u001b[0m\u001b[31m32           \u001b[0m\u001b[31m \u001b[0m│\u001b[32m \u001b[0m\u001b[32mobject   \u001b[0m\u001b[32m \u001b[0m│\n",
       "│\u001b[36m \u001b[0m\u001b[36mrelated    \u001b[0m\u001b[36m \u001b[0m│\u001b[33m \u001b[0m\u001b[33m18236         \u001b[0m\u001b[33m \u001b[0m│\u001b[35m \u001b[0m\u001b[35mError       \u001b[0m\u001b[35m \u001b[0m│\u001b[31m \u001b[0m\u001b[31m121          \u001b[0m\u001b[31m \u001b[0m│\u001b[32m \u001b[0m\u001b[32mobject   \u001b[0m\u001b[32m \u001b[0m│\n",
       "│\u001b[36m \u001b[0m\u001b[36mbrand      \u001b[0m\u001b[36m \u001b[0m│\u001b[33m \u001b[0m\u001b[33m18357         \u001b[0m\u001b[33m \u001b[0m│\u001b[35m \u001b[0m\u001b[35m2412        \u001b[0m\u001b[35m \u001b[0m│\u001b[31m \u001b[0m\u001b[31m0            \u001b[0m\u001b[31m \u001b[0m│\u001b[32m \u001b[0m\u001b[32mobject   \u001b[0m\u001b[32m \u001b[0m│\n",
       "│\u001b[36m \u001b[0m\u001b[36mcategories \u001b[0m\u001b[36m \u001b[0m│\u001b[33m \u001b[0m\u001b[33m18357         \u001b[0m\u001b[33m \u001b[0m│\u001b[35m \u001b[0m\u001b[35mError       \u001b[0m\u001b[35m \u001b[0m│\u001b[31m \u001b[0m\u001b[31m0            \u001b[0m\u001b[31m \u001b[0m│\u001b[32m \u001b[0m\u001b[32mobject   \u001b[0m\u001b[32m \u001b[0m│\n",
       "│\u001b[36m \u001b[0m\u001b[36msalesRank  \u001b[0m\u001b[36m \u001b[0m│\u001b[33m \u001b[0m\u001b[33m16055         \u001b[0m\u001b[33m \u001b[0m│\u001b[35m \u001b[0m\u001b[35mError       \u001b[0m\u001b[35m \u001b[0m│\u001b[31m \u001b[0m\u001b[31m2302         \u001b[0m\u001b[31m \u001b[0m│\u001b[32m \u001b[0m\u001b[32mobject   \u001b[0m\u001b[32m \u001b[0m│\n",
       "│\u001b[36m \u001b[0m\u001b[36mdescription\u001b[0m\u001b[36m \u001b[0m│\u001b[33m \u001b[0m\u001b[33m16620         \u001b[0m\u001b[33m \u001b[0m│\u001b[35m \u001b[0m\u001b[35m14731       \u001b[0m\u001b[35m \u001b[0m│\u001b[31m \u001b[0m\u001b[31m1737         \u001b[0m\u001b[31m \u001b[0m│\u001b[32m \u001b[0m\u001b[32mobject   \u001b[0m\u001b[32m \u001b[0m│\n",
       "│\u001b[36m \u001b[0m\u001b[36mid         \u001b[0m\u001b[36m \u001b[0m│\u001b[33m \u001b[0m\u001b[33m18357         \u001b[0m\u001b[33m \u001b[0m│\u001b[35m \u001b[0m\u001b[35m18357       \u001b[0m\u001b[35m \u001b[0m│\u001b[31m \u001b[0m\u001b[31m0            \u001b[0m\u001b[31m \u001b[0m│\u001b[32m \u001b[0m\u001b[32mint64    \u001b[0m\u001b[32m \u001b[0m│\n",
       "└─────────────┴────────────────┴──────────────┴───────────────┴───────────┘\n"
      ]
     },
     "metadata": {},
     "output_type": "display_data"
    }
   ],
   "source": [
    "df_stats(item_data, title=\"Item Data Stats\")"
   ]
  },
  {
   "cell_type": "code",
   "execution_count": 66,
   "id": "acf82968",
   "metadata": {},
   "outputs": [
    {
     "data": {
      "text/html": [
       "<div>\n",
       "<style scoped>\n",
       "    .dataframe tbody tr th:only-of-type {\n",
       "        vertical-align: middle;\n",
       "    }\n",
       "\n",
       "    .dataframe tbody tr th {\n",
       "        vertical-align: top;\n",
       "    }\n",
       "\n",
       "    .dataframe thead th {\n",
       "        text-align: right;\n",
       "    }\n",
       "</style>\n",
       "<table border=\"1\" class=\"dataframe\">\n",
       "  <thead>\n",
       "    <tr style=\"text-align: right;\">\n",
       "      <th></th>\n",
       "      <th>asin</th>\n",
       "      <th>title</th>\n",
       "      <th>price</th>\n",
       "      <th>imUrl</th>\n",
       "      <th>related</th>\n",
       "      <th>brand</th>\n",
       "      <th>categories</th>\n",
       "      <th>salesRank</th>\n",
       "      <th>description</th>\n",
       "      <th>id</th>\n",
       "    </tr>\n",
       "  </thead>\n",
       "  <tbody>\n",
       "    <tr>\n",
       "      <th>0</th>\n",
       "      <td>1881509818</td>\n",
       "      <td>Ghost Inc Glock Armorers Tool 3/32 Punch</td>\n",
       "      <td>9.99</td>\n",
       "      <td>http://ecx.images-amazon.com/images/I/21iMxsyD...</td>\n",
       "      <td>{'also_bought': ['B000U3YWEM', 'B000U401J6', '...</td>\n",
       "      <td>Ghost</td>\n",
       "      <td>[[Sports &amp; Outdoors, Hunting &amp; Fishing, Huntin...</td>\n",
       "      <td>{'Sports &amp;amp; Outdoors': 172909}</td>\n",
       "      <td>Ghost Armorer Tool (1). The GAT is made with a...</td>\n",
       "      <td>0</td>\n",
       "    </tr>\n",
       "    <tr>\n",
       "      <th>11982</th>\n",
       "      <td>B0048KGFHU</td>\n",
       "      <td>Tipton Polymer Gun Cleaning Picks</td>\n",
       "      <td>6.34</td>\n",
       "      <td>http://ecx.images-amazon.com/images/I/31K7ShuO...</td>\n",
       "      <td>{'also_bought': ['B006T6Y56E', 'B00162OKDY', '...</td>\n",
       "      <td>Tipton</td>\n",
       "      <td>[[Sports &amp; Outdoors, Hunting &amp; Fishing, Huntin...</td>\n",
       "      <td>{'Sports &amp;amp; Outdoors': 501}</td>\n",
       "      <td>Here's a clever idea that belongs in every cle...</td>\n",
       "      <td>1</td>\n",
       "    </tr>\n",
       "    <tr>\n",
       "      <th>15852</th>\n",
       "      <td>B0081JJVUC</td>\n",
       "      <td>TekMat 11-Inch X 17-Inch Handgun Cleaning Mat ...</td>\n",
       "      <td>10.67</td>\n",
       "      <td>http://ecx.images-amazon.com/images/I/51gB5DgF...</td>\n",
       "      <td>{'also_bought': ['B0014VX2M2', 'B0036N474S', '...</td>\n",
       "      <td>TekMat</td>\n",
       "      <td>[[Sports &amp; Outdoors, Hunting &amp; Fishing, Huntin...</td>\n",
       "      <td>{'Sports &amp;amp; Outdoors': 9061}</td>\n",
       "      <td>Your gun is a proud possession as well as an i...</td>\n",
       "      <td>2</td>\n",
       "    </tr>\n",
       "    <tr>\n",
       "      <th>3320</th>\n",
       "      <td>B000N8OIE8</td>\n",
       "      <td>Lee Precision Powder Measure Kit</td>\n",
       "      <td>11.46</td>\n",
       "      <td>http://ecx.images-amazon.com/images/I/41T-weQ9...</td>\n",
       "      <td>{'also_bought': ['B000NOUEUO', 'B0013RD6OQ', '...</td>\n",
       "      <td>Lee</td>\n",
       "      <td>[[Sports &amp; Outdoors, Hunting &amp; Fishing, Huntin...</td>\n",
       "      <td>{'Sports &amp;amp; Outdoors': 6842}</td>\n",
       "      <td>Lee Powder Measure Dipper Kit includes 15 grad...</td>\n",
       "      <td>3</td>\n",
       "    </tr>\n",
       "    <tr>\n",
       "      <th>13372</th>\n",
       "      <td>B004Y27DVY</td>\n",
       "      <td>Glock Magazine Speed Loader for 9mm / .40 / .3...</td>\n",
       "      <td>7.88</td>\n",
       "      <td>http://ecx.images-amazon.com/images/I/41dpYrCC...</td>\n",
       "      <td>{'also_bought': ['B0014VX2M2', 'B000U3YWEM', '...</td>\n",
       "      <td>Glock</td>\n",
       "      <td>[[Sports &amp; Outdoors, Hunting &amp; Fishing, Huntin...</td>\n",
       "      <td>{'Sports &amp;amp; Outdoors': 5930}</td>\n",
       "      <td>Stop busting your fingers loading Glock Magazi...</td>\n",
       "      <td>4</td>\n",
       "    </tr>\n",
       "  </tbody>\n",
       "</table>\n",
       "</div>"
      ],
      "text/plain": [
       "             asin                                              title  price  \\\n",
       "0      1881509818           Ghost Inc Glock Armorers Tool 3/32 Punch   9.99   \n",
       "11982  B0048KGFHU                  Tipton Polymer Gun Cleaning Picks   6.34   \n",
       "15852  B0081JJVUC  TekMat 11-Inch X 17-Inch Handgun Cleaning Mat ...  10.67   \n",
       "3320   B000N8OIE8                   Lee Precision Powder Measure Kit  11.46   \n",
       "13372  B004Y27DVY  Glock Magazine Speed Loader for 9mm / .40 / .3...   7.88   \n",
       "\n",
       "                                                   imUrl  \\\n",
       "0      http://ecx.images-amazon.com/images/I/21iMxsyD...   \n",
       "11982  http://ecx.images-amazon.com/images/I/31K7ShuO...   \n",
       "15852  http://ecx.images-amazon.com/images/I/51gB5DgF...   \n",
       "3320   http://ecx.images-amazon.com/images/I/41T-weQ9...   \n",
       "13372  http://ecx.images-amazon.com/images/I/41dpYrCC...   \n",
       "\n",
       "                                                 related   brand  \\\n",
       "0      {'also_bought': ['B000U3YWEM', 'B000U401J6', '...   Ghost   \n",
       "11982  {'also_bought': ['B006T6Y56E', 'B00162OKDY', '...  Tipton   \n",
       "15852  {'also_bought': ['B0014VX2M2', 'B0036N474S', '...  TekMat   \n",
       "3320   {'also_bought': ['B000NOUEUO', 'B0013RD6OQ', '...     Lee   \n",
       "13372  {'also_bought': ['B0014VX2M2', 'B000U3YWEM', '...   Glock   \n",
       "\n",
       "                                              categories  \\\n",
       "0      [[Sports & Outdoors, Hunting & Fishing, Huntin...   \n",
       "11982  [[Sports & Outdoors, Hunting & Fishing, Huntin...   \n",
       "15852  [[Sports & Outdoors, Hunting & Fishing, Huntin...   \n",
       "3320   [[Sports & Outdoors, Hunting & Fishing, Huntin...   \n",
       "13372  [[Sports & Outdoors, Hunting & Fishing, Huntin...   \n",
       "\n",
       "                               salesRank  \\\n",
       "0      {'Sports &amp; Outdoors': 172909}   \n",
       "11982     {'Sports &amp; Outdoors': 501}   \n",
       "15852    {'Sports &amp; Outdoors': 9061}   \n",
       "3320     {'Sports &amp; Outdoors': 6842}   \n",
       "13372    {'Sports &amp; Outdoors': 5930}   \n",
       "\n",
       "                                             description  id  \n",
       "0      Ghost Armorer Tool (1). The GAT is made with a...   0  \n",
       "11982  Here's a clever idea that belongs in every cle...   1  \n",
       "15852  Your gun is a proud possession as well as an i...   2  \n",
       "3320   Lee Powder Measure Dipper Kit includes 15 grad...   3  \n",
       "13372  Stop busting your fingers loading Glock Magazi...   4  "
      ]
     },
     "execution_count": 66,
     "metadata": {},
     "output_type": "execute_result"
    }
   ],
   "source": [
    "item_data.head(5)"
   ]
  },
  {
   "cell_type": "code",
   "execution_count": null,
   "id": "bcb833fb",
   "metadata": {},
   "outputs": [],
   "source": [
    "# item_data.to_csv(f\"{DATASET_DIR}/{DATASET_SPLIT}/item_data.csv\", index=False)"
   ]
  },
  {
   "cell_type": "code",
   "execution_count": 68,
   "id": "afa719bf",
   "metadata": {},
   "outputs": [
    {
     "data": {
      "text/plain": [
       "Index(['asin', 'title', 'price', 'imUrl', 'related', 'brand', 'categories',\n",
       "       'salesRank', 'description', 'id'],\n",
       "      dtype='object')"
      ]
     },
     "execution_count": 68,
     "metadata": {},
     "output_type": "execute_result"
    }
   ],
   "source": [
    "item_data.columns"
   ]
  },
  {
   "cell_type": "code",
   "execution_count": 69,
   "id": "da3e84fd",
   "metadata": {},
   "outputs": [
    {
     "data": {
      "text/plain": [
       "'http://ecx.images-amazon.com/images/I/21iMxsyDBRL._SX300_.jpg'"
      ]
     },
     "execution_count": 69,
     "metadata": {},
     "output_type": "execute_result"
    }
   ],
   "source": [
    "item_data[\"imUrl\"].iloc[0]"
   ]
  },
  {
   "cell_type": "code",
   "execution_count": 56,
   "id": "d6a4e2e1",
   "metadata": {},
   "outputs": [
    {
     "data": {
      "text/plain": [
       "'413BcULsveL._SX300_.jpg'"
      ]
     },
     "execution_count": 56,
     "metadata": {},
     "output_type": "execute_result"
    }
   ],
   "source": [
    "url = \"http://ecx.images-amazon.com/images/I/413BcULsveL._SX300_.jpg\"\n",
    "os.path.basename(url)"
   ]
  },
  {
   "cell_type": "code",
   "execution_count": 55,
   "id": "d88368ec",
   "metadata": {},
   "outputs": [
    {
     "data": {
      "text/plain": [
       "'http://ecx.images-amazon.com/images/I/413BcULsveL._SX300_.jpg'"
      ]
     },
     "execution_count": 55,
     "metadata": {},
     "output_type": "execute_result"
    }
   ],
   "source": [
    "url.split('?')[0]"
   ]
  },
  {
   "cell_type": "code",
   "execution_count": 3,
   "id": "42c3df14",
   "metadata": {},
   "outputs": [
    {
     "ename": "NameError",
     "evalue": "name 'DATASET_DIR' is not defined",
     "output_type": "error",
     "traceback": [
      "\u001b[0;31m---------------------------------------------------------------------------\u001b[0m",
      "\u001b[0;31mNameError\u001b[0m                                 Traceback (most recent call last)",
      "Cell \u001b[0;32mIn[3], line 1\u001b[0m\n\u001b[0;32m----> 1\u001b[0m item_data \u001b[38;5;241m=\u001b[39m pd\u001b[38;5;241m.\u001b[39mread_csv(\u001b[38;5;124mf\u001b[39m\u001b[38;5;124m\"\u001b[39m\u001b[38;5;132;01m{\u001b[39;00mDATASET_DIR\u001b[38;5;132;01m}\u001b[39;00m\u001b[38;5;124m/beauty/item_data.csv\u001b[39m\u001b[38;5;124m\"\u001b[39m)\n\u001b[1;32m      2\u001b[0m df_stats(item_data)\n",
      "\u001b[0;31mNameError\u001b[0m: name 'DATASET_DIR' is not defined"
     ]
    }
   ],
   "source": [
    "item_data = pd.read_csv(f\"{DATASET_DIR}/beauty/item_data.csv\")\n",
    "df_stats(item_data)"
   ]
  },
  {
   "cell_type": "code",
   "execution_count": 11,
   "id": "1b6ab0fa",
   "metadata": {},
   "outputs": [
    {
     "data": {
      "text/plain": [
       "18287"
      ]
     },
     "execution_count": 11,
     "metadata": {},
     "output_type": "execute_result"
    }
   ],
   "source": [
    "import glob\n",
    "len(glob.glob(f\"{DATASET_DIR}/sports/product_images/*\"))"
   ]
  },
  {
   "cell_type": "code",
   "execution_count": null,
   "id": "1e9dedfd",
   "metadata": {},
   "outputs": [],
   "source": []
  },
  {
   "cell_type": "markdown",
   "id": "40d6de92",
   "metadata": {},
   "source": [
    "### Processed Data Pipelines"
   ]
  },
  {
   "cell_type": "code",
   "execution_count": 5,
   "id": "f43924c3",
   "metadata": {},
   "outputs": [],
   "source": [
    "import os\n",
    "import torch\n",
    "import sys\n",
    "sys.path.append(os.path.abspath(os.path.join(os.getcwd(), '..')))\n",
    "from data.processed import RecDataset\n",
    "# %load_ext autoreload\n",
    "# %autoreload 2"
   ]
  },
  {
   "cell_type": "code",
   "execution_count": 6,
   "id": "53a3e52e",
   "metadata": {},
   "outputs": [],
   "source": [
    "# global vars\n",
    "DATASET_DIR = \"../dataset/amazon/raw\"\n",
    "DATASET_SPLIT = \"beauty\""
   ]
  },
  {
   "cell_type": "code",
   "execution_count": 7,
   "id": "7f4ad10c",
   "metadata": {},
   "outputs": [],
   "source": [
    "from torch.utils.data import Dataset\n",
    "from data.amazon import AmazonReviews\n",
    "from data.ml1m import RawMovieLens1M\n",
    "from data.ml32m import RawMovieLens32M\n",
    "from data.schemas import SeqBatch\n",
    "import clip\n",
    "import json\n",
    "from PIL import Image"
   ]
  },
  {
   "cell_type": "code",
   "execution_count": null,
   "id": "ba58603c",
   "metadata": {},
   "outputs": [
    {
     "name": "stderr",
     "output_type": "stream",
     "text": [
      "/home/scur2745/.conda/envs/rq-vae/lib/python3.9/site-packages/torch_geometric/io/fs.py:229: UserWarning: Weights only load failed. Please file an issue to make `torch.load(weights_only=True)` compatible in your case. Please use `torch.serialization.add_safe_globals([_reconstruct])` to allowlist this global.\n",
      "  warnings.warn(f\"{warn_msg} Please use \"\n",
      "/home/scur2745/.conda/envs/rq-vae/lib/python3.9/site-packages/torch_geometric/data/in_memory_dataset.py:300: UserWarning: It is not recommended to directly access the internal storage format `data` of an 'InMemoryDataset'. If you are absolutely certain what you are doing, access the internal storage via `InMemoryDataset._data` instead to suppress this warning. Alternatively, you can access stacked individual attributes of every graph via `dataset.{attr_name}`.\n",
      "  warnings.warn(msg)\n"
     ]
    }
   ],
   "source": [
    "DATASET_NAME_TO_RAW_DATASET = {\n",
    "    RecDataset.AMAZON: AmazonReviews,\n",
    "    RecDataset.ML_1M: RawMovieLens1M,\n",
    "    RecDataset.ML_32M: RawMovieLens32M,\n",
    "}\n",
    "\n",
    "\n",
    "DATASET_NAME_TO_MAX_SEQ_LEN = {\n",
    "    RecDataset.AMAZON: 20,\n",
    "    RecDataset.ML_1M: 200,\n",
    "    RecDataset.ML_32M: 200,\n",
    "}\n",
    "\n",
    "class ItemData(Dataset):\n",
    "    def __init__(\n",
    "        self,\n",
    "        root: str,\n",
    "        *args,\n",
    "        force_process: bool = False,\n",
    "        dataset: RecDataset = RecDataset.ML_1M,\n",
    "        train_test_split: str = \"all\",\n",
    "        encode_images: bool = False,\n",
    "        **kwargs\n",
    "    ) -> None:\n",
    "\n",
    "        self.encode_images = encode_images\n",
    "        self.root = root\n",
    "        raw_dataset_class = DATASET_NAME_TO_RAW_DATASET[dataset]\n",
    "        max_seq_len = DATASET_NAME_TO_MAX_SEQ_LEN[dataset]\n",
    "        raw_data = raw_dataset_class(root=self.root, *args, **kwargs)\n",
    "        self.raw_data = raw_data\n",
    "        processed_data_path = raw_data.processed_paths[0]\n",
    "        if not os.path.exists(processed_data_path) or force_process:\n",
    "            raw_data.process(max_seq_len=max_seq_len)\n",
    "\n",
    "        if train_test_split == \"train\":\n",
    "            filt = raw_data.data[\"item\"][\"is_train\"]\n",
    "        elif train_test_split == \"eval\":\n",
    "            filt = ~raw_data.data[\"item\"][\"is_train\"]\n",
    "        elif train_test_split == \"all\":\n",
    "            filt = torch.ones_like(raw_data.data[\"item\"][\"x\"][:, 0], dtype=bool)\n",
    "\n",
    "        self.item_data, self.item_text, self.item_brand_id = (\n",
    "            raw_data.data[\"item\"][\"x\"][filt],\n",
    "            raw_data.data[\"item\"][\"text\"][filt],\n",
    "            raw_data.data[\"item\"][\"brand_id\"][filt],\n",
    "        )\n",
    "\n",
    "        if self.encode_images:\n",
    "            self.dataset_split = kwargs.get(\"split\")\n",
    "            with open(os.path.join(self.root, \"raw\", self.dataset_split, \"datamaps.json\"), \"r\") as f:\n",
    "                self.data_maps = json.load(f)\n",
    "            self.clip_model, self.preprocess = clip.load(\"ViT-L/14\", device=\"cpu\")\n",
    "\n",
    "    def __len__(self):\n",
    "        return self.item_data.shape[0]\n",
    "\n",
    "    def __getitem__(self, idx):\n",
    "        item_ids = (\n",
    "            torch.tensor(idx).unsqueeze(0) if not isinstance(idx, torch.Tensor) else idx\n",
    "        )\n",
    "        x = self.item_data[idx, :768]\n",
    "        print(\"x\", x.shape)\n",
    "        x_brand_id = torch.Tensor(self.item_brand_id[idx])\n",
    "        \n",
    "        # if image encoding enabled and filenames are present\n",
    "        if self.encode_images:\n",
    "            img_filename = self.data_maps[\"id2item\"][str(item_ids.item() + 1)] + \".jpg\"\n",
    "            img_path = os.path.join(self.root, \"raw\", self.dataset_split, \"product_images\", img_filename)\n",
    "            try:\n",
    "                image = Image.open(img_path).convert(\"RGB\")\n",
    "                image_input = self.preprocess(image).to(self.clip_model.visual.conv1.weight.device)  # (3, 224, 224)\n",
    "                with torch.no_grad():\n",
    "                    image_feat = self.clip_model.encode_image(image_input.unsqueeze(0))  # (1, 768 or 1024)\n",
    "                    print(\"image_feat\", image_feat.shape)\n",
    "                    image_feat = image_feat / image_feat.norm(dim=1, keepdim=True)\n",
    "                # Combine with existing features if needed\n",
    "                print(\"x\", x.shape)\n",
    "                x = torch.cat([x, image_feat.squeeze(0)], dim=-1)\n",
    "                print(\"x2\", x.shape)\n",
    "            except Exception as e:\n",
    "                print(e)\n",
    "                x = torch.cat([x, torch.zeros(image_feat.shape[-1])], dim=-1)\n",
    "\n",
    "        item = SeqBatch(\n",
    "            user_ids=-1 * torch.ones_like(item_ids.squeeze(0)),\n",
    "            ids=item_ids,\n",
    "            ids_fut=-1 * torch.ones_like(item_ids.squeeze(0)),\n",
    "            x=x,\n",
    "            x_brand_id=x_brand_id,\n",
    "            x_fut=-1 * torch.ones_like(item_ids.squeeze(0)),\n",
    "            x_fut_brand_id=-1 * torch.ones_like(item_ids.squeeze(0)),\n",
    "            seq_mask=torch.ones_like(item_ids, dtype=bool),\n",
    "        )\n",
    "                \n",
    "        return item\n",
    "\n",
    "\n",
    "\n",
    "ds_split = \"beauty\"\n",
    "dataset = ItemData(\n",
    "    \"../dataset/amazon\", dataset=RecDataset.AMAZON, split=ds_split, force_process=False,\n",
    "    encode_images=True\n",
    ")\n",
    "\n",
    "item_data = pd.read_csv(f\"{DATASET_DIR}/{ds_split}/item_data.csv\")\n",
    "datamaps = json.load(open(f\"{DATASET_DIR}/{ds_split}/datamaps.json\", \"r\"))\n",
    "# df_stats(item_data)"
   ]
  },
  {
   "cell_type": "code",
   "execution_count": 5,
   "id": "93f07e8e",
   "metadata": {},
   "outputs": [
    {
     "data": {
      "text/html": [
       "<pre style=\"white-space:pre;overflow-x:auto;line-height:normal;font-family:Menlo,'DejaVu Sans Mono',consolas,'Courier New',monospace\">DataFrame shape: <span style=\"font-weight: bold\">(</span><span style=\"color: #008080; text-decoration-color: #008080; font-weight: bold\">12101</span>, <span style=\"color: #008080; text-decoration-color: #008080; font-weight: bold\">10</span><span style=\"font-weight: bold\">)</span>\n",
       "</pre>\n"
      ],
      "text/plain": [
       "DataFrame shape: \u001b[1m(\u001b[0m\u001b[1;36m12101\u001b[0m, \u001b[1;36m10\u001b[0m\u001b[1m)\u001b[0m\n"
      ]
     },
     "metadata": {},
     "output_type": "display_data"
    },
    {
     "data": {
      "text/html": [
       "<pre style=\"white-space:pre;overflow-x:auto;line-height:normal;font-family:Menlo,'DejaVu Sans Mono',consolas,'Courier New',monospace\"><span style=\"font-style: italic\">                              DataFrame Stats                              </span>\n",
       "┏━━━━━━━━━━━━━┳━━━━━━━━━━━━━━━━┳━━━━━━━━━━━━━━┳━━━━━━━━━━━━━━━┳━━━━━━━━━━━┓\n",
       "┃<span style=\"font-weight: bold\"> Column      </span>┃<span style=\"font-weight: bold\"> Non-Null Count </span>┃<span style=\"font-weight: bold\"> Unique Count </span>┃<span style=\"font-weight: bold\"> Null/NA Count </span>┃<span style=\"font-weight: bold\"> Data Type </span>┃\n",
       "┡━━━━━━━━━━━━━╇━━━━━━━━━━━━━━━━╇━━━━━━━━━━━━━━╇━━━━━━━━━━━━━━━╇━━━━━━━━━━━┩\n",
       "│<span style=\"color: #008080; text-decoration-color: #008080\"> asin        </span>│<span style=\"color: #808000; text-decoration-color: #808000\"> 12101          </span>│<span style=\"color: #800080; text-decoration-color: #800080\"> 12101        </span>│<span style=\"color: #800000; text-decoration-color: #800000\"> 0             </span>│<span style=\"color: #008000; text-decoration-color: #008000\"> object    </span>│\n",
       "│<span style=\"color: #008080; text-decoration-color: #008080\"> description </span>│<span style=\"color: #808000; text-decoration-color: #808000\"> 11162          </span>│<span style=\"color: #800080; text-decoration-color: #800080\"> 10427        </span>│<span style=\"color: #800000; text-decoration-color: #800000\"> 939           </span>│<span style=\"color: #008000; text-decoration-color: #008000\"> object    </span>│\n",
       "│<span style=\"color: #008080; text-decoration-color: #008080\"> title       </span>│<span style=\"color: #808000; text-decoration-color: #808000\"> 12094          </span>│<span style=\"color: #800080; text-decoration-color: #800080\"> 12066        </span>│<span style=\"color: #800000; text-decoration-color: #800000\"> 7             </span>│<span style=\"color: #008000; text-decoration-color: #008000\"> object    </span>│\n",
       "│<span style=\"color: #008080; text-decoration-color: #008080\"> imUrl       </span>│<span style=\"color: #808000; text-decoration-color: #808000\"> 12094          </span>│<span style=\"color: #800080; text-decoration-color: #800080\"> 12024        </span>│<span style=\"color: #800000; text-decoration-color: #800000\"> 7             </span>│<span style=\"color: #008000; text-decoration-color: #008000\"> object    </span>│\n",
       "│<span style=\"color: #008080; text-decoration-color: #008080\"> salesRank   </span>│<span style=\"color: #808000; text-decoration-color: #808000\"> 11893          </span>│<span style=\"color: #800080; text-decoration-color: #800080\"> 10859        </span>│<span style=\"color: #800000; text-decoration-color: #800000\"> 208           </span>│<span style=\"color: #008000; text-decoration-color: #008000\"> object    </span>│\n",
       "│<span style=\"color: #008080; text-decoration-color: #008080\"> categories  </span>│<span style=\"color: #808000; text-decoration-color: #808000\"> 12101          </span>│<span style=\"color: #800080; text-decoration-color: #800080\"> 254          </span>│<span style=\"color: #800000; text-decoration-color: #800000\"> 0             </span>│<span style=\"color: #008000; text-decoration-color: #008000\"> object    </span>│\n",
       "│<span style=\"color: #008080; text-decoration-color: #008080\"> price       </span>│<span style=\"color: #808000; text-decoration-color: #808000\"> 11516          </span>│<span style=\"color: #800080; text-decoration-color: #800080\"> 3061         </span>│<span style=\"color: #800000; text-decoration-color: #800000\"> 585           </span>│<span style=\"color: #008000; text-decoration-color: #008000\"> float64   </span>│\n",
       "│<span style=\"color: #008080; text-decoration-color: #008080\"> related     </span>│<span style=\"color: #808000; text-decoration-color: #808000\"> 12019          </span>│<span style=\"color: #800080; text-decoration-color: #800080\"> 12009        </span>│<span style=\"color: #800000; text-decoration-color: #800000\"> 82            </span>│<span style=\"color: #008000; text-decoration-color: #008000\"> object    </span>│\n",
       "│<span style=\"color: #008080; text-decoration-color: #008080\"> brand       </span>│<span style=\"color: #808000; text-decoration-color: #808000\"> 12083          </span>│<span style=\"color: #800080; text-decoration-color: #800080\"> 2076         </span>│<span style=\"color: #800000; text-decoration-color: #800000\"> 18            </span>│<span style=\"color: #008000; text-decoration-color: #008000\"> object    </span>│\n",
       "│<span style=\"color: #008080; text-decoration-color: #008080\"> id          </span>│<span style=\"color: #808000; text-decoration-color: #808000\"> 12101          </span>│<span style=\"color: #800080; text-decoration-color: #800080\"> 12101        </span>│<span style=\"color: #800000; text-decoration-color: #800000\"> 0             </span>│<span style=\"color: #008000; text-decoration-color: #008000\"> int64     </span>│\n",
       "└─────────────┴────────────────┴──────────────┴───────────────┴───────────┘\n",
       "</pre>\n"
      ],
      "text/plain": [
       "\u001b[3m                              DataFrame Stats                              \u001b[0m\n",
       "┏━━━━━━━━━━━━━┳━━━━━━━━━━━━━━━━┳━━━━━━━━━━━━━━┳━━━━━━━━━━━━━━━┳━━━━━━━━━━━┓\n",
       "┃\u001b[1m \u001b[0m\u001b[1mColumn     \u001b[0m\u001b[1m \u001b[0m┃\u001b[1m \u001b[0m\u001b[1mNon-Null Count\u001b[0m\u001b[1m \u001b[0m┃\u001b[1m \u001b[0m\u001b[1mUnique Count\u001b[0m\u001b[1m \u001b[0m┃\u001b[1m \u001b[0m\u001b[1mNull/NA Count\u001b[0m\u001b[1m \u001b[0m┃\u001b[1m \u001b[0m\u001b[1mData Type\u001b[0m\u001b[1m \u001b[0m┃\n",
       "┡━━━━━━━━━━━━━╇━━━━━━━━━━━━━━━━╇━━━━━━━━━━━━━━╇━━━━━━━━━━━━━━━╇━━━━━━━━━━━┩\n",
       "│\u001b[36m \u001b[0m\u001b[36masin       \u001b[0m\u001b[36m \u001b[0m│\u001b[33m \u001b[0m\u001b[33m12101         \u001b[0m\u001b[33m \u001b[0m│\u001b[35m \u001b[0m\u001b[35m12101       \u001b[0m\u001b[35m \u001b[0m│\u001b[31m \u001b[0m\u001b[31m0            \u001b[0m\u001b[31m \u001b[0m│\u001b[32m \u001b[0m\u001b[32mobject   \u001b[0m\u001b[32m \u001b[0m│\n",
       "│\u001b[36m \u001b[0m\u001b[36mdescription\u001b[0m\u001b[36m \u001b[0m│\u001b[33m \u001b[0m\u001b[33m11162         \u001b[0m\u001b[33m \u001b[0m│\u001b[35m \u001b[0m\u001b[35m10427       \u001b[0m\u001b[35m \u001b[0m│\u001b[31m \u001b[0m\u001b[31m939          \u001b[0m\u001b[31m \u001b[0m│\u001b[32m \u001b[0m\u001b[32mobject   \u001b[0m\u001b[32m \u001b[0m│\n",
       "│\u001b[36m \u001b[0m\u001b[36mtitle      \u001b[0m\u001b[36m \u001b[0m│\u001b[33m \u001b[0m\u001b[33m12094         \u001b[0m\u001b[33m \u001b[0m│\u001b[35m \u001b[0m\u001b[35m12066       \u001b[0m\u001b[35m \u001b[0m│\u001b[31m \u001b[0m\u001b[31m7            \u001b[0m\u001b[31m \u001b[0m│\u001b[32m \u001b[0m\u001b[32mobject   \u001b[0m\u001b[32m \u001b[0m│\n",
       "│\u001b[36m \u001b[0m\u001b[36mimUrl      \u001b[0m\u001b[36m \u001b[0m│\u001b[33m \u001b[0m\u001b[33m12094         \u001b[0m\u001b[33m \u001b[0m│\u001b[35m \u001b[0m\u001b[35m12024       \u001b[0m\u001b[35m \u001b[0m│\u001b[31m \u001b[0m\u001b[31m7            \u001b[0m\u001b[31m \u001b[0m│\u001b[32m \u001b[0m\u001b[32mobject   \u001b[0m\u001b[32m \u001b[0m│\n",
       "│\u001b[36m \u001b[0m\u001b[36msalesRank  \u001b[0m\u001b[36m \u001b[0m│\u001b[33m \u001b[0m\u001b[33m11893         \u001b[0m\u001b[33m \u001b[0m│\u001b[35m \u001b[0m\u001b[35m10859       \u001b[0m\u001b[35m \u001b[0m│\u001b[31m \u001b[0m\u001b[31m208          \u001b[0m\u001b[31m \u001b[0m│\u001b[32m \u001b[0m\u001b[32mobject   \u001b[0m\u001b[32m \u001b[0m│\n",
       "│\u001b[36m \u001b[0m\u001b[36mcategories \u001b[0m\u001b[36m \u001b[0m│\u001b[33m \u001b[0m\u001b[33m12101         \u001b[0m\u001b[33m \u001b[0m│\u001b[35m \u001b[0m\u001b[35m254         \u001b[0m\u001b[35m \u001b[0m│\u001b[31m \u001b[0m\u001b[31m0            \u001b[0m\u001b[31m \u001b[0m│\u001b[32m \u001b[0m\u001b[32mobject   \u001b[0m\u001b[32m \u001b[0m│\n",
       "│\u001b[36m \u001b[0m\u001b[36mprice      \u001b[0m\u001b[36m \u001b[0m│\u001b[33m \u001b[0m\u001b[33m11516         \u001b[0m\u001b[33m \u001b[0m│\u001b[35m \u001b[0m\u001b[35m3061        \u001b[0m\u001b[35m \u001b[0m│\u001b[31m \u001b[0m\u001b[31m585          \u001b[0m\u001b[31m \u001b[0m│\u001b[32m \u001b[0m\u001b[32mfloat64  \u001b[0m\u001b[32m \u001b[0m│\n",
       "│\u001b[36m \u001b[0m\u001b[36mrelated    \u001b[0m\u001b[36m \u001b[0m│\u001b[33m \u001b[0m\u001b[33m12019         \u001b[0m\u001b[33m \u001b[0m│\u001b[35m \u001b[0m\u001b[35m12009       \u001b[0m\u001b[35m \u001b[0m│\u001b[31m \u001b[0m\u001b[31m82           \u001b[0m\u001b[31m \u001b[0m│\u001b[32m \u001b[0m\u001b[32mobject   \u001b[0m\u001b[32m \u001b[0m│\n",
       "│\u001b[36m \u001b[0m\u001b[36mbrand      \u001b[0m\u001b[36m \u001b[0m│\u001b[33m \u001b[0m\u001b[33m12083         \u001b[0m\u001b[33m \u001b[0m│\u001b[35m \u001b[0m\u001b[35m2076        \u001b[0m\u001b[35m \u001b[0m│\u001b[31m \u001b[0m\u001b[31m18           \u001b[0m\u001b[31m \u001b[0m│\u001b[32m \u001b[0m\u001b[32mobject   \u001b[0m\u001b[32m \u001b[0m│\n",
       "│\u001b[36m \u001b[0m\u001b[36mid         \u001b[0m\u001b[36m \u001b[0m│\u001b[33m \u001b[0m\u001b[33m12101         \u001b[0m\u001b[33m \u001b[0m│\u001b[35m \u001b[0m\u001b[35m12101       \u001b[0m\u001b[35m \u001b[0m│\u001b[31m \u001b[0m\u001b[31m0            \u001b[0m\u001b[31m \u001b[0m│\u001b[32m \u001b[0m\u001b[32mint64    \u001b[0m\u001b[32m \u001b[0m│\n",
       "└─────────────┴────────────────┴──────────────┴───────────────┴───────────┘\n"
      ]
     },
     "metadata": {},
     "output_type": "display_data"
    }
   ],
   "source": [
    "item_data = pd.read_csv(f\"{DATASET_DIR}/{DATASET_SPLIT}/item_data.csv\")\n",
    "df_stats(item_data)"
   ]
  },
  {
   "cell_type": "code",
   "execution_count": 6,
   "id": "62ed5f1b",
   "metadata": {},
   "outputs": [
    {
     "data": {
      "text/html": [
       "<div>\n",
       "<style scoped>\n",
       "    .dataframe tbody tr th:only-of-type {\n",
       "        vertical-align: middle;\n",
       "    }\n",
       "\n",
       "    .dataframe tbody tr th {\n",
       "        vertical-align: top;\n",
       "    }\n",
       "\n",
       "    .dataframe thead th {\n",
       "        text-align: right;\n",
       "    }\n",
       "</style>\n",
       "<table border=\"1\" class=\"dataframe\">\n",
       "  <thead>\n",
       "    <tr style=\"text-align: right;\">\n",
       "      <th></th>\n",
       "      <th>asin</th>\n",
       "      <th>description</th>\n",
       "      <th>title</th>\n",
       "      <th>imUrl</th>\n",
       "      <th>salesRank</th>\n",
       "      <th>categories</th>\n",
       "      <th>price</th>\n",
       "      <th>related</th>\n",
       "      <th>brand</th>\n",
       "      <th>id</th>\n",
       "    </tr>\n",
       "  </thead>\n",
       "  <tbody>\n",
       "    <tr>\n",
       "      <th>0</th>\n",
       "      <td>B004756YJA</td>\n",
       "      <td>OPI Burlesque Colors</td>\n",
       "      <td>OPI Nail Lacquer, Simmer and Shimmer, 0.5-Flui...</td>\n",
       "      <td>http://ecx.images-amazon.com/images/I/411jo-OU...</td>\n",
       "      <td>{'Beauty': 46572}</td>\n",
       "      <td>[['Beauty', 'Makeup', 'Nails', 'Nail Polish']]</td>\n",
       "      <td>12.00</td>\n",
       "      <td>{'also_bought': ['B0045M2T12', 'B004KFNHLA', '...</td>\n",
       "      <td>OPI</td>\n",
       "      <td>0</td>\n",
       "    </tr>\n",
       "    <tr>\n",
       "      <th>1</th>\n",
       "      <td>B004ZT0SSG</td>\n",
       "      <td>Red Shatter Nail Polish\\nFull Size :15ML</td>\n",
       "      <td>OPI Red Shatter Crackle Nail Polish E55 New</td>\n",
       "      <td>http://ecx.images-amazon.com/images/I/41X8hWnt...</td>\n",
       "      <td>{'Beauty': 74739}</td>\n",
       "      <td>[['Beauty', 'Makeup', 'Nails', 'Nail Polish']]</td>\n",
       "      <td>3.04</td>\n",
       "      <td>{'also_bought': ['B004Y6G910', 'B005GSWUY0', '...</td>\n",
       "      <td>OPI</td>\n",
       "      <td>1</td>\n",
       "    </tr>\n",
       "    <tr>\n",
       "      <th>2</th>\n",
       "      <td>B0020YLEYK</td>\n",
       "      <td>It is 3 effects function beblesh balm. By Aden...</td>\n",
       "      <td>SKIN79 The Prestige Beblesh Balm BB Cream Diam...</td>\n",
       "      <td>http://ecx.images-amazon.com/images/I/31lrzUjx...</td>\n",
       "      <td>{'Beauty': 24042}</td>\n",
       "      <td>[['Beauty', 'Skin Care', 'Face', 'Creams &amp; Moi...</td>\n",
       "      <td>14.96</td>\n",
       "      <td>{'also_bought': ['B006RWW7VU', 'B002HPBF32', '...</td>\n",
       "      <td>Unknown</td>\n",
       "      <td>2</td>\n",
       "    </tr>\n",
       "    <tr>\n",
       "      <th>3</th>\n",
       "      <td>7806397051</td>\n",
       "      <td>An extensive range of 15 multiple vibrant long...</td>\n",
       "      <td>WAWO 15 Color Professionl Makeup Eyeshadow Cam...</td>\n",
       "      <td>http://ecx.images-amazon.com/images/I/41Rn18Oe...</td>\n",
       "      <td>{'Beauty': 10486}</td>\n",
       "      <td>[['Beauty', 'Makeup', 'Face', 'Concealers &amp; Ne...</td>\n",
       "      <td>5.04</td>\n",
       "      <td>{'also_bought': ['B00KR26VFE', 'B00E7LQHZ0', '...</td>\n",
       "      <td>COKA</td>\n",
       "      <td>3</td>\n",
       "    </tr>\n",
       "    <tr>\n",
       "      <th>4</th>\n",
       "      <td>B002WLWX82</td>\n",
       "      <td>Paraffin bath for pain relief and removing dry...</td>\n",
       "      <td>Dr. Scholl's Quick Heat Paraffin Spa Bath</td>\n",
       "      <td>http://ecx.images-amazon.com/images/I/41jOWVYU...</td>\n",
       "      <td>{'Beauty': 344}</td>\n",
       "      <td>[['Beauty', 'Skin Care', 'Hands &amp; Nails', 'Par...</td>\n",
       "      <td>47.95</td>\n",
       "      <td>{'also_bought': ['B000BLS0NM', 'B0006Q00IK', '...</td>\n",
       "      <td>Dr. Scholl&amp;#39;s</td>\n",
       "      <td>4</td>\n",
       "    </tr>\n",
       "    <tr>\n",
       "      <th>...</th>\n",
       "      <td>...</td>\n",
       "      <td>...</td>\n",
       "      <td>...</td>\n",
       "      <td>...</td>\n",
       "      <td>...</td>\n",
       "      <td>...</td>\n",
       "      <td>...</td>\n",
       "      <td>...</td>\n",
       "      <td>...</td>\n",
       "      <td>...</td>\n",
       "    </tr>\n",
       "    <tr>\n",
       "      <th>12096</th>\n",
       "      <td>B00GYN9A08</td>\n",
       "      <td>One In Eight Ingredients In Personal Care Prod...</td>\n",
       "      <td>Best INDIAN HEALING CLAY -&amp;quot;SODIUM&amp;quot; B...</td>\n",
       "      <td>http://ecx.images-amazon.com/images/I/51JW3-Ie...</td>\n",
       "      <td>{'Beauty': 6825}</td>\n",
       "      <td>[['Beauty', 'Skin Care', 'Face', 'Treatments &amp;...</td>\n",
       "      <td>25.99</td>\n",
       "      <td>{'also_bought': ['B00JVXVBQE', 'B00HRGBSYW', '...</td>\n",
       "      <td>Unknown</td>\n",
       "      <td>12096</td>\n",
       "    </tr>\n",
       "    <tr>\n",
       "      <th>12097</th>\n",
       "      <td>B00IBMV2ME</td>\n",
       "      <td>The Best BOTANICAL HYALURONIC ACID (5.0%) Gel ...</td>\n",
       "      <td>Best Botanical Hyaluronic Acid Anti Aging Faci...</td>\n",
       "      <td>http://ecx.images-amazon.com/images/I/4171BmUV...</td>\n",
       "      <td>{'Beauty': 116649}</td>\n",
       "      <td>[['Beauty', 'Skin Care', 'Face', 'Oils &amp; Serum...</td>\n",
       "      <td>24.50</td>\n",
       "      <td>{'also_bought': ['B00IC8JBIE', 'B00IC9AG5A', '...</td>\n",
       "      <td>Unknown</td>\n",
       "      <td>12097</td>\n",
       "    </tr>\n",
       "    <tr>\n",
       "      <th>12098</th>\n",
       "      <td>B00IC9AG5A</td>\n",
       "      <td>Announcing a Dermatologist Grade Skin Treatmen...</td>\n",
       "      <td>Anti Aging All In One Facial Treatment (Replac...</td>\n",
       "      <td>http://ecx.images-amazon.com/images/I/314b-jZn...</td>\n",
       "      <td>{'Beauty': 84262}</td>\n",
       "      <td>[['Beauty', 'Skin Care', 'Eyes', 'Combinations']]</td>\n",
       "      <td>26.50</td>\n",
       "      <td>{'also_bought': ['B00IC8JBIE', 'B00IC7L3JK', '...</td>\n",
       "      <td>Unknown</td>\n",
       "      <td>12098</td>\n",
       "    </tr>\n",
       "    <tr>\n",
       "      <th>12099</th>\n",
       "      <td>B00IKKORVU</td>\n",
       "      <td>Announcing The Ultimate Vitamin C Anti Aging S...</td>\n",
       "      <td>Best Vitamin C Anti Aging 6 Item System &amp;amp; ...</td>\n",
       "      <td>http://ecx.images-amazon.com/images/I/51yIcFHj...</td>\n",
       "      <td>{'Beauty': 87595}</td>\n",
       "      <td>[['Beauty', 'Skin Care', 'Sets &amp; Kits']]</td>\n",
       "      <td>125.00</td>\n",
       "      <td>{'also_viewed': ['B00IC8JBIE', 'B00GYJWL7G', '...</td>\n",
       "      <td>Unknown</td>\n",
       "      <td>12099</td>\n",
       "    </tr>\n",
       "    <tr>\n",
       "      <th>12100</th>\n",
       "      <td>B00IC8JBIE</td>\n",
       "      <td>For The Best Natural &amp; Organic Ingredient Base...</td>\n",
       "      <td>Best Anti Aging Facial Creme &amp;amp; Face Cream ...</td>\n",
       "      <td>http://ecx.images-amazon.com/images/I/41EwlMp3...</td>\n",
       "      <td>{'Beauty': 28766}</td>\n",
       "      <td>[['Beauty', 'Skin Care', 'Face', 'Creams &amp; Moi...</td>\n",
       "      <td>33.00</td>\n",
       "      <td>{'also_bought': ['B00IC7L3JK', 'B00IC9AG5A', '...</td>\n",
       "      <td>Unknown</td>\n",
       "      <td>12100</td>\n",
       "    </tr>\n",
       "  </tbody>\n",
       "</table>\n",
       "<p>12101 rows × 10 columns</p>\n",
       "</div>"
      ],
      "text/plain": [
       "             asin                                        description  \\\n",
       "0      B004756YJA                               OPI Burlesque Colors   \n",
       "1      B004ZT0SSG           Red Shatter Nail Polish\\nFull Size :15ML   \n",
       "2      B0020YLEYK  It is 3 effects function beblesh balm. By Aden...   \n",
       "3      7806397051  An extensive range of 15 multiple vibrant long...   \n",
       "4      B002WLWX82  Paraffin bath for pain relief and removing dry...   \n",
       "...           ...                                                ...   \n",
       "12096  B00GYN9A08  One In Eight Ingredients In Personal Care Prod...   \n",
       "12097  B00IBMV2ME  The Best BOTANICAL HYALURONIC ACID (5.0%) Gel ...   \n",
       "12098  B00IC9AG5A  Announcing a Dermatologist Grade Skin Treatmen...   \n",
       "12099  B00IKKORVU  Announcing The Ultimate Vitamin C Anti Aging S...   \n",
       "12100  B00IC8JBIE  For The Best Natural & Organic Ingredient Base...   \n",
       "\n",
       "                                                   title  \\\n",
       "0      OPI Nail Lacquer, Simmer and Shimmer, 0.5-Flui...   \n",
       "1            OPI Red Shatter Crackle Nail Polish E55 New   \n",
       "2      SKIN79 The Prestige Beblesh Balm BB Cream Diam...   \n",
       "3      WAWO 15 Color Professionl Makeup Eyeshadow Cam...   \n",
       "4              Dr. Scholl's Quick Heat Paraffin Spa Bath   \n",
       "...                                                  ...   \n",
       "12096  Best INDIAN HEALING CLAY -&quot;SODIUM&quot; B...   \n",
       "12097  Best Botanical Hyaluronic Acid Anti Aging Faci...   \n",
       "12098  Anti Aging All In One Facial Treatment (Replac...   \n",
       "12099  Best Vitamin C Anti Aging 6 Item System &amp; ...   \n",
       "12100  Best Anti Aging Facial Creme &amp; Face Cream ...   \n",
       "\n",
       "                                                   imUrl           salesRank  \\\n",
       "0      http://ecx.images-amazon.com/images/I/411jo-OU...   {'Beauty': 46572}   \n",
       "1      http://ecx.images-amazon.com/images/I/41X8hWnt...   {'Beauty': 74739}   \n",
       "2      http://ecx.images-amazon.com/images/I/31lrzUjx...   {'Beauty': 24042}   \n",
       "3      http://ecx.images-amazon.com/images/I/41Rn18Oe...   {'Beauty': 10486}   \n",
       "4      http://ecx.images-amazon.com/images/I/41jOWVYU...     {'Beauty': 344}   \n",
       "...                                                  ...                 ...   \n",
       "12096  http://ecx.images-amazon.com/images/I/51JW3-Ie...    {'Beauty': 6825}   \n",
       "12097  http://ecx.images-amazon.com/images/I/4171BmUV...  {'Beauty': 116649}   \n",
       "12098  http://ecx.images-amazon.com/images/I/314b-jZn...   {'Beauty': 84262}   \n",
       "12099  http://ecx.images-amazon.com/images/I/51yIcFHj...   {'Beauty': 87595}   \n",
       "12100  http://ecx.images-amazon.com/images/I/41EwlMp3...   {'Beauty': 28766}   \n",
       "\n",
       "                                              categories   price  \\\n",
       "0         [['Beauty', 'Makeup', 'Nails', 'Nail Polish']]   12.00   \n",
       "1         [['Beauty', 'Makeup', 'Nails', 'Nail Polish']]    3.04   \n",
       "2      [['Beauty', 'Skin Care', 'Face', 'Creams & Moi...   14.96   \n",
       "3      [['Beauty', 'Makeup', 'Face', 'Concealers & Ne...    5.04   \n",
       "4      [['Beauty', 'Skin Care', 'Hands & Nails', 'Par...   47.95   \n",
       "...                                                  ...     ...   \n",
       "12096  [['Beauty', 'Skin Care', 'Face', 'Treatments &...   25.99   \n",
       "12097  [['Beauty', 'Skin Care', 'Face', 'Oils & Serum...   24.50   \n",
       "12098  [['Beauty', 'Skin Care', 'Eyes', 'Combinations']]   26.50   \n",
       "12099           [['Beauty', 'Skin Care', 'Sets & Kits']]  125.00   \n",
       "12100  [['Beauty', 'Skin Care', 'Face', 'Creams & Moi...   33.00   \n",
       "\n",
       "                                                 related             brand  \\\n",
       "0      {'also_bought': ['B0045M2T12', 'B004KFNHLA', '...               OPI   \n",
       "1      {'also_bought': ['B004Y6G910', 'B005GSWUY0', '...               OPI   \n",
       "2      {'also_bought': ['B006RWW7VU', 'B002HPBF32', '...           Unknown   \n",
       "3      {'also_bought': ['B00KR26VFE', 'B00E7LQHZ0', '...              COKA   \n",
       "4      {'also_bought': ['B000BLS0NM', 'B0006Q00IK', '...  Dr. Scholl&#39;s   \n",
       "...                                                  ...               ...   \n",
       "12096  {'also_bought': ['B00JVXVBQE', 'B00HRGBSYW', '...           Unknown   \n",
       "12097  {'also_bought': ['B00IC8JBIE', 'B00IC9AG5A', '...           Unknown   \n",
       "12098  {'also_bought': ['B00IC8JBIE', 'B00IC7L3JK', '...           Unknown   \n",
       "12099  {'also_viewed': ['B00IC8JBIE', 'B00GYJWL7G', '...           Unknown   \n",
       "12100  {'also_bought': ['B00IC7L3JK', 'B00IC9AG5A', '...           Unknown   \n",
       "\n",
       "          id  \n",
       "0          0  \n",
       "1          1  \n",
       "2          2  \n",
       "3          3  \n",
       "4          4  \n",
       "...      ...  \n",
       "12096  12096  \n",
       "12097  12097  \n",
       "12098  12098  \n",
       "12099  12099  \n",
       "12100  12100  \n",
       "\n",
       "[12101 rows x 10 columns]"
      ]
     },
     "execution_count": 6,
     "metadata": {},
     "output_type": "execute_result"
    }
   ],
   "source": [
    "item_data"
   ]
  },
  {
   "cell_type": "code",
   "execution_count": 22,
   "id": "5d2bcf4d",
   "metadata": {},
   "outputs": [
    {
     "name": "stderr",
     "output_type": "stream",
     "text": [
      "/scratch-local/67558/ipykernel_1677996/707800692.py:1: FutureWarning: The default value of numeric_only in DataFrame.mean is deprecated. In a future version, it will default to False. In addition, specifying 'numeric_only=None' is deprecated. Select only valid columns or specify the value of numeric_only to silence this warning.\n",
      "  item_data.mean()\n"
     ]
    },
    {
     "data": {
      "text/plain": [
       "price                17.005026\n",
       "id                 6050.000000\n",
       "description_len     478.998387\n",
       "title_len            67.564908\n",
       "dtype: float64"
      ]
     },
     "execution_count": 22,
     "metadata": {},
     "output_type": "execute_result"
    }
   ],
   "source": [
    "item_data.mean()"
   ]
  },
  {
   "cell_type": "code",
   "execution_count": 6,
   "id": "6b045feb",
   "metadata": {},
   "outputs": [
    {
     "name": "stdout",
     "output_type": "stream",
     "text": [
      "image_feat torch.Size([1, 768])\n",
      "x torch.Size([768])\n",
      "x2 torch.Size([1536])\n"
     ]
    },
    {
     "data": {
      "text/plain": [
       "torch.Size([1536])"
      ]
     },
     "execution_count": 6,
     "metadata": {},
     "output_type": "execute_result"
    }
   ],
   "source": [
    "dataset[0].x.shape"
   ]
  },
  {
   "cell_type": "code",
   "execution_count": 46,
   "id": "0dda5931",
   "metadata": {},
   "outputs": [
    {
     "data": {
      "text/plain": [
       "'B004756YJA'"
      ]
     },
     "execution_count": 46,
     "metadata": {},
     "output_type": "execute_result"
    }
   ],
   "source": [
    "dataset.data_maps[\"id2item\"][str(1)]"
   ]
  },
  {
   "cell_type": "code",
   "execution_count": 43,
   "id": "75fedc7b",
   "metadata": {},
   "outputs": [
    {
     "data": {
      "text/plain": [
       "0"
      ]
     },
     "execution_count": 43,
     "metadata": {},
     "output_type": "execute_result"
    }
   ],
   "source": [
    "int(dataset[0].ids)"
   ]
  },
  {
   "cell_type": "code",
   "execution_count": 20,
   "id": "fae69e51",
   "metadata": {},
   "outputs": [
    {
     "data": {
      "text/plain": [
       "'B004756YJA'"
      ]
     },
     "execution_count": 20,
     "metadata": {},
     "output_type": "execute_result"
    }
   ],
   "source": [
    "datamaps[\"id2item\"][\"1\"]"
   ]
  },
  {
   "cell_type": "code",
   "execution_count": 38,
   "id": "9323a0b3",
   "metadata": {},
   "outputs": [
    {
     "data": {
      "text/html": [
       "<div>\n",
       "<style scoped>\n",
       "    .dataframe tbody tr th:only-of-type {\n",
       "        vertical-align: middle;\n",
       "    }\n",
       "\n",
       "    .dataframe tbody tr th {\n",
       "        vertical-align: top;\n",
       "    }\n",
       "\n",
       "    .dataframe thead th {\n",
       "        text-align: right;\n",
       "    }\n",
       "</style>\n",
       "<table border=\"1\" class=\"dataframe\">\n",
       "  <thead>\n",
       "    <tr style=\"text-align: right;\">\n",
       "      <th></th>\n",
       "      <th>asin</th>\n",
       "      <th>description</th>\n",
       "      <th>title</th>\n",
       "      <th>imUrl</th>\n",
       "      <th>salesRank</th>\n",
       "      <th>categories</th>\n",
       "      <th>price</th>\n",
       "      <th>related</th>\n",
       "      <th>brand</th>\n",
       "      <th>id</th>\n",
       "    </tr>\n",
       "  </thead>\n",
       "  <tbody>\n",
       "    <tr>\n",
       "      <th>0</th>\n",
       "      <td>B004756YJA</td>\n",
       "      <td>OPI Burlesque Colors</td>\n",
       "      <td>OPI Nail Lacquer, Simmer and Shimmer, 0.5-Flui...</td>\n",
       "      <td>http://ecx.images-amazon.com/images/I/411jo-OU...</td>\n",
       "      <td>{'Beauty': 46572}</td>\n",
       "      <td>[['Beauty', 'Makeup', 'Nails', 'Nail Polish']]</td>\n",
       "      <td>12.00</td>\n",
       "      <td>{'also_bought': ['B0045M2T12', 'B004KFNHLA', '...</td>\n",
       "      <td>OPI</td>\n",
       "      <td>0</td>\n",
       "    </tr>\n",
       "    <tr>\n",
       "      <th>1</th>\n",
       "      <td>B004ZT0SSG</td>\n",
       "      <td>Red Shatter Nail Polish\\nFull Size :15ML</td>\n",
       "      <td>OPI Red Shatter Crackle Nail Polish E55 New</td>\n",
       "      <td>http://ecx.images-amazon.com/images/I/41X8hWnt...</td>\n",
       "      <td>{'Beauty': 74739}</td>\n",
       "      <td>[['Beauty', 'Makeup', 'Nails', 'Nail Polish']]</td>\n",
       "      <td>3.04</td>\n",
       "      <td>{'also_bought': ['B004Y6G910', 'B005GSWUY0', '...</td>\n",
       "      <td>OPI</td>\n",
       "      <td>1</td>\n",
       "    </tr>\n",
       "    <tr>\n",
       "      <th>2</th>\n",
       "      <td>B0020YLEYK</td>\n",
       "      <td>It is 3 effects function beblesh balm. By Aden...</td>\n",
       "      <td>SKIN79 The Prestige Beblesh Balm BB Cream Diam...</td>\n",
       "      <td>http://ecx.images-amazon.com/images/I/31lrzUjx...</td>\n",
       "      <td>{'Beauty': 24042}</td>\n",
       "      <td>[['Beauty', 'Skin Care', 'Face', 'Creams &amp; Moi...</td>\n",
       "      <td>14.96</td>\n",
       "      <td>{'also_bought': ['B006RWW7VU', 'B002HPBF32', '...</td>\n",
       "      <td>Unknown</td>\n",
       "      <td>2</td>\n",
       "    </tr>\n",
       "    <tr>\n",
       "      <th>3</th>\n",
       "      <td>7806397051</td>\n",
       "      <td>An extensive range of 15 multiple vibrant long...</td>\n",
       "      <td>WAWO 15 Color Professionl Makeup Eyeshadow Cam...</td>\n",
       "      <td>http://ecx.images-amazon.com/images/I/41Rn18Oe...</td>\n",
       "      <td>{'Beauty': 10486}</td>\n",
       "      <td>[['Beauty', 'Makeup', 'Face', 'Concealers &amp; Ne...</td>\n",
       "      <td>5.04</td>\n",
       "      <td>{'also_bought': ['B00KR26VFE', 'B00E7LQHZ0', '...</td>\n",
       "      <td>COKA</td>\n",
       "      <td>3</td>\n",
       "    </tr>\n",
       "    <tr>\n",
       "      <th>4</th>\n",
       "      <td>B002WLWX82</td>\n",
       "      <td>Paraffin bath for pain relief and removing dry...</td>\n",
       "      <td>Dr. Scholl's Quick Heat Paraffin Spa Bath</td>\n",
       "      <td>http://ecx.images-amazon.com/images/I/41jOWVYU...</td>\n",
       "      <td>{'Beauty': 344}</td>\n",
       "      <td>[['Beauty', 'Skin Care', 'Hands &amp; Nails', 'Par...</td>\n",
       "      <td>47.95</td>\n",
       "      <td>{'also_bought': ['B000BLS0NM', 'B0006Q00IK', '...</td>\n",
       "      <td>Dr. Scholl&amp;#39;s</td>\n",
       "      <td>4</td>\n",
       "    </tr>\n",
       "  </tbody>\n",
       "</table>\n",
       "</div>"
      ],
      "text/plain": [
       "         asin                                        description  \\\n",
       "0  B004756YJA                               OPI Burlesque Colors   \n",
       "1  B004ZT0SSG           Red Shatter Nail Polish\\nFull Size :15ML   \n",
       "2  B0020YLEYK  It is 3 effects function beblesh balm. By Aden...   \n",
       "3  7806397051  An extensive range of 15 multiple vibrant long...   \n",
       "4  B002WLWX82  Paraffin bath for pain relief and removing dry...   \n",
       "\n",
       "                                               title  \\\n",
       "0  OPI Nail Lacquer, Simmer and Shimmer, 0.5-Flui...   \n",
       "1        OPI Red Shatter Crackle Nail Polish E55 New   \n",
       "2  SKIN79 The Prestige Beblesh Balm BB Cream Diam...   \n",
       "3  WAWO 15 Color Professionl Makeup Eyeshadow Cam...   \n",
       "4          Dr. Scholl's Quick Heat Paraffin Spa Bath   \n",
       "\n",
       "                                               imUrl          salesRank  \\\n",
       "0  http://ecx.images-amazon.com/images/I/411jo-OU...  {'Beauty': 46572}   \n",
       "1  http://ecx.images-amazon.com/images/I/41X8hWnt...  {'Beauty': 74739}   \n",
       "2  http://ecx.images-amazon.com/images/I/31lrzUjx...  {'Beauty': 24042}   \n",
       "3  http://ecx.images-amazon.com/images/I/41Rn18Oe...  {'Beauty': 10486}   \n",
       "4  http://ecx.images-amazon.com/images/I/41jOWVYU...    {'Beauty': 344}   \n",
       "\n",
       "                                          categories  price  \\\n",
       "0     [['Beauty', 'Makeup', 'Nails', 'Nail Polish']]  12.00   \n",
       "1     [['Beauty', 'Makeup', 'Nails', 'Nail Polish']]   3.04   \n",
       "2  [['Beauty', 'Skin Care', 'Face', 'Creams & Moi...  14.96   \n",
       "3  [['Beauty', 'Makeup', 'Face', 'Concealers & Ne...   5.04   \n",
       "4  [['Beauty', 'Skin Care', 'Hands & Nails', 'Par...  47.95   \n",
       "\n",
       "                                             related             brand  id  \n",
       "0  {'also_bought': ['B0045M2T12', 'B004KFNHLA', '...               OPI   0  \n",
       "1  {'also_bought': ['B004Y6G910', 'B005GSWUY0', '...               OPI   1  \n",
       "2  {'also_bought': ['B006RWW7VU', 'B002HPBF32', '...           Unknown   2  \n",
       "3  {'also_bought': ['B00KR26VFE', 'B00E7LQHZ0', '...              COKA   3  \n",
       "4  {'also_bought': ['B000BLS0NM', 'B0006Q00IK', '...  Dr. Scholl&#39;s   4  "
      ]
     },
     "execution_count": 38,
     "metadata": {},
     "output_type": "execute_result"
    }
   ],
   "source": [
    "item_data.head(5)"
   ]
  },
  {
   "cell_type": "code",
   "execution_count": 97,
   "id": "60cd0ee9",
   "metadata": {},
   "outputs": [
    {
     "data": {
      "text/plain": [
       "tensor([5])"
      ]
     },
     "execution_count": 97,
     "metadata": {},
     "output_type": "execute_result"
    }
   ],
   "source": [
    "dataset[5].ids"
   ]
  },
  {
   "cell_type": "code",
   "execution_count": 11,
   "id": "1f8f63a4",
   "metadata": {},
   "outputs": [
    {
     "data": {
      "text/plain": [
       "162012"
      ]
     },
     "execution_count": 11,
     "metadata": {},
     "output_type": "execute_result"
    }
   ],
   "source": [
    "import glob\n",
    "\n",
    "category = \"toys\"\n",
    "# category = \"sports\"\n",
    "\n",
    "\n",
    "files = glob.glob(f\"/home/scur2745/RecSys/dataset/amazon/2023/raw/{category}/product_images/*.jpg\")\n",
    "len(files)"
   ]
  },
  {
   "cell_type": "code",
   "execution_count": null,
   "id": "fbec3f5b",
   "metadata": {},
   "outputs": [],
   "source": []
  },
  {
   "cell_type": "code",
   "execution_count": null,
   "id": "21a997bd",
   "metadata": {},
   "outputs": [],
   "source": []
  },
  {
   "cell_type": "code",
   "execution_count": null,
   "id": "20667e48",
   "metadata": {},
   "outputs": [],
   "source": []
  },
  {
   "cell_type": "code",
   "execution_count": null,
   "id": "617f17bf",
   "metadata": {},
   "outputs": [],
   "source": []
  },
  {
   "cell_type": "code",
   "execution_count": null,
   "id": "58b70fa7",
   "metadata": {},
   "outputs": [],
   "source": []
  },
  {
   "cell_type": "code",
   "execution_count": null,
   "id": "bb63fb38",
   "metadata": {},
   "outputs": [],
   "source": []
  }
 ],
 "metadata": {
  "kernelspec": {
   "display_name": "Python 3",
   "language": "python",
   "name": "python3"
  },
  "language_info": {
   "codemirror_mode": {
    "name": "ipython",
    "version": 3
   },
   "file_extension": ".py",
   "mimetype": "text/x-python",
   "name": "python",
   "nbconvert_exporter": "python",
   "pygments_lexer": "ipython3",
   "version": "3.9.21"
  }
 },
 "nbformat": 4,
 "nbformat_minor": 5
}
