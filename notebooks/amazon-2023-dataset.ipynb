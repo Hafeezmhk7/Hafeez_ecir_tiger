{
 "cells": [
  {
   "cell_type": "code",
   "execution_count": 3,
   "id": "1e686519",
   "metadata": {},
   "outputs": [],
   "source": [
    "# imports\n",
    "import os\n",
    "import pickle\n",
    "import numpy as np\n",
    "import pandas as pd\n",
    "import glob\n",
    "import json\n",
    "from rich import print as rprint\n",
    "from rich.table import Table\n",
    "from rich.console import Console\n",
    "import gzip\n",
    "import datasets\n",
    "from datasets import load_dataset\n",
    "\n",
    "datasets.logging.set_verbosity_error()"
   ]
  },
  {
   "cell_type": "markdown",
   "id": "3f8b374b",
   "metadata": {},
   "source": [
    "### Global Functions"
   ]
  },
  {
   "cell_type": "code",
   "execution_count": 4,
   "id": "8d45cb75",
   "metadata": {},
   "outputs": [],
   "source": [
    "def display_pickle_summary(data, title=\"Pickle File Contents\"):\n",
    "    \"\"\"\n",
    "    Load and summarize the contents of a pickle file using rich.\n",
    "\n",
    "    :param data: .pkl data\n",
    "    :param title: Optional title for the printed table.\n",
    "    \"\"\"\n",
    "    table = Table(title=title)\n",
    "    \n",
    "    table.add_column(\"Key/Type\", style=\"cyan\", no_wrap=True)\n",
    "    table.add_column(\"Description\", style=\"magenta\")\n",
    "\n",
    "    total_size = 0\n",
    "    if isinstance(data, dict):\n",
    "        for key, value in data.items():\n",
    "            desc = f\"{type(value).__name__}, len={len(value)}\" if hasattr(value, '__len__') else type(value).__name__\n",
    "            table.add_row(str(key), desc)\n",
    "            if key in [\"train\", \"test\", \"val\"]:\n",
    "                total_size += len(value)\n",
    "            else:\n",
    "                total_size = \"N/A\"\n",
    "    else:\n",
    "        table.add_row(type(data).__name__, f\"{data}\" if isinstance(data, (int, float, str)) else str(type(data)))\n",
    "\n",
    "    table.add_row(\"Total Size\", str(total_size))\n",
    "    console = Console()\n",
    "    console.print(table)\n",
    "    \n",
    "    if \"train\" in data or \"test\" in data or \"val\" in data:\n",
    "        rprint(\"Train Sample:\")\n",
    "        rprint(data['train'][0])\n",
    "        rprint(\"Val Sample:\")\n",
    "        rprint(data['val'][0])\n",
    "        rprint(\"Test Sample:\")\n",
    "        print(data['test'][0])\n",
    "        \n",
    "        \n",
    "def df_stats(df: pd.DataFrame, title=\"DataFrame Stats\"):\n",
    "    table = Table(title=title)\n",
    "    rprint(f\"DataFrame shape: {df.shape}\")\n",
    "    table.add_column(\"Column\", style=\"cyan\", no_wrap=True)\n",
    "    table.add_column(\"Non-Null Count\", style=\"yellow\")\n",
    "    table.add_column(\"Unique Count\", style=\"magenta\")\n",
    "    table.add_column(\"Null/NA Count\", style=\"red\")\n",
    "    table.add_column(\"Data Type\", style=\"green\")\n",
    "\n",
    "    for col in df.columns:\n",
    "        try:\n",
    "            non_null_count = df[col].notna().sum()\n",
    "        except:\n",
    "            non_null_count = \"Error\"\n",
    "        try:\n",
    "            unique_count = df[col].nunique(dropna=True)\n",
    "        except:\n",
    "            unique_count = \"Error\"\n",
    "        try:\n",
    "            null_count = df[col].isna().sum()\n",
    "        except:\n",
    "            null_count = \"Error\"\n",
    "        try:\n",
    "            dtype = str(df[col].dtype)\n",
    "        except:\n",
    "            dtype = \"Error\"\n",
    "        table.add_row(col, str(non_null_count), str(unique_count), str(null_count), dtype)\n",
    "\n",
    "    Console().print(table)"
   ]
  },
  {
   "cell_type": "markdown",
   "id": "e151ac93",
   "metadata": {},
   "source": [
    "### Loading Data from HuggingFace"
   ]
  },
  {
   "cell_type": "markdown",
   "id": "49ee86fb",
   "metadata": {},
   "source": [
    "#### Review Samples"
   ]
  },
  {
   "cell_type": "code",
   "execution_count": 4,
   "id": "ea718e50",
   "metadata": {},
   "outputs": [],
   "source": [
    "dataset = load_dataset(\"McAuley-Lab/Amazon-Reviews-2023\", \n",
    "                       \"raw_review_All_Beauty\", \n",
    "                       trust_remote_code=True)"
   ]
  },
  {
   "cell_type": "code",
   "execution_count": 6,
   "id": "d778418f",
   "metadata": {},
   "outputs": [
    {
     "data": {
      "text/plain": [
       "{'rating': 5.0,\n",
       " 'title': 'Such a lovely scent but not overpowering.',\n",
       " 'text': \"This spray is really nice. It smells really good, goes on really fine, and does the trick. I will say it feels like you need a lot of it though to get the texture I want. I have a lot of hair, medium thickness. I am comparing to other brands with yucky chemicals so I'm gonna stick with this. Try it!\",\n",
       " 'images': [],\n",
       " 'asin': 'B00YQ6X8EO',\n",
       " 'parent_asin': 'B00YQ6X8EO',\n",
       " 'user_id': 'AGKHLEW2SOWHNMFQIJGBECAF7INQ',\n",
       " 'timestamp': 1588687728923,\n",
       " 'helpful_vote': 0,\n",
       " 'verified_purchase': True}"
      ]
     },
     "execution_count": 6,
     "metadata": {},
     "output_type": "execute_result"
    }
   ],
   "source": [
    "dataset[\"full\"][0]"
   ]
  },
  {
   "cell_type": "markdown",
   "id": "53721f77",
   "metadata": {},
   "source": [
    "#### Metadata"
   ]
  },
  {
   "cell_type": "code",
   "execution_count": 8,
   "id": "3e83ca21",
   "metadata": {},
   "outputs": [
    {
     "data": {
      "application/vnd.jupyter.widget-view+json": {
       "model_id": "a8361f39280d4ac9916190a46bbbd0cb",
       "version_major": 2,
       "version_minor": 0
      },
      "text/plain": [
       "meta_All_Beauty.jsonl:   0%|          | 0.00/213M [00:00<?, ?B/s]"
      ]
     },
     "metadata": {},
     "output_type": "display_data"
    },
    {
     "data": {
      "application/vnd.jupyter.widget-view+json": {
       "model_id": "298f03a1ac98498fac04f5590ceea5db",
       "version_major": 2,
       "version_minor": 0
      },
      "text/plain": [
       "Generating full split:   0%|          | 0/112590 [00:00<?, ? examples/s]"
      ]
     },
     "metadata": {},
     "output_type": "display_data"
    }
   ],
   "source": [
    "dataset = load_dataset(\"McAuley-Lab/Amazon-Reviews-2023\", \n",
    "                       \"raw_meta_All_Beauty\", \n",
    "                       split=\"full\", \n",
    "                       trust_remote_code=True)"
   ]
  },
  {
   "cell_type": "code",
   "execution_count": 9,
   "id": "53c3b950",
   "metadata": {},
   "outputs": [
    {
     "data": {
      "text/plain": [
       "{'main_category': 'All Beauty',\n",
       " 'title': 'Howard LC0008 Leather Conditioner, 8-Ounce (4-Pack)',\n",
       " 'average_rating': 4.8,\n",
       " 'rating_number': 10,\n",
       " 'features': [],\n",
       " 'description': [],\n",
       " 'price': 'None',\n",
       " 'images': {'hi_res': [None,\n",
       "   'https://m.media-amazon.com/images/I/71i77AuI9xL._SL1500_.jpg'],\n",
       "  'large': ['https://m.media-amazon.com/images/I/41qfjSfqNyL.jpg',\n",
       "   'https://m.media-amazon.com/images/I/41w2yznfuZL.jpg'],\n",
       "  'thumb': ['https://m.media-amazon.com/images/I/41qfjSfqNyL._SS40_.jpg',\n",
       "   'https://m.media-amazon.com/images/I/41w2yznfuZL._SS40_.jpg'],\n",
       "  'variant': ['MAIN', 'PT01']},\n",
       " 'videos': {'title': [], 'url': [], 'user_id': []},\n",
       " 'store': 'Howard Products',\n",
       " 'categories': [],\n",
       " 'details': '{\"Package Dimensions\": \"7.1 x 5.5 x 3 inches; 2.38 Pounds\", \"UPC\": \"617390882781\"}',\n",
       " 'parent_asin': 'B01CUPMQZE',\n",
       " 'bought_together': None,\n",
       " 'subtitle': None,\n",
       " 'author': None}"
      ]
     },
     "execution_count": 9,
     "metadata": {},
     "output_type": "execute_result"
    }
   ],
   "source": [
    "dataset[0]"
   ]
  },
  {
   "cell_type": "markdown",
   "id": "8937a181",
   "metadata": {},
   "source": [
    "#### Pure IDs Files (Before Splitting)"
   ]
  },
  {
   "cell_type": "code",
   "execution_count": 10,
   "id": "22301001",
   "metadata": {},
   "outputs": [
    {
     "data": {
      "application/vnd.jupyter.widget-view+json": {
       "model_id": "e8333f3396d64b9da11da82cb1d61618",
       "version_major": 2,
       "version_minor": 0
      },
      "text/plain": [
       "All_Beauty.csv:   0%|          | 0.00/147k [00:00<?, ?B/s]"
      ]
     },
     "metadata": {},
     "output_type": "display_data"
    },
    {
     "data": {
      "application/vnd.jupyter.widget-view+json": {
       "model_id": "7adbdcabda524ea791845928757e5d38",
       "version_major": 2,
       "version_minor": 0
      },
      "text/plain": [
       "Generating full split: 0 examples [00:00, ? examples/s]"
      ]
     },
     "metadata": {},
     "output_type": "display_data"
    }
   ],
   "source": [
    "dataset = load_dataset(\"McAuley-Lab/Amazon-Reviews-2023\", \n",
    "                       \"5core_rating_only_All_Beauty\", \n",
    "                       trust_remote_code=True)"
   ]
  },
  {
   "cell_type": "code",
   "execution_count": 11,
   "id": "8000bc0c",
   "metadata": {},
   "outputs": [
    {
     "data": {
      "text/plain": [
       "{'user_id': ['AFSKPY37N3C43SOI5IEXEK5JSIYA',\n",
       "  'AFSKPY37N3C43SOI5IEXEK5JSIYA',\n",
       "  'AFSKPY37N3C43SOI5IEXEK5JSIYA',\n",
       "  'AFSKPY37N3C43SOI5IEXEK5JSIYA',\n",
       "  'AFSKPY37N3C43SOI5IEXEK5JSIYA'],\n",
       " 'parent_asin': ['B07J3GH1W1',\n",
       "  'B07W397QG4',\n",
       "  'B07KG1TWP5',\n",
       "  'B08JTNQFZY',\n",
       "  'B07SLFWZKN'],\n",
       " 'rating': ['5.0', '5.0', '5.0', '5.0', '3.0'],\n",
       " 'timestamp': ['1547589356557',\n",
       "  '1593352422858',\n",
       "  '1596473351088',\n",
       "  '1617904219785',\n",
       "  '1619737501209']}"
      ]
     },
     "execution_count": 11,
     "metadata": {},
     "output_type": "execute_result"
    }
   ],
   "source": [
    "dataset['full'][0:5]"
   ]
  },
  {
   "cell_type": "markdown",
   "id": "728ff600",
   "metadata": {},
   "source": [
    "#### Pure IDs Files (After Splitting)"
   ]
  },
  {
   "cell_type": "code",
   "execution_count": 12,
   "id": "3a0d195e",
   "metadata": {},
   "outputs": [
    {
     "data": {
      "application/vnd.jupyter.widget-view+json": {
       "model_id": "0957e4e49ed64693b826c03804dc042b",
       "version_major": 2,
       "version_minor": 0
      },
      "text/plain": [
       "All_Beauty.train.csv:   0%|          | 0.00/130k [00:00<?, ?B/s]"
      ]
     },
     "metadata": {},
     "output_type": "display_data"
    },
    {
     "data": {
      "application/vnd.jupyter.widget-view+json": {
       "model_id": "9080c5e1023642cd96cd0c48de1c3846",
       "version_major": 2,
       "version_minor": 0
      },
      "text/plain": [
       "All_Beauty.valid.csv:   0%|          | 0.00/16.1k [00:00<?, ?B/s]"
      ]
     },
     "metadata": {},
     "output_type": "display_data"
    },
    {
     "data": {
      "application/vnd.jupyter.widget-view+json": {
       "model_id": "530d28e32aeb49a0b38dbeea21bdc248",
       "version_major": 2,
       "version_minor": 0
      },
      "text/plain": [
       "All_Beauty.test.csv:   0%|          | 0.00/1.32k [00:00<?, ?B/s]"
      ]
     },
     "metadata": {},
     "output_type": "display_data"
    },
    {
     "data": {
      "application/vnd.jupyter.widget-view+json": {
       "model_id": "16290700d435419891f4f23410f10017",
       "version_major": 2,
       "version_minor": 0
      },
      "text/plain": [
       "Generating train split: 0 examples [00:00, ? examples/s]"
      ]
     },
     "metadata": {},
     "output_type": "display_data"
    },
    {
     "data": {
      "application/vnd.jupyter.widget-view+json": {
       "model_id": "9393205235444f03b6f797b0b6ed99e7",
       "version_major": 2,
       "version_minor": 0
      },
      "text/plain": [
       "Generating valid split: 0 examples [00:00, ? examples/s]"
      ]
     },
     "metadata": {},
     "output_type": "display_data"
    },
    {
     "data": {
      "application/vnd.jupyter.widget-view+json": {
       "model_id": "8dd564a7e84c4dd4b7f6d6cdd8aef47d",
       "version_major": 2,
       "version_minor": 0
      },
      "text/plain": [
       "Generating test split: 0 examples [00:00, ? examples/s]"
      ]
     },
     "metadata": {},
     "output_type": "display_data"
    }
   ],
   "source": [
    "dataset = load_dataset(\"McAuley-Lab/Amazon-Reviews-2023\", \n",
    "                       \"5core_timestamp_All_Beauty\", \n",
    "                       trust_remote_code=True)"
   ]
  },
  {
   "cell_type": "code",
   "execution_count": 13,
   "id": "a95db2b8",
   "metadata": {},
   "outputs": [
    {
     "data": {
      "text/plain": [
       "{'user_id': ['AFSKPY37N3C43SOI5IEXEK5JSIYA',\n",
       "  'AFSKPY37N3C43SOI5IEXEK5JSIYA',\n",
       "  'AFSKPY37N3C43SOI5IEXEK5JSIYA',\n",
       "  'AFSKPY37N3C43SOI5IEXEK5JSIYA',\n",
       "  'AFSKPY37N3C43SOI5IEXEK5JSIYA'],\n",
       " 'parent_asin': ['B07J3GH1W1',\n",
       "  'B07W397QG4',\n",
       "  'B07KG1TWP5',\n",
       "  'B08JTNQFZY',\n",
       "  'B07SLFWZKN'],\n",
       " 'rating': ['5.0', '5.0', '5.0', '5.0', '3.0'],\n",
       " 'timestamp': ['1547589356557',\n",
       "  '1593352422858',\n",
       "  '1596473351088',\n",
       "  '1617904219785',\n",
       "  '1619737501209']}"
      ]
     },
     "execution_count": 13,
     "metadata": {},
     "output_type": "execute_result"
    }
   ],
   "source": [
    "dataset['train'][:5]"
   ]
  },
  {
   "cell_type": "markdown",
   "id": "78e2bbce",
   "metadata": {},
   "source": [
    "#### Need additional user historical interactions"
   ]
  },
  {
   "cell_type": "code",
   "execution_count": 14,
   "id": "d076ab4d",
   "metadata": {},
   "outputs": [
    {
     "data": {
      "application/vnd.jupyter.widget-view+json": {
       "model_id": "fb4a93d417cb40ffad89cccded3baea7",
       "version_major": 2,
       "version_minor": 0
      },
      "text/plain": [
       "All_Beauty.train.csv:   0%|          | 0.00/291k [00:00<?, ?B/s]"
      ]
     },
     "metadata": {},
     "output_type": "display_data"
    },
    {
     "data": {
      "application/vnd.jupyter.widget-view+json": {
       "model_id": "e5172f3c2f1b4772a66457126cbbbd30",
       "version_major": 2,
       "version_minor": 0
      },
      "text/plain": [
       "All_Beauty.valid.csv:   0%|          | 0.00/54.7k [00:00<?, ?B/s]"
      ]
     },
     "metadata": {},
     "output_type": "display_data"
    },
    {
     "data": {
      "application/vnd.jupyter.widget-view+json": {
       "model_id": "707a69a05e214f18913714b2d3e0157f",
       "version_major": 2,
       "version_minor": 0
      },
      "text/plain": [
       "All_Beauty.test.csv:   0%|          | 0.00/4.54k [00:00<?, ?B/s]"
      ]
     },
     "metadata": {},
     "output_type": "display_data"
    },
    {
     "data": {
      "application/vnd.jupyter.widget-view+json": {
       "model_id": "47e347e4333241089edc981884fad008",
       "version_major": 2,
       "version_minor": 0
      },
      "text/plain": [
       "Generating train split: 0 examples [00:00, ? examples/s]"
      ]
     },
     "metadata": {},
     "output_type": "display_data"
    },
    {
     "data": {
      "application/vnd.jupyter.widget-view+json": {
       "model_id": "fbb36b120cce482a94241532dce1585c",
       "version_major": 2,
       "version_minor": 0
      },
      "text/plain": [
       "Generating valid split: 0 examples [00:00, ? examples/s]"
      ]
     },
     "metadata": {},
     "output_type": "display_data"
    },
    {
     "data": {
      "application/vnd.jupyter.widget-view+json": {
       "model_id": "2e258506f8f542238b64b33148948594",
       "version_major": 2,
       "version_minor": 0
      },
      "text/plain": [
       "Generating test split: 0 examples [00:00, ? examples/s]"
      ]
     },
     "metadata": {},
     "output_type": "display_data"
    }
   ],
   "source": [
    "dataset = load_dataset(\"McAuley-Lab/Amazon-Reviews-2023\", \n",
    "                       \"5core_timestamp_w_his_All_Beauty\", \n",
    "                       trust_remote_code=True)"
   ]
  },
  {
   "cell_type": "code",
   "execution_count": 17,
   "id": "110eeaf6",
   "metadata": {},
   "outputs": [
    {
     "data": {
      "text/plain": [
       "{'user_id': ['AFSKPY37N3C43SOI5IEXEK5JSIYA',\n",
       "  'AFSKPY37N3C43SOI5IEXEK5JSIYA',\n",
       "  'AFSKPY37N3C43SOI5IEXEK5JSIYA',\n",
       "  'AFSKPY37N3C43SOI5IEXEK5JSIYA',\n",
       "  'AFSKPY37N3C43SOI5IEXEK5JSIYA'],\n",
       " 'parent_asin': ['B07J3GH1W1',\n",
       "  'B07W397QG4',\n",
       "  'B07KG1TWP5',\n",
       "  'B08JTNQFZY',\n",
       "  'B07SLFWZKN'],\n",
       " 'rating': ['5.0', '5.0', '5.0', '5.0', '3.0'],\n",
       " 'timestamp': ['1547589356557',\n",
       "  '1593352422858',\n",
       "  '1596473351088',\n",
       "  '1617904219785',\n",
       "  '1619737501209'],\n",
       " 'history': ['',\n",
       "  'B07J3GH1W1',\n",
       "  'B07J3GH1W1 B07W397QG4',\n",
       "  'B07J3GH1W1 B07W397QG4 B07KG1TWP5',\n",
       "  'B07J3GH1W1 B07W397QG4 B07KG1TWP5 B08JTNQFZY']}"
      ]
     },
     "execution_count": 17,
     "metadata": {},
     "output_type": "execute_result"
    }
   ],
   "source": [
    "dataset['train'][:5]"
   ]
  },
  {
   "cell_type": "markdown",
   "id": "7265e8c9",
   "metadata": {},
   "source": [
    "### Saving 5-Core"
   ]
  },
  {
   "cell_type": "code",
   "execution_count": 3,
   "id": "80001a6a",
   "metadata": {},
   "outputs": [],
   "source": [
    "from tqdm import tqdm\n",
    "from pprint import pprint\n",
    "from huggingface_hub import hf_hub_download"
   ]
  },
  {
   "cell_type": "code",
   "execution_count": 23,
   "id": "5349f821",
   "metadata": {},
   "outputs": [
    {
     "data": {
      "application/vnd.jupyter.widget-view+json": {
       "model_id": "d49a515a65d447a7acb24f2ba75407bf",
       "version_major": 2,
       "version_minor": 0
      },
      "text/plain": [
       "Toys_and_Games.csv:   0%|          | 0.00/224M [00:00<?, ?B/s]"
      ]
     },
     "metadata": {},
     "output_type": "display_data"
    },
    {
     "data": {
      "text/plain": [
       "'/home/scur2745/.cache/huggingface/hub/datasets--McAuley-Lab--Amazon-Reviews-2023/snapshots/2b6d039ed471f2ba5fd2acb718bf33b0a7e5598e/raw/review_categories/Toys_and_Games.jsonl'"
      ]
     },
     "execution_count": 23,
     "metadata": {},
     "output_type": "execute_result"
    }
   ],
   "source": [
    "rating_file = hf_hub_download(\n",
    "            repo_id='McAuley-Lab/Amazon-Reviews-2023',\n",
    "            filename='benchmark/5core/rating_only/Toys_and_Games.csv',\n",
    "            repo_type='dataset'\n",
    "            )\n",
    "\n",
    "data_file = hf_hub_download(\n",
    "            repo_id='McAuley-Lab/Amazon-Reviews-2023',\n",
    "            filename='raw/review_categories/Toys_and_Games.jsonl',\n",
    "            repo_type='dataset'\n",
    "            )"
   ]
  },
  {
   "cell_type": "code",
   "execution_count": 5,
   "id": "6ab5990d",
   "metadata": {},
   "outputs": [],
   "source": [
    "def parse_2023(path):\n",
    "    with open(path, 'r') as fp:\n",
    "        for line in tqdm(fp):\n",
    "            l = json.loads(line.strip())\n",
    "            yield l\n",
    "    \n",
    "def load_2023(path):\n",
    "    data = []\n",
    "    with open(path, 'r') as fp:\n",
    "        for line in tqdm(fp):\n",
    "            data.append(json.loads(line.strip()))\n",
    "    return data"
   ]
  },
  {
   "cell_type": "code",
   "execution_count": 25,
   "id": "a7600f44",
   "metadata": {},
   "outputs": [],
   "source": [
    "def filter_amazon_dataset(category, metadata=False):\n",
    "    rprint(\"Reading Ratings...\")\n",
    "    raw_dataset = load_dataset(\"McAuley-Lab/Amazon-Reviews-2023\", \n",
    "                       f\"raw_meta_{category}\" if metadata else f\"raw_review_{category}\", \n",
    "                       trust_remote_code=True)\n",
    "    raw_df = raw_dataset['full'].to_pandas()\n",
    "    # df_stats(raw_df, f\"{category} Reviews DataFrame Stats\")\n",
    "    \n",
    "    rprint(\"Reading Ratings...\")\n",
    "    rating_file = hf_hub_download(\n",
    "            repo_id='McAuley-Lab/Amazon-Reviews-2023',\n",
    "            filename=f'benchmark/5core/rating_only/{category}.csv',\n",
    "            repo_type='dataset'\n",
    "            )\n",
    "    rating_df = pd.read_csv(rating_file)\n",
    "    # df_stats(rating_df, f\"{category} Rating DataFrame Stats\")\n",
    "    \n",
    "    # create sets for filtering\n",
    "    valid_users = set(rating_df['user_id'].unique())\n",
    "    valid_items = set(rating_df['parent_asin'].unique())\n",
    "    \n",
    "    rprint(\"Filtering Data...\")\n",
    "    # filter reviews where both user_id and parent_asin are in the 5-core subset\n",
    "    if metadata:\n",
    "        filtered_data = raw_df[raw_df['parent_asin'].isin(valid_items)]\n",
    "    else:\n",
    "        filtered_data = raw_df[\n",
    "            (raw_df['user_id'].isin(valid_users)) & \n",
    "            (raw_df['parent_asin'].isin(valid_items))\n",
    "        ]\n",
    "    \n",
    "    # df_stats(filtered_reviews, f\"{category} Filtered Reviews DataFrame Stats\")\n",
    "    rprint(\"Filtered Dataset Shape:\", filtered_data.shape)\n",
    "    \n",
    "    return filtered_data"
   ]
  },
  {
   "cell_type": "code",
   "execution_count": 28,
   "id": "347916fd",
   "metadata": {},
   "outputs": [
    {
     "data": {
      "text/html": [
       "<pre style=\"white-space:pre;overflow-x:auto;line-height:normal;font-family:Menlo,'DejaVu Sans Mono',consolas,'Courier New',monospace\">Reading Ratings<span style=\"color: #808000; text-decoration-color: #808000\">...</span>\n",
       "</pre>\n"
      ],
      "text/plain": [
       "Reading Ratings\u001b[33m...\u001b[0m\n"
      ]
     },
     "metadata": {},
     "output_type": "display_data"
    },
    {
     "data": {
      "text/html": [
       "<pre style=\"white-space:pre;overflow-x:auto;line-height:normal;font-family:Menlo,'DejaVu Sans Mono',consolas,'Courier New',monospace\">Reading Ratings<span style=\"color: #808000; text-decoration-color: #808000\">...</span>\n",
       "</pre>\n"
      ],
      "text/plain": [
       "Reading Ratings\u001b[33m...\u001b[0m\n"
      ]
     },
     "metadata": {},
     "output_type": "display_data"
    },
    {
     "data": {
      "text/html": [
       "<pre style=\"white-space:pre;overflow-x:auto;line-height:normal;font-family:Menlo,'DejaVu Sans Mono',consolas,'Courier New',monospace\">Filtering Data<span style=\"color: #808000; text-decoration-color: #808000\">...</span>\n",
       "</pre>\n"
      ],
      "text/plain": [
       "Filtering Data\u001b[33m...\u001b[0m\n"
      ]
     },
     "metadata": {},
     "output_type": "display_data"
    },
    {
     "data": {
      "text/html": [
       "<pre style=\"white-space:pre;overflow-x:auto;line-height:normal;font-family:Menlo,'DejaVu Sans Mono',consolas,'Courier New',monospace\">Filtered Dataset Shape:\n",
       "<span style=\"font-weight: bold\">(</span><span style=\"color: #008080; text-decoration-color: #008080; font-weight: bold\">2581</span>, <span style=\"color: #008080; text-decoration-color: #008080; font-weight: bold\">10</span><span style=\"font-weight: bold\">)</span>\n",
       "</pre>\n"
      ],
      "text/plain": [
       "Filtered Dataset Shape:\n",
       "\u001b[1m(\u001b[0m\u001b[1;36m2581\u001b[0m, \u001b[1;36m10\u001b[0m\u001b[1m)\u001b[0m\n"
      ]
     },
     "metadata": {},
     "output_type": "display_data"
    },
    {
     "data": {
      "text/html": [
       "<pre style=\"white-space:pre;overflow-x:auto;line-height:normal;font-family:Menlo,'DejaVu Sans Mono',consolas,'Courier New',monospace\">DataFrame shape: <span style=\"font-weight: bold\">(</span><span style=\"color: #008080; text-decoration-color: #008080; font-weight: bold\">2581</span>, <span style=\"color: #008080; text-decoration-color: #008080; font-weight: bold\">10</span><span style=\"font-weight: bold\">)</span>\n",
       "</pre>\n"
      ],
      "text/plain": [
       "DataFrame shape: \u001b[1m(\u001b[0m\u001b[1;36m2581\u001b[0m, \u001b[1;36m10\u001b[0m\u001b[1m)\u001b[0m\n"
      ]
     },
     "metadata": {},
     "output_type": "display_data"
    },
    {
     "data": {
      "text/html": [
       "<pre style=\"white-space:pre;overflow-x:auto;line-height:normal;font-family:Menlo,'DejaVu Sans Mono',consolas,'Courier New',monospace\"><span style=\"font-style: italic\">                                 DataFrame Stats                                 </span>\n",
       "┏━━━━━━━━━━━━━━━━━━━┳━━━━━━━━━━━━━━━━┳━━━━━━━━━━━━━━┳━━━━━━━━━━━━━━━┳━━━━━━━━━━━┓\n",
       "┃<span style=\"font-weight: bold\"> Column            </span>┃<span style=\"font-weight: bold\"> Non-Null Count </span>┃<span style=\"font-weight: bold\"> Unique Count </span>┃<span style=\"font-weight: bold\"> Null/NA Count </span>┃<span style=\"font-weight: bold\"> Data Type </span>┃\n",
       "┡━━━━━━━━━━━━━━━━━━━╇━━━━━━━━━━━━━━━━╇━━━━━━━━━━━━━━╇━━━━━━━━━━━━━━━╇━━━━━━━━━━━┩\n",
       "│<span style=\"color: #008080; text-decoration-color: #008080\"> rating            </span>│<span style=\"color: #808000; text-decoration-color: #808000\"> 2581           </span>│<span style=\"color: #800080; text-decoration-color: #800080\"> 5            </span>│<span style=\"color: #800000; text-decoration-color: #800000\"> 0             </span>│<span style=\"color: #008000; text-decoration-color: #008000\"> float64   </span>│\n",
       "│<span style=\"color: #008080; text-decoration-color: #008080\"> title             </span>│<span style=\"color: #808000; text-decoration-color: #808000\"> 2581           </span>│<span style=\"color: #800080; text-decoration-color: #800080\"> 2363         </span>│<span style=\"color: #800000; text-decoration-color: #800000\"> 0             </span>│<span style=\"color: #008000; text-decoration-color: #008000\"> object    </span>│\n",
       "│<span style=\"color: #008080; text-decoration-color: #008080\"> text              </span>│<span style=\"color: #808000; text-decoration-color: #808000\"> 2581           </span>│<span style=\"color: #800080; text-decoration-color: #800080\"> 2500         </span>│<span style=\"color: #800000; text-decoration-color: #800000\"> 0             </span>│<span style=\"color: #008000; text-decoration-color: #008000\"> object    </span>│\n",
       "│<span style=\"color: #008080; text-decoration-color: #008080\"> images            </span>│<span style=\"color: #808000; text-decoration-color: #808000\"> 2581           </span>│<span style=\"color: #800080; text-decoration-color: #800080\"> Error        </span>│<span style=\"color: #800000; text-decoration-color: #800000\"> 0             </span>│<span style=\"color: #008000; text-decoration-color: #008000\"> object    </span>│\n",
       "│<span style=\"color: #008080; text-decoration-color: #008080\"> asin              </span>│<span style=\"color: #808000; text-decoration-color: #808000\"> 2581           </span>│<span style=\"color: #800080; text-decoration-color: #800080\"> 372          </span>│<span style=\"color: #800000; text-decoration-color: #800000\"> 0             </span>│<span style=\"color: #008000; text-decoration-color: #008000\"> object    </span>│\n",
       "│<span style=\"color: #008080; text-decoration-color: #008080\"> parent_asin       </span>│<span style=\"color: #808000; text-decoration-color: #808000\"> 2581           </span>│<span style=\"color: #800080; text-decoration-color: #800080\"> 356          </span>│<span style=\"color: #800000; text-decoration-color: #800000\"> 0             </span>│<span style=\"color: #008000; text-decoration-color: #008000\"> object    </span>│\n",
       "│<span style=\"color: #008080; text-decoration-color: #008080\"> user_id           </span>│<span style=\"color: #808000; text-decoration-color: #808000\"> 2581           </span>│<span style=\"color: #800080; text-decoration-color: #800080\"> 253          </span>│<span style=\"color: #800000; text-decoration-color: #800000\"> 0             </span>│<span style=\"color: #008000; text-decoration-color: #008000\"> object    </span>│\n",
       "│<span style=\"color: #008080; text-decoration-color: #008080\"> timestamp         </span>│<span style=\"color: #808000; text-decoration-color: #808000\"> 2581           </span>│<span style=\"color: #800080; text-decoration-color: #800080\"> 2507         </span>│<span style=\"color: #800000; text-decoration-color: #800000\"> 0             </span>│<span style=\"color: #008000; text-decoration-color: #008000\"> int64     </span>│\n",
       "│<span style=\"color: #008080; text-decoration-color: #008080\"> helpful_vote      </span>│<span style=\"color: #808000; text-decoration-color: #808000\"> 2581           </span>│<span style=\"color: #800080; text-decoration-color: #800080\"> 21           </span>│<span style=\"color: #800000; text-decoration-color: #800000\"> 0             </span>│<span style=\"color: #008000; text-decoration-color: #008000\"> int64     </span>│\n",
       "│<span style=\"color: #008080; text-decoration-color: #008080\"> verified_purchase </span>│<span style=\"color: #808000; text-decoration-color: #808000\"> 2581           </span>│<span style=\"color: #800080; text-decoration-color: #800080\"> 2            </span>│<span style=\"color: #800000; text-decoration-color: #800000\"> 0             </span>│<span style=\"color: #008000; text-decoration-color: #008000\"> bool      </span>│\n",
       "└───────────────────┴────────────────┴──────────────┴───────────────┴───────────┘\n",
       "</pre>\n"
      ],
      "text/plain": [
       "\u001b[3m                                 DataFrame Stats                                 \u001b[0m\n",
       "┏━━━━━━━━━━━━━━━━━━━┳━━━━━━━━━━━━━━━━┳━━━━━━━━━━━━━━┳━━━━━━━━━━━━━━━┳━━━━━━━━━━━┓\n",
       "┃\u001b[1m \u001b[0m\u001b[1mColumn           \u001b[0m\u001b[1m \u001b[0m┃\u001b[1m \u001b[0m\u001b[1mNon-Null Count\u001b[0m\u001b[1m \u001b[0m┃\u001b[1m \u001b[0m\u001b[1mUnique Count\u001b[0m\u001b[1m \u001b[0m┃\u001b[1m \u001b[0m\u001b[1mNull/NA Count\u001b[0m\u001b[1m \u001b[0m┃\u001b[1m \u001b[0m\u001b[1mData Type\u001b[0m\u001b[1m \u001b[0m┃\n",
       "┡━━━━━━━━━━━━━━━━━━━╇━━━━━━━━━━━━━━━━╇━━━━━━━━━━━━━━╇━━━━━━━━━━━━━━━╇━━━━━━━━━━━┩\n",
       "│\u001b[36m \u001b[0m\u001b[36mrating           \u001b[0m\u001b[36m \u001b[0m│\u001b[33m \u001b[0m\u001b[33m2581          \u001b[0m\u001b[33m \u001b[0m│\u001b[35m \u001b[0m\u001b[35m5           \u001b[0m\u001b[35m \u001b[0m│\u001b[31m \u001b[0m\u001b[31m0            \u001b[0m\u001b[31m \u001b[0m│\u001b[32m \u001b[0m\u001b[32mfloat64  \u001b[0m\u001b[32m \u001b[0m│\n",
       "│\u001b[36m \u001b[0m\u001b[36mtitle            \u001b[0m\u001b[36m \u001b[0m│\u001b[33m \u001b[0m\u001b[33m2581          \u001b[0m\u001b[33m \u001b[0m│\u001b[35m \u001b[0m\u001b[35m2363        \u001b[0m\u001b[35m \u001b[0m│\u001b[31m \u001b[0m\u001b[31m0            \u001b[0m\u001b[31m \u001b[0m│\u001b[32m \u001b[0m\u001b[32mobject   \u001b[0m\u001b[32m \u001b[0m│\n",
       "│\u001b[36m \u001b[0m\u001b[36mtext             \u001b[0m\u001b[36m \u001b[0m│\u001b[33m \u001b[0m\u001b[33m2581          \u001b[0m\u001b[33m \u001b[0m│\u001b[35m \u001b[0m\u001b[35m2500        \u001b[0m\u001b[35m \u001b[0m│\u001b[31m \u001b[0m\u001b[31m0            \u001b[0m\u001b[31m \u001b[0m│\u001b[32m \u001b[0m\u001b[32mobject   \u001b[0m\u001b[32m \u001b[0m│\n",
       "│\u001b[36m \u001b[0m\u001b[36mimages           \u001b[0m\u001b[36m \u001b[0m│\u001b[33m \u001b[0m\u001b[33m2581          \u001b[0m\u001b[33m \u001b[0m│\u001b[35m \u001b[0m\u001b[35mError       \u001b[0m\u001b[35m \u001b[0m│\u001b[31m \u001b[0m\u001b[31m0            \u001b[0m\u001b[31m \u001b[0m│\u001b[32m \u001b[0m\u001b[32mobject   \u001b[0m\u001b[32m \u001b[0m│\n",
       "│\u001b[36m \u001b[0m\u001b[36masin             \u001b[0m\u001b[36m \u001b[0m│\u001b[33m \u001b[0m\u001b[33m2581          \u001b[0m\u001b[33m \u001b[0m│\u001b[35m \u001b[0m\u001b[35m372         \u001b[0m\u001b[35m \u001b[0m│\u001b[31m \u001b[0m\u001b[31m0            \u001b[0m\u001b[31m \u001b[0m│\u001b[32m \u001b[0m\u001b[32mobject   \u001b[0m\u001b[32m \u001b[0m│\n",
       "│\u001b[36m \u001b[0m\u001b[36mparent_asin      \u001b[0m\u001b[36m \u001b[0m│\u001b[33m \u001b[0m\u001b[33m2581          \u001b[0m\u001b[33m \u001b[0m│\u001b[35m \u001b[0m\u001b[35m356         \u001b[0m\u001b[35m \u001b[0m│\u001b[31m \u001b[0m\u001b[31m0            \u001b[0m\u001b[31m \u001b[0m│\u001b[32m \u001b[0m\u001b[32mobject   \u001b[0m\u001b[32m \u001b[0m│\n",
       "│\u001b[36m \u001b[0m\u001b[36muser_id          \u001b[0m\u001b[36m \u001b[0m│\u001b[33m \u001b[0m\u001b[33m2581          \u001b[0m\u001b[33m \u001b[0m│\u001b[35m \u001b[0m\u001b[35m253         \u001b[0m\u001b[35m \u001b[0m│\u001b[31m \u001b[0m\u001b[31m0            \u001b[0m\u001b[31m \u001b[0m│\u001b[32m \u001b[0m\u001b[32mobject   \u001b[0m\u001b[32m \u001b[0m│\n",
       "│\u001b[36m \u001b[0m\u001b[36mtimestamp        \u001b[0m\u001b[36m \u001b[0m│\u001b[33m \u001b[0m\u001b[33m2581          \u001b[0m\u001b[33m \u001b[0m│\u001b[35m \u001b[0m\u001b[35m2507        \u001b[0m\u001b[35m \u001b[0m│\u001b[31m \u001b[0m\u001b[31m0            \u001b[0m\u001b[31m \u001b[0m│\u001b[32m \u001b[0m\u001b[32mint64    \u001b[0m\u001b[32m \u001b[0m│\n",
       "│\u001b[36m \u001b[0m\u001b[36mhelpful_vote     \u001b[0m\u001b[36m \u001b[0m│\u001b[33m \u001b[0m\u001b[33m2581          \u001b[0m\u001b[33m \u001b[0m│\u001b[35m \u001b[0m\u001b[35m21          \u001b[0m\u001b[35m \u001b[0m│\u001b[31m \u001b[0m\u001b[31m0            \u001b[0m\u001b[31m \u001b[0m│\u001b[32m \u001b[0m\u001b[32mint64    \u001b[0m\u001b[32m \u001b[0m│\n",
       "│\u001b[36m \u001b[0m\u001b[36mverified_purchase\u001b[0m\u001b[36m \u001b[0m│\u001b[33m \u001b[0m\u001b[33m2581          \u001b[0m\u001b[33m \u001b[0m│\u001b[35m \u001b[0m\u001b[35m2           \u001b[0m\u001b[35m \u001b[0m│\u001b[31m \u001b[0m\u001b[31m0            \u001b[0m\u001b[31m \u001b[0m│\u001b[32m \u001b[0m\u001b[32mbool     \u001b[0m\u001b[32m \u001b[0m│\n",
       "└───────────────────┴────────────────┴──────────────┴───────────────┴───────────┘\n"
      ]
     },
     "metadata": {},
     "output_type": "display_data"
    }
   ],
   "source": [
    "category = \"All_Beauty\"\n",
    "# category = \"Sports_and_Outdoors\"\n",
    "# category = \"Toys_and_Games\"\n",
    "\n",
    "filtered_data = filter_amazon_dataset(category, metadata=False)\n",
    "df_stats(filtered_data)"
   ]
  },
  {
   "cell_type": "code",
   "execution_count": null,
   "id": "b43f2f3f",
   "metadata": {},
   "outputs": [],
   "source": [
    "DATASET_DIR = \"/home/scur2745/RecSys/dataset/amazon/2023/toys\"\n",
    "# filtered_reviews.to_json(f'{DATASET_DIR}/reviews.json.gz', \n",
    "#                          orient='records', \n",
    "#                          lines=True,\n",
    "#                          compression='gzip')"
   ]
  },
  {
   "cell_type": "code",
   "execution_count": 50,
   "id": "133611bc",
   "metadata": {},
   "outputs": [],
   "source": [
    "import pandas as pd\n",
    "\n",
    "file_path = \"/home/scur2745/RecSys/dataset/amazon/2023/raw/toys/meta.json.gz\"\n",
    "meta_df = pd.read_json(file_path, lines=True, compression=\"gzip\")"
   ]
  },
  {
   "cell_type": "code",
   "execution_count": 62,
   "id": "2c375a39",
   "metadata": {},
   "outputs": [
    {
     "data": {
      "text/plain": [
       "\"['Toys & Games', 'Remote & App Controlled Vehicles & Parts', 'Remote & App Controlled Vehicles', 'Trucks']\""
      ]
     },
     "execution_count": 62,
     "metadata": {},
     "output_type": "execute_result"
    }
   ],
   "source": [
    "str(meta_df[\"categories\"][0])"
   ]
  },
  {
   "cell_type": "markdown",
   "id": "d8ffb747",
   "metadata": {},
   "source": [
    "### Pre-Process"
   ]
  },
  {
   "cell_type": "code",
   "execution_count": 3,
   "id": "c07a1cb2",
   "metadata": {},
   "outputs": [],
   "source": [
    "import gzip\n",
    "import json\n",
    "import numpy as np\n",
    "import os\n",
    "import os.path as osp\n",
    "import pandas as pd\n",
    "import polars as pl\n",
    "import torch\n",
    "import sys\n",
    "from collections import defaultdict\n",
    "sys.path.append(os.path.abspath(os.path.join(os.getcwd(), '..')))\n",
    "from data.preprocessing import PreprocessingMixin\n",
    "from torch_geometric.data import download_google_url\n",
    "from torch_geometric.data import extract_zip\n",
    "from torch_geometric.data import HeteroData\n",
    "from torch_geometric.data import InMemoryDataset\n",
    "from torch_geometric.io import fs\n",
    "from typing import Callable\n",
    "from typing import List\n",
    "from typing import Optional, Dict, Union\n",
    "import logging\n",
    "\n",
    "# fetch logger\n",
    "logger = logging.getLogger(\"recsys_logger\")"
   ]
  },
  {
   "cell_type": "code",
   "execution_count": 36,
   "id": "707aedf0",
   "metadata": {},
   "outputs": [],
   "source": [
    "# global vars\n",
    "DATASET_DIR = \"../dataset/amazon/2023/raw\"\n",
    "DATASET_SPLIT = \"sports\""
   ]
  },
  {
   "cell_type": "code",
   "execution_count": 37,
   "id": "486e0cc9",
   "metadata": {},
   "outputs": [
    {
     "name": "stderr",
     "output_type": "stream",
     "text": [
      "/scratch-local/67558/ipykernel_3408752/3368663462.py:1: DtypeWarning: Columns (6,15) have mixed types. Specify dtype option on import or set low_memory=False.\n",
      "  item_data = pd.read_csv(f\"{DATASET_DIR}/{DATASET_SPLIT}/item_data.csv\")\n"
     ]
    },
    {
     "data": {
      "text/html": [
       "<pre style=\"white-space:pre;overflow-x:auto;line-height:normal;font-family:Menlo,'DejaVu Sans Mono',consolas,'Courier New',monospace\">DataFrame shape: <span style=\"font-weight: bold\">(</span><span style=\"color: #008080; text-decoration-color: #008080; font-weight: bold\">156235</span>, <span style=\"color: #008080; text-decoration-color: #008080; font-weight: bold\">18</span><span style=\"font-weight: bold\">)</span>\n",
       "</pre>\n"
      ],
      "text/plain": [
       "DataFrame shape: \u001b[1m(\u001b[0m\u001b[1;36m156235\u001b[0m, \u001b[1;36m18\u001b[0m\u001b[1m)\u001b[0m\n"
      ]
     },
     "metadata": {},
     "output_type": "display_data"
    },
    {
     "data": {
      "text/html": [
       "<pre style=\"white-space:pre;overflow-x:auto;line-height:normal;font-family:Menlo,'DejaVu Sans Mono',consolas,'Courier New',monospace\"><span style=\"font-style: italic\">                                DataFrame Stats                                </span>\n",
       "┏━━━━━━━━━━━━━━━━━┳━━━━━━━━━━━━━━━━┳━━━━━━━━━━━━━━┳━━━━━━━━━━━━━━━┳━━━━━━━━━━━┓\n",
       "┃<span style=\"font-weight: bold\"> Column          </span>┃<span style=\"font-weight: bold\"> Non-Null Count </span>┃<span style=\"font-weight: bold\"> Unique Count </span>┃<span style=\"font-weight: bold\"> Null/NA Count </span>┃<span style=\"font-weight: bold\"> Data Type </span>┃\n",
       "┡━━━━━━━━━━━━━━━━━╇━━━━━━━━━━━━━━━━╇━━━━━━━━━━━━━━╇━━━━━━━━━━━━━━━╇━━━━━━━━━━━┩\n",
       "│<span style=\"color: #008080; text-decoration-color: #008080\"> main_category   </span>│<span style=\"color: #808000; text-decoration-color: #808000\"> 141394         </span>│<span style=\"color: #800080; text-decoration-color: #800080\"> 35           </span>│<span style=\"color: #800000; text-decoration-color: #800000\"> 14841         </span>│<span style=\"color: #008000; text-decoration-color: #008000\"> object    </span>│\n",
       "│<span style=\"color: #008080; text-decoration-color: #008080\"> title           </span>│<span style=\"color: #808000; text-decoration-color: #808000\"> 156226         </span>│<span style=\"color: #800080; text-decoration-color: #800080\"> 149035       </span>│<span style=\"color: #800000; text-decoration-color: #800000\"> 9             </span>│<span style=\"color: #008000; text-decoration-color: #008000\"> object    </span>│\n",
       "│<span style=\"color: #008080; text-decoration-color: #008080\"> average_rating  </span>│<span style=\"color: #808000; text-decoration-color: #808000\"> 156235         </span>│<span style=\"color: #800080; text-decoration-color: #800080\"> 33           </span>│<span style=\"color: #800000; text-decoration-color: #800000\"> 0             </span>│<span style=\"color: #008000; text-decoration-color: #008000\"> float64   </span>│\n",
       "│<span style=\"color: #008080; text-decoration-color: #008080\"> rating_number   </span>│<span style=\"color: #808000; text-decoration-color: #808000\"> 156235         </span>│<span style=\"color: #800080; text-decoration-color: #800080\"> 6577         </span>│<span style=\"color: #800000; text-decoration-color: #800000\"> 0             </span>│<span style=\"color: #008000; text-decoration-color: #008000\"> int64     </span>│\n",
       "│<span style=\"color: #008080; text-decoration-color: #008080\"> features        </span>│<span style=\"color: #808000; text-decoration-color: #808000\"> 156235         </span>│<span style=\"color: #800080; text-decoration-color: #800080\"> 133479       </span>│<span style=\"color: #800000; text-decoration-color: #800000\"> 0             </span>│<span style=\"color: #008000; text-decoration-color: #008000\"> object    </span>│\n",
       "│<span style=\"color: #008080; text-decoration-color: #008080\"> description     </span>│<span style=\"color: #808000; text-decoration-color: #808000\"> 156235         </span>│<span style=\"color: #800080; text-decoration-color: #800080\"> 80649        </span>│<span style=\"color: #800000; text-decoration-color: #800000\"> 0             </span>│<span style=\"color: #008000; text-decoration-color: #008000\"> object    </span>│\n",
       "│<span style=\"color: #008080; text-decoration-color: #008080\"> price           </span>│<span style=\"color: #808000; text-decoration-color: #808000\"> 94131          </span>│<span style=\"color: #800080; text-decoration-color: #800080\"> 15119        </span>│<span style=\"color: #800000; text-decoration-color: #800000\"> 62104         </span>│<span style=\"color: #008000; text-decoration-color: #008000\"> object    </span>│\n",
       "│<span style=\"color: #008080; text-decoration-color: #008080\"> images          </span>│<span style=\"color: #808000; text-decoration-color: #808000\"> 156235         </span>│<span style=\"color: #800080; text-decoration-color: #800080\"> 152802       </span>│<span style=\"color: #800000; text-decoration-color: #800000\"> 0             </span>│<span style=\"color: #008000; text-decoration-color: #008000\"> object    </span>│\n",
       "│<span style=\"color: #008080; text-decoration-color: #008080\"> videos          </span>│<span style=\"color: #808000; text-decoration-color: #808000\"> 156235         </span>│<span style=\"color: #800080; text-decoration-color: #800080\"> 72358        </span>│<span style=\"color: #800000; text-decoration-color: #800000\"> 0             </span>│<span style=\"color: #008000; text-decoration-color: #008000\"> object    </span>│\n",
       "│<span style=\"color: #008080; text-decoration-color: #008080\"> store           </span>│<span style=\"color: #808000; text-decoration-color: #808000\"> 154830         </span>│<span style=\"color: #800080; text-decoration-color: #800080\"> 34840        </span>│<span style=\"color: #800000; text-decoration-color: #800000\"> 1405          </span>│<span style=\"color: #008000; text-decoration-color: #008000\"> object    </span>│\n",
       "│<span style=\"color: #008080; text-decoration-color: #008080\"> categories      </span>│<span style=\"color: #808000; text-decoration-color: #808000\"> 156235         </span>│<span style=\"color: #800080; text-decoration-color: #800080\"> 2150         </span>│<span style=\"color: #800000; text-decoration-color: #800000\"> 0             </span>│<span style=\"color: #008000; text-decoration-color: #008000\"> object    </span>│\n",
       "│<span style=\"color: #008080; text-decoration-color: #008080\"> details         </span>│<span style=\"color: #808000; text-decoration-color: #808000\"> 156235         </span>│<span style=\"color: #800080; text-decoration-color: #800080\"> 154668       </span>│<span style=\"color: #800000; text-decoration-color: #800000\"> 0             </span>│<span style=\"color: #008000; text-decoration-color: #008000\"> object    </span>│\n",
       "│<span style=\"color: #008080; text-decoration-color: #008080\"> asin            </span>│<span style=\"color: #808000; text-decoration-color: #808000\"> 156235         </span>│<span style=\"color: #800080; text-decoration-color: #800080\"> 156235       </span>│<span style=\"color: #800000; text-decoration-color: #800000\"> 0             </span>│<span style=\"color: #008000; text-decoration-color: #008000\"> object    </span>│\n",
       "│<span style=\"color: #008080; text-decoration-color: #008080\"> bought_together </span>│<span style=\"color: #808000; text-decoration-color: #808000\"> 0              </span>│<span style=\"color: #800080; text-decoration-color: #800080\"> 0            </span>│<span style=\"color: #800000; text-decoration-color: #800000\"> 156235        </span>│<span style=\"color: #008000; text-decoration-color: #008000\"> float64   </span>│\n",
       "│<span style=\"color: #008080; text-decoration-color: #008080\"> subtitle        </span>│<span style=\"color: #808000; text-decoration-color: #808000\"> 16             </span>│<span style=\"color: #800080; text-decoration-color: #800080\"> 14           </span>│<span style=\"color: #800000; text-decoration-color: #800000\"> 156219        </span>│<span style=\"color: #008000; text-decoration-color: #008000\"> object    </span>│\n",
       "│<span style=\"color: #008080; text-decoration-color: #008080\"> author          </span>│<span style=\"color: #808000; text-decoration-color: #808000\"> 6              </span>│<span style=\"color: #800080; text-decoration-color: #800080\"> 6            </span>│<span style=\"color: #800000; text-decoration-color: #800000\"> 156229        </span>│<span style=\"color: #008000; text-decoration-color: #008000\"> object    </span>│\n",
       "│<span style=\"color: #008080; text-decoration-color: #008080\"> brand           </span>│<span style=\"color: #808000; text-decoration-color: #808000\"> 156226         </span>│<span style=\"color: #800080; text-decoration-color: #800080\"> 27342        </span>│<span style=\"color: #800000; text-decoration-color: #800000\"> 9             </span>│<span style=\"color: #008000; text-decoration-color: #008000\"> object    </span>│\n",
       "│<span style=\"color: #008080; text-decoration-color: #008080\"> id              </span>│<span style=\"color: #808000; text-decoration-color: #808000\"> 156235         </span>│<span style=\"color: #800080; text-decoration-color: #800080\"> 156235       </span>│<span style=\"color: #800000; text-decoration-color: #800000\"> 0             </span>│<span style=\"color: #008000; text-decoration-color: #008000\"> int64     </span>│\n",
       "└─────────────────┴────────────────┴──────────────┴───────────────┴───────────┘\n",
       "</pre>\n"
      ],
      "text/plain": [
       "\u001b[3m                                DataFrame Stats                                \u001b[0m\n",
       "┏━━━━━━━━━━━━━━━━━┳━━━━━━━━━━━━━━━━┳━━━━━━━━━━━━━━┳━━━━━━━━━━━━━━━┳━━━━━━━━━━━┓\n",
       "┃\u001b[1m \u001b[0m\u001b[1mColumn         \u001b[0m\u001b[1m \u001b[0m┃\u001b[1m \u001b[0m\u001b[1mNon-Null Count\u001b[0m\u001b[1m \u001b[0m┃\u001b[1m \u001b[0m\u001b[1mUnique Count\u001b[0m\u001b[1m \u001b[0m┃\u001b[1m \u001b[0m\u001b[1mNull/NA Count\u001b[0m\u001b[1m \u001b[0m┃\u001b[1m \u001b[0m\u001b[1mData Type\u001b[0m\u001b[1m \u001b[0m┃\n",
       "┡━━━━━━━━━━━━━━━━━╇━━━━━━━━━━━━━━━━╇━━━━━━━━━━━━━━╇━━━━━━━━━━━━━━━╇━━━━━━━━━━━┩\n",
       "│\u001b[36m \u001b[0m\u001b[36mmain_category  \u001b[0m\u001b[36m \u001b[0m│\u001b[33m \u001b[0m\u001b[33m141394        \u001b[0m\u001b[33m \u001b[0m│\u001b[35m \u001b[0m\u001b[35m35          \u001b[0m\u001b[35m \u001b[0m│\u001b[31m \u001b[0m\u001b[31m14841        \u001b[0m\u001b[31m \u001b[0m│\u001b[32m \u001b[0m\u001b[32mobject   \u001b[0m\u001b[32m \u001b[0m│\n",
       "│\u001b[36m \u001b[0m\u001b[36mtitle          \u001b[0m\u001b[36m \u001b[0m│\u001b[33m \u001b[0m\u001b[33m156226        \u001b[0m\u001b[33m \u001b[0m│\u001b[35m \u001b[0m\u001b[35m149035      \u001b[0m\u001b[35m \u001b[0m│\u001b[31m \u001b[0m\u001b[31m9            \u001b[0m\u001b[31m \u001b[0m│\u001b[32m \u001b[0m\u001b[32mobject   \u001b[0m\u001b[32m \u001b[0m│\n",
       "│\u001b[36m \u001b[0m\u001b[36maverage_rating \u001b[0m\u001b[36m \u001b[0m│\u001b[33m \u001b[0m\u001b[33m156235        \u001b[0m\u001b[33m \u001b[0m│\u001b[35m \u001b[0m\u001b[35m33          \u001b[0m\u001b[35m \u001b[0m│\u001b[31m \u001b[0m\u001b[31m0            \u001b[0m\u001b[31m \u001b[0m│\u001b[32m \u001b[0m\u001b[32mfloat64  \u001b[0m\u001b[32m \u001b[0m│\n",
       "│\u001b[36m \u001b[0m\u001b[36mrating_number  \u001b[0m\u001b[36m \u001b[0m│\u001b[33m \u001b[0m\u001b[33m156235        \u001b[0m\u001b[33m \u001b[0m│\u001b[35m \u001b[0m\u001b[35m6577        \u001b[0m\u001b[35m \u001b[0m│\u001b[31m \u001b[0m\u001b[31m0            \u001b[0m\u001b[31m \u001b[0m│\u001b[32m \u001b[0m\u001b[32mint64    \u001b[0m\u001b[32m \u001b[0m│\n",
       "│\u001b[36m \u001b[0m\u001b[36mfeatures       \u001b[0m\u001b[36m \u001b[0m│\u001b[33m \u001b[0m\u001b[33m156235        \u001b[0m\u001b[33m \u001b[0m│\u001b[35m \u001b[0m\u001b[35m133479      \u001b[0m\u001b[35m \u001b[0m│\u001b[31m \u001b[0m\u001b[31m0            \u001b[0m\u001b[31m \u001b[0m│\u001b[32m \u001b[0m\u001b[32mobject   \u001b[0m\u001b[32m \u001b[0m│\n",
       "│\u001b[36m \u001b[0m\u001b[36mdescription    \u001b[0m\u001b[36m \u001b[0m│\u001b[33m \u001b[0m\u001b[33m156235        \u001b[0m\u001b[33m \u001b[0m│\u001b[35m \u001b[0m\u001b[35m80649       \u001b[0m\u001b[35m \u001b[0m│\u001b[31m \u001b[0m\u001b[31m0            \u001b[0m\u001b[31m \u001b[0m│\u001b[32m \u001b[0m\u001b[32mobject   \u001b[0m\u001b[32m \u001b[0m│\n",
       "│\u001b[36m \u001b[0m\u001b[36mprice          \u001b[0m\u001b[36m \u001b[0m│\u001b[33m \u001b[0m\u001b[33m94131         \u001b[0m\u001b[33m \u001b[0m│\u001b[35m \u001b[0m\u001b[35m15119       \u001b[0m\u001b[35m \u001b[0m│\u001b[31m \u001b[0m\u001b[31m62104        \u001b[0m\u001b[31m \u001b[0m│\u001b[32m \u001b[0m\u001b[32mobject   \u001b[0m\u001b[32m \u001b[0m│\n",
       "│\u001b[36m \u001b[0m\u001b[36mimages         \u001b[0m\u001b[36m \u001b[0m│\u001b[33m \u001b[0m\u001b[33m156235        \u001b[0m\u001b[33m \u001b[0m│\u001b[35m \u001b[0m\u001b[35m152802      \u001b[0m\u001b[35m \u001b[0m│\u001b[31m \u001b[0m\u001b[31m0            \u001b[0m\u001b[31m \u001b[0m│\u001b[32m \u001b[0m\u001b[32mobject   \u001b[0m\u001b[32m \u001b[0m│\n",
       "│\u001b[36m \u001b[0m\u001b[36mvideos         \u001b[0m\u001b[36m \u001b[0m│\u001b[33m \u001b[0m\u001b[33m156235        \u001b[0m\u001b[33m \u001b[0m│\u001b[35m \u001b[0m\u001b[35m72358       \u001b[0m\u001b[35m \u001b[0m│\u001b[31m \u001b[0m\u001b[31m0            \u001b[0m\u001b[31m \u001b[0m│\u001b[32m \u001b[0m\u001b[32mobject   \u001b[0m\u001b[32m \u001b[0m│\n",
       "│\u001b[36m \u001b[0m\u001b[36mstore          \u001b[0m\u001b[36m \u001b[0m│\u001b[33m \u001b[0m\u001b[33m154830        \u001b[0m\u001b[33m \u001b[0m│\u001b[35m \u001b[0m\u001b[35m34840       \u001b[0m\u001b[35m \u001b[0m│\u001b[31m \u001b[0m\u001b[31m1405         \u001b[0m\u001b[31m \u001b[0m│\u001b[32m \u001b[0m\u001b[32mobject   \u001b[0m\u001b[32m \u001b[0m│\n",
       "│\u001b[36m \u001b[0m\u001b[36mcategories     \u001b[0m\u001b[36m \u001b[0m│\u001b[33m \u001b[0m\u001b[33m156235        \u001b[0m\u001b[33m \u001b[0m│\u001b[35m \u001b[0m\u001b[35m2150        \u001b[0m\u001b[35m \u001b[0m│\u001b[31m \u001b[0m\u001b[31m0            \u001b[0m\u001b[31m \u001b[0m│\u001b[32m \u001b[0m\u001b[32mobject   \u001b[0m\u001b[32m \u001b[0m│\n",
       "│\u001b[36m \u001b[0m\u001b[36mdetails        \u001b[0m\u001b[36m \u001b[0m│\u001b[33m \u001b[0m\u001b[33m156235        \u001b[0m\u001b[33m \u001b[0m│\u001b[35m \u001b[0m\u001b[35m154668      \u001b[0m\u001b[35m \u001b[0m│\u001b[31m \u001b[0m\u001b[31m0            \u001b[0m\u001b[31m \u001b[0m│\u001b[32m \u001b[0m\u001b[32mobject   \u001b[0m\u001b[32m \u001b[0m│\n",
       "│\u001b[36m \u001b[0m\u001b[36masin           \u001b[0m\u001b[36m \u001b[0m│\u001b[33m \u001b[0m\u001b[33m156235        \u001b[0m\u001b[33m \u001b[0m│\u001b[35m \u001b[0m\u001b[35m156235      \u001b[0m\u001b[35m \u001b[0m│\u001b[31m \u001b[0m\u001b[31m0            \u001b[0m\u001b[31m \u001b[0m│\u001b[32m \u001b[0m\u001b[32mobject   \u001b[0m\u001b[32m \u001b[0m│\n",
       "│\u001b[36m \u001b[0m\u001b[36mbought_together\u001b[0m\u001b[36m \u001b[0m│\u001b[33m \u001b[0m\u001b[33m0             \u001b[0m\u001b[33m \u001b[0m│\u001b[35m \u001b[0m\u001b[35m0           \u001b[0m\u001b[35m \u001b[0m│\u001b[31m \u001b[0m\u001b[31m156235       \u001b[0m\u001b[31m \u001b[0m│\u001b[32m \u001b[0m\u001b[32mfloat64  \u001b[0m\u001b[32m \u001b[0m│\n",
       "│\u001b[36m \u001b[0m\u001b[36msubtitle       \u001b[0m\u001b[36m \u001b[0m│\u001b[33m \u001b[0m\u001b[33m16            \u001b[0m\u001b[33m \u001b[0m│\u001b[35m \u001b[0m\u001b[35m14          \u001b[0m\u001b[35m \u001b[0m│\u001b[31m \u001b[0m\u001b[31m156219       \u001b[0m\u001b[31m \u001b[0m│\u001b[32m \u001b[0m\u001b[32mobject   \u001b[0m\u001b[32m \u001b[0m│\n",
       "│\u001b[36m \u001b[0m\u001b[36mauthor         \u001b[0m\u001b[36m \u001b[0m│\u001b[33m \u001b[0m\u001b[33m6             \u001b[0m\u001b[33m \u001b[0m│\u001b[35m \u001b[0m\u001b[35m6           \u001b[0m\u001b[35m \u001b[0m│\u001b[31m \u001b[0m\u001b[31m156229       \u001b[0m\u001b[31m \u001b[0m│\u001b[32m \u001b[0m\u001b[32mobject   \u001b[0m\u001b[32m \u001b[0m│\n",
       "│\u001b[36m \u001b[0m\u001b[36mbrand          \u001b[0m\u001b[36m \u001b[0m│\u001b[33m \u001b[0m\u001b[33m156226        \u001b[0m\u001b[33m \u001b[0m│\u001b[35m \u001b[0m\u001b[35m27342       \u001b[0m\u001b[35m \u001b[0m│\u001b[31m \u001b[0m\u001b[31m9            \u001b[0m\u001b[31m \u001b[0m│\u001b[32m \u001b[0m\u001b[32mobject   \u001b[0m\u001b[32m \u001b[0m│\n",
       "│\u001b[36m \u001b[0m\u001b[36mid             \u001b[0m\u001b[36m \u001b[0m│\u001b[33m \u001b[0m\u001b[33m156235        \u001b[0m\u001b[33m \u001b[0m│\u001b[35m \u001b[0m\u001b[35m156235      \u001b[0m\u001b[35m \u001b[0m│\u001b[31m \u001b[0m\u001b[31m0            \u001b[0m\u001b[31m \u001b[0m│\u001b[32m \u001b[0m\u001b[32mint64    \u001b[0m\u001b[32m \u001b[0m│\n",
       "└─────────────────┴────────────────┴──────────────┴───────────────┴───────────┘\n"
      ]
     },
     "metadata": {},
     "output_type": "display_data"
    }
   ],
   "source": [
    "item_data = pd.read_csv(f\"{DATASET_DIR}/{DATASET_SPLIT}/item_data.csv\")\n",
    "df_stats(item_data)"
   ]
  },
  {
   "cell_type": "code",
   "execution_count": 38,
   "id": "838276a9",
   "metadata": {},
   "outputs": [
    {
     "data": {
      "text/plain": [
       "ext\n",
       "jpg    156096\n",
       "gif       127\n",
       "png         2\n",
       "Name: count, dtype: int64"
      ]
     },
     "execution_count": 38,
     "metadata": {},
     "output_type": "execute_result"
    }
   ],
   "source": [
    "df = item_data.copy()\n",
    "\n",
    "df[\"img_hi_res\"] = df[\"images\"].apply(lambda x: eval(x).get(\"hi_res\"))\n",
    "df[\"img_large\"] = df[\"images\"].apply(lambda x: eval(x).get(\"large\"))\n",
    "\n",
    "df[\"img_hi_res\"] = df[\"img_hi_res\"].apply(lambda lst: next((x for x in lst if x is not None), None))\n",
    "df[\"img_large\"] = df[\"img_large\"].apply(lambda lst: next((x for x in lst if x is not None), None))\n",
    "\n",
    "df[\"imUrl\"] = df[\"img_hi_res\"]\n",
    "df[\"imUrl\"] = df[\"imUrl\"].fillna(df[\"img_large\"])\n",
    "\n",
    "df[\"ext\"] = df[\"imUrl\"].str.split(\".\").str[-1].tolist()\n",
    "df[\"ext\"].value_counts()"
   ]
  },
  {
   "cell_type": "code",
   "execution_count": null,
   "id": "45b28f59",
   "metadata": {},
   "outputs": [],
   "source": [
    "import glob\n",
    "\n",
    "category = \"software\"\n",
    "\n",
    "\n",
    "files = glob.glob(f\"/home/scur2745/RecSys/dataset/amazon/2023/raw/{category}/product_images/*.jpg\")\n",
    "len(files)"
   ]
  },
  {
   "cell_type": "code",
   "execution_count": 12,
   "id": "7c9c3399",
   "metadata": {},
   "outputs": [
    {
     "name": "stdout",
     "output_type": "stream",
     "text": [
      "https://m.media-amazon.com/images/I/B1zbKPw36UL.png: [5, 3724]\n",
      "https://m.media-amazon.com/images/I/71ler1wpyxL.png: [8, 16722]\n",
      "https://m.media-amazon.com/images/I/A1dbmEdwmsL.png: [51, 8600]\n",
      "https://m.media-amazon.com/images/I/714Qv+IRiDL.png: [113, 8284, 12684]\n",
      "https://m.media-amazon.com/images/I/A1zsr1B9SzL.png: [137, 12440]\n",
      "https://m.media-amazon.com/images/I/713iHmxqxZL._AC_SL1500_.jpg: [143, 8108]\n",
      "https://m.media-amazon.com/images/I/A1u0ZhoCyIL.png: [169, 13643]\n",
      "https://m.media-amazon.com/images/I/91uhv278I7L.png: [182, 6986]\n",
      "https://m.media-amazon.com/images/I/613oMtrHS8L.jpg: [186, 10029]\n",
      "https://m.media-amazon.com/images/I/71ROoE-6MhL._AC_SL1427_.jpg: [216, 1776]\n",
      "https://m.media-amazon.com/images/I/41dV4TQ49FL._AC_.jpg: [238, 16345]\n",
      "https://m.media-amazon.com/images/I/81eVb1BaISL._AC_SL1500_.jpg: [255, 13761]\n",
      "https://m.media-amazon.com/images/I/61aW0cBM20L.jpg: [271, 14796]\n",
      "https://m.media-amazon.com/images/I/71LZ34PJBzL.png: [284, 10431]\n",
      "https://m.media-amazon.com/images/I/71DN3Uno2YL.png: [305, 17420]\n",
      "https://m.media-amazon.com/images/I/81mmZd2ZQwL.jpg: [348, 9945]\n",
      "https://m.media-amazon.com/images/I/A12rGpeb0pL.png: [370, 9671]\n",
      "https://m.media-amazon.com/images/I/8133k6R8PFL.png: [379, 1221]\n",
      "https://m.media-amazon.com/images/I/81oVhewLWJL.png: [390, 11629]\n",
      "https://m.media-amazon.com/images/I/91RuxKj3FlL.jpg: [454, 12800]\n",
      "https://m.media-amazon.com/images/I/A1LOjtG6UEL.png: [481, 3063]\n",
      "https://m.media-amazon.com/images/I/71oYk7NzbDL.jpg: [488, 2888]\n",
      "https://m.media-amazon.com/images/I/B1ELRc-ErjS.png: [516, 4562]\n",
      "https://m.media-amazon.com/images/I/81cfl4cpu3L.png: [577, 15385]\n",
      "https://m.media-amazon.com/images/I/81LfAInd2WL.jpg: [587, 15560]\n",
      "https://m.media-amazon.com/images/I/61jQTqQJiYL._AC_.png: [605, 747]\n",
      "https://m.media-amazon.com/images/I/81JvBmAS+BL.jpg: [636, 14972]\n",
      "https://m.media-amazon.com/images/I/B16WKZEyjmS.png: [640, 3482]\n",
      "https://m.media-amazon.com/images/I/617+W61AirL.png: [664, 887, 4372, 8525]\n",
      "https://m.media-amazon.com/images/I/91nGbvUxDXL.png: [711, 8806]\n",
      "https://m.media-amazon.com/images/I/71tWzwlOcYL.png: [714, 13095]\n",
      "https://m.media-amazon.com/images/I/910klw0SBAL.jpg: [772, 10700]\n",
      "https://m.media-amazon.com/images/I/919-qSSWbSL.jpg: [870, 2869, 13976, 16382]\n",
      "https://m.media-amazon.com/images/I/91NfZEgXF7L.png: [872, 10993]\n",
      "https://m.media-amazon.com/images/I/B1cqUFv5lPS.png: [907, 13917]\n",
      "https://m.media-amazon.com/images/I/C1E32x1NtZS.png: [908, 5434]\n",
      "https://m.media-amazon.com/images/I/A1u4Ezk-QHL.png: [919, 9357]\n",
      "https://m.media-amazon.com/images/I/81jq5BC9DQL.jpg: [960, 8168]\n",
      "https://m.media-amazon.com/images/I/917YCqXvDnL.jpg: [1007, 13113]\n",
      "https://m.media-amazon.com/images/I/91pO+Wl32-L.png: [1051, 10864]\n",
      "https://m.media-amazon.com/images/I/A1-7XLFxR3L.png: [1105, 9935]\n",
      "https://m.media-amazon.com/images/I/B1eThLV3PPS.jpg: [1106, 2683]\n",
      "https://m.media-amazon.com/images/I/91nrO3ATCLL.jpg: [1107, 15764]\n",
      "https://m.media-amazon.com/images/I/B1Xk3A-cKMS.png: [1126, 3201]\n",
      "https://m.media-amazon.com/images/I/7116Mo3-TAL.png: [1175, 2971]\n",
      "https://m.media-amazon.com/images/I/81Zybe4PPuL.png: [1193, 3270]\n",
      "https://m.media-amazon.com/images/I/B1ln8B-mb7L.png: [1209, 13192]\n",
      "https://m.media-amazon.com/images/I/A1AGeWATy9L.png: [1213, 14372, 17110]\n",
      "https://m.media-amazon.com/images/I/A126TMURe0L.png: [1222, 2340]\n",
      "https://m.media-amazon.com/images/I/A1iuPyJde8L.png: [1229, 4045, 15188]\n",
      "https://m.media-amazon.com/images/I/91g2W4-4h2L.png: [1235, 7496]\n",
      "https://m.media-amazon.com/images/I/71VjsI2jgxL.jpg: [1262, 3084]\n",
      "https://m.media-amazon.com/images/I/81XJTcm8ZFL.png: [1274, 14118]\n",
      "https://m.media-amazon.com/images/I/91S2TzL2w2L.png: [1376, 10057]\n",
      "https://m.media-amazon.com/images/I/A1NsUIs3xCL.png: [1443, 11515]\n",
      "https://m.media-amazon.com/images/I/91o0zkJ6KTL.png: [1459, 9145]\n",
      "https://m.media-amazon.com/images/I/A1pegKRl08L.png: [1475, 8562]\n",
      "https://m.media-amazon.com/images/I/91gnAA-YV9L.jpg: [1478, 11754]\n",
      "https://m.media-amazon.com/images/I/A1oUXZ-PEvL.png: [1517, 14335]\n",
      "https://m.media-amazon.com/images/I/91j3H7Dw6SL.png: [1587, 5198]\n",
      "https://m.media-amazon.com/images/I/81jDptD8dWL.png: [1597, 3276]\n",
      "https://m.media-amazon.com/images/I/B1SOqeuA5qS.jpg: [1609, 8780]\n",
      "https://m.media-amazon.com/images/I/A13p6vnBXDL.png: [1667, 3943]\n",
      "https://m.media-amazon.com/images/I/81nMuVuPtjL.png: [1674, 14943]\n",
      "https://m.media-amazon.com/images/I/91+zKav7qdL.png: [1713, 13847]\n",
      "https://m.media-amazon.com/images/I/51TAtn3CJ9L.png: [1777, 15217]\n",
      "https://m.media-amazon.com/images/I/71JkzlLh-aL.jpg: [1799, 4757]\n",
      "https://m.media-amazon.com/images/I/B1RCsaM7WsS.png: [1826, 2730]\n",
      "https://m.media-amazon.com/images/I/61LAiA3Gu1L.jpg: [1937, 5485]\n",
      "https://m.media-amazon.com/images/I/81PF6Zp40TL.jpg: [2003, 8146]\n",
      "https://m.media-amazon.com/images/I/917vMB4CJdL.png: [2050, 9971]\n",
      "https://m.media-amazon.com/images/I/71KNMOg5+CL.jpg: [2055, 12899]\n",
      "https://m.media-amazon.com/images/I/71Jybss4CjL.jpg: [2062, 4079]\n",
      "https://m.media-amazon.com/images/I/A1tPyBhDg6L.jpg: [2065, 5090]\n",
      "https://m.media-amazon.com/images/I/71f-B00VmEL.jpg: [2119, 16006]\n",
      "https://m.media-amazon.com/images/I/A19G2A7IxEL.png: [2194, 16590]\n",
      "https://m.media-amazon.com/images/I/51GX+rSLmnL.png: [2275, 11041]\n",
      "https://m.media-amazon.com/images/I/81YI+JJXneL.jpg: [2290, 16461]\n",
      "https://m.media-amazon.com/images/I/81sR0hLVXLL.jpg: [2399, 12591, 13520, 16137]\n",
      "https://m.media-amazon.com/images/I/71IGwHK7uWL._AC_SL1500_.jpg: [2428, 13207]\n",
      "https://m.media-amazon.com/images/I/71q8fOuLWFL.jpg: [2445, 11884]\n",
      "https://m.media-amazon.com/images/I/B1fUL8kcmeL.png: [2455, 7376]\n",
      "https://m.media-amazon.com/images/I/818-kmrtVML.png: [2483, 11600]\n",
      "https://m.media-amazon.com/images/I/81bh6WrIE1L.jpg: [2488, 4017]\n",
      "https://m.media-amazon.com/images/I/91jdjok6wPL.png: [2493, 13975]\n",
      "https://m.media-amazon.com/images/I/71FDfd4tbeL._AC_SL1500_.jpg: [2515, 3947]\n",
      "https://m.media-amazon.com/images/I/71QfE3eUyVL.png: [2598, 15143]\n",
      "https://m.media-amazon.com/images/I/91MDwfmbYKL.png: [2651, 7558]\n",
      "https://m.media-amazon.com/images/I/71oP-pYau7L.png: [2698, 7998]\n",
      "https://m.media-amazon.com/images/I/51NRR5QSlRL.jpg: [2756, 14221]\n",
      "https://m.media-amazon.com/images/I/A14sgwjTO+L.png: [2763, 6688]\n",
      "https://m.media-amazon.com/images/I/91cEGFLG9lL.png: [2771, 3069]\n",
      "https://m.media-amazon.com/images/I/81FDgHirErL.jpg: [2780, 12356]\n",
      "https://m.media-amazon.com/images/I/A1DhpRNjNBL.png: [2866, 9222]\n",
      "https://m.media-amazon.com/images/I/91giH-iY19L.png: [2889, 6322, 7108]\n",
      "https://m.media-amazon.com/images/I/91rGnhj1W1L.png: [2904, 8062]\n",
      "https://m.media-amazon.com/images/I/81f2uzhjdjL.png: [2913, 11098]\n",
      "https://m.media-amazon.com/images/I/51bmX+acrdL._AC_SL1000_.jpg: [2958, 3840, 8635, 15227]\n",
      "https://m.media-amazon.com/images/I/A1VDxGjwQfL.png: [2967, 13407]\n",
      "https://m.media-amazon.com/images/I/71XVlWp8A-L.png: [2986, 13073]\n",
      "https://m.media-amazon.com/images/I/91jhh4B29sL.png: [2987, 3370]\n",
      "https://m.media-amazon.com/images/I/61Z4fpkPu+L.png: [3036, 3557, 6040, 12419, 13283]\n",
      "https://m.media-amazon.com/images/I/A1d9btDmx3L.png: [3041, 16187]\n",
      "https://m.media-amazon.com/images/I/61r5PNlU65L.png: [3049, 7066]\n",
      "https://m.media-amazon.com/images/I/91j552thg0L.png: [3075, 16819]\n",
      "https://m.media-amazon.com/images/I/71IWS+dqxiL.png: [3089, 3104]\n",
      "https://m.media-amazon.com/images/I/81rkQ-1l4+L.jpg: [3099, 7213]\n",
      "https://m.media-amazon.com/images/I/91wWc+gKDqL.png: [3136, 5331]\n",
      "https://m.media-amazon.com/images/I/A1qu9TFC7+L.jpg: [3149, 8080]\n",
      "https://m.media-amazon.com/images/I/A1069LGlgIL.png: [3177, 8216]\n",
      "https://m.media-amazon.com/images/I/A1+5JvAId6L.png: [3199, 10398]\n",
      "https://m.media-amazon.com/images/I/61hMmySIFDL._AC_SL1015_.jpg: [3205, 17305]\n",
      "https://m.media-amazon.com/images/I/A1gH5UsNafL.png: [3249, 3298]\n",
      "https://m.media-amazon.com/images/I/814FUsszgYL.png: [3302, 5066]\n",
      "https://m.media-amazon.com/images/I/A1dkwKTEyIL.png: [3309, 5960]\n",
      "https://m.media-amazon.com/images/I/91+-gcK5pUL.png: [3314, 3652]\n",
      "https://m.media-amazon.com/images/I/A1fuaH9deOL.png: [3317, 14877]\n",
      "https://m.media-amazon.com/images/I/A1OUnu4VyRL.png: [3327, 3490, 9156, 11405, 12676, 15759]\n",
      "https://m.media-amazon.com/images/I/C1Osk4C41JS.png: [3367, 13545]\n",
      "https://m.media-amazon.com/images/I/A1RLSY8gaSL.png: [3398, 7904]\n",
      "https://m.media-amazon.com/images/I/81bY9OyMIEL.jpg: [3501, 5977]\n",
      "https://m.media-amazon.com/images/I/B130cqvw5wS.png: [3556, 4607]\n",
      "https://m.media-amazon.com/images/I/71amesni6OL.png: [3561, 15683]\n",
      "https://m.media-amazon.com/images/I/71fXVlBLHVL.jpg: [3590, 8149]\n",
      "https://m.media-amazon.com/images/I/91AqyuPGbTL.png: [3631, 10795]\n",
      "https://m.media-amazon.com/images/I/71zIR8HKZsL._AC_SL1500_.jpg: [3637, 7156]\n",
      "https://m.media-amazon.com/images/I/B1LWQQTIWAS.png: [3727, 11473]\n",
      "https://m.media-amazon.com/images/I/B1jhul+oquS.png: [3762, 15542]\n",
      "https://m.media-amazon.com/images/I/B1HDPIDfjZL.png: [3780, 9893]\n",
      "https://m.media-amazon.com/images/I/81C0RvC08eL._AC_SL1500_.jpg: [3783, 8039]\n",
      "https://m.media-amazon.com/images/I/91AydOXxpwL.png: [3815, 16468]\n",
      "https://m.media-amazon.com/images/I/61kmCGt8IcL.png: [3851, 12624]\n",
      "https://m.media-amazon.com/images/I/A1VKyl4f2JL.png: [3871, 10093]\n",
      "https://m.media-amazon.com/images/I/A1ZiRRhzBkL.png: [3908, 9783]\n",
      "https://m.media-amazon.com/images/I/81li5YRtqvL.png: [3916, 5834]\n",
      "https://m.media-amazon.com/images/I/81ojLsCdsLL.jpg: [3939, 8835]\n",
      "https://m.media-amazon.com/images/I/91nrNVHaftL.png: [3998, 7097]\n",
      "https://m.media-amazon.com/images/I/91gfrCQEX3L.png: [4015, 14914]\n",
      "https://m.media-amazon.com/images/I/A1GLzXI+khL.png: [4117, 14854]\n",
      "https://m.media-amazon.com/images/I/81Qm8HzwDrL.jpg: [4120, 16094]\n",
      "https://m.media-amazon.com/images/I/91qeSef47rL.jpg: [4213, 6751]\n",
      "https://m.media-amazon.com/images/I/91ok2DRrBTL.jpg: [4269, 15398]\n",
      "https://m.media-amazon.com/images/I/811vEWiuiAL.png: [4302, 4879]\n",
      "https://m.media-amazon.com/images/I/91ym6q58KfL.png: [4353, 17102]\n",
      "https://m.media-amazon.com/images/I/61StaDn-CpL._AC_SL1280_.jpg: [4370, 12915]\n",
      "https://m.media-amazon.com/images/I/A1UFwQcz1oL.png: [4423, 12945]\n",
      "https://m.media-amazon.com/images/I/81olS3bcVkL.jpg: [4426, 5558]\n",
      "https://m.media-amazon.com/images/I/A1Clq7hCT4L.png: [4575, 8643]\n",
      "https://m.media-amazon.com/images/I/51S3NRljXIL.png: [4677, 14482]\n",
      "https://m.media-amazon.com/images/I/81fiCYQk+fL.jpg: [4684, 10686]\n",
      "https://m.media-amazon.com/images/I/A1PKte8MenL.png: [4722, 6351]\n",
      "https://m.media-amazon.com/images/I/A1QzIUmRPFL.png: [4819, 5586]\n",
      "https://m.media-amazon.com/images/I/91fEQsWt5+L.png: [4822, 8440]\n",
      "https://m.media-amazon.com/images/I/A15m1pJpqEL.png: [4826, 6580]\n",
      "https://m.media-amazon.com/images/I/71TfigXrrCL.png: [4832, 13685]\n",
      "https://m.media-amazon.com/images/I/81GdBjI-7KL.jpg: [4867, 16512]\n",
      "https://m.media-amazon.com/images/I/81-s4DDmbZL.jpg: [4878, 6385]\n",
      "https://m.media-amazon.com/images/I/01RmK+J4pJL._AC_.gif: [4881, 16535]\n",
      "https://m.media-amazon.com/images/I/A1z-nW9PsRL.png: [4889, 10260]\n",
      "https://m.media-amazon.com/images/I/C1i1Ck7j1-S.png: [4908, 5154]\n",
      "https://m.media-amazon.com/images/I/810cDsETA+L.jpg: [4943, 10333]\n",
      "https://m.media-amazon.com/images/I/91KiNG010hL.png: [4956, 8616]\n",
      "https://m.media-amazon.com/images/I/71y8A72KqVL._AC_.jpg: [4961, 7699]\n",
      "https://m.media-amazon.com/images/I/91x26ZSE9ZL.png: [4991, 16466]\n",
      "https://m.media-amazon.com/images/I/81Y5jrRTvrL.png: [5001, 5017]\n",
      "https://m.media-amazon.com/images/I/A1eGq2xst7L.png: [5027, 16669]\n",
      "https://m.media-amazon.com/images/I/812R+OEyuxL.png: [5112, 10472]\n",
      "https://m.media-amazon.com/images/I/A1oXfoxcSJL.png: [5121, 7410]\n",
      "https://m.media-amazon.com/images/I/81Sob-Zbh-L.png: [5128, 15446]\n",
      "https://m.media-amazon.com/images/I/91K+nkvAbZL.jpg: [5176, 12852]\n",
      "https://m.media-amazon.com/images/I/A1MxVKe69JL.png: [5203, 16507]\n",
      "https://m.media-amazon.com/images/I/91S0d6gxMzL.png: [5273, 10879]\n",
      "https://m.media-amazon.com/images/I/81U74bomjtL.jpg: [5291, 9186]\n",
      "https://m.media-amazon.com/images/I/B16rZ-wptCS.png: [5364, 6291]\n",
      "https://m.media-amazon.com/images/I/712qh+sP11L.png: [5414, 12359]\n",
      "https://m.media-amazon.com/images/I/A1bvcvqUcVL.png: [5431, 13589]\n",
      "https://m.media-amazon.com/images/I/61kP+Y75A5L.png: [5433, 5445]\n",
      "https://m.media-amazon.com/images/I/C1FaZHqZ9ES.png: [5440, 16665]\n",
      "https://m.media-amazon.com/images/I/91T0wzVs5jL.png: [5447, 15300]\n",
      "https://m.media-amazon.com/images/I/813dIOYCAzL.jpg: [5452, 11663]\n",
      "https://m.media-amazon.com/images/I/A1ZSZceVroL.png: [5458, 11232]\n",
      "https://m.media-amazon.com/images/I/B12m9nbQKmL.jpg: [5463, 13017]\n",
      "https://m.media-amazon.com/images/I/71k550kECVL._AC_SL1500_.jpg: [5490, 13733]\n",
      "https://m.media-amazon.com/images/I/A1mhJ5wcXbL.png: [5510, 15339]\n",
      "https://m.media-amazon.com/images/I/C1FZ5UT1JPS.png: [5518, 13415]\n",
      "https://m.media-amazon.com/images/I/81cP29oUGQL._AC_SL1500_.jpg: [5590, 10496]\n",
      "https://m.media-amazon.com/images/I/91uPmaFINeL.png: [5597, 8381]\n",
      "https://m.media-amazon.com/images/I/71whE5z7uoL.jpg: [5603, 17109]\n",
      "https://m.media-amazon.com/images/I/A1EXO08tOHL.png: [5652, 8959, 10921]\n",
      "https://m.media-amazon.com/images/I/A1CqDqMBMrL.png: [5762, 8715]\n",
      "https://m.media-amazon.com/images/I/A1FK-U99f7L.png: [5770, 11883]\n",
      "https://m.media-amazon.com/images/I/915E8pVnJbL.png: [5780, 12754]\n",
      "https://m.media-amazon.com/images/I/71FGLBaiFjL.jpg: [5801, 6715]\n",
      "https://m.media-amazon.com/images/I/81LlKUEWNqL.png: [5843, 5939]\n",
      "https://m.media-amazon.com/images/I/81sWr+tWoHL._AC_SL1500_.jpg: [5862, 16092]\n",
      "https://m.media-amazon.com/images/I/91DG2p2FlYL.jpg: [6027, 8042]\n",
      "https://m.media-amazon.com/images/I/81X4LewW5FL.jpg: [6045, 12950]\n",
      "https://m.media-amazon.com/images/I/61bTg7pQRFL.png: [6058, 8546]\n",
      "https://m.media-amazon.com/images/I/B1a5HzEfq+S.png: [6082, 14541]\n",
      "https://m.media-amazon.com/images/I/919lix7gPvL.png: [6102, 11368]\n",
      "https://m.media-amazon.com/images/I/B1zFFpXfKMS.png: [6179, 13673]\n",
      "https://m.media-amazon.com/images/I/61e91+cYyiL._AC_SL1360_.jpg: [6200, 7973, 8194, 12552, 17520]\n",
      "https://m.media-amazon.com/images/I/B1QKIrA70IS.png: [6220, 11640]\n",
      "https://m.media-amazon.com/images/I/A16m6ED2FdL.png: [6245, 9952]\n",
      "https://m.media-amazon.com/images/I/91raHXtV1uL.png: [6250, 10969]\n",
      "https://m.media-amazon.com/images/I/919sdelu45L.jpg: [6251, 9540]\n",
      "https://m.media-amazon.com/images/I/91MCm92EDhL.png: [6265, 8026]\n",
      "https://m.media-amazon.com/images/I/91BK8PweU8L.jpg: [6307, 17146]\n",
      "https://m.media-amazon.com/images/I/719FlTQdQdL.png: [6321, 13136]\n",
      "https://m.media-amazon.com/images/I/91AEVGbv7yL.png: [6434, 15494]\n",
      "https://m.media-amazon.com/images/I/9126U7GRqVL.png: [6435, 7137]\n",
      "https://m.media-amazon.com/images/I/A14p0ytfaqL.png: [6449, 14144]\n",
      "https://m.media-amazon.com/images/I/A15jwMIsM+L.png: [6481, 12678]\n",
      "https://m.media-amazon.com/images/I/91B4AP4Ti0L.png: [6484, 13776]\n",
      "https://m.media-amazon.com/images/I/81KAB4wjesL.jpg: [6502, 9946]\n",
      "https://m.media-amazon.com/images/I/81V-+CBf0hL.jpg: [6530, 15987]\n",
      "https://m.media-amazon.com/images/I/91mpXz4l3eL.png: [6571, 9437]\n",
      "https://m.media-amazon.com/images/I/E1KlU9dEEGS.png: [6582, 13898]\n",
      "https://m.media-amazon.com/images/I/915J8oJQc6L.png: [6629, 9424]\n",
      "https://m.media-amazon.com/images/I/81YLm6RG61L.png: [6642, 13906]\n",
      "https://m.media-amazon.com/images/I/81IxX+y+6SL.jpg: [6692, 10303]\n",
      "https://m.media-amazon.com/images/I/A1RGUu0ExZL.png: [6700, 6909]\n",
      "https://m.media-amazon.com/images/I/81KsKKCnJ7L.png: [6707, 13357]\n",
      "https://m.media-amazon.com/images/I/91koXkIqtVL.jpg: [6741, 16494]\n",
      "https://m.media-amazon.com/images/I/A1PYlcuHOXL.png: [6818, 10815]\n",
      "https://m.media-amazon.com/images/I/51Ivd4HA11L.png: [6820, 7947]\n",
      "https://m.media-amazon.com/images/I/913E0QDkIZL.png: [6872, 12529]\n",
      "https://m.media-amazon.com/images/I/A1MC7dGceEL.png: [6938, 17178]\n",
      "https://m.media-amazon.com/images/I/81FPn-D3qSL.png: [7030, 13090]\n",
      "https://m.media-amazon.com/images/I/A1vpjnhng1L.png: [7061, 11019]\n",
      "https://m.media-amazon.com/images/I/61giOYY-cOL.png: [7077, 10979]\n",
      "https://m.media-amazon.com/images/I/81Wz8NjXn2L.png: [7127, 7769]\n",
      "https://m.media-amazon.com/images/I/A1HN64vTdYL.png: [7161, 11909]\n",
      "https://m.media-amazon.com/images/I/91K3NPlw0pL.png: [7165, 15853]\n",
      "https://m.media-amazon.com/images/I/91aGDr7LOoL.png: [7202, 12434]\n",
      "https://m.media-amazon.com/images/I/B1bmbZPwCeS.png: [7230, 13375]\n",
      "https://m.media-amazon.com/images/I/81t1HPydseL.jpg: [7246, 14465]\n",
      "https://m.media-amazon.com/images/I/51SuFSPFn5L.png: [7254, 7349]\n",
      "https://m.media-amazon.com/images/I/81M8OcBukdL.png: [7275, 13154]\n",
      "https://m.media-amazon.com/images/I/B1JjakqxWjS.png: [7286, 13067]\n",
      "https://m.media-amazon.com/images/I/81VEYRUi5TL.jpg: [7375, 9882]\n",
      "https://m.media-amazon.com/images/I/A16B447qvWL.png: [7390, 15977]\n",
      "https://m.media-amazon.com/images/I/61GBUp7wnKL.png: [7397, 10897]\n",
      "https://m.media-amazon.com/images/I/81T1-USBfcL.jpg: [7417, 10009]\n",
      "https://m.media-amazon.com/images/I/A15VgsyPxCL.png: [7503, 17179]\n",
      "https://m.media-amazon.com/images/I/91DQ8FwTcBL.jpg: [7668, 14990]\n",
      "https://m.media-amazon.com/images/I/61cn688iRzL.png: [7675, 13111, 17064]\n",
      "https://m.media-amazon.com/images/I/81b3iB-xGVL.jpg: [7677, 13430]\n",
      "https://m.media-amazon.com/images/I/A1oVp1P17ML.png: [7754, 13563]\n",
      "https://m.media-amazon.com/images/I/51VkZG+VS7L.jpg: [7756, 12474]\n",
      "https://m.media-amazon.com/images/I/A1v3Pa1FT-L.png: [7779, 8166]\n",
      "https://m.media-amazon.com/images/I/81hFr0VvQYL.jpg: [7791, 14100]\n",
      "https://m.media-amazon.com/images/I/B1C4gBk1KeS.png: [7863, 15950]\n",
      "https://m.media-amazon.com/images/I/A14twB3YbvL.png: [7896, 8988]\n",
      "https://m.media-amazon.com/images/I/41bInTwMzNL.png: [7956, 13243]\n",
      "https://m.media-amazon.com/images/I/81AXD23px9L.png: [8008, 15285]\n",
      "https://m.media-amazon.com/images/I/91VD7JnnV8L.jpg: [8060, 16257]\n",
      "https://m.media-amazon.com/images/I/91Y3xIhLpZL.png: [8098, 12861]\n",
      "https://m.media-amazon.com/images/I/81zx9fqnlNL.jpg: [8110, 14831]\n",
      "https://m.media-amazon.com/images/I/91OpLMk1cUL.png: [8156, 11005]\n",
      "https://m.media-amazon.com/images/I/91YFOCuHL1L.jpg: [8172, 12951]\n",
      "https://m.media-amazon.com/images/I/918NSl5L0OL.png: [8215, 8484]\n",
      "https://m.media-amazon.com/images/I/C1rMOgVi4QS.png: [8285, 9503]\n",
      "https://m.media-amazon.com/images/I/A1epgOqCCjL.png: [8293, 14283]\n",
      "https://m.media-amazon.com/images/I/A1XWXh38faL.png: [8309, 15736]\n",
      "https://m.media-amazon.com/images/I/91XjAFxeQUL.jpg: [8311, 14405]\n",
      "https://m.media-amazon.com/images/I/81jMpUoiz1L.jpg: [8394, 13613]\n",
      "https://m.media-amazon.com/images/I/61p6McIDqoL.jpg: [8499, 12612]\n",
      "https://m.media-amazon.com/images/I/81abMJ2Q1zL.jpg: [8757, 16291]\n",
      "https://m.media-amazon.com/images/I/B10OkjI8xOS.jpg: [8773, 13096]\n",
      "https://m.media-amazon.com/images/I/91jHj88DFjL.jpg: [8842, 10948, 11920]\n",
      "https://m.media-amazon.com/images/I/81IGsU4xwiL.png: [8861, 11261]\n",
      "https://m.media-amazon.com/images/I/81ek3Ps55hL.jpg: [8896, 9845]\n",
      "https://m.media-amazon.com/images/I/81LdzOwfvxL.jpg: [9000, 16641]\n",
      "https://m.media-amazon.com/images/I/91mR51omChL.jpg: [9050, 9774]\n",
      "https://m.media-amazon.com/images/I/71K1i+ygn3L.png: [9074, 15406]\n",
      "https://m.media-amazon.com/images/I/A1cFBO85dfL.png: [9094, 14711]\n",
      "https://m.media-amazon.com/images/I/A1Ex-xWMtlL.png: [9183, 12819]\n",
      "https://m.media-amazon.com/images/I/C1-NfqOeSJS.png: [9203, 9756]\n",
      "https://m.media-amazon.com/images/I/91G3FAmqbHL.png: [9217, 13957]\n",
      "https://m.media-amazon.com/images/I/A1Ec3gi-NLL.png: [9246, 15091]\n",
      "https://m.media-amazon.com/images/I/A1jy1jdYCEL.png: [9265, 10026]\n",
      "https://m.media-amazon.com/images/I/71ROjU+JUDL.jpg: [9303, 10954]\n",
      "https://m.media-amazon.com/images/I/81bsvME-BQL.jpg: [9511, 10145]\n",
      "https://m.media-amazon.com/images/I/A11rexzoR+L.jpg: [9570, 14666]\n",
      "https://m.media-amazon.com/images/I/81lLXdD-x5L.jpg: [9593, 14937]\n",
      "https://m.media-amazon.com/images/I/91YpO1s0bsL.png: [9604, 17360]\n",
      "https://m.media-amazon.com/images/I/61Ptrm6yR4L.png: [9610, 13606]\n",
      "https://m.media-amazon.com/images/I/71XFvHWydBL.jpg: [9673, 15103]\n",
      "https://m.media-amazon.com/images/I/91XW-WrSn7L.png: [9694, 11962]\n",
      "https://m.media-amazon.com/images/I/C1L7aeKOXoS.png: [9702, 11693]\n",
      "https://m.media-amazon.com/images/I/712TJETqx6L.png: [9843, 15658]\n",
      "https://m.media-amazon.com/images/I/A1QVcu6KRiL.png: [10036, 10578]\n",
      "https://m.media-amazon.com/images/I/61h6YXRr3tL.png: [10067, 10724, 13901]\n",
      "https://m.media-amazon.com/images/I/91cH25ISCyL.png: [10126, 16562]\n",
      "https://m.media-amazon.com/images/I/81iAmnpcgML.png: [10148, 11970]\n",
      "https://m.media-amazon.com/images/I/A1y0E3MFi3L.png: [10171, 16716]\n",
      "https://m.media-amazon.com/images/I/61leNUfDBcL._AC_SL1200_.jpg: [10191, 15901]\n",
      "https://m.media-amazon.com/images/I/914DIn96zHL.png: [10421, 12069]\n",
      "https://m.media-amazon.com/images/I/61L4yrKzdzL.jpg: [10449, 11059]\n",
      "https://m.media-amazon.com/images/I/A1iAaq+CqVS.png: [10507, 11673]\n",
      "https://m.media-amazon.com/images/I/71PvmY7V1KL._AC_SL1500_.jpg: [10511, 16283]\n",
      "https://m.media-amazon.com/images/I/81HdlcACeSL.png: [10587, 11107, 12697]\n",
      "https://m.media-amazon.com/images/I/91QTeXXve-L.png: [10739, 10765]\n",
      "https://m.media-amazon.com/images/I/A1fQI9QorWL.png: [10808, 16243]\n",
      "https://m.media-amazon.com/images/I/810FyPTEl6L.jpg: [10999, 16428]\n",
      "https://m.media-amazon.com/images/I/A1OySAKlDQL.png: [11028, 17257]\n",
      "https://m.media-amazon.com/images/I/B1j6TsTTFCS.png: [11223, 15839]\n",
      "https://m.media-amazon.com/images/I/81CsxlyGdkL.png: [11450, 12402]\n",
      "https://m.media-amazon.com/images/I/71z3px8mlOL.jpg: [11546, 14759]\n",
      "https://m.media-amazon.com/images/I/A13bk98HbSL.png: [11559, 17121]\n",
      "https://m.media-amazon.com/images/I/71J1eAZwNrL.png: [11871, 15584]\n",
      "https://m.media-amazon.com/images/I/812ih-gWoDL.jpg: [11933, 13189]\n",
      "https://m.media-amazon.com/images/I/81KQaP5LOhL.jpg: [12132, 15506]\n",
      "https://m.media-amazon.com/images/I/81rRzUoTbZL.jpg: [12271, 15928]\n",
      "https://m.media-amazon.com/images/I/B18mmB-VVAS.png: [12333, 14584]\n",
      "https://m.media-amazon.com/images/I/81JKivTt5xL.jpg: [12413, 16997]\n",
      "https://m.media-amazon.com/images/I/A18a214joHL.png: [12425, 15005]\n",
      "https://m.media-amazon.com/images/I/91-O35QUjCL.jpg: [12646, 14681]\n",
      "https://m.media-amazon.com/images/I/910lfbV-l9L.png: [12653, 14857]\n",
      "https://m.media-amazon.com/images/I/9187sGHYATL.png: [12876, 15709]\n",
      "https://m.media-amazon.com/images/I/51yEPLrJJwL.jpg: [12981, 13828]\n",
      "https://m.media-amazon.com/images/I/813R61faAGL.png: [13018, 16710]\n",
      "https://m.media-amazon.com/images/I/81H7kpgtzWL.png: [13082, 16550]\n",
      "https://m.media-amazon.com/images/I/718EbTZhAVL.jpg: [13135, 13609]\n",
      "https://m.media-amazon.com/images/I/81e4-7SnHBL.jpg: [13160, 16555]\n",
      "https://m.media-amazon.com/images/I/71vDofhTsTL._AC_SL1500_.jpg: [13206, 14817]\n",
      "https://m.media-amazon.com/images/I/91F5EINCuxL.png: [13219, 17399]\n",
      "https://m.media-amazon.com/images/I/81YAclS1SrL.png: [13326, 13551]\n",
      "https://m.media-amazon.com/images/I/B1ZnT1EVs+S.png: [13332, 14941]\n",
      "https://m.media-amazon.com/images/I/B1Ip6NqLY-S.png: [13386, 15246]\n",
      "https://m.media-amazon.com/images/I/61Fv0ky-nnL.jpg: [13448, 16725]\n",
      "https://m.media-amazon.com/images/I/916AGO1PqQL.jpg: [13735, 17519]\n",
      "https://m.media-amazon.com/images/I/918shibYJWL.png: [13748, 17241]\n",
      "https://m.media-amazon.com/images/I/81YoI9uNbGL.jpg: [13934, 17169]\n",
      "https://m.media-amazon.com/images/I/612hEFi9eCL.png: [14094, 17495]\n",
      "https://m.media-amazon.com/images/I/81r3R3AF94L.jpg: [14361, 15092]\n",
      "https://m.media-amazon.com/images/I/812NXu38ChL.jpg: [14557, 16624]\n",
      "https://m.media-amazon.com/images/I/A1focFkzlIL.png: [14743, 14920]\n",
      "https://m.media-amazon.com/images/I/81cWEFUFBML.png: [14912, 17521]\n",
      "https://m.media-amazon.com/images/I/917TtFJG1DL.png: [15136, 17217]\n",
      "https://m.media-amazon.com/images/I/91U9UGmI88L.png: [15186, 16598]\n",
      "https://m.media-amazon.com/images/I/B19jq36niyS.png: [15424, 17580]\n",
      "https://m.media-amazon.com/images/I/A1RjbpT-rXL.png: [15675, 15982]\n",
      "https://m.media-amazon.com/images/I/81eu++wqVmL.png: [15741, 17105]\n",
      "https://m.media-amazon.com/images/I/A10W9+mMWHL.jpg: [16610, 17531]\n",
      "https://m.media-amazon.com/images/I/91BwhNXc-fL.png: [16810, 17240]\n",
      "https://m.media-amazon.com/images/I/91EWO0kiA1L.png: [16930, 17587]\n"
     ]
    }
   ],
   "source": [
    "from collections import defaultdict\n",
    "\n",
    "url_to_indices = defaultdict(list)\n",
    "\n",
    "for idx, url in df[\"imUrl\"].items():\n",
    "    url_to_indices[url].append(idx)\n",
    "\n",
    "# Filter and print only the URLs that have duplicates\n",
    "for url, indices in url_to_indices.items():\n",
    "    if len(indices) > 1:\n",
    "        print(f\"{url}: {indices}\")"
   ]
  },
  {
   "cell_type": "code",
   "execution_count": null,
   "id": "45eb086d",
   "metadata": {},
   "outputs": [],
   "source": []
  },
  {
   "cell_type": "code",
   "execution_count": null,
   "id": "5e66cadd",
   "metadata": {},
   "outputs": [],
   "source": []
  }
 ],
 "metadata": {
  "kernelspec": {
   "display_name": "Python 3",
   "language": "python",
   "name": "python3"
  },
  "language_info": {
   "codemirror_mode": {
    "name": "ipython",
    "version": 3
   },
   "file_extension": ".py",
   "mimetype": "text/x-python",
   "name": "python",
   "nbconvert_exporter": "python",
   "pygments_lexer": "ipython3",
   "version": "3.9.21"
  }
 },
 "nbformat": 4,
 "nbformat_minor": 5
}
