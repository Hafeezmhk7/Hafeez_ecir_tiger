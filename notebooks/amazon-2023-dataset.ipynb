{
 "cells": [
  {
   "cell_type": "code",
   "execution_count": 1,
   "id": "1e686519",
   "metadata": {},
   "outputs": [],
   "source": [
    "# imports\n",
    "import os\n",
    "import pickle\n",
    "import numpy as np\n",
    "import pandas as pd\n",
    "import glob\n",
    "import json\n",
    "from rich import print as rprint\n",
    "from rich.table import Table\n",
    "from rich.console import Console\n",
    "import gzip\n",
    "import datasets\n",
    "from datasets import load_dataset\n",
    "\n",
    "datasets.logging.set_verbosity_error()"
   ]
  },
  {
   "cell_type": "markdown",
   "id": "3f8b374b",
   "metadata": {},
   "source": [
    "### Global Functions"
   ]
  },
  {
   "cell_type": "code",
   "execution_count": 2,
   "id": "8d45cb75",
   "metadata": {},
   "outputs": [],
   "source": [
    "def display_pickle_summary(data, title=\"Pickle File Contents\"):\n",
    "    \"\"\"\n",
    "    Load and summarize the contents of a pickle file using rich.\n",
    "\n",
    "    :param data: .pkl data\n",
    "    :param title: Optional title for the printed table.\n",
    "    \"\"\"\n",
    "    table = Table(title=title)\n",
    "    \n",
    "    table.add_column(\"Key/Type\", style=\"cyan\", no_wrap=True)\n",
    "    table.add_column(\"Description\", style=\"magenta\")\n",
    "\n",
    "    total_size = 0\n",
    "    if isinstance(data, dict):\n",
    "        for key, value in data.items():\n",
    "            desc = f\"{type(value).__name__}, len={len(value)}\" if hasattr(value, '__len__') else type(value).__name__\n",
    "            table.add_row(str(key), desc)\n",
    "            if key in [\"train\", \"test\", \"val\"]:\n",
    "                total_size += len(value)\n",
    "            else:\n",
    "                total_size = \"N/A\"\n",
    "    else:\n",
    "        table.add_row(type(data).__name__, f\"{data}\" if isinstance(data, (int, float, str)) else str(type(data)))\n",
    "\n",
    "    table.add_row(\"Total Size\", str(total_size))\n",
    "    console = Console()\n",
    "    console.print(table)\n",
    "    \n",
    "    if \"train\" in data or \"test\" in data or \"val\" in data:\n",
    "        rprint(\"Train Sample:\")\n",
    "        rprint(data['train'][0])\n",
    "        rprint(\"Val Sample:\")\n",
    "        rprint(data['val'][0])\n",
    "        rprint(\"Test Sample:\")\n",
    "        print(data['test'][0])\n",
    "        \n",
    "        \n",
    "def df_stats(df: pd.DataFrame, title=\"DataFrame Stats\"):\n",
    "    table = Table(title=title)\n",
    "    rprint(f\"DataFrame shape: {df.shape}\")\n",
    "    table.add_column(\"Column\", style=\"cyan\", no_wrap=True)\n",
    "    table.add_column(\"Non-Null Count\", style=\"yellow\")\n",
    "    table.add_column(\"Unique Count\", style=\"magenta\")\n",
    "    table.add_column(\"Null/NA Count\", style=\"red\")\n",
    "    table.add_column(\"Data Type\", style=\"green\")\n",
    "\n",
    "    for col in df.columns:\n",
    "        try:\n",
    "            non_null_count = df[col].notna().sum()\n",
    "        except:\n",
    "            non_null_count = \"Error\"\n",
    "        try:\n",
    "            unique_count = df[col].nunique(dropna=True)\n",
    "        except:\n",
    "            unique_count = \"Error\"\n",
    "        try:\n",
    "            null_count = df[col].isna().sum()\n",
    "        except:\n",
    "            null_count = \"Error\"\n",
    "        try:\n",
    "            dtype = str(df[col].dtype)\n",
    "        except:\n",
    "            dtype = \"Error\"\n",
    "        table.add_row(col, str(non_null_count), str(unique_count), str(null_count), dtype)\n",
    "\n",
    "    Console().print(table)"
   ]
  },
  {
   "cell_type": "markdown",
   "id": "e151ac93",
   "metadata": {},
   "source": [
    "### Loading Data from HuggingFace"
   ]
  },
  {
   "cell_type": "markdown",
   "id": "49ee86fb",
   "metadata": {},
   "source": [
    "#### Review Samples"
   ]
  },
  {
   "cell_type": "code",
   "execution_count": 4,
   "id": "ea718e50",
   "metadata": {},
   "outputs": [],
   "source": [
    "dataset = load_dataset(\"McAuley-Lab/Amazon-Reviews-2023\", \n",
    "                       \"raw_review_All_Beauty\", \n",
    "                       trust_remote_code=True)"
   ]
  },
  {
   "cell_type": "code",
   "execution_count": 6,
   "id": "d778418f",
   "metadata": {},
   "outputs": [
    {
     "data": {
      "text/plain": [
       "{'rating': 5.0,\n",
       " 'title': 'Such a lovely scent but not overpowering.',\n",
       " 'text': \"This spray is really nice. It smells really good, goes on really fine, and does the trick. I will say it feels like you need a lot of it though to get the texture I want. I have a lot of hair, medium thickness. I am comparing to other brands with yucky chemicals so I'm gonna stick with this. Try it!\",\n",
       " 'images': [],\n",
       " 'asin': 'B00YQ6X8EO',\n",
       " 'parent_asin': 'B00YQ6X8EO',\n",
       " 'user_id': 'AGKHLEW2SOWHNMFQIJGBECAF7INQ',\n",
       " 'timestamp': 1588687728923,\n",
       " 'helpful_vote': 0,\n",
       " 'verified_purchase': True}"
      ]
     },
     "execution_count": 6,
     "metadata": {},
     "output_type": "execute_result"
    }
   ],
   "source": [
    "dataset[\"full\"][0]"
   ]
  },
  {
   "cell_type": "markdown",
   "id": "53721f77",
   "metadata": {},
   "source": [
    "#### Metadata"
   ]
  },
  {
   "cell_type": "code",
   "execution_count": 8,
   "id": "3e83ca21",
   "metadata": {},
   "outputs": [
    {
     "data": {
      "application/vnd.jupyter.widget-view+json": {
       "model_id": "a8361f39280d4ac9916190a46bbbd0cb",
       "version_major": 2,
       "version_minor": 0
      },
      "text/plain": [
       "meta_All_Beauty.jsonl:   0%|          | 0.00/213M [00:00<?, ?B/s]"
      ]
     },
     "metadata": {},
     "output_type": "display_data"
    },
    {
     "data": {
      "application/vnd.jupyter.widget-view+json": {
       "model_id": "298f03a1ac98498fac04f5590ceea5db",
       "version_major": 2,
       "version_minor": 0
      },
      "text/plain": [
       "Generating full split:   0%|          | 0/112590 [00:00<?, ? examples/s]"
      ]
     },
     "metadata": {},
     "output_type": "display_data"
    }
   ],
   "source": [
    "dataset = load_dataset(\"McAuley-Lab/Amazon-Reviews-2023\", \n",
    "                       \"raw_meta_All_Beauty\", \n",
    "                       split=\"full\", \n",
    "                       trust_remote_code=True)"
   ]
  },
  {
   "cell_type": "code",
   "execution_count": 9,
   "id": "53c3b950",
   "metadata": {},
   "outputs": [
    {
     "data": {
      "text/plain": [
       "{'main_category': 'All Beauty',\n",
       " 'title': 'Howard LC0008 Leather Conditioner, 8-Ounce (4-Pack)',\n",
       " 'average_rating': 4.8,\n",
       " 'rating_number': 10,\n",
       " 'features': [],\n",
       " 'description': [],\n",
       " 'price': 'None',\n",
       " 'images': {'hi_res': [None,\n",
       "   'https://m.media-amazon.com/images/I/71i77AuI9xL._SL1500_.jpg'],\n",
       "  'large': ['https://m.media-amazon.com/images/I/41qfjSfqNyL.jpg',\n",
       "   'https://m.media-amazon.com/images/I/41w2yznfuZL.jpg'],\n",
       "  'thumb': ['https://m.media-amazon.com/images/I/41qfjSfqNyL._SS40_.jpg',\n",
       "   'https://m.media-amazon.com/images/I/41w2yznfuZL._SS40_.jpg'],\n",
       "  'variant': ['MAIN', 'PT01']},\n",
       " 'videos': {'title': [], 'url': [], 'user_id': []},\n",
       " 'store': 'Howard Products',\n",
       " 'categories': [],\n",
       " 'details': '{\"Package Dimensions\": \"7.1 x 5.5 x 3 inches; 2.38 Pounds\", \"UPC\": \"617390882781\"}',\n",
       " 'parent_asin': 'B01CUPMQZE',\n",
       " 'bought_together': None,\n",
       " 'subtitle': None,\n",
       " 'author': None}"
      ]
     },
     "execution_count": 9,
     "metadata": {},
     "output_type": "execute_result"
    }
   ],
   "source": [
    "dataset[0]"
   ]
  },
  {
   "cell_type": "markdown",
   "id": "8937a181",
   "metadata": {},
   "source": [
    "#### Pure IDs Files (Before Splitting)"
   ]
  },
  {
   "cell_type": "code",
   "execution_count": 10,
   "id": "22301001",
   "metadata": {},
   "outputs": [
    {
     "data": {
      "application/vnd.jupyter.widget-view+json": {
       "model_id": "e8333f3396d64b9da11da82cb1d61618",
       "version_major": 2,
       "version_minor": 0
      },
      "text/plain": [
       "All_Beauty.csv:   0%|          | 0.00/147k [00:00<?, ?B/s]"
      ]
     },
     "metadata": {},
     "output_type": "display_data"
    },
    {
     "data": {
      "application/vnd.jupyter.widget-view+json": {
       "model_id": "7adbdcabda524ea791845928757e5d38",
       "version_major": 2,
       "version_minor": 0
      },
      "text/plain": [
       "Generating full split: 0 examples [00:00, ? examples/s]"
      ]
     },
     "metadata": {},
     "output_type": "display_data"
    }
   ],
   "source": [
    "dataset = load_dataset(\"McAuley-Lab/Amazon-Reviews-2023\", \n",
    "                       \"5core_rating_only_All_Beauty\", \n",
    "                       trust_remote_code=True)"
   ]
  },
  {
   "cell_type": "code",
   "execution_count": 11,
   "id": "8000bc0c",
   "metadata": {},
   "outputs": [
    {
     "data": {
      "text/plain": [
       "{'user_id': ['AFSKPY37N3C43SOI5IEXEK5JSIYA',\n",
       "  'AFSKPY37N3C43SOI5IEXEK5JSIYA',\n",
       "  'AFSKPY37N3C43SOI5IEXEK5JSIYA',\n",
       "  'AFSKPY37N3C43SOI5IEXEK5JSIYA',\n",
       "  'AFSKPY37N3C43SOI5IEXEK5JSIYA'],\n",
       " 'parent_asin': ['B07J3GH1W1',\n",
       "  'B07W397QG4',\n",
       "  'B07KG1TWP5',\n",
       "  'B08JTNQFZY',\n",
       "  'B07SLFWZKN'],\n",
       " 'rating': ['5.0', '5.0', '5.0', '5.0', '3.0'],\n",
       " 'timestamp': ['1547589356557',\n",
       "  '1593352422858',\n",
       "  '1596473351088',\n",
       "  '1617904219785',\n",
       "  '1619737501209']}"
      ]
     },
     "execution_count": 11,
     "metadata": {},
     "output_type": "execute_result"
    }
   ],
   "source": [
    "dataset['full'][0:5]"
   ]
  },
  {
   "cell_type": "markdown",
   "id": "728ff600",
   "metadata": {},
   "source": [
    "#### Pure IDs Files (After Splitting)"
   ]
  },
  {
   "cell_type": "code",
   "execution_count": 12,
   "id": "3a0d195e",
   "metadata": {},
   "outputs": [
    {
     "data": {
      "application/vnd.jupyter.widget-view+json": {
       "model_id": "0957e4e49ed64693b826c03804dc042b",
       "version_major": 2,
       "version_minor": 0
      },
      "text/plain": [
       "All_Beauty.train.csv:   0%|          | 0.00/130k [00:00<?, ?B/s]"
      ]
     },
     "metadata": {},
     "output_type": "display_data"
    },
    {
     "data": {
      "application/vnd.jupyter.widget-view+json": {
       "model_id": "9080c5e1023642cd96cd0c48de1c3846",
       "version_major": 2,
       "version_minor": 0
      },
      "text/plain": [
       "All_Beauty.valid.csv:   0%|          | 0.00/16.1k [00:00<?, ?B/s]"
      ]
     },
     "metadata": {},
     "output_type": "display_data"
    },
    {
     "data": {
      "application/vnd.jupyter.widget-view+json": {
       "model_id": "530d28e32aeb49a0b38dbeea21bdc248",
       "version_major": 2,
       "version_minor": 0
      },
      "text/plain": [
       "All_Beauty.test.csv:   0%|          | 0.00/1.32k [00:00<?, ?B/s]"
      ]
     },
     "metadata": {},
     "output_type": "display_data"
    },
    {
     "data": {
      "application/vnd.jupyter.widget-view+json": {
       "model_id": "16290700d435419891f4f23410f10017",
       "version_major": 2,
       "version_minor": 0
      },
      "text/plain": [
       "Generating train split: 0 examples [00:00, ? examples/s]"
      ]
     },
     "metadata": {},
     "output_type": "display_data"
    },
    {
     "data": {
      "application/vnd.jupyter.widget-view+json": {
       "model_id": "9393205235444f03b6f797b0b6ed99e7",
       "version_major": 2,
       "version_minor": 0
      },
      "text/plain": [
       "Generating valid split: 0 examples [00:00, ? examples/s]"
      ]
     },
     "metadata": {},
     "output_type": "display_data"
    },
    {
     "data": {
      "application/vnd.jupyter.widget-view+json": {
       "model_id": "8dd564a7e84c4dd4b7f6d6cdd8aef47d",
       "version_major": 2,
       "version_minor": 0
      },
      "text/plain": [
       "Generating test split: 0 examples [00:00, ? examples/s]"
      ]
     },
     "metadata": {},
     "output_type": "display_data"
    }
   ],
   "source": [
    "dataset = load_dataset(\"McAuley-Lab/Amazon-Reviews-2023\", \n",
    "                       \"5core_timestamp_All_Beauty\", \n",
    "                       trust_remote_code=True)"
   ]
  },
  {
   "cell_type": "code",
   "execution_count": 13,
   "id": "a95db2b8",
   "metadata": {},
   "outputs": [
    {
     "data": {
      "text/plain": [
       "{'user_id': ['AFSKPY37N3C43SOI5IEXEK5JSIYA',\n",
       "  'AFSKPY37N3C43SOI5IEXEK5JSIYA',\n",
       "  'AFSKPY37N3C43SOI5IEXEK5JSIYA',\n",
       "  'AFSKPY37N3C43SOI5IEXEK5JSIYA',\n",
       "  'AFSKPY37N3C43SOI5IEXEK5JSIYA'],\n",
       " 'parent_asin': ['B07J3GH1W1',\n",
       "  'B07W397QG4',\n",
       "  'B07KG1TWP5',\n",
       "  'B08JTNQFZY',\n",
       "  'B07SLFWZKN'],\n",
       " 'rating': ['5.0', '5.0', '5.0', '5.0', '3.0'],\n",
       " 'timestamp': ['1547589356557',\n",
       "  '1593352422858',\n",
       "  '1596473351088',\n",
       "  '1617904219785',\n",
       "  '1619737501209']}"
      ]
     },
     "execution_count": 13,
     "metadata": {},
     "output_type": "execute_result"
    }
   ],
   "source": [
    "dataset['train'][:5]"
   ]
  },
  {
   "cell_type": "markdown",
   "id": "78e2bbce",
   "metadata": {},
   "source": [
    "#### Need additional user historical interactions"
   ]
  },
  {
   "cell_type": "code",
   "execution_count": 14,
   "id": "d076ab4d",
   "metadata": {},
   "outputs": [
    {
     "data": {
      "application/vnd.jupyter.widget-view+json": {
       "model_id": "fb4a93d417cb40ffad89cccded3baea7",
       "version_major": 2,
       "version_minor": 0
      },
      "text/plain": [
       "All_Beauty.train.csv:   0%|          | 0.00/291k [00:00<?, ?B/s]"
      ]
     },
     "metadata": {},
     "output_type": "display_data"
    },
    {
     "data": {
      "application/vnd.jupyter.widget-view+json": {
       "model_id": "e5172f3c2f1b4772a66457126cbbbd30",
       "version_major": 2,
       "version_minor": 0
      },
      "text/plain": [
       "All_Beauty.valid.csv:   0%|          | 0.00/54.7k [00:00<?, ?B/s]"
      ]
     },
     "metadata": {},
     "output_type": "display_data"
    },
    {
     "data": {
      "application/vnd.jupyter.widget-view+json": {
       "model_id": "707a69a05e214f18913714b2d3e0157f",
       "version_major": 2,
       "version_minor": 0
      },
      "text/plain": [
       "All_Beauty.test.csv:   0%|          | 0.00/4.54k [00:00<?, ?B/s]"
      ]
     },
     "metadata": {},
     "output_type": "display_data"
    },
    {
     "data": {
      "application/vnd.jupyter.widget-view+json": {
       "model_id": "47e347e4333241089edc981884fad008",
       "version_major": 2,
       "version_minor": 0
      },
      "text/plain": [
       "Generating train split: 0 examples [00:00, ? examples/s]"
      ]
     },
     "metadata": {},
     "output_type": "display_data"
    },
    {
     "data": {
      "application/vnd.jupyter.widget-view+json": {
       "model_id": "fbb36b120cce482a94241532dce1585c",
       "version_major": 2,
       "version_minor": 0
      },
      "text/plain": [
       "Generating valid split: 0 examples [00:00, ? examples/s]"
      ]
     },
     "metadata": {},
     "output_type": "display_data"
    },
    {
     "data": {
      "application/vnd.jupyter.widget-view+json": {
       "model_id": "2e258506f8f542238b64b33148948594",
       "version_major": 2,
       "version_minor": 0
      },
      "text/plain": [
       "Generating test split: 0 examples [00:00, ? examples/s]"
      ]
     },
     "metadata": {},
     "output_type": "display_data"
    }
   ],
   "source": [
    "dataset = load_dataset(\"McAuley-Lab/Amazon-Reviews-2023\", \n",
    "                       \"5core_timestamp_w_his_All_Beauty\", \n",
    "                       trust_remote_code=True)"
   ]
  },
  {
   "cell_type": "code",
   "execution_count": 17,
   "id": "110eeaf6",
   "metadata": {},
   "outputs": [
    {
     "data": {
      "text/plain": [
       "{'user_id': ['AFSKPY37N3C43SOI5IEXEK5JSIYA',\n",
       "  'AFSKPY37N3C43SOI5IEXEK5JSIYA',\n",
       "  'AFSKPY37N3C43SOI5IEXEK5JSIYA',\n",
       "  'AFSKPY37N3C43SOI5IEXEK5JSIYA',\n",
       "  'AFSKPY37N3C43SOI5IEXEK5JSIYA'],\n",
       " 'parent_asin': ['B07J3GH1W1',\n",
       "  'B07W397QG4',\n",
       "  'B07KG1TWP5',\n",
       "  'B08JTNQFZY',\n",
       "  'B07SLFWZKN'],\n",
       " 'rating': ['5.0', '5.0', '5.0', '5.0', '3.0'],\n",
       " 'timestamp': ['1547589356557',\n",
       "  '1593352422858',\n",
       "  '1596473351088',\n",
       "  '1617904219785',\n",
       "  '1619737501209'],\n",
       " 'history': ['',\n",
       "  'B07J3GH1W1',\n",
       "  'B07J3GH1W1 B07W397QG4',\n",
       "  'B07J3GH1W1 B07W397QG4 B07KG1TWP5',\n",
       "  'B07J3GH1W1 B07W397QG4 B07KG1TWP5 B08JTNQFZY']}"
      ]
     },
     "execution_count": 17,
     "metadata": {},
     "output_type": "execute_result"
    }
   ],
   "source": [
    "dataset['train'][:5]"
   ]
  },
  {
   "cell_type": "markdown",
   "id": "7265e8c9",
   "metadata": {},
   "source": [
    "### Saving 5-Core"
   ]
  },
  {
   "cell_type": "code",
   "execution_count": 3,
   "id": "80001a6a",
   "metadata": {},
   "outputs": [],
   "source": [
    "from tqdm import tqdm\n",
    "from pprint import pprint\n",
    "from huggingface_hub import hf_hub_download"
   ]
  },
  {
   "cell_type": "code",
   "execution_count": null,
   "id": "5349f821",
   "metadata": {},
   "outputs": [
    {
     "data": {
      "application/vnd.jupyter.widget-view+json": {
       "model_id": "d49a515a65d447a7acb24f2ba75407bf",
       "version_major": 2,
       "version_minor": 0
      },
      "text/plain": [
       "Toys_and_Games.csv:   0%|          | 0.00/224M [00:00<?, ?B/s]"
      ]
     },
     "metadata": {},
     "output_type": "display_data"
    },
    {
     "data": {
      "text/plain": [
       "'/home/scur2745/.cache/huggingface/hub/datasets--McAuley-Lab--Amazon-Reviews-2023/snapshots/2b6d039ed471f2ba5fd2acb718bf33b0a7e5598e/raw/review_categories/Toys_and_Games.jsonl'"
      ]
     },
     "execution_count": 23,
     "metadata": {},
     "output_type": "execute_result"
    }
   ],
   "source": [
    "rating_file = hf_hub_download(\n",
    "            repo_id='McAuley-Lab/Amazon-Reviews-2023',\n",
    "            filename='benchmark/5core/rating_only/Toys_and_Games.csv',\n",
    "            repo_type='dataset'\n",
    "            )\n",
    "\n",
    "data_file = hf_hub_download(\n",
    "            repo_id='McAuley-Lab/Amazon-Reviews-2023',\n",
    "            filename='raw/review_categories/Toys_and_Games.jsonl',\n",
    "            repo_type='dataset'\n",
    "            )"
   ]
  },
  {
   "cell_type": "code",
   "execution_count": 5,
   "id": "6ab5990d",
   "metadata": {},
   "outputs": [],
   "source": [
    "def parse_2023(path):\n",
    "    with open(path, 'r') as fp:\n",
    "        for line in tqdm(fp):\n",
    "            l = json.loads(line.strip())\n",
    "            yield l\n",
    "    \n",
    "def load_2023(path):\n",
    "    data = []\n",
    "    with open(path, 'r') as fp:\n",
    "        for line in tqdm(fp):\n",
    "            data.append(json.loads(line.strip()))\n",
    "    return data"
   ]
  },
  {
   "cell_type": "code",
   "execution_count": 25,
   "id": "a7600f44",
   "metadata": {},
   "outputs": [],
   "source": [
    "def filter_amazon_dataset(category, metadata=False):\n",
    "    rprint(\"Reading Ratings...\")\n",
    "    raw_dataset = load_dataset(\"McAuley-Lab/Amazon-Reviews-2023\", \n",
    "                       f\"raw_meta_{category}\" if metadata else f\"raw_review_{category}\", \n",
    "                       trust_remote_code=True)\n",
    "    raw_df = raw_dataset['full'].to_pandas()\n",
    "    # df_stats(raw_df, f\"{category} Reviews DataFrame Stats\")\n",
    "    \n",
    "    rprint(\"Reading Ratings...\")\n",
    "    rating_file = hf_hub_download(\n",
    "            repo_id='McAuley-Lab/Amazon-Reviews-2023',\n",
    "            filename=f'benchmark/5core/rating_only/{category}.csv',\n",
    "            repo_type='dataset'\n",
    "            )\n",
    "    rating_df = pd.read_csv(rating_file)\n",
    "    # df_stats(rating_df, f\"{category} Rating DataFrame Stats\")\n",
    "    \n",
    "    # create sets for filtering\n",
    "    valid_users = set(rating_df['user_id'].unique())\n",
    "    valid_items = set(rating_df['parent_asin'].unique())\n",
    "    \n",
    "    rprint(\"Filtering Data...\")\n",
    "    # filter reviews where both user_id and parent_asin are in the 5-core subset\n",
    "    if metadata:\n",
    "        filtered_data = raw_df[raw_df['parent_asin'].isin(valid_items)]\n",
    "    else:\n",
    "        filtered_data = raw_df[\n",
    "            (raw_df['user_id'].isin(valid_users)) & \n",
    "            (raw_df['parent_asin'].isin(valid_items))\n",
    "        ]\n",
    "    \n",
    "    # df_stats(filtered_reviews, f\"{category} Filtered Reviews DataFrame Stats\")\n",
    "    rprint(\"Filtered Dataset Shape:\", filtered_data.shape)\n",
    "    \n",
    "    return filtered_data"
   ]
  },
  {
   "cell_type": "code",
   "execution_count": 28,
   "id": "347916fd",
   "metadata": {},
   "outputs": [
    {
     "data": {
      "text/html": [
       "<pre style=\"white-space:pre;overflow-x:auto;line-height:normal;font-family:Menlo,'DejaVu Sans Mono',consolas,'Courier New',monospace\">Reading Ratings<span style=\"color: #808000; text-decoration-color: #808000\">...</span>\n",
       "</pre>\n"
      ],
      "text/plain": [
       "Reading Ratings\u001b[33m...\u001b[0m\n"
      ]
     },
     "metadata": {},
     "output_type": "display_data"
    },
    {
     "data": {
      "text/html": [
       "<pre style=\"white-space:pre;overflow-x:auto;line-height:normal;font-family:Menlo,'DejaVu Sans Mono',consolas,'Courier New',monospace\">Reading Ratings<span style=\"color: #808000; text-decoration-color: #808000\">...</span>\n",
       "</pre>\n"
      ],
      "text/plain": [
       "Reading Ratings\u001b[33m...\u001b[0m\n"
      ]
     },
     "metadata": {},
     "output_type": "display_data"
    },
    {
     "data": {
      "text/html": [
       "<pre style=\"white-space:pre;overflow-x:auto;line-height:normal;font-family:Menlo,'DejaVu Sans Mono',consolas,'Courier New',monospace\">Filtering Data<span style=\"color: #808000; text-decoration-color: #808000\">...</span>\n",
       "</pre>\n"
      ],
      "text/plain": [
       "Filtering Data\u001b[33m...\u001b[0m\n"
      ]
     },
     "metadata": {},
     "output_type": "display_data"
    },
    {
     "data": {
      "text/html": [
       "<pre style=\"white-space:pre;overflow-x:auto;line-height:normal;font-family:Menlo,'DejaVu Sans Mono',consolas,'Courier New',monospace\">Filtered Dataset Shape:\n",
       "<span style=\"font-weight: bold\">(</span><span style=\"color: #008080; text-decoration-color: #008080; font-weight: bold\">2581</span>, <span style=\"color: #008080; text-decoration-color: #008080; font-weight: bold\">10</span><span style=\"font-weight: bold\">)</span>\n",
       "</pre>\n"
      ],
      "text/plain": [
       "Filtered Dataset Shape:\n",
       "\u001b[1m(\u001b[0m\u001b[1;36m2581\u001b[0m, \u001b[1;36m10\u001b[0m\u001b[1m)\u001b[0m\n"
      ]
     },
     "metadata": {},
     "output_type": "display_data"
    },
    {
     "data": {
      "text/html": [
       "<pre style=\"white-space:pre;overflow-x:auto;line-height:normal;font-family:Menlo,'DejaVu Sans Mono',consolas,'Courier New',monospace\">DataFrame shape: <span style=\"font-weight: bold\">(</span><span style=\"color: #008080; text-decoration-color: #008080; font-weight: bold\">2581</span>, <span style=\"color: #008080; text-decoration-color: #008080; font-weight: bold\">10</span><span style=\"font-weight: bold\">)</span>\n",
       "</pre>\n"
      ],
      "text/plain": [
       "DataFrame shape: \u001b[1m(\u001b[0m\u001b[1;36m2581\u001b[0m, \u001b[1;36m10\u001b[0m\u001b[1m)\u001b[0m\n"
      ]
     },
     "metadata": {},
     "output_type": "display_data"
    },
    {
     "data": {
      "text/html": [
       "<pre style=\"white-space:pre;overflow-x:auto;line-height:normal;font-family:Menlo,'DejaVu Sans Mono',consolas,'Courier New',monospace\"><span style=\"font-style: italic\">                                 DataFrame Stats                                 </span>\n",
       "┏━━━━━━━━━━━━━━━━━━━┳━━━━━━━━━━━━━━━━┳━━━━━━━━━━━━━━┳━━━━━━━━━━━━━━━┳━━━━━━━━━━━┓\n",
       "┃<span style=\"font-weight: bold\"> Column            </span>┃<span style=\"font-weight: bold\"> Non-Null Count </span>┃<span style=\"font-weight: bold\"> Unique Count </span>┃<span style=\"font-weight: bold\"> Null/NA Count </span>┃<span style=\"font-weight: bold\"> Data Type </span>┃\n",
       "┡━━━━━━━━━━━━━━━━━━━╇━━━━━━━━━━━━━━━━╇━━━━━━━━━━━━━━╇━━━━━━━━━━━━━━━╇━━━━━━━━━━━┩\n",
       "│<span style=\"color: #008080; text-decoration-color: #008080\"> rating            </span>│<span style=\"color: #808000; text-decoration-color: #808000\"> 2581           </span>│<span style=\"color: #800080; text-decoration-color: #800080\"> 5            </span>│<span style=\"color: #800000; text-decoration-color: #800000\"> 0             </span>│<span style=\"color: #008000; text-decoration-color: #008000\"> float64   </span>│\n",
       "│<span style=\"color: #008080; text-decoration-color: #008080\"> title             </span>│<span style=\"color: #808000; text-decoration-color: #808000\"> 2581           </span>│<span style=\"color: #800080; text-decoration-color: #800080\"> 2363         </span>│<span style=\"color: #800000; text-decoration-color: #800000\"> 0             </span>│<span style=\"color: #008000; text-decoration-color: #008000\"> object    </span>│\n",
       "│<span style=\"color: #008080; text-decoration-color: #008080\"> text              </span>│<span style=\"color: #808000; text-decoration-color: #808000\"> 2581           </span>│<span style=\"color: #800080; text-decoration-color: #800080\"> 2500         </span>│<span style=\"color: #800000; text-decoration-color: #800000\"> 0             </span>│<span style=\"color: #008000; text-decoration-color: #008000\"> object    </span>│\n",
       "│<span style=\"color: #008080; text-decoration-color: #008080\"> images            </span>│<span style=\"color: #808000; text-decoration-color: #808000\"> 2581           </span>│<span style=\"color: #800080; text-decoration-color: #800080\"> Error        </span>│<span style=\"color: #800000; text-decoration-color: #800000\"> 0             </span>│<span style=\"color: #008000; text-decoration-color: #008000\"> object    </span>│\n",
       "│<span style=\"color: #008080; text-decoration-color: #008080\"> asin              </span>│<span style=\"color: #808000; text-decoration-color: #808000\"> 2581           </span>│<span style=\"color: #800080; text-decoration-color: #800080\"> 372          </span>│<span style=\"color: #800000; text-decoration-color: #800000\"> 0             </span>│<span style=\"color: #008000; text-decoration-color: #008000\"> object    </span>│\n",
       "│<span style=\"color: #008080; text-decoration-color: #008080\"> parent_asin       </span>│<span style=\"color: #808000; text-decoration-color: #808000\"> 2581           </span>│<span style=\"color: #800080; text-decoration-color: #800080\"> 356          </span>│<span style=\"color: #800000; text-decoration-color: #800000\"> 0             </span>│<span style=\"color: #008000; text-decoration-color: #008000\"> object    </span>│\n",
       "│<span style=\"color: #008080; text-decoration-color: #008080\"> user_id           </span>│<span style=\"color: #808000; text-decoration-color: #808000\"> 2581           </span>│<span style=\"color: #800080; text-decoration-color: #800080\"> 253          </span>│<span style=\"color: #800000; text-decoration-color: #800000\"> 0             </span>│<span style=\"color: #008000; text-decoration-color: #008000\"> object    </span>│\n",
       "│<span style=\"color: #008080; text-decoration-color: #008080\"> timestamp         </span>│<span style=\"color: #808000; text-decoration-color: #808000\"> 2581           </span>│<span style=\"color: #800080; text-decoration-color: #800080\"> 2507         </span>│<span style=\"color: #800000; text-decoration-color: #800000\"> 0             </span>│<span style=\"color: #008000; text-decoration-color: #008000\"> int64     </span>│\n",
       "│<span style=\"color: #008080; text-decoration-color: #008080\"> helpful_vote      </span>│<span style=\"color: #808000; text-decoration-color: #808000\"> 2581           </span>│<span style=\"color: #800080; text-decoration-color: #800080\"> 21           </span>│<span style=\"color: #800000; text-decoration-color: #800000\"> 0             </span>│<span style=\"color: #008000; text-decoration-color: #008000\"> int64     </span>│\n",
       "│<span style=\"color: #008080; text-decoration-color: #008080\"> verified_purchase </span>│<span style=\"color: #808000; text-decoration-color: #808000\"> 2581           </span>│<span style=\"color: #800080; text-decoration-color: #800080\"> 2            </span>│<span style=\"color: #800000; text-decoration-color: #800000\"> 0             </span>│<span style=\"color: #008000; text-decoration-color: #008000\"> bool      </span>│\n",
       "└───────────────────┴────────────────┴──────────────┴───────────────┴───────────┘\n",
       "</pre>\n"
      ],
      "text/plain": [
       "\u001b[3m                                 DataFrame Stats                                 \u001b[0m\n",
       "┏━━━━━━━━━━━━━━━━━━━┳━━━━━━━━━━━━━━━━┳━━━━━━━━━━━━━━┳━━━━━━━━━━━━━━━┳━━━━━━━━━━━┓\n",
       "┃\u001b[1m \u001b[0m\u001b[1mColumn           \u001b[0m\u001b[1m \u001b[0m┃\u001b[1m \u001b[0m\u001b[1mNon-Null Count\u001b[0m\u001b[1m \u001b[0m┃\u001b[1m \u001b[0m\u001b[1mUnique Count\u001b[0m\u001b[1m \u001b[0m┃\u001b[1m \u001b[0m\u001b[1mNull/NA Count\u001b[0m\u001b[1m \u001b[0m┃\u001b[1m \u001b[0m\u001b[1mData Type\u001b[0m\u001b[1m \u001b[0m┃\n",
       "┡━━━━━━━━━━━━━━━━━━━╇━━━━━━━━━━━━━━━━╇━━━━━━━━━━━━━━╇━━━━━━━━━━━━━━━╇━━━━━━━━━━━┩\n",
       "│\u001b[36m \u001b[0m\u001b[36mrating           \u001b[0m\u001b[36m \u001b[0m│\u001b[33m \u001b[0m\u001b[33m2581          \u001b[0m\u001b[33m \u001b[0m│\u001b[35m \u001b[0m\u001b[35m5           \u001b[0m\u001b[35m \u001b[0m│\u001b[31m \u001b[0m\u001b[31m0            \u001b[0m\u001b[31m \u001b[0m│\u001b[32m \u001b[0m\u001b[32mfloat64  \u001b[0m\u001b[32m \u001b[0m│\n",
       "│\u001b[36m \u001b[0m\u001b[36mtitle            \u001b[0m\u001b[36m \u001b[0m│\u001b[33m \u001b[0m\u001b[33m2581          \u001b[0m\u001b[33m \u001b[0m│\u001b[35m \u001b[0m\u001b[35m2363        \u001b[0m\u001b[35m \u001b[0m│\u001b[31m \u001b[0m\u001b[31m0            \u001b[0m\u001b[31m \u001b[0m│\u001b[32m \u001b[0m\u001b[32mobject   \u001b[0m\u001b[32m \u001b[0m│\n",
       "│\u001b[36m \u001b[0m\u001b[36mtext             \u001b[0m\u001b[36m \u001b[0m│\u001b[33m \u001b[0m\u001b[33m2581          \u001b[0m\u001b[33m \u001b[0m│\u001b[35m \u001b[0m\u001b[35m2500        \u001b[0m\u001b[35m \u001b[0m│\u001b[31m \u001b[0m\u001b[31m0            \u001b[0m\u001b[31m \u001b[0m│\u001b[32m \u001b[0m\u001b[32mobject   \u001b[0m\u001b[32m \u001b[0m│\n",
       "│\u001b[36m \u001b[0m\u001b[36mimages           \u001b[0m\u001b[36m \u001b[0m│\u001b[33m \u001b[0m\u001b[33m2581          \u001b[0m\u001b[33m \u001b[0m│\u001b[35m \u001b[0m\u001b[35mError       \u001b[0m\u001b[35m \u001b[0m│\u001b[31m \u001b[0m\u001b[31m0            \u001b[0m\u001b[31m \u001b[0m│\u001b[32m \u001b[0m\u001b[32mobject   \u001b[0m\u001b[32m \u001b[0m│\n",
       "│\u001b[36m \u001b[0m\u001b[36masin             \u001b[0m\u001b[36m \u001b[0m│\u001b[33m \u001b[0m\u001b[33m2581          \u001b[0m\u001b[33m \u001b[0m│\u001b[35m \u001b[0m\u001b[35m372         \u001b[0m\u001b[35m \u001b[0m│\u001b[31m \u001b[0m\u001b[31m0            \u001b[0m\u001b[31m \u001b[0m│\u001b[32m \u001b[0m\u001b[32mobject   \u001b[0m\u001b[32m \u001b[0m│\n",
       "│\u001b[36m \u001b[0m\u001b[36mparent_asin      \u001b[0m\u001b[36m \u001b[0m│\u001b[33m \u001b[0m\u001b[33m2581          \u001b[0m\u001b[33m \u001b[0m│\u001b[35m \u001b[0m\u001b[35m356         \u001b[0m\u001b[35m \u001b[0m│\u001b[31m \u001b[0m\u001b[31m0            \u001b[0m\u001b[31m \u001b[0m│\u001b[32m \u001b[0m\u001b[32mobject   \u001b[0m\u001b[32m \u001b[0m│\n",
       "│\u001b[36m \u001b[0m\u001b[36muser_id          \u001b[0m\u001b[36m \u001b[0m│\u001b[33m \u001b[0m\u001b[33m2581          \u001b[0m\u001b[33m \u001b[0m│\u001b[35m \u001b[0m\u001b[35m253         \u001b[0m\u001b[35m \u001b[0m│\u001b[31m \u001b[0m\u001b[31m0            \u001b[0m\u001b[31m \u001b[0m│\u001b[32m \u001b[0m\u001b[32mobject   \u001b[0m\u001b[32m \u001b[0m│\n",
       "│\u001b[36m \u001b[0m\u001b[36mtimestamp        \u001b[0m\u001b[36m \u001b[0m│\u001b[33m \u001b[0m\u001b[33m2581          \u001b[0m\u001b[33m \u001b[0m│\u001b[35m \u001b[0m\u001b[35m2507        \u001b[0m\u001b[35m \u001b[0m│\u001b[31m \u001b[0m\u001b[31m0            \u001b[0m\u001b[31m \u001b[0m│\u001b[32m \u001b[0m\u001b[32mint64    \u001b[0m\u001b[32m \u001b[0m│\n",
       "│\u001b[36m \u001b[0m\u001b[36mhelpful_vote     \u001b[0m\u001b[36m \u001b[0m│\u001b[33m \u001b[0m\u001b[33m2581          \u001b[0m\u001b[33m \u001b[0m│\u001b[35m \u001b[0m\u001b[35m21          \u001b[0m\u001b[35m \u001b[0m│\u001b[31m \u001b[0m\u001b[31m0            \u001b[0m\u001b[31m \u001b[0m│\u001b[32m \u001b[0m\u001b[32mint64    \u001b[0m\u001b[32m \u001b[0m│\n",
       "│\u001b[36m \u001b[0m\u001b[36mverified_purchase\u001b[0m\u001b[36m \u001b[0m│\u001b[33m \u001b[0m\u001b[33m2581          \u001b[0m\u001b[33m \u001b[0m│\u001b[35m \u001b[0m\u001b[35m2           \u001b[0m\u001b[35m \u001b[0m│\u001b[31m \u001b[0m\u001b[31m0            \u001b[0m\u001b[31m \u001b[0m│\u001b[32m \u001b[0m\u001b[32mbool     \u001b[0m\u001b[32m \u001b[0m│\n",
       "└───────────────────┴────────────────┴──────────────┴───────────────┴───────────┘\n"
      ]
     },
     "metadata": {},
     "output_type": "display_data"
    }
   ],
   "source": [
    "category = \"All_Beauty\"\n",
    "# category = \"Sports_and_Outdoors\"\n",
    "# category = \"Toys_and_Games\"\n",
    "\n",
    "filtered_data = filter_amazon_dataset(category, metadata=False)\n",
    "df_stats(filtered_data)"
   ]
  },
  {
   "cell_type": "code",
   "execution_count": null,
   "id": "b43f2f3f",
   "metadata": {},
   "outputs": [],
   "source": [
    "DATASET_DIR = \"/home/scur2745/RecSys/dataset/amazon/2023/toys\"\n",
    "# filtered_reviews.to_json(f'{DATASET_DIR}/reviews.json.gz', \n",
    "#                          orient='records', \n",
    "#                          lines=True,\n",
    "#                          compression='gzip')"
   ]
  },
  {
   "cell_type": "code",
   "execution_count": 50,
   "id": "133611bc",
   "metadata": {},
   "outputs": [],
   "source": [
    "import pandas as pd\n",
    "\n",
    "file_path = \"/home/scur2745/RecSys/dataset/amazon/2023/raw/toys/meta.json.gz\"\n",
    "meta_df = pd.read_json(file_path, lines=True, compression=\"gzip\")"
   ]
  },
  {
   "cell_type": "code",
   "execution_count": 62,
   "id": "2c375a39",
   "metadata": {},
   "outputs": [
    {
     "data": {
      "text/plain": [
       "\"['Toys & Games', 'Remote & App Controlled Vehicles & Parts', 'Remote & App Controlled Vehicles', 'Trucks']\""
      ]
     },
     "execution_count": 62,
     "metadata": {},
     "output_type": "execute_result"
    }
   ],
   "source": [
    "str(meta_df[\"categories\"][0])"
   ]
  },
  {
   "cell_type": "markdown",
   "id": "d8ffb747",
   "metadata": {},
   "source": [
    "### Pre-Process"
   ]
  },
  {
   "cell_type": "code",
   "execution_count": null,
   "id": "c07a1cb2",
   "metadata": {},
   "outputs": [],
   "source": [
    "import gzip\n",
    "import json\n",
    "import numpy as np\n",
    "import os\n",
    "import os.path as osp\n",
    "import pandas as pd\n",
    "import polars as pl\n",
    "import torch\n",
    "import sys\n",
    "from collections import defaultdict\n",
    "sys.path.append(os.path.abspath(os.path.join(os.getcwd(), '..')))\n",
    "from data.preprocessing import PreprocessingMixin\n",
    "from torch_geometric.data import download_google_url\n",
    "from torch_geometric.data import extract_zip\n",
    "from torch_geometric.data import HeteroData\n",
    "from torch_geometric.data import InMemoryDataset\n",
    "from torch_geometric.io import fs\n",
    "from typing import Callable\n",
    "from typing import List\n",
    "from typing import Optional, Dict, Union\n",
    "import logging\n",
    "\n",
    "# fetch logger\n",
    "logger = logging.getLogger(\"recsys_logger\")"
   ]
  },
  {
   "cell_type": "code",
   "execution_count": null,
   "id": "486e0cc9",
   "metadata": {},
   "outputs": [],
   "source": [
    "def parse_2023(path):\n",
    "    with gzip.open(path, 'rt', encoding='utf-8') as f:\n",
    "        for line in tqdm(f, desc=f\"Parsing {path}\"):\n",
    "            yield json.loads(line)\n",
    "\n",
    "class AmazonReviews2023(InMemoryDataset, PreprocessingMixin):\n",
    "    def __init__(\n",
    "        self,\n",
    "        root: str,\n",
    "        split: str,  # 'beauty', 'sports', 'toys'\n",
    "        transform: Optional[Callable] = None,\n",
    "        pre_transform: Optional[Callable] = None,\n",
    "        force_reload: bool = False,\n",
    "        category=\"brand\",\n",
    "    ) -> None:\n",
    "        self.split = split\n",
    "        self.brand_mapping = {}  # Dictionary to store brand_id -> brand_name mapping\n",
    "        self.category = category\n",
    "        super(AmazonReviews2023, self).__init__(\n",
    "            root, transform, pre_transform, force_reload\n",
    "        )\n",
    "        self.load(self.processed_paths[0], data_cls=HeteroData)\n",
    "\n",
    "    @property\n",
    "    def raw_file_names(self) -> List[str]:\n",
    "        return [self.split]\n",
    "\n",
    "    @property\n",
    "    def processed_file_names(self) -> str:\n",
    "        return f\"data_{self.split}.pt\"\n",
    "\n",
    "    def _remap_ids(self, x):\n",
    "        return x - 1\n",
    "\n",
    "    def get_brand_name(self, brand_id: int) -> str:\n",
    "        \"\"\"\n",
    "        Returns the brand name for a given brand ID.\n",
    "\n",
    "        Args:\n",
    "            brand_id: The ID of the brand to look up\n",
    "\n",
    "        Returns:\n",
    "            The brand name as a string, or \"Unknown\" if the brand ID is not found\n",
    "        \"\"\"\n",
    "        return self.brand_mapping.get(brand_id, \"Unknown\")\n",
    "\n",
    "    def get_brand_mapping(self) -> Dict[int, str]:\n",
    "        \"\"\"\n",
    "        Returns the complete brand ID to brand name mapping.\n",
    "\n",
    "        Returns:\n",
    "            Dictionary mapping brand IDs to brand names\n",
    "        \"\"\"\n",
    "        return self.brand_mapping\n",
    "\n",
    "    def train_test_split(self, max_seq_len=20):\n",
    "        splits = [\"train\", \"eval\", \"test\"]\n",
    "        sequences = {sp: defaultdict(list) for sp in splits}\n",
    "        user_ids = []\n",
    "        with open(\n",
    "            os.path.join(self.raw_dir, self.split, \"sequential_data.txt\"), \"r\"\n",
    "        ) as f:\n",
    "            for line in f:\n",
    "                parsed_line = list(map(int, line.strip().split()))\n",
    "                user_ids.append(parsed_line[0])\n",
    "                items = [self._remap_ids(id) for id in parsed_line[1:]]\n",
    "\n",
    "                # We keep the whole sequence without padding. Allows flexible training-time subsampling.\n",
    "                # example: items[22]\n",
    "                train_items = items[:-2]  # items[0:20] → [1..20]\n",
    "                sequences[\"train\"][\"itemId\"].append(train_items)\n",
    "                sequences[\"train\"][\"itemId_fut\"].append(items[-2]) # → 21\n",
    "\n",
    "                eval_items = items[-(max_seq_len + 2) : -2] # items[-22:-2] → [1..20]\n",
    "                sequences[\"eval\"][\"itemId\"].append(\n",
    "                    eval_items + [-1] * (max_seq_len - len(eval_items))\n",
    "                )\n",
    "                sequences[\"eval\"][\"itemId_fut\"].append(items[-2]) # → 21\n",
    "\n",
    "                test_items = items[-(max_seq_len + 1) : -1] # items[-21:-1] → [2..21]\n",
    "                sequences[\"test\"][\"itemId\"].append(\n",
    "                    test_items + [-1] * (max_seq_len - len(test_items))\n",
    "                )\n",
    "                sequences[\"test\"][\"itemId_fut\"].append(items[-1]) # → 22\n",
    "\n",
    "        for sp in splits:\n",
    "            sequences[sp][\"userId\"] = user_ids\n",
    "            sequences[sp] = pl.from_dict(sequences[sp])\n",
    "        return sequences\n",
    "\n",
    "    def process(self, max_seq_len=20) -> None:\n",
    "        data = HeteroData()\n",
    "\n",
    "        with open(os.path.join(self.raw_dir, self.split, \"datamaps.json\"), \"r\") as f:\n",
    "            data_maps = json.load(f)\n",
    "\n",
    "        # Construct user sequences\n",
    "        sequences = self.train_test_split(max_seq_len=max_seq_len)\n",
    "        data[\"user\", \"rated\", \"item\"].history = {\n",
    "            k: self._df_to_tensor_dict(v, [\"itemId\"]) for k, v in sequences.items()\n",
    "        }\n",
    "\n",
    "        # Compute item features\n",
    "        asin2id = pd.DataFrame(\n",
    "            [\n",
    "                {\"asin\": k, \"id\": self._remap_ids(int(v))}\n",
    "                for k, v in data_maps[\"item2id\"].items()\n",
    "            ]\n",
    "        )\n",
    "        meta_df =  pd.DataFrame(\n",
    "                [\n",
    "                    meta\n",
    "                    for meta in parse_2023(\n",
    "                        path=os.path.join(self.raw_dir, self.split, \"meta.json.gz\")\n",
    "                    )\n",
    "                ]\n",
    "            )\n",
    "        # process meta df\n",
    "        meta_df.rename(columns={\"parent_asin\": \"asin\"}, inplace=True)\n",
    "        meta_df[\"brand\"] = meta_df[\"details\"].apply(lambda x: eval(x).get(\"Brand\", \"Unknown\"))\n",
    "        item_data = (meta_df\n",
    "            .merge(asin2id, on=\"asin\")\n",
    "            .sort_values(by=\"id\")\n",
    "            .fillna({\"brand\": \"Unknown\"})\n",
    "        )\n",
    "\n",
    "        # Create brand mapping\n",
    "        unique_brands = item_data[self.category].unique()\n",
    "        self.brand_mapping = {i: brand for i, brand in enumerate(unique_brands)}\n",
    "\n",
    "        # Create reverse mapping for lookup\n",
    "        brand_to_id = {brand: i for i, brand in self.brand_mapping.items()}\n",
    "\n",
    "        # Add brand_id to item_data\n",
    "        item_data[\"brand_id\"] = item_data[\"brand\"].map(lambda x: brand_to_id.get(x, -1))\n",
    "\n",
    "        sentences = item_data.apply(\n",
    "            lambda row: \"Title: \"\n",
    "            + str(row[\"title\"])\n",
    "            + \"; \"\n",
    "            + \"Brand: \"\n",
    "            + str(row[\"brand\"])\n",
    "            + \"; \"\n",
    "            + \"Categories: \"\n",
    "            + (str(row[\"categories\"]) if row[\"categories\"] else f'[{row[\"main_category\"]}]')\n",
    "            + \"; \"\n",
    "            + \"Rating: \"\n",
    "            + str(row[\"average_rating\"])\n",
    "            + \"; \"\n",
    "            + \"Price: \"\n",
    "            + str(row[\"price\"])\n",
    "            + \"; \",\n",
    "            axis=1,\n",
    "        )\n",
    "        # Store brand_id instead of brand name\n",
    "        brand_ids = item_data.apply(lambda row: row[\"brand_id\"], axis=1)\n",
    "\n",
    "        item_emb = self._encode_text_feature(sentences)\n",
    "        data[\"item\"].x = item_emb\n",
    "        data[\"item\"].text = np.array(sentences)\n",
    "        data[\"item\"].brand_id = np.array(\n",
    "            brand_ids\n",
    "        )  # Store brand_id instead of brand name\n",
    "\n",
    "        # Save the brand mapping to the data object as well\n",
    "        data[\"brand_mapping\"] = self.brand_mapping\n",
    "\n",
    "        gen = torch.Generator()\n",
    "        gen.manual_seed(42)\n",
    "        data[\"item\"].is_train = torch.rand(item_emb.shape[0], generator=gen) > 0.05\n",
    "\n",
    "        self.save([data], self.processed_paths[0])\n",
    "\n",
    "        # Save brand mapping to a separate file for easy access\n",
    "        brand_mapping_path = os.path.join(\n",
    "            self.processed_dir, f\"brand_mapping_{self.split}.json\"\n",
    "        )\n",
    "        with open(brand_mapping_path, \"w\") as f:\n",
    "            json.dump(self.brand_mapping, f)\n",
    "\n",
    "\n",
    "amazon = AmazonReviews2023(root=\"../dataset/amazon/2023\", split=\"beauty\")"
   ]
  },
  {
   "cell_type": "code",
   "execution_count": null,
   "id": "d325a079",
   "metadata": {},
   "outputs": [],
   "source": []
  },
  {
   "cell_type": "code",
   "execution_count": null,
   "id": "1e545af7",
   "metadata": {},
   "outputs": [],
   "source": []
  },
  {
   "cell_type": "code",
   "execution_count": null,
   "id": "d7ba3f65",
   "metadata": {},
   "outputs": [],
   "source": []
  },
  {
   "cell_type": "code",
   "execution_count": null,
   "id": "22f0085f",
   "metadata": {},
   "outputs": [],
   "source": []
  }
 ],
 "metadata": {
  "kernelspec": {
   "display_name": "Python 3",
   "language": "python",
   "name": "python3"
  },
  "language_info": {
   "codemirror_mode": {
    "name": "ipython",
    "version": 3
   },
   "file_extension": ".py",
   "mimetype": "text/x-python",
   "name": "python",
   "nbconvert_exporter": "python",
   "pygments_lexer": "ipython3",
   "version": "3.9.21"
  }
 },
 "nbformat": 4,
 "nbformat_minor": 5
}
